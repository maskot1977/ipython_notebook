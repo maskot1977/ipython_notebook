{
 "cells": [
  {
   "cell_type": "markdown",
   "metadata": {},
   "source": [
    "# 実習用データ"
   ]
  },
  {
   "cell_type": "markdown",
   "metadata": {},
   "source": [
    "### 「ニューヨークの大気状態観測値」\n",
    "ニューヨークの大気状態観測値。1973 年の五月から九月。 (<a href=\"http://www.is.titech.ac.jp/~mase/mase/html.jp/temp/airquality.jp.html\">詳細</a>)。\n",
    "https://raw.githubusercontent.com/maskot1977/ipython_notebook/master/toydata/airquality.txt\n",
    "\n",
    "<ol>\n",
    "<li>Ozone: Roosevelt 島における 1300 時から 1500 時までの 平均オゾン量 (parts per billion 単位)。\n",
    "<li>Solar: セントラルパークにおける 0800 時から 1200 時 の周波数 4000～7700 オングストロームの日射量 (単位 Langleys)。\n",
    "<li>Wind: La Guardia 空港における毎日の 0700 時から 10000 時の 平均風速 (単位 マイル)。\n",
    "<li>Temp: La Guardia 空港における一日の最大温度 (単位 華氏)。\n",
    "</ol>"
   ]
  },
  {
   "cell_type": "markdown",
   "metadata": {},
   "source": [
    "### 「合州国の州別暴力犯罪率」\n",
    "1973 年の合州国の 50 の州毎の、住民10万人あたりの暴行、殺人、そして強姦による 逮捕数を含む。また都市部人口の割合が与えられている。\n",
    " (<a href=\"http://www.is.titech.ac.jp/~mase/mase/html.jp/temp/USArrests.jp.html\">詳細</a>)。\n",
    "https://raw.githubusercontent.com/maskot1977/ipython_notebook/master/toydata/USArrests.txt\n",
    "\n",
    "<ol>\n",
    "<li>Murder:\t殺人による逮捕（10万あたり）\n",
    "<li>Assault:\t暴行による逮捕（10万あたり）\n",
    "<li>UrbanPop:\t都市部人口比率\n",
    "<li>Rape:\t強姦による逮捕（10万あたり）\n",
    "</ol>"
   ]
  },
  {
   "cell_type": "markdown",
   "metadata": {},
   "source": [
    "### 「スポーツテストデータ」\n",
    "中学生104人の運動能力テスト6種と体力測定5種の計測のデータ\n",
    "(<a href=\"http://mo161.soci.ous.ac.jp/@d/DoDStat/sports/sports_dataJ.xml\">詳細</a>)。\n",
    "https://raw.githubusercontent.com/maskot1977/ipython_notebook/master/toydata/sports_dataJt.txt\n",
    "\n",
    "<ol>\n",
    "<li>50mRun\t50m走\n",
    "<li>longjump\t走り幅跳び\n",
    "<li>handball\tハンドボール投げ\n",
    "<li>chinning\t懸垂\n",
    "<li>sidestep\t反復横跳び\n",
    "<li>vertump\t垂直跳び\n",
    "<li>back\t背筋力\n",
    "<li>grip\t握力（両手平均）\n",
    "<li>backward\t上体そらし\n",
    "<li>forward\t立位体前屈\n",
    "<li>stepping\t踏み台昇降\n",
    "</ol>"
   ]
  },
  {
   "cell_type": "markdown",
   "metadata": {},
   "source": [
    "### 「好きなアイスクリームアンケート」\n",
    "男性４０名、女性４０名に、２１種類のアイスクリームの好みに応じて点数（嫌い１〜好き９）をつけてもらったアンケート結果。\n",
    "(<a href=\"http://kogolab.chillout.jp/elearn/icecream/\">詳細</a>)。\n",
    "https://raw.githubusercontent.com/maskot1977/ipython_notebook/master/toydata/icecream_chosa.txt\n",
    "\n",
    "<ol>\n",
    "<li>ID \n",
    "<li>gender 性別\n",
    "<li>age 年齢\n",
    "<li>birth_order 兄弟姉妹の中で上から何番目か\n",
    "<li>frequency 来店頻度\n",
    "<li>vanilla バニラ\n",
    "<li>strawberry ストロベリー\n",
    "<li>milk_tea ミルクティー\n",
    "<li>macadamia_nuts マカダミアナッツ\n",
    "<li>cookie クッキー\n",
    "<li>chocolate チョコ\n",
    "<li>melon メロン\n",
    "<li>coffee コーヒー\n",
    "<li>almond アーモンド\n",
    "<li>rum_raisin ラムレーズン\n",
    "<li>mint ミント\n",
    "<li>banana バナナ\n",
    "<li>caramel キャラメル\n",
    "<li>walnut クルミ\n",
    "<li>cassis カシス\n",
    "<li>chocolate_chips チョコチップ\n",
    "<li>orange オレンジ\n",
    "<li>green_tea 抹茶\n",
    "<li>marron マロン\n",
    "<li>chocolate_mint チョコミント\n",
    "<li>adzuki-bean あずき \n",
    "</ol>"
   ]
  },
  {
   "cell_type": "markdown",
   "metadata": {},
   "source": [
    "### 「新国民生活指標データ」\n",
    "都道府県の豊かさを表すために，経済企画庁が策定した新国民生活指標の「住む」ことに関する平成11年の発表データ。\n",
    " (<a href=\"http://mo161.soci.ous.ac.jp/@d/DoDStat/PLIlive/PLIlive_dataJ.xml\">詳細</a>)。\n",
    "https://raw.githubusercontent.com/maskot1977/ipython_notebook/master/toydata/PLIlive_dataJ.txt\n",
    "\n",
    "<ol>\n",
    "<li>Pref\t都道府県\t都道府県\t\n",
    "<li>NonRep\t危険住宅\t危険・修理不能住宅比率(%)\t\n",
    "<li>OverMin\t最低居住\t最低居住水準以上住宅比率(%)\t\n",
    "<li>Rent\t借家家賃\t借家の1畳当たり実質家賃(円)\t\n",
    "<li>HomeOwn\t持家比率\t持家比率(%)\t\n",
    "<li>CompPol\t公害苦情\t公害苦情受理件数(人口十万人比)[-]\t\n",
    "<li>NumClime\t重要犯罪\t重要刑法犯罪認知件数(人口十万人比)[-]\t\n",
    "<li>NumLarc\t重要窃盗\t重要窃盗犯認知件数(人口十万人比)[-]\t\n",
    "<li>TrafAcci\t交通事故\t交通事故発生件数(人口十万人比)[-]\t\n",
    "<li>Fire\t建物火災\t建物火災出火件数(住宅十万戸比)[-]\t\n",
    "<li>DspRubb\tごみ処理率\tごみ衛生処理率(%)\t\n",
    "<li>Sidewalk\t歩道設置率\t一般道路歩道設置率(%)\t\n",
    "<li>MedFacil\t医療機関\t最寄りの医療機関までの距離500ｍ未満住宅比率(%)\t\n",
    "<li>OverOrd\t居住水準\t誘導居住水準以上住宅比率(%)\t\n",
    "<li>Sunshine\t日照時間\t日照時間5時間以上住宅比率(%)\n",
    "<li>NumMat\t畳数\t1人当たり畳数(畳)\t\n",
    "<li>AreaResi\t敷地面積\t1住宅当たり敷地面積(m2)\t\n",
    "<li>Transpt\t交通機関\t最寄りの交通機関1km未満住宅比率(%)\t\n",
    "<li>AreaPark\t公園面積\t1人当たり公園面積(m2)\t\n",
    "<li>Sewarage\t下水普及率\t下水道等普及率(%)\t\n",
    "<li>Recycle\tリサイクル率\tリサイクル率(%)\t\n",
    "<li>AmtRubb\tごみ排出量\t1人1日当たりごみ排出量(g)[-]\t\n",
    "<li>AvgMin\t通勤通学時間\t通勤・通学平均時間(分)[-]\t\n",
    "<li>Pavement\t道路舗装率\t一般道路舗装率(%)\n",
    "</ol>"
   ]
  },
  {
   "cell_type": "markdown",
   "metadata": {},
   "source": [
    "### 都道府県別アルコール類の消費量\n",
    "沖縄県を除く日本の46都道府県における5種類のアルコール飲料の年間の消費量を調べたデータ。\n",
    "（<a href=\"http://mo161.soci.ous.ac.jp/@d/DoDStat/sake/sake_dataJ.xml\">詳細</a>）。\n",
    "https://raw.githubusercontent.com/maskot1977/ipython_notebook/master/toydata/sake_dataJ.txt\n",
    "<ol>\n",
    "<li>Pref\t都道府県\n",
    "<li>Sake\t清酒\n",
    "<li>Shochu\t焼酎\n",
    "<li>Beer\tビール\n",
    "<li>Wine\t果実酒\n",
    "<li>Whisky\tウイスキー\n",
    "</ol>"
   ]
  },
  {
   "cell_type": "markdown",
   "metadata": {},
   "source": [
    "### 「スイス銀行紙幣データ」\n",
    "本物と偽物の1000スイスフラン紙幣それぞれ100枚の測定値。\n",
    "（<a href=\"http://mo161.soci.ous.ac.jp/@d/DoDStat/sbnote/sbnote_dataJ.xml\">詳細</a>）。\n",
    "https://raw.githubusercontent.com/maskot1977/ipython_notebook/master/toydata/sbnote_dataJt.txt\n",
    "<ol>\n",
    "<li>length\t横幅長\t紙幣の横の長さ\n",
    "<li>left\t左縦幅長\t紙幣の縦の長さ(左側)\n",
    "<li>right\t右縦幅長\t紙幣の縦の長さ(右側)\n",
    "<li>bottom\t下枠内長\t紙幣の下端から内側の枠までの長さ\n",
    "<li>top\t上枠内長\t紙幣の上端から内側の枠までの長さ\n",
    "<li>diagonal\t対角長\t対角線の長さ\n",
    "<li>class\t真偽\t札の真偽(0: 真札, 1:偽札)\n",
    "</ol>"
   ]
  },
  {
   "cell_type": "markdown",
   "metadata": {},
   "source": [
    "### 「ワインの品質」\n",
    "* 赤ワイン http://archive.ics.uci.edu/ml/machine-learning-databases/wine-quality/winequality-red.csv\n",
    "* 白ワイン http://archive.ics.uci.edu/ml/machine-learning-databases/wine-quality/winequality-white.csv\n",
    "\n",
    "(<a href=\"http://archive.ics.uci.edu/ml/machine-learning-databases/wine-quality/winequality.names\">詳細</a>)\n",
    "<ol>\n",
    "<li>fixed acidity\n",
    "<li>volatile acidity\n",
    "<li>citric acid\n",
    "<li>residual sugar\n",
    "<li>chlorides\n",
    "<li>free sulfur dioxide\n",
    "<li>total sulfur dioxide\n",
    "<li>density\n",
    "<li>pH\n",
    "<li>sulphates\n",
    "<li>alcohol\n",
    "   Output variable (based on sensory data): \n",
    "<li>quality (score between 0 and 10)\n",
    "</ol>"
   ]
  },
  {
   "cell_type": "markdown",
   "metadata": {},
   "source": [
    "### 「あやめのデータ」\n",
    "三種類のあやめの品種のそれぞれからの 50の花の、センチメートル単位の蕚(がく)片の長さと幅、花弁の長さと幅の計測結果を与える。 品種は Iris setosa, versicolor そして virginica である。\t\n",
    "https://raw.githubusercontent.com/maskot1977/ipython_notebook/master/toydata/iris.txt\n",
    "<ol>\n",
    "<li>Sepal.Length 蕚(がく)片の長さ\n",
    "<li>Sepal.Width 蕚(がく)片の幅\n",
    "<li>Petal.Length 花弁の長さ\n",
    "<li>Petal.Width 花弁の幅\n",
    "<li>Species 品種（setosa, versicolor or virginica）\n",
    "</ol>"
   ]
  },
  {
   "cell_type": "markdown",
   "metadata": {},
   "source": [
    "### 「あわびのデータ」\n",
    "http://archive.ics.uci.edu/ml/machine-learning-databases/abalone/abalone.data\n",
    "（<a href=\"http://archive.ics.uci.edu/ml/machine-learning-databases/abalone/abalone.names\">詳細</a>）\n",
    "<ol>\n",
    "<li>Sex\t\t雄か雌か子供か\t\t\tM, F, and I (infant)\n",
    "<li>Length\t\t長さ\tmm\tLongest shell measurement\n",
    "<li>Diameter\t直径\tmm\tperpendicular to length\n",
    "<li>Height\t\t高さ\tmm\twith meat in shell\n",
    "<li>Whole weight\t総重量\tgrams\twhole abalone\n",
    "<li>Shucked weight\t身の重さ\tgrams\tweight of meat\n",
    "<li>Viscera weight\t内臓の重さ\tgrams\tgut weight (after bleeding)\n",
    "<li>Shell weight\t殻の重さ\tgrams\tafter being dried\n",
    "<li>Rings\t\t輪の数（年齢が推定できる）\t\t\t+1.5 gives the age in years\n",
    "</ol>"
   ]
  },
  {
   "cell_type": "markdown",
   "metadata": {
    "collapsed": true
   },
   "source": [
    "### 「ピマ・インディアンの糖尿病診断」\n",
    "National Institute of Diabetes and Digestive and Kidney Diseases が公表している、糖尿病の人と糖尿病ではない人の測定データ。\n",
    " (<a href=\"http://archive.ics.uci.edu/ml/machine-learning-databases/pima-indians-diabetes/\">詳細</a>)。\n",
    "https://raw.githubusercontent.com/maskot1977/ipython_notebook/master/toydata/pima-indians-diabetes.txt\n",
    "\n",
    "<ol>\n",
    "<li>NumTimePreg: Number of times pregnant\n",
    "<li>OralGluTol: Plasma glucose concentration a 2 hours in an oral glucose tolerance test \n",
    "<li>BloodPres: Diastolic blood pressure (mm Hg)\n",
    "<li>SkinThick: Triceps skin fold thickness (mm)\n",
    "<li>SerumInsulin: 2-Hour serum insulin (mu U/ml)\n",
    "<li>BMI: Body mass index (weight in kg/(height in m)^2)\n",
    "<li>PedigreeFunc: Diabetes pedigree function\n",
    "<li>Age: Age (years)\n",
    "<li>Class: Class variable (0 or 1)\n",
    "</ol>"
   ]
  },
  {
   "cell_type": "markdown",
   "metadata": {},
   "source": [
    "### 「パーキンソン病診断データ」\n",
    "http://archive.ics.uci.edu/ml/machine-learning-databases/parkinsons/parkinsons.data\n",
    "(<a href=\"http://archive.ics.uci.edu/ml/machine-learning-databases/parkinsons/parkinsons.names\">詳細</a>)\n",
    "<ol>\n",
    "<li>name - ASCII subject name and recording number\n",
    "<li>MDVP:Fo(Hz) - Average vocal fundamental frequency\n",
    "<li>MDVP:Fhi(Hz) - Maximum vocal fundamental frequency\n",
    "<li>MDVP:Flo(Hz) - Minimum vocal fundamental frequency\n",
    "<li>MDVP:Jitter(%),MDVP:Jitter(Abs),MDVP:RAP,MDVP:PPQ,Jitter:DDP - Several measures of variation in fundamental frequency\n",
    "<li>MDVP:Shimmer,MDVP:Shimmer(dB),Shimmer:APQ3,Shimmer:APQ5,MDVP:APQ,Shimmer:DDA - Several measures of variation in amplitude\n",
    "<li>NHR,HNR - Two measures of ratio of noise to tonal components in the voice\n",
    "<li>status - Health status of the subject (one) - Parkinson's, (zero) - healthy\n",
    "<li>RPDE,D2 - Two nonlinear dynamical complexity measures\n",
    "<li>DFA - Signal fractal scaling exponent\n",
    "<li>spread1,spread2,PPE - Three nonlinear measures of fundamental frequency variation \n",
    "</ol>"
   ]
  },
  {
   "cell_type": "markdown",
   "metadata": {},
   "source": [
    "### 「大腸菌タンパク質の細胞内局在」\n",
    "http://archive.ics.uci.edu/ml/machine-learning-databases/ecoli/ecoli.data\n",
    " (<a href=\"http://archive.ics.uci.edu/ml/machine-learning-databases/ecoli/ecoli.names\">詳細</a>)\n",
    "<ol>\n",
    "<li>Sequence Name: Accession number for the SWISS-PROT database\n",
    "<li>mcg: McGeoch's method for signal sequence recognition.\n",
    "<li>gvh: von Heijne's method for signal sequence recognition.\n",
    " <li>lip: von Heijne's Signal Peptidase II consensus sequence score.\n",
    "           Binary attribute.\n",
    "<li>chg: Presence of charge on N-terminus of predicted lipoproteins.\n",
    "\t   Binary attribute.\n",
    "<li>aac: score of discriminant analysis of the amino acid content of\n",
    "\t   outer membrane and periplasmic proteins.\n",
    "<li>alm1: score of the ALOM membrane spanning region prediction program.\n",
    "<li>alm2: score of ALOM program after excluding putative cleavable signal\n",
    "\t   regions from the sequence.\n",
    "</ol>\n",
    "\n",
    "細胞内局在\n",
    "<ul>\n",
    "<li>cp  (cytoplasm)                                    143\n",
    "<li>im  (inner membrane without signal sequence)        77               \n",
    "<li>pp  (perisplasm)                                    52\n",
    "<li>imU (inner membrane, uncleavable signal sequence)   35\n",
    "<li>om  (outer membrane)                                20\n",
    "<li>omL (outer membrane lipoprotein)                     5\n",
    "<li>imL (inner membrane lipoprotein)                     2\n",
    "<li>imS (inner membrane, cleavable signal sequence)      2\n",
    "</ul>"
   ]
  },
  {
   "cell_type": "markdown",
   "metadata": {},
   "source": [
    "### 「酵母タンパク質の細胞内局在」\n",
    "http://archive.ics.uci.edu/ml/machine-learning-databases/yeast/yeast.data\n",
    " (<a href=\"http://archive.ics.uci.edu/ml/machine-learning-databases/yeast/yeast.names\">詳細</a>)\n",
    "<ol>\n",
    "<li>Sequence Name: Accession number for the SWISS-PROT database\n",
    "<li>mcg: McGeoch's method for signal sequence recognition.\n",
    "<li>gvh: von Heijne's method for signal sequence recognition.\n",
    "<li>alm: Score of the ALOM membrane spanning region prediction program.\n",
    "<li>mit: Score of discriminant analysis of the amino acid content of\n",
    "\t   the N-terminal region (20 residues long) of mitochondrial and \n",
    "           non-mitochondrial proteins.\n",
    "<li>erl: Presence of \"HDEL\" substring (thought to act as a signal for\n",
    "\t   retention in the endoplasmic reticulum lumen). Binary attribute.\n",
    "<li>pox: Peroxisomal targeting signal in the C-terminus.\n",
    "<li>vac: Score of discriminant analysis of the amino acid content of\n",
    "           vacuolar and extracellular proteins.\n",
    "<li>nuc: Score of discriminant analysis of nuclear localization signals\n",
    "\t   of nuclear and non-nuclear proteins.\n",
    "</ol>\n",
    "\n",
    "細胞内局在\n",
    "<ul>\n",
    "<li>CYT (cytosolic or cytoskeletal)                    463\n",
    "<li>NUC (nuclear)                                      429\n",
    "<li>MIT (mitochondrial)                                244\n",
    "<li>ME3 (membrane protein, no N-terminal signal)       163\n",
    "<li>ME2 (membrane protein, uncleaved signal)            51\n",
    "<li>ME1 (membrane protein, cleaved signal)              44\n",
    "<li>EXC (extracellular)                                 37\n",
    "<li>VAC (vacuolar)                                      30\n",
    "<li>POX (peroxisomal)                                   20\n",
    "<li>ERL (endoplasmic reticulum lumen)                    5\n",
    "</ul>"
   ]
  },
  {
   "cell_type": "code",
   "execution_count": null,
   "metadata": {
    "collapsed": true
   },
   "outputs": [],
   "source": []
  }
 ],
 "metadata": {
  "kernelspec": {
   "display_name": "Python 3",
   "language": "python",
   "name": "python3"
  },
  "language_info": {
   "codemirror_mode": {
    "name": "ipython",
    "version": 3
   },
   "file_extension": ".py",
   "mimetype": "text/x-python",
   "name": "python",
   "nbconvert_exporter": "python",
   "pygments_lexer": "ipython3",
   "version": "3.4.5"
  }
 },
 "nbformat": 4,
 "nbformat_minor": 2
}
