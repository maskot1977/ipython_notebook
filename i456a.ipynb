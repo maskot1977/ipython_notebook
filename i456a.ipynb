{
 "cells": [
  {
   "cell_type": "markdown",
   "metadata": {},
   "source": [
    "# アイスクリーム統計学 + Python (第４章〜第６章)\n",
    "\n",
    "[アイスクリーム統計学にようこそ！](http://kogolab.chillout.jp/elearn/icecream/index.html)\n",
    "のページを読み進めながら、以下の課題を Python を使って解いてください。\n",
    "\n",
    "* [アイスクリーム統計学・第１章〜第３章（散布図と相関、相関係数、無相関検定）](http://nbviewer.jupyter.org/github/maskot1977/ipython_notebook/blob/master/%E3%82%A2%E3%82%A4%E3%82%B9%E3%82%AF%E3%83%AA%E3%83%BC%E3%83%A0%E7%B5%B1%E8%A8%88%E5%AD%A6%E3%83%BB%E7%AC%AC%EF%BC%91%E7%AB%A0%E3%80%9C%E7%AC%AC%EF%BC%93%E7%AB%A0.ipynb)\n",
    "* [アイスクリーム統計学・第４章〜第６章（単回帰、偏相関、重回帰）](http://nbviewer.jupyter.org/github/maskot1977/ipython_notebook/blob/master/%E3%82%A2%E3%82%A4%E3%82%B9%E3%82%AF%E3%83%AA%E3%83%BC%E3%83%A0%E7%B5%B1%E8%A8%88%E5%AD%A6%E3%83%BB%E7%AC%AC%EF%BC%94%E7%AB%A0%E3%80%9C%E7%AC%AC%EF%BC%96%E7%AB%A0.ipynb)\n",
    "* [アイスクリーム統計学・第７章〜第９章（相関行列、因子分析1、因子分析2）](http://nbviewer.jupyter.org/github/maskot1977/ipython_notebook/blob/master/%E3%82%A2%E3%82%A4%E3%82%B9%E3%82%AF%E3%83%AA%E3%83%BC%E3%83%A0%E7%B5%B1%E8%A8%88%E5%AD%A6%E3%83%BB%E7%AC%AC%EF%BC%97%E7%AB%A0%E3%80%9C%E7%AC%AC%EF%BC%99%E7%AB%A0.ipynb)\n",
    "* [アイスクリーム統計学・第１０章（主成分分析とクラスター分析）](http://nbviewer.jupyter.org/github/maskot1977/ipython_notebook/blob/master/%E3%82%A2%E3%82%A4%E3%82%B9%E3%82%AF%E3%83%AA%E3%83%BC%E3%83%A0%E7%B5%B1%E8%A8%88%E5%AD%A6%E3%83%BB%E7%AC%AC%EF%BC%91%EF%BC%90%E7%AB%A0.ipynb)\n",
    "* [ハンバーガー統計学・第１章〜第２章（平均と分散、信頼区間）](http://nbviewer.jupyter.org/github/maskot1977/ipython_notebook/blob/master/%E3%83%8F%E3%83%B3%E3%83%8F%E3%82%99%E3%83%BC%E3%82%AB%E3%82%99%E3%83%BC%E7%B5%B1%E8%A8%88%E5%AD%A6%E3%83%BB%E7%AC%AC%EF%BC%91%E7%AB%A0%E3%80%9C%E7%AC%AC%EF%BC%92%E7%AB%A0.ipynb)\n",
    "* [ハンバーガー統計学・第３章〜第５章（カイ２乗検定、t検定 （対応なし・対応あり））](http://nbviewer.jupyter.org/github/maskot1977/ipython_notebook/blob/master/%E3%83%8F%E3%83%B3%E3%83%8F%E3%82%99%E3%83%BC%E3%82%AB%E3%82%99%E3%83%BC%E7%B5%B1%E8%A8%88%E5%AD%A6%E3%83%BB%E7%AC%AC%EF%BC%93%E7%AB%A0%E3%80%9C%E7%AC%AC%EF%BC%95%E7%AB%A0.ipynb)\n",
    "* [ハンバーガー統計学・第６章〜第７章（分散分析 (１要因、２要因) ）](http://nbviewer.jupyter.org/github/maskot1977/ipython_notebook/blob/master/%E3%83%8F%E3%83%B3%E3%83%8F%E3%82%99%E3%83%BC%E3%82%AB%E3%82%99%E3%83%BC%E7%B5%B1%E8%A8%88%E5%AD%A6%E3%83%BB%E7%AC%AC%EF%BC%96%E7%AB%A0%E3%80%9C%E7%AC%AC%EF%BC%97%E7%AB%A0.ipynb)\n",
    "* [ハンバーガー統計学・第８章 (分布と仮説検定)](http://nbviewer.jupyter.org/github/maskot1977/ipython_notebook/blob/master/%E3%83%8F%E3%83%B3%E3%83%8F%E3%82%99%E3%83%BC%E3%82%AB%E3%82%99%E3%83%BC%E7%B5%B1%E8%A8%88%E5%AD%A6%E3%83%BB%E7%AC%AC%EF%BC%98%E7%AB%A0.ipynb)\n",
    "\n",
    "### Jupyter Notebook (IPython Notebook) とは\n",
    "* Python という名のプログラミング言語が使えるプログラミング環境。計算コードと計算結果を同じ場所に時系列で保存できるので、実験系における実験ノートのように、いつどんな処理を行って何を得たのか記録して再現するのに便利。\n",
    "* [当学演習室での Jupyter Notebook の起動方法](https://raw.githubusercontent.com/maskot1977/-/master/%E6%BC%94%E7%BF%92%E5%AE%A4.txt)"
   ]
  },
  {
   "cell_type": "markdown",
   "metadata": {},
   "source": [
    "## 4.　[単回帰](http://kogolab.chillout.jp/elearn/icecream/chap4/sec0.html)\n",
    "本文を読んで概念を学んでください。"
   ]
  },
  {
   "cell_type": "markdown",
   "metadata": {},
   "source": [
    "### 4.1　[散布図に線を引く](http://kogolab.chillout.jp/elearn/icecream/chap4/sec1.html)"
   ]
  },
  {
   "cell_type": "markdown",
   "metadata": {},
   "source": [
    "__課題4.1__　[去年の夏](https://raw.githubusercontent.com/maskot1977/ipython_notebook/master/toydata/ice_cream2.txt)をダウンロードし、散布図を描いてください。"
   ]
  },
  {
   "cell_type": "code",
   "execution_count": 1,
   "metadata": {
    "collapsed": true
   },
   "outputs": [],
   "source": [
    "# URL によるリソースへのアクセスを提供するライブラリをインポートする。\n",
    "import urllib # Python 2 の場合\n",
    "# import urllib.request # Python 3 の場合"
   ]
  },
  {
   "cell_type": "code",
   "execution_count": 2,
   "metadata": {
    "collapsed": true
   },
   "outputs": [],
   "source": [
    "# ウェブ上のリソースを指定する\n",
    "url = 'https://raw.githubusercontent.com/maskot1977/ipython_notebook/master/toydata/ice_cream2.txt'"
   ]
  },
  {
   "cell_type": "code",
   "execution_count": 3,
   "metadata": {
    "collapsed": false
   },
   "outputs": [
    {
     "data": {
      "text/plain": [
       "('ice_cream2.txt', <httplib.HTTPMessage instance at 0x10612ce18>)"
      ]
     },
     "execution_count": 3,
     "metadata": {},
     "output_type": "execute_result"
    }
   ],
   "source": [
    "# 指定したURLからリソースをダウンロードし、名前をつける。\n",
    "urllib.urlretrieve(url, 'ice_cream2.txt') # Python 2 の場合\n",
    "# urllib.request.urlretrieve(url, 'ice_cream.txt') # Python 3 の場合"
   ]
  },
  {
   "cell_type": "code",
   "execution_count": 4,
   "metadata": {
    "collapsed": true
   },
   "outputs": [],
   "source": [
    "# ダウンロードしたデータから、列ごとに数字を読み込んでリストに格納する。\n",
    "col1 = []\n",
    "col2 = []\n",
    "col3 = []\n",
    "for i, line in enumerate(open('ice_cream2.txt')):\n",
    "    if i == 0:\n",
    "        continue\n",
    "    a = line.split()\n",
    "    col1.append(int(a[0]))\n",
    "    col2.append(int(a[1]))\n",
    "    col3.append(int(a[2]))"
   ]
  },
  {
   "cell_type": "code",
   "execution_count": 5,
   "metadata": {
    "collapsed": true
   },
   "outputs": [],
   "source": [
    "# 図やグラフを図示するためのライブラリをインポートする。\n",
    "import matplotlib.pyplot as plt\n",
    "%matplotlib inline"
   ]
  },
  {
   "cell_type": "code",
   "execution_count": 6,
   "metadata": {
    "collapsed": false
   },
   "outputs": [
    {
     "data": {
      "image/png": "[encoded data removed]",
      "text/plain": [
       "<matplotlib.figure.Figure at 0x10c705810>"
      ]
     },
     "metadata": {},
     "output_type": "display_data"
    }
   ],
   "source": [
    "plt.scatter(col2, col3, alpha=0.5)\n",
    "plt.title(\"Numbers of customers in last summer\")\n",
    "plt.xlabel(\"Temperature\")\n",
    "plt.ylabel(\"Customers\")\n",
    "for day, x, y in zip(col1, col2, col3):\n",
    "    plt.text(x, y, day, alpha=0.8, size=12)\n",
    "plt.show()"
   ]
  },
  {
   "cell_type": "markdown",
   "metadata": {},
   "source": [
    "### 4.2　[回帰直線の原理](http://kogolab.chillout.jp/elearn/icecream/chap4/sec2.html)\n",
    "本文を読んで概念を学んでください。"
   ]
  },
  {
   "cell_type": "markdown",
   "metadata": {},
   "source": [
    "### 4.3　[回帰直線を求める](http://kogolab.chillout.jp/elearn/icecream/chap4/sec3.html)\n",
    "本文を読んで概念を学んでください。"
   ]
  },
  {
   "cell_type": "markdown",
   "metadata": {},
   "source": [
    "### 4.4　[回帰直線を求めてみよう](http://kogolab.chillout.jp/elearn/icecream/chap4/sec4.html)"
   ]
  },
  {
   "cell_type": "markdown",
   "metadata": {},
   "source": [
    "__課題4.4__：　[去年の夏](https://raw.githubusercontent.com/maskot1977/ipython_notebook/master/toydata/ice_cream2.txt)をダウンロードし、以下の問に答えてください。\n",
    "* 相関係数を求めてください。\n",
    "    * 相関係数＝偏差積の平均／（xの標準偏差＊yの標準偏差）\n",
    "* 回帰直線の傾きを求めてください。\n",
    "    * 回帰直線の傾き＝相関係数＊（（yの標準偏差）／（xの標準偏差））\n",
    "* 回帰直線のy切片を求めてください。\n",
    "* 散布図に回帰直線を描き入れてください。"
   ]
  },
  {
   "cell_type": "code",
   "execution_count": 7,
   "metadata": {
    "collapsed": true
   },
   "outputs": [],
   "source": [
    "# 平均値を求める関数\n",
    "def average(list):\n",
    "    sum = 0.0\n",
    "    n = 0.0\n",
    "    for x in list:\n",
    "        sum += x\n",
    "        n += 1.0\n",
    "    return sum / n"
   ]
  },
  {
   "cell_type": "code",
   "execution_count": 8,
   "metadata": {
    "collapsed": true
   },
   "outputs": [],
   "source": [
    "# 分散を求める関数\n",
    "def variance(list):\n",
    "    ave = average(list)\n",
    "    sum = 0.0\n",
    "    n = 0.0\n",
    "    for x in list:\n",
    "        sum += (x - ave) ** 2.0\n",
    "        n += 1.0\n",
    "    return sum / n"
   ]
  },
  {
   "cell_type": "code",
   "execution_count": 9,
   "metadata": {
    "collapsed": true
   },
   "outputs": [],
   "source": [
    "# 標準偏差を求める関数\n",
    "import math\n",
    "def standard_deviation(list):\n",
    "    return math.sqrt(variance(list))"
   ]
  },
  {
   "cell_type": "code",
   "execution_count": 10,
   "metadata": {
    "collapsed": true
   },
   "outputs": [],
   "source": [
    "# 共分散（偏差積の平均）を求める関数\n",
    "def covariance(list1, list2): \n",
    "    ave1 = average(list1)\n",
    "    ave2 = average(list2)\n",
    "    sum = 0.0\n",
    "    n = 0.0\n",
    "    for d1, d2 in zip(list1, list2):\n",
    "        sum += (d1 - ave1) * (d2 - ave2)\n",
    "        n += 1.0\n",
    "    return sum / n"
   ]
  },
  {
   "cell_type": "code",
   "execution_count": 11,
   "metadata": {
    "collapsed": true
   },
   "outputs": [],
   "source": [
    "# 相関係数を求める関数\n",
    "def correlation(list1, list2):\n",
    "    return covariance(list1, list2) / (standard_deviation(list1) * standard_deviation(list2))"
   ]
  },
  {
   "cell_type": "code",
   "execution_count": 12,
   "metadata": {
    "collapsed": false
   },
   "outputs": [
    {
     "data": {
      "text/plain": [
       "0.8703518769354424"
      ]
     },
     "execution_count": 12,
     "metadata": {},
     "output_type": "execute_result"
    }
   ],
   "source": [
    "# 相関係数を求める\n",
    "correlation(col2, col3)"
   ]
  },
  {
   "cell_type": "code",
   "execution_count": 13,
   "metadata": {
    "collapsed": false
   },
   "outputs": [],
   "source": [
    "# 回帰直線の傾き＝相関係数＊（（yの標準偏差）／（xの標準偏差））を求める関数を作ってください。\n",
    "def a_fit(xlist, ylist):\n",
    "    return correlation(xlist, ylist) * standard_deviation(ylist) / standard_deviation(xlist)"
   ]
  },
  {
   "cell_type": "code",
   "execution_count": 14,
   "metadata": {
    "collapsed": false
   },
   "outputs": [],
   "source": [
    "# y切片＝yの平均－（傾き＊xの平均）を求める関数を作ってください。\n",
    "def b_fit(xlist, ylist):\n",
    "    return average(ylist) - a_fit(xlist, ylist) * average(xlist)"
   ]
  },
  {
   "cell_type": "code",
   "execution_count": 15,
   "metadata": {
    "collapsed": false
   },
   "outputs": [
    {
     "name": "stdout",
     "output_type": "stream",
     "text": [
      "y = ax + b; (a, b) = (17.2482570476, -229.981812671)\n"
     ]
    }
   ],
   "source": [
    "# 回帰直線の式\n",
    "print(\"y = ax + b; (a, b) = ({0}, {1})\".format(a_fit(col2, col3), b_fit(col2, col3)))"
   ]
  },
  {
   "cell_type": "code",
   "execution_count": 16,
   "metadata": {
    "collapsed": false
   },
   "outputs": [
    {
     "data": {
      "text/plain": [
       "304.71415580478936"
      ]
     },
     "execution_count": 16,
     "metadata": {},
     "output_type": "execute_result"
    }
   ],
   "source": [
    "# たとえば最高気温 31度のときの予測客数は\n",
    "a_fit(col2, col3) * 31 + b_fit(col2, col3)"
   ]
  },
  {
   "cell_type": "code",
   "execution_count": 17,
   "metadata": {
    "collapsed": false
   },
   "outputs": [],
   "source": [
    "# 回帰直線を描くための準備として、回帰直線の式を参考に、xの最小値〜最大値の範囲のxに対応するyの予測値（fitted_y）を計算してください。\n",
    "test_x = []\n",
    "fitted_y = []\n",
    "for x in range(min(col2), max(col2)+1):\n",
    "    test_x.append(x)\n",
    "    fitted_y.append(a_fit(col2, col3) * x + b_fit(col2, col3))"
   ]
  },
  {
   "cell_type": "code",
   "execution_count": 18,
   "metadata": {
    "collapsed": false
   },
   "outputs": [
    {
     "ename": "TypeError",
     "evalue": "append() takes exactly one argument (0 given)",
     "output_type": "error",
     "traceback": [
      "\u001b[0;31m---------------------------------------------------------------------------\u001b[0m",
      "\u001b[0;31mTypeError\u001b[0m                                 Traceback (most recent call last)",
      "\u001b[0;32m<ipython-input-18-30b0054eba71>\u001b[0m in \u001b[0;36m<module>\u001b[0;34m()\u001b[0m\n\u001b[1;32m      2\u001b[0m \u001b[0mfitted_y\u001b[0m \u001b[0;34m=\u001b[0m \u001b[0;34m[\u001b[0m\u001b[0;34m]\u001b[0m\u001b[0;34m\u001b[0m\u001b[0m\n\u001b[1;32m      3\u001b[0m \u001b[0;32mfor\u001b[0m \u001b[0mx\u001b[0m \u001b[0;32min\u001b[0m \u001b[0mcol2\u001b[0m\u001b[0;34m:\u001b[0m\u001b[0;34m\u001b[0m\u001b[0m\n\u001b[0;32m----> 4\u001b[0;31m     \u001b[0mfitted_y\u001b[0m\u001b[0;34m.\u001b[0m\u001b[0mappend\u001b[0m\u001b[0;34m(\u001b[0m\u001b[0;34m)\u001b[0m\u001b[0;34m\u001b[0m\u001b[0m\n\u001b[0m",
      "\u001b[0;31mTypeError\u001b[0m: append() takes exactly one argument (0 given)"
     ]
    }
   ],
   "source": [
    "# 回帰直線を描くための準備として、回帰直線の式を参考に、col2に対応するyの予測値（fitted_y）を計算してください。\n",
    "fitted_y = []\n",
    "for x in col2:\n",
    "    fitted_y.append()"
   ]
  },
  {
   "cell_type": "code",
   "execution_count": null,
   "metadata": {
    "collapsed": false
   },
   "outputs": [],
   "source": [
    "# 散布図と回帰直線を描く。\n",
    "plt.figure(figsize=(8,5))\n",
    "plt.plot(col2,col3,'bo', label='Exp.')\n",
    "plt.plot(test_x,fitted_y,'k-', label='fitted line', linewidth=10, alpha=0.3)\n",
    "plt.title(\"Numbers of customers in last summer\")\n",
    "plt.xlabel(\"Temperature\")\n",
    "plt.ylabel(\"Customers\")\n",
    "plt.legend(loc='best',fancybox=True, shadow=True)\n",
    "plt.grid(True)\n",
    "for day, x, y in zip(col1, col2, col3):\n",
    "    plt.text(x, y, day, alpha=0.8, size=12)\n",
    "plt.show()"
   ]
  },
  {
   "cell_type": "markdown",
   "metadata": {},
   "source": [
    "### 4.5　[（応用編）回帰直線で予測する](http://kogolab.chillout.jp/elearn/icecream/chap4/sec5.html)"
   ]
  },
  {
   "cell_type": "markdown",
   "metadata": {},
   "source": [
    "__課題4.5__：[店舗別８月の平均客数データ（12店舗）](https://raw.githubusercontent.com/maskot1977/ipython_notebook/master/toydata/shop_distance.txt)をダウンロードし、相関係数、回帰直線の傾き、回帰直線のy切片を求め、散布図に回帰直線を描き入れてください。"
   ]
  },
  {
   "cell_type": "code",
   "execution_count": 19,
   "metadata": {
    "collapsed": false
   },
   "outputs": [
    {
     "data": {
      "text/plain": [
       "('shop_distance.txt', <httplib.HTTPMessage instance at 0x10f133680>)"
      ]
     },
     "execution_count": 19,
     "metadata": {},
     "output_type": "execute_result"
    }
   ],
   "source": [
    "# ウェブ上のリソースを指定する\n",
    "url = 'https://raw.githubusercontent.com/maskot1977/ipython_notebook/master/toydata/shop_distance.txt'\n",
    "# 指定したURLからリソースをダウンロードし、名前をつける。\n",
    "urllib.urlretrieve(url, 'shop_distance.txt') # Python 2 の場合\n",
    "# urllib.request.urlretrieve(url, 'shop_distance.txt') # Python 3 の場合"
   ]
  },
  {
   "cell_type": "code",
   "execution_count": 20,
   "metadata": {
    "collapsed": true
   },
   "outputs": [],
   "source": [
    "# ダウンロードしたデータから、列ごとに数字を読み込んでリストに格納する。\n",
    "col1 = []\n",
    "col2 = []\n",
    "col3 = []\n",
    "for i, line in enumerate(open('shop_distance.txt')):\n",
    "    if i == 0:\n",
    "        continue\n",
    "    a = line.split()\n",
    "    col1.append(int(a[0]))\n",
    "    col2.append(int(a[1]))\n",
    "    col3.append(int(a[2]))"
   ]
  },
  {
   "cell_type": "code",
   "execution_count": 21,
   "metadata": {
    "collapsed": false
   },
   "outputs": [
    {
     "data": {
      "text/plain": [
       "-0.9795221182977909"
      ]
     },
     "execution_count": 21,
     "metadata": {},
     "output_type": "execute_result"
    }
   ],
   "source": [
    "# 相関係数を求める\n",
    "correlation(col2, col3)"
   ]
  },
  {
   "cell_type": "code",
   "execution_count": 22,
   "metadata": {
    "collapsed": false
   },
   "outputs": [
    {
     "name": "stdout",
     "output_type": "stream",
     "text": [
      "y = ax + b; (a, b) = (-0.476140442984, 755.34959721)\n"
     ]
    }
   ],
   "source": [
    "# 回帰直線の式\n",
    "print(\"y = ax + b; (a, b) = ({0}, {1})\".format(a_fit(col2, col3), b_fit(col2, col3)))"
   ]
  },
  {
   "cell_type": "code",
   "execution_count": 23,
   "metadata": {
    "collapsed": true
   },
   "outputs": [],
   "source": [
    "# 回帰直線を描くための準備\n",
    "test_x = []\n",
    "fitted_y = []\n",
    "for x in range(min(col2), max(col2)+1):\n",
    "    test_x.append(x)\n",
    "    fitted_y.append(a_fit(col2, col3) * x + b_fit(col2, col3))"
   ]
  },
  {
   "cell_type": "code",
   "execution_count": 24,
   "metadata": {
    "collapsed": false
   },
   "outputs": [
    {
     "data": {
      "image/png": "[encoded data removed]",
      "text/plain": [
       "<matplotlib.figure.Figure at 0x10f13a110>"
      ]
     },
     "metadata": {},
     "output_type": "display_data"
    }
   ],
   "source": [
    "# 散布図と回帰直線を描く。\n",
    "plt.figure(figsize=(8,5))\n",
    "plt.plot(col2,col3,'bo', label='Exp.')\n",
    "plt.plot(test_x,fitted_y,'k-', label='fitted line', linewidth=10, alpha=0.3)\n",
    "plt.title(\"Numbers of customers and distance\")\n",
    "plt.xlabel(\"Distance\")\n",
    "plt.ylabel(\"Customers\")\n",
    "plt.legend(loc='best',fancybox=True, shadow=True)\n",
    "plt.grid(True)\n",
    "for day, x, y in zip(col1, col2, col3):\n",
    "    plt.text(x, y, day, alpha=0.8, size=12)\n",
    "plt.show()"
   ]
  },
  {
   "cell_type": "markdown",
   "metadata": {},
   "source": [
    "### 4.6　[通過テスト](http://kogolab.chillout.jp/elearn/icecream/chap4/sec6.html)"
   ]
  },
  {
   "cell_type": "markdown",
   "metadata": {},
   "source": [
    "__課題4.6__：[入学試験の点数と学業成績](https://raw.githubusercontent.com/maskot1977/ipython_notebook/master/toydata/entrance_exam.txt)のデータを用いて、以下の問いに答えてください。\n",
    "* 相関係数、回帰直線の傾き、回帰直線のy切片を求め、散布図に回帰直線を描き入れてください。\n",
    "* その回帰直線を使って、入学試験の点数が、400点、500点、600点、700点のときのそれぞれの学業成績の予測値を求めてください。"
   ]
  },
  {
   "cell_type": "code",
   "execution_count": 25,
   "metadata": {
    "collapsed": false
   },
   "outputs": [
    {
     "data": {
      "text/plain": [
       "('entrance_exam.txt', <httplib.HTTPMessage instance at 0x10f1336c8>)"
      ]
     },
     "execution_count": 25,
     "metadata": {},
     "output_type": "execute_result"
    }
   ],
   "source": [
    "# ウェブ上のリソースを指定する\n",
    "url = 'https://raw.githubusercontent.com/maskot1977/ipython_notebook/master/toydata/entrance_exam.txt'\n",
    "# 指定したURLからリソースをダウンロードし、名前をつける。\n",
    "urllib.urlretrieve(url, 'entrance_exam.txt') # Python 2 の場合\n",
    "# urllib.request.urlretrieve(url, 'entrance_exam.txt') # Python 3 の場合"
   ]
  },
  {
   "cell_type": "code",
   "execution_count": 26,
   "metadata": {
    "collapsed": true
   },
   "outputs": [],
   "source": [
    "# ダウンロードしたデータから、列ごとに数字を読み込んでリストに格納する。\n",
    "col1 = []\n",
    "col2 = []\n",
    "col3 = []\n",
    "for i, line in enumerate(open('entrance_exam.txt')):\n",
    "    if i == 0:\n",
    "        continue\n",
    "    a = line.split()\n",
    "    col1.append(int(a[0]))\n",
    "    col2.append(int(a[1]))\n",
    "    col3.append(float(a[2]))"
   ]
  },
  {
   "cell_type": "code",
   "execution_count": 27,
   "metadata": {
    "collapsed": false
   },
   "outputs": [
    {
     "data": {
      "text/plain": [
       "0.7617976726140626"
      ]
     },
     "execution_count": 27,
     "metadata": {},
     "output_type": "execute_result"
    }
   ],
   "source": [
    "# 相関係数を求める\n",
    "correlation(col2, col3)"
   ]
  },
  {
   "cell_type": "code",
   "execution_count": 28,
   "metadata": {
    "collapsed": false
   },
   "outputs": [
    {
     "name": "stdout",
     "output_type": "stream",
     "text": [
      "y = ax + b; (a, b) = (0.00806763181226, -1.79748736837)\n"
     ]
    }
   ],
   "source": [
    "# 回帰直線の式\n",
    "print(\"y = ax + b; (a, b) = ({0}, {1})\".format(a_fit(col2, col3), b_fit(col2, col3)))"
   ]
  },
  {
   "cell_type": "code",
   "execution_count": 29,
   "metadata": {
    "collapsed": true
   },
   "outputs": [],
   "source": [
    "# 回帰直線を描くための準備\n",
    "test_x = []\n",
    "fitted_y = []\n",
    "for x in range(min(col2), max(col2)+1):\n",
    "    test_x.append(x)\n",
    "    fitted_y.append(a_fit(col2, col3) * x + b_fit(col2, col3))"
   ]
  },
  {
   "cell_type": "code",
   "execution_count": 30,
   "metadata": {
    "collapsed": false
   },
   "outputs": [
    {
     "data": {
      "image/png": "[encoded data removed]",
      "text/plain": [
       "<matplotlib.figure.Figure at 0x10c6f8d10>"
      ]
     },
     "metadata": {},
     "output_type": "display_data"
    }
   ],
   "source": [
    "# 散布図と回帰直線を描く。\n",
    "plt.figure(figsize=(8,5))\n",
    "plt.plot(col2,col3,'bo', label='Exp.')\n",
    "plt.plot(test_x,fitted_y,'k-', label='fitted line', linewidth=10, alpha=0.3)\n",
    "plt.title(\"Numbers of customers and distance\")\n",
    "plt.xlabel(\"Distance\")\n",
    "plt.ylabel(\"Customers\")\n",
    "plt.legend(loc='best',fancybox=True, shadow=True)\n",
    "plt.grid(True)\n",
    "for day, x, y in zip(col1, col2, col3):\n",
    "    plt.text(x, y, day, alpha=0.8, size=12)\n",
    "plt.show()"
   ]
  },
  {
   "cell_type": "markdown",
   "metadata": {},
   "source": [
    "## 5.　[偏相関](http://kogolab.chillout.jp/elearn/icecream/chap5/sec0.html)\n",
    "本文を読んで概念を学んでください。"
   ]
  },
  {
   "cell_type": "markdown",
   "metadata": {},
   "source": [
    "### 5.1　[もうひとつの相関](http://kogolab.chillout.jp/elearn/icecream/chap5/sec1.html)"
   ]
  },
  {
   "cell_type": "markdown",
   "metadata": {},
   "source": [
    "__課題5.1__：[去年の夏（最低気温込み）](https://raw.githubusercontent.com/maskot1977/ipython_notebook/master/toydata/ice_cream3.txt)のデータを用い、次の問いに答えてください。\n",
    "* 最低気温と客数の関係について、相関係数、回帰直線の傾き、回帰直線のy切片を求め、散布図に回帰直線を描き入れてください。\n",
    "* 有意な相関といえるかどうか考察してください。"
   ]
  },
  {
   "cell_type": "code",
   "execution_count": 31,
   "metadata": {
    "collapsed": false
   },
   "outputs": [
    {
     "data": {
      "text/plain": [
       "('ice_cream3.txt', <httplib.HTTPMessage instance at 0x10f286320>)"
      ]
     },
     "execution_count": 31,
     "metadata": {},
     "output_type": "execute_result"
    }
   ],
   "source": [
    "# ウェブ上のリソースを指定する\n",
    "url = 'https://raw.githubusercontent.com/maskot1977/ipython_notebook/master/toydata/ice_cream3.txt'\n",
    "# 指定したURLからリソースをダウンロードし、名前をつける。\n",
    "urllib.urlretrieve(url, 'ice_cream3.txt') # Python 2 の場合\n",
    "# urllib.request.urlretrieve(url, 'ice_cream3.txt') # Python 3 の場合"
   ]
  },
  {
   "cell_type": "code",
   "execution_count": 32,
   "metadata": {
    "collapsed": true
   },
   "outputs": [],
   "source": [
    "# ダウンロードしたデータから、列ごとに数字を読み込んでリストに格納する。\n",
    "col1 = []\n",
    "col2 = []\n",
    "col3 = []\n",
    "col4 = []\n",
    "for i, line in enumerate(open('ice_cream3.txt')):\n",
    "    if i == 0:\n",
    "        continue\n",
    "    a = line.split()\n",
    "    col1.append(int(a[0]))\n",
    "    col2.append(int(a[1]))\n",
    "    col3.append(int(a[2]))\n",
    "    col4.append(int(a[3]))"
   ]
  },
  {
   "cell_type": "code",
   "execution_count": 33,
   "metadata": {
    "collapsed": false
   },
   "outputs": [
    {
     "data": {
      "text/plain": [
       "0.3019115780164577"
      ]
     },
     "execution_count": 33,
     "metadata": {},
     "output_type": "execute_result"
    }
   ],
   "source": [
    "# 相関係数を求める\n",
    "correlation(col3, col4)"
   ]
  },
  {
   "cell_type": "code",
   "execution_count": 34,
   "metadata": {
    "collapsed": false
   },
   "outputs": [
    {
     "name": "stdout",
     "output_type": "stream",
     "text": [
      "y = ax + b; (a, b) = (8.1, 118.6)\n"
     ]
    }
   ],
   "source": [
    "# 回帰直線の式\n",
    "print(\"y = ax + b; (a, b) = ({0}, {1})\".format(a_fit(col3, col4), b_fit(col3, col4)))"
   ]
  },
  {
   "cell_type": "code",
   "execution_count": 35,
   "metadata": {
    "collapsed": true
   },
   "outputs": [],
   "source": [
    "# 回帰直線を描くための準備\n",
    "test_x = []\n",
    "fitted_y = []\n",
    "for x in range(min(col3), max(col3)+1):\n",
    "    test_x.append(x)\n",
    "    fitted_y.append(a_fit(col3, col4) * x + b_fit(col3, col4))"
   ]
  },
  {
   "cell_type": "code",
   "execution_count": 36,
   "metadata": {
    "collapsed": false
   },
   "outputs": [
    {
     "data": {
      "image/png": "[encoded data removed]",
      "text/plain": [
       "<matplotlib.figure.Figure at 0x10f092450>"
      ]
     },
     "metadata": {},
     "output_type": "display_data"
    }
   ],
   "source": [
    "# 散布図と回帰直線を描く。\n",
    "plt.figure(figsize=(8,5))\n",
    "plt.plot(col3,col4,'bo', label='Exp.')\n",
    "plt.plot(test_x,fitted_y,'k-', label='fitted line', linewidth=10, alpha=0.3)\n",
    "plt.title(\"Numbers of customers and distance\")\n",
    "plt.xlabel(\"Distance\")\n",
    "plt.ylabel(\"Customers\")\n",
    "plt.legend(loc='best',fancybox=True, shadow=True)\n",
    "plt.grid(True)\n",
    "for day, x, y in zip(col1, col3, col4):\n",
    "    plt.text(x, y, day, alpha=0.8, size=12)\n",
    "plt.show()"
   ]
  },
  {
   "cell_type": "markdown",
   "metadata": {},
   "source": [
    "### 5.2　[偏相関とは](http://kogolab.chillout.jp/elearn/icecream/chap5/sec2.html)\n",
    "本文を読んで概念を学んでください。"
   ]
  },
  {
   "cell_type": "markdown",
   "metadata": {},
   "source": [
    "### 5.3　[偏相関係数を求める](http://kogolab.chillout.jp/elearn/icecream/chap5/sec3.html)\n",
    "* a の影響を除いた、b と y の偏相関係数 = （__r__<sub>by</sub> - (__r__<sub>ay</sub> ＊ __r__<sub>ab</sub>)) / sqrt ((1 - __r__<sub>ay</sub><sup>2</sup>) ＊ (1 - __r__<sub>ab</sub><sup>2</sup>))\n",
    "\n",
    "__課題5.3__：[去年の夏（最低気温込み）](https://raw.githubusercontent.com/maskot1977/ipython_notebook/master/toydata/ice_cream3.txt)のデータを用い、最高気温の影響を取り除いた、最低気温と客数の偏相関係数を求めてください。"
   ]
  },
  {
   "cell_type": "code",
   "execution_count": 37,
   "metadata": {
    "collapsed": false
   },
   "outputs": [],
   "source": [
    "# a の影響を除いた、b と y の偏相関係数 partial correlation coefficient を求める関数\n",
    "def partial_correlation(a, b, y):\n",
    "    rby = correlation(b, y)\n",
    "    ray = correlation(a, y)\n",
    "    rab = correlation(a, b)\n",
    "    return (rby - ray * rab)  / math.sqrt((1 - ray ** 2) * (1 - rab ** 2))"
   ]
  },
  {
   "cell_type": "code",
   "execution_count": 38,
   "metadata": {
    "collapsed": false
   },
   "outputs": [
    {
     "data": {
      "text/plain": [
       "-0.895600384086399"
      ]
     },
     "execution_count": 38,
     "metadata": {},
     "output_type": "execute_result"
    }
   ],
   "source": [
    "partial_correlation(col2, col3, col4)"
   ]
  },
  {
   "cell_type": "markdown",
   "metadata": {},
   "source": [
    "### 5.4　[もうひとつの偏相関係数](http://kogolab.chillout.jp/elearn/icecream/chap5/sec4.html)"
   ]
  },
  {
   "cell_type": "markdown",
   "metadata": {},
   "source": [
    "__課題5.4__：[去年の夏（最低気温込み）](https://raw.githubusercontent.com/maskot1977/ipython_notebook/master/toydata/ice_cream3.txt)のデータを用い、最低気温の影響を取り除いた、最高気温と客数の偏相関係数を求めてください。"
   ]
  },
  {
   "cell_type": "code",
   "execution_count": 39,
   "metadata": {
    "collapsed": false
   },
   "outputs": [
    {
     "data": {
      "text/plain": [
       "0.9732414179952071"
      ]
     },
     "execution_count": 39,
     "metadata": {},
     "output_type": "execute_result"
    }
   ],
   "source": [
    "partial_correlation(col3, col2, col4)"
   ]
  },
  {
   "cell_type": "markdown",
   "metadata": {},
   "source": [
    "### 5.5　[偏相関再び](http://kogolab.chillout.jp/elearn/icecream/chap5/sec5.html)\n",
    "本文を読んで概念を学んでください。"
   ]
  },
  {
   "cell_type": "markdown",
   "metadata": {},
   "source": [
    "### 5.6　[通過テスト](http://kogolab.chillout.jp/elearn/icecream/chap5/sec6.html)"
   ]
  },
  {
   "cell_type": "markdown",
   "metadata": {},
   "source": [
    "__課題5.6__：[入学試験の点数と学業成績（高校の平均評定込み）](https://raw.githubusercontent.com/maskot1977/ipython_notebook/master/toydata/entrance_exam2.txt)のデータを用い、以下の問いに答えてください。\n",
    "* 高校の平均評点（10点満点）、入学試験の点数、入学後の学業成績（GPA：4点満点）の、３種類のデータのすべての組み合わせの相関係数を求めてください。\n",
    "* 高校の平均評定の影響を取り除いたときの、入学試験の点数と入学後の学業成績の偏相関係数を求めてください。\n",
    "* 入学試験の点数と入学後の学業成績の偏相関係数について、考えられる解釈を文章で書いてください。"
   ]
  },
  {
   "cell_type": "code",
   "execution_count": 40,
   "metadata": {
    "collapsed": false
   },
   "outputs": [
    {
     "data": {
      "text/plain": [
       "('entrance_exam2.txt', <httplib.HTTPMessage instance at 0x10f1ee878>)"
      ]
     },
     "execution_count": 40,
     "metadata": {},
     "output_type": "execute_result"
    }
   ],
   "source": [
    "# ウェブ上のリソースを指定する\n",
    "url = 'https://raw.githubusercontent.com/maskot1977/ipython_notebook/master/toydata/entrance_exam2.txt'\n",
    "# 指定したURLからリソースをダウンロードし、名前をつける。\n",
    "urllib.urlretrieve(url, 'entrance_exam2.txt') # Python 2 の場合\n",
    "# urllib.request.urlretrieve(url, 'entrance_exam2.txt') # Python 3 の場合"
   ]
  },
  {
   "cell_type": "code",
   "execution_count": 41,
   "metadata": {
    "collapsed": true
   },
   "outputs": [],
   "source": [
    "# ダウンロードしたデータから、列ごとに数字を読み込んでリストに格納する。\n",
    "col1 = []\n",
    "col2 = []\n",
    "col3 = []\n",
    "col4 = []\n",
    "for i, line in enumerate(open('entrance_exam2.txt')):\n",
    "    if i == 0:\n",
    "        continue\n",
    "    a = line.split()\n",
    "    col1.append(int(a[0]))\n",
    "    col2.append(int(a[1]))\n",
    "    col3.append(float(a[2]))\n",
    "    col4.append(float(a[3]))"
   ]
  },
  {
   "cell_type": "code",
   "execution_count": 42,
   "metadata": {
    "collapsed": false
   },
   "outputs": [
    {
     "data": {
      "text/plain": [
       "0.6908644748080228"
      ]
     },
     "execution_count": 42,
     "metadata": {},
     "output_type": "execute_result"
    }
   ],
   "source": [
    "# 高校の平均評点（10点満点）と入学試験の点数の相関係数\n",
    "correlation(col4, col2)"
   ]
  },
  {
   "cell_type": "code",
   "execution_count": 43,
   "metadata": {
    "collapsed": false
   },
   "outputs": [
    {
     "data": {
      "text/plain": [
       "0.607225119617223"
      ]
     },
     "execution_count": 43,
     "metadata": {},
     "output_type": "execute_result"
    }
   ],
   "source": [
    "# 高校の平均評点（10点満点）と入学後の学業成績（GPA：4点満点）の相関係数\n",
    "correlation(col4, col3)"
   ]
  },
  {
   "cell_type": "code",
   "execution_count": 44,
   "metadata": {
    "collapsed": false
   },
   "outputs": [
    {
     "data": {
      "text/plain": [
       "0.7617976726140626"
      ]
     },
     "execution_count": 44,
     "metadata": {},
     "output_type": "execute_result"
    }
   ],
   "source": [
    "# 入学試験の点数と入学後の学業成績（GPA：4点満点）の相関係数\n",
    "correlation(col2, col3)"
   ]
  },
  {
   "cell_type": "code",
   "execution_count": 45,
   "metadata": {
    "collapsed": false
   },
   "outputs": [
    {
     "data": {
      "text/plain": [
       "0.5958704629308409"
      ]
     },
     "execution_count": 45,
     "metadata": {},
     "output_type": "execute_result"
    }
   ],
   "source": [
    "#高校の平均評定の影響を取り除いたときの、入学試験の点数と入学後の学業成績の偏相関係数\n",
    "partial_correlation(col4, col2, col3)"
   ]
  },
  {
   "cell_type": "code",
   "execution_count": 46,
   "metadata": {
    "collapsed": true
   },
   "outputs": [],
   "source": [
    "#入学試験の点数と入学後の学業成績の偏相関係数について、考えられる解釈\n",
    "#入学試験の点数と入学後の学業成績との間には比較的強い相関（0.76)があるが、\n",
    "# 高校の平均評定の影響を取り除いた場合の両者の偏相関係数はやや低くなった（0.60）。\n",
    "# 高校の成績が高いと入試の点数も高い傾向はあるが、\n",
    "# 高校の成績も大学入学後の成績もどちらも、日々の勉強により高い評価を得ることが多いという点で、\n",
    "# 一発勝負の色合いの強い入試とはやや意味合いが異なることが考えられる。"
   ]
  },
  {
   "cell_type": "markdown",
   "metadata": {},
   "source": [
    "## 6.　[重回帰](http://kogolab.chillout.jp/elearn/icecream/chap6/sec0.html)\n",
    "本文を読んで概念を学んでください。"
   ]
  },
  {
   "cell_type": "markdown",
   "metadata": {},
   "source": [
    "### 6.1　[偏回帰係数](http://kogolab.chillout.jp/elearn/icecream/chap6/sec1.html)\n",
    "* a の影響を除いた、b と y の偏回帰係数 = （__r__<sub>by</sub> - (__r__<sub>ay</sub> ＊ __r__<sub>ab</sub>)) ＊ __σ__<sub>y</sub> /  ((1 - __r__<sub>ab</sub><sup>2</sup>) ＊ __σ__<sub>b</sub>)\n",
    "* a の影響を除いた、b と y の標準偏回帰係数 = （__r__<sub>by</sub> - (__r__<sub>ay</sub> ＊ __r__<sub>ab</sub>)) /  (1 - __r__<sub>ab</sub><sup>2</sup>)\n",
    "\n",
    "__課題6.1__：[去年の夏（最低気温込み）](https://raw.githubusercontent.com/maskot1977/ipython_notebook/master/toydata/ice_cream3.txt)のデータを用いて以下の問いに答えてください。\n",
    "* 最高気温の影響を取り除いた、最低気温と客数の偏回帰係数を求めてください。\n",
    "* 最高気温の影響を取り除いた、最低気温と客数の標準偏回帰係数を求めてください。"
   ]
  },
  {
   "cell_type": "code",
   "execution_count": 47,
   "metadata": {
    "collapsed": true
   },
   "outputs": [],
   "source": [
    "# ダウンロードしたデータから、列ごとに数字を読み込んでリストに格納する。\n",
    "col1 = []\n",
    "col2 = []\n",
    "col3 = []\n",
    "col4 = []\n",
    "for i, line in enumerate(open('ice_cream3.txt')):\n",
    "    if i == 0:\n",
    "        continue\n",
    "    a = line.split()\n",
    "    col1.append(int(a[0]))\n",
    "    col2.append(int(a[1]))\n",
    "    col3.append(int(a[2]))\n",
    "    col4.append(int(a[3]))"
   ]
  },
  {
   "cell_type": "code",
   "execution_count": 48,
   "metadata": {
    "collapsed": true
   },
   "outputs": [],
   "source": [
    "# a の影響を除いた、b と y の偏回帰係数 partial regression coefficient を求める関数\n",
    "def partial_regression(a, b, y):\n",
    "    rby = correlation(b, y)\n",
    "    ray = correlation(a, y)\n",
    "    rab = correlation(a, b)\n",
    "    return (rby - ray * rab) * standard_deviation(y) / ((1 - rab ** 2) * standard_deviation(b))"
   ]
  },
  {
   "cell_type": "code",
   "execution_count": 49,
   "metadata": {
    "collapsed": false
   },
   "outputs": [
    {
     "data": {
      "text/plain": [
       "-16.703141150412772"
      ]
     },
     "execution_count": 49,
     "metadata": {},
     "output_type": "execute_result"
    }
   ],
   "source": [
    "partial_regression(col2, col3, col4)"
   ]
  },
  {
   "cell_type": "code",
   "execution_count": 50,
   "metadata": {
    "collapsed": true
   },
   "outputs": [],
   "source": [
    "# a の影響を除いた、b と y の標準偏回帰係数 standard partial regression coefficient を求める関数\n",
    "def standard_partial_regression(a, b, y):\n",
    "    rby = correlation(b, y)\n",
    "    ray = correlation(a, y)\n",
    "    rab = correlation(a, b)\n",
    "    return (rby - (ray * rab))  / (1 - rab**2)    "
   ]
  },
  {
   "cell_type": "code",
   "execution_count": 51,
   "metadata": {
    "collapsed": false
   },
   "outputs": [
    {
     "data": {
      "text/plain": [
       "-0.6225767534015739"
      ]
     },
     "execution_count": 51,
     "metadata": {},
     "output_type": "execute_result"
    }
   ],
   "source": [
    "standard_partial_regression(col2, col3, col4)"
   ]
  },
  {
   "cell_type": "markdown",
   "metadata": {},
   "source": [
    "### 6.2　[２つの変数で予測する](http://kogolab.chillout.jp/elearn/icecream/chap6/sec2.html)\n",
    "本文を読んで概念を学んでください。"
   ]
  },
  {
   "cell_type": "markdown",
   "metadata": {},
   "source": [
    "### 6.3　[重回帰モデル](http://kogolab.chillout.jp/elearn/icecream/chap6/sec3.html)\n",
    "__課題6.3__：[去年の夏（最低気温込み）](https://raw.githubusercontent.com/maskot1977/ipython_notebook/master/toydata/ice_cream3.txt)のデータを用い、「客数の予測値　＝　定数m　＋　定数p × 最高気温　＋　定数q × 最低気温」という重回帰モデルを考えたときの、定数m, p, qを求めてください。\n",
    "  * 定数p　＝　客数と最高気温の偏回帰係数\n",
    "  * 定数q　＝　客数と最低気温の偏回帰係数\n",
    "  * 定数m　＝　客数の平均　－　p×最高気温の平均　－　q×最低気温の平均"
   ]
  },
  {
   "cell_type": "code",
   "execution_count": 52,
   "metadata": {
    "collapsed": false
   },
   "outputs": [
    {
     "data": {
      "text/plain": [
       "25.956775622524997"
      ]
     },
     "execution_count": 52,
     "metadata": {},
     "output_type": "execute_result"
    }
   ],
   "source": [
    "# 定数p　＝　客数と最高気温の偏回帰係数\n",
    "p = partial_regression(col3, col2, col4)\n",
    "p"
   ]
  },
  {
   "cell_type": "code",
   "execution_count": 53,
   "metadata": {
    "collapsed": false
   },
   "outputs": [
    {
     "data": {
      "text/plain": [
       "-16.703141150412772"
      ]
     },
     "execution_count": 53,
     "metadata": {},
     "output_type": "execute_result"
    }
   ],
   "source": [
    "# 定数q　＝　客数と最低気温の偏回帰係数\n",
    "q = partial_regression(col2, col3, col4)\n",
    "q"
   ]
  },
  {
   "cell_type": "code",
   "execution_count": 54,
   "metadata": {
    "collapsed": false
   },
   "outputs": [
    {
     "data": {
      "text/plain": [
       "-90.64045237935426"
      ]
     },
     "execution_count": 54,
     "metadata": {},
     "output_type": "execute_result"
    }
   ],
   "source": [
    "# 定数m　＝　客数の平均　－　p×最高気温の平均　－　q×最低気温の平均\n",
    "m = average(col4) - p * average(col2) - q * average(col3)\n",
    "m"
   ]
  },
  {
   "cell_type": "markdown",
   "metadata": {},
   "source": [
    "### 6.4　[重回帰モデルによる予測](http://kogolab.chillout.jp/elearn/icecream/chap6/sec4.html)\n",
    "__課題6.4__：[去年の夏（最低気温込み）](https://raw.githubusercontent.com/maskot1977/ipython_notebook/master/toydata/ice_cream3.txt)のデータを用い、「客数の予測値　＝　定数m　＋　定数p × 最高気温　＋　定数q × 最低気温」という重回帰モデルを考えたときの、重回帰モデルによる予測値と実際の客数との相関係数を求めてください。"
   ]
  },
  {
   "cell_type": "code",
   "execution_count": 55,
   "metadata": {
    "collapsed": false
   },
   "outputs": [],
   "source": [
    "fitted_y = []\n",
    "for t_max, t_min  in zip(col2, col3):\n",
    "    fitted_y.append(m + p * t_max + q * t_min)"
   ]
  },
  {
   "cell_type": "code",
   "execution_count": 56,
   "metadata": {
    "collapsed": false
   },
   "outputs": [
    {
     "data": {
      "text/plain": [
       "0.9757108760038424"
      ]
     },
     "execution_count": 56,
     "metadata": {},
     "output_type": "execute_result"
    }
   ],
   "source": [
    "correlation(col4, fitted_y)"
   ]
  },
  {
   "cell_type": "markdown",
   "metadata": {},
   "source": [
    "### 6.5　[重相関係数](http://kogolab.chillout.jp/elearn/icecream/chap6/sec5.html)\n",
    "実測値と重回帰モデルによる予測値の相関係数を「重相関係数」(Multiple correlation coefficient)と呼ぶ。\n",
    "* sqrt( (__r__<sub>ay</sub><sup>2</sup> + __r__<sub>by</sub><sup>2</sup> - 2 ＊ __r__<sub>ay</sub> ＊ __r__<sub>by</sub> ＊ __r__<sub>ab</sub>) / (1 -  __r__<sub>ab</sub><sup>2</sup>) )\n",
    "\n",
    "__課題6.5__：[去年の夏（最低気温込み）](https://raw.githubusercontent.com/maskot1977/ipython_notebook/master/toydata/ice_cream3.txt)のデータを用い、最高気温と最低気温から客数を予測する場合の重相関係数を求めてください。"
   ]
  },
  {
   "cell_type": "code",
   "execution_count": 57,
   "metadata": {
    "collapsed": true
   },
   "outputs": [],
   "source": [
    "def multiple_correlation(a, b, y):\n",
    "    ray = correlation(a, y)\n",
    "    rby = correlation(b, y)\n",
    "    rab = correlation(a, b)\n",
    "    return math.sqrt((ray ** 2 + rby ** 2 - 2 * ray * rby * rab) / (1 - rab ** 2))"
   ]
  },
  {
   "cell_type": "code",
   "execution_count": 58,
   "metadata": {
    "collapsed": false
   },
   "outputs": [
    {
     "data": {
      "text/plain": [
       "0.9757108760038422"
      ]
     },
     "execution_count": 58,
     "metadata": {},
     "output_type": "execute_result"
    }
   ],
   "source": [
    "multiple_correlation(col2, col3, col4)"
   ]
  },
  {
   "cell_type": "markdown",
   "metadata": {},
   "source": [
    "### 6.6　[通過テスト](http://kogolab.chillout.jp/elearn/icecream/chap6/sec6.html)"
   ]
  },
  {
   "cell_type": "markdown",
   "metadata": {},
   "source": [
    "__課題6.6__：[入学試験の点数と学業成績（高校の平均評定込み）](https://raw.githubusercontent.com/maskot1977/ipython_notebook/master/toydata/entrance_exam2.txt)のデータを用いて、以下の問いに答えてください。\n",
    "* 入学後の学業成績を、高校の平均評点と入学試験の点数の２つの変数を使って、重回帰モデルによって予測したい。このときのモデルの式を書いてください。\n",
    "* その重回帰モデルの式における定数を求めてください。\n",
    "* その重回帰モデルにおける重相関係数を求めてください。\n",
    "* 入学試験と学業成績の相関係数と、重相関係数とを比較して、どのようなことが言えるかについて、文章で書いてください。"
   ]
  },
  {
   "cell_type": "code",
   "execution_count": 59,
   "metadata": {
    "collapsed": true
   },
   "outputs": [],
   "source": [
    "# ダウンロードしたデータから、列ごとに数字を読み込んでリストに格納する。\n",
    "col1 = []\n",
    "col2 = []\n",
    "col3 = []\n",
    "col4 = []\n",
    "for i, line in enumerate(open('entrance_exam2.txt')):\n",
    "    if i == 0:\n",
    "        continue\n",
    "    a = line.split()\n",
    "    col1.append(int(a[0]))\n",
    "    col2.append(int(a[1])) # 入学試験の点数\n",
    "    col3.append(float(a[3])) # 高校の平均評定\n",
    "    col4.append(float(a[2])) # 入学後の学業成績\n",
    "#　上記で a[2] と a[3] を入れ替えていることに注意"
   ]
  },
  {
   "cell_type": "code",
   "execution_count": 60,
   "metadata": {
    "collapsed": false
   },
   "outputs": [
    {
     "data": {
      "text/plain": [
       "0.006934890958833941"
      ]
     },
     "execution_count": 60,
     "metadata": {},
     "output_type": "execute_result"
    }
   ],
   "source": [
    "# 定数p　＝　入学後の学業成績と入学試験の点数の偏回帰係数\n",
    "p = partial_regression(col3, col2, col4)\n",
    "p"
   ]
  },
  {
   "cell_type": "code",
   "execution_count": 61,
   "metadata": {
    "collapsed": false
   },
   "outputs": [
    {
     "data": {
      "text/plain": [
       "0.12812099330335897"
      ]
     },
     "execution_count": 61,
     "metadata": {},
     "output_type": "execute_result"
    }
   ],
   "source": [
    "# 定数q　＝　入学後の学業成績と高校の平均評定の偏回帰係数\n",
    "q = partial_regression(col2, col3, col4)\n",
    "q"
   ]
  },
  {
   "cell_type": "code",
   "execution_count": 62,
   "metadata": {
    "collapsed": false
   },
   "outputs": [
    {
     "data": {
      "text/plain": [
       "-2.0941113349445843"
      ]
     },
     "execution_count": 62,
     "metadata": {},
     "output_type": "execute_result"
    }
   ],
   "source": [
    "# 定数m　＝　入学後の学業成績の平均　－　p×入学試験の点数の平均　－　q×高校の平均評定の平均\n",
    "m = average(col4) - p * average(col2) - q * average(col3)\n",
    "m"
   ]
  },
  {
   "cell_type": "code",
   "execution_count": 63,
   "metadata": {
    "collapsed": false
   },
   "outputs": [
    {
     "data": {
      "text/plain": [
       "0.7699771459141179"
      ]
     },
     "execution_count": 63,
     "metadata": {},
     "output_type": "execute_result"
    }
   ],
   "source": [
    "# 入学試験と学業成績の重相関係数\n",
    "multiple_correlation(col2, col3, col4)"
   ]
  },
  {
   "cell_type": "code",
   "execution_count": 64,
   "metadata": {
    "collapsed": false
   },
   "outputs": [
    {
     "data": {
      "text/plain": [
       "0.7617976726140626"
      ]
     },
     "execution_count": 64,
     "metadata": {},
     "output_type": "execute_result"
    }
   ],
   "source": [
    "# 入学試験と学業成績の相関係数\n",
    "correlation(col2, col4)"
   ]
  },
  {
   "cell_type": "code",
   "execution_count": 65,
   "metadata": {
    "collapsed": true
   },
   "outputs": [],
   "source": [
    "# 入学試験と学業成績の相関係数と、重相関係数とを比較して、どのようなことが言えるかについて\n",
    "# 入学試験と学業成績の相関係数と重相関係数はどちらも 0.76前後で近い数字であるが、\n",
    "# 両者の意味合いは異なるので混同しないように注意しなければいけない。\n",
    "# 入学試験と学業成績の相関係数が0.76であることから、両者の間にはやや強い相関があるが非常に強いわけではない。\n",
    "# 高校の平均評点と入学試験の点数から入学後の学業成績を予測した時の重相関係数が0.77であることから、\n",
    "# 重回帰を行った場合の予測値と実測値の間にも、やや強い相関があるが非常に強いわけではない。\n",
    "# したがって、学業成績を正確に予測するには高校の平均評点と入学試験の点数だけでは十分ではなく、\n",
    "# 何か他の要因を考える必要があると言えそうである。"
   ]
  },
  {
   "cell_type": "markdown",
   "metadata": {},
   "source": [
    "__今日の課題提出__：計算結果を.ipynb ファイル（または.jsonファイル）として保存し、指定したアドレスまでメールしてください。メールタイトルは「__アイスクリーム統計学４５６__」とし、メール本文に学籍番号と氏名を明記のこと。また、感想も書いてくれると喜びます。今後の講義の改善につながるかも知れません。"
   ]
  }
 ],
 "metadata": {
  "kernelspec": {
   "display_name": "Python 2",
   "language": "python",
   "name": "python2"
  },
  "language_info": {
   "codemirror_mode": {
    "name": "ipython",
    "version": 2
   },
   "file_extension": ".py",
   "mimetype": "text/x-python",
   "name": "python",
   "nbconvert_exporter": "python",
   "pygments_lexer": "ipython2",
   "version": "2.7.12"
  }
 },
 "nbformat": 4,
 "nbformat_minor": 0
}
