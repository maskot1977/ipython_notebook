{
 "cells": [
  {
   "cell_type": "markdown",
   "metadata": {},
   "source": [
    "# 2017年総合実験\n",
    "## Jupyter Notebook を使った大規模データの可視化と機械学習\n",
    "\n",
    "本実験では、Jupyter Notebook を使って大規模データの可視化と機械学習を行います。本実験では、生物学実験で得られたものではないデータも多く取り扱いますが、数値データを可視化し俯瞰することは解析の基礎であり、どのようなデータであれ非常に大切なことです。\n",
    "\n",
    "### Jupyter Notebook (IPython Notebook) とは\n",
    "* Python という名のプログラミング言語が使えるプログラミング環境。計算コードと計算結果を同じ場所に時系列で保存できるので、実験系における実験ノートのように、いつどんな処理を行って何を得たのか記録して再現するのに便利。\n",
    "* <a href=\"https://raw.githubusercontent.com/maskot1977/-/master/%E6%BC%94%E7%BF%92%E5%AE%A4.txt\" target=\"_blank\">当学の演習室での使い方</a>\n",
    "* <a href=\"http://www.task-notes.com/entry/20151129/1448794509\" target=\"_blank\">個人PCでのインストールと始め方</a>\n",
    "* <a href=\"https://raw.githubusercontent.com/maskot1977/-/master/%E5%B0%8F%E5%AF%BA%E7%A0%942017.pptx.png\" target=\"_blank\">小寺研究室</a> では、MacOSX上で右記のようにセットアップしています。 <a href=\"https://sites.google.com/site/masaakikotera/8-python/8-1-huan-jing-gou-zhu\" target=\"_blank\">環境設定</a>"
   ]
  },
  {
   "cell_type": "markdown",
   "metadata": {},
   "source": [
    "## 本実習で用いるデータ\n",
    "（<a href=\"http://nbviewer.jupyter.org/github/maskot1977/ipython_notebook/blob/master/%E5%AE%9F%E7%BF%92%E7%94%A8%E3%83%86%E3%82%99%E3%83%BC%E3%82%BF2017.ipynb\" target=\"_blank\">詳細</a>）\n",
    "* <a href=\"https://raw.githubusercontent.com/maskot1977/ipython_notebook/master/toydata/airquality.txt\" target=\"_blank\">「ニューヨークの大気状態観測値」</a>\n",
    "* <a href=\"https://raw.githubusercontent.com/maskot1977/ipython_notebook/master/toydata/USArrests.txt\" target=\"_blank\">「合州国の州別暴力犯罪率」</a>\n",
    "* <a href=\"https://raw.githubusercontent.com/maskot1977/ipython_notebook/master/toydata/sports_dataJt.txt\" target=\"_blank\">「スポーツテストデータ」</a>\n",
    "* <a href=\"https://raw.githubusercontent.com/maskot1977/ipython_notebook/master/toydata/icecream_chosa.txt\" target=\"_blank\">「好きなアイスクリームアンケート」</a>\n",
    "* <a href=\"https://raw.githubusercontent.com/maskot1977/ipython_notebook/master/toydata/PLIlive_dataJ.txt\" target=\"_blank\">「新国民生活指標データ」</a>\n",
    "* <a href=\"https://raw.githubusercontent.com/maskot1977/ipython_notebook/master/toydata/sake_dataJ.txt\" target=\"_blank\">「都道府県別アルコール類の消費量」</a>\n",
    "* <a href=\"https://raw.githubusercontent.com/maskot1977/ipython_notebook/master/toydata/sbnote_dataJt.txt\" target=\"_blank\">「スイス銀行紙幣データ」</a>\n",
    "* 「ワインの品質」（<a href=\"http://archive.ics.uci.edu/ml/machine-learning-databases/wine-quality/winequality-red.csv\" target=\"_blank\">赤</a>・<a href=\"http://archive.ics.uci.edu/ml/machine-learning-databases/wine-quality/winequality-white.csv\" target=\"_blank\">白</a>）\n",
    "* <a href=\"https://raw.githubusercontent.com/maskot1977/ipython_notebook/master/toydata/iris.txt\" target=\"_blank\">「あやめのデータ」</a>\n",
    "* <a href=\"http://archive.ics.uci.edu/ml/machine-learning-databases/abalone/abalone.data\" target=\"_blank\">「あわびのデータ」</a>\n",
    "* <a href=\"https://raw.githubusercontent.com/maskot1977/ipython_notebook/master/toydata/pima-indians-diabetes.txt\" target=\"_blank\">「ピマ・インディアンの糖尿病診断」</a>\n",
    "* <a href=\"http://archive.ics.uci.edu/ml/machine-learning-databases/parkinsons/parkinsons.data\" target=\"_blank\">「パーキンソン病診断データ」</a>\n",
    "* <a href=\"http://archive.ics.uci.edu/ml/machine-learning-databases/ecoli/ecoli.data\" target=\"_blank\">「大腸菌タンパク質の細胞内局在」</a>\n",
    "* <a href=\"http://archive.ics.uci.edu/ml/machine-learning-databases/yeast/yeast.data\" target=\"_blank\">「酵母タンパク質の細胞内局在」</a>"
   ]
  },
  {
   "cell_type": "markdown",
   "metadata": {},
   "source": [
    "## 本実習スタート\n",
    "\n",
    "私の担当回では、実験の班分けは関係ありません。個人で課題を解いて、個人で提出してください。友達同士で話し合ったり助け合ったりすることは自由です。ただし、レポートは個人個人のものですので、それぞれ自分のオリジナリティを出すこと。\n",
    "\n",
    "__課題について__ ：大学受験までの問題では、そのほとんどが、答えがどこかに書いてあって、先生は答えを知っていて、その答えを書けば正解でした。ですが社会にあるほとんどの問題には、答えがなかったり、誰も答えを知らなかったりします。そういう問題について分析して、自分の答えを出す能力が求められます。本実習でも、誰も知らない答えを自らで導き出すつもりで解いてください。"
   ]
  },
  {
   "cell_type": "markdown",
   "metadata": {},
   "source": [
    "### 本日の目標（本日の講義時間終了まで）\n",
    "* __Step1__ から __Step7__ まで、とりあえず見よう見まねで計算を実行する（コピペでOK）。\n",
    "* 先に進める人は、どんどん先に進んでください。課題をさっさと解いてしまってもOKです。\n",
    "* 私の説明を聞きながら進めていってもOKです。\n",
    "* 分からないところや、思った通りにプログラムが動作しないことがあったら手を挙げて、私かTAに助けを求めてください。\n",
    "* 最後に課題がありますので、１週間以内に解いてレポートを提出してください（本日中に提出してもOKです）。\n",
    "\n",
    "### レポートの提出方法について（７日後の１３時２０分まで）\n",
    "\n",
    "下記の課題のレポートを、指定されたメールアドレスまで送信してください。\n",
    "* __締切__：７日後の１３時２０分。提出締切厳守とします（遅れた場合、受け取らないことがあります）。\n",
    "* __提出方法__：Microsoft Word、Microsoft PowerPoint、あるいは .ipynbファイルのいずれかの形式のファイルでレポートを作成し、指定されたメールアドレスまでメールで送信してください。メールタイトルは「2017総合実験」とし、メール本文と添付ファイルの両方に、学籍番号と氏名を明記すること。"
   ]
  },
  {
   "cell_type": "markdown",
   "metadata": {},
   "source": [
    "### Step 1. まずは、ウォーミングアップから\n",
    "まずは次のリンクをクリックして、Pythonで簡単な計算をしてみましょう。\n",
    "\n",
    "* <a href=\"http://nbviewer.jupyter.org/github/maskot1977/ipython_notebook/blob/master/Python%E3%82%A6%E3%82%A9%E3%83%BC%E3%83%9F%E3%83%B3%E3%82%AF%E3%82%99%E3%82%A2%E3%83%83%E3%83%95%E3%82%9A.ipynb\" target=\"_blank\">まずは、ウォーミングアップから</a>"
   ]
  },
  {
   "cell_type": "markdown",
   "metadata": {},
   "source": [
    "### Step 2. ライブラリのインポート、乱数、そしてMatplotlibによる描画\n",
    "Pythonでは、皆がよく使う関数などをライブラリとしてまとめてあり、それをインポートして使います。乱数のライブラリの使い方や、ヒストグラムなどのグラフの描画の仕方を体験してみましょう。\n",
    "\n",
    "* <a href=\"http://nbviewer.jupyter.org/github/maskot1977/ipython_notebook/blob/master/%E3%83%A9%E3%82%A4%E3%83%95%E3%82%99%E3%83%A9%E3%83%AA%E3%81%AE%E3%82%A4%E3%83%B3%E3%83%9B%E3%82%9A%E3%83%BC%E3%83%88%E3%80%81%E4%B9%B1%E6%95%B0%E3%80%81%E3%81%9D%E3%81%97%E3%81%A6Matplotlib%E3%81%AB%E3%82%88%E3%82%8B%E6%8F%8F%E7%94%BB.ipynb\" target=\"_blank\">ライブラリのインポート、乱数、そしてMatploblibによる描画</a>"
   ]
  },
  {
   "cell_type": "markdown",
   "metadata": {},
   "source": [
    "### Step 3. Numpy と Pandas を用いた演算\n",
    "行列データの取り扱いについて、簡単に学んでみましょう。\n",
    "\n",
    "* <a href=\"http://nbviewer.jupyter.org/github/maskot1977/ipython_notebook/blob/master/Numpy%20%E3%81%A8%20Pandas%20%E3%82%92%E7%94%A8%E3%81%84%E3%81%9F%E6%BC%94%E7%AE%97.ipynb\" target=\"_blank\">NumpyとPandasを用いた演算</a>"
   ]
  },
  {
   "cell_type": "markdown",
   "metadata": {},
   "source": [
    "### Step 4. タブ区切りデータ、コンマ区切りデータ等の読み込み\n",
    "インターネット上にあるテキストファイル（タブ区切りデータ、コンマ区切りデータ等）をダウンロードし、Pandasに読み込む方法を会得しましょう。\n",
    "\n",
    "* <a href=\"http://nbviewer.jupyter.org/github/maskot1977/ipython_notebook/blob/master/%E3%82%BF%E3%83%95%E3%82%99%E5%8C%BA%E5%88%87%E3%82%8A%E3%83%86%E3%82%99%E3%83%BC%E3%82%BF%E3%80%81%E3%82%B3%E3%83%B3%E3%83%9E%E5%8C%BA%E5%88%87%E3%82%8A%E3%83%86%E3%82%99%E3%83%BC%E3%82%BF%E7%AD%89%E3%81%AE%E8%AA%AD%E3%81%BF%E8%BE%BC%E3%81%BF.ipynb\" target=\"_blank\">タブ区切りデータ、コンマ区切りデータ等の読み込み</a>"
   ]
  },
  {
   "cell_type": "markdown",
   "metadata": {},
   "source": [
    "### Step 5. 読み込んだデータの可視化\n",
    "大規模データを可視化する方法はいくつかありますが、本実習では以下の方法を学んでください。"
   ]
  },
  {
   "cell_type": "markdown",
   "metadata": {},
   "source": [
    "<ul>\n",
    "<li><a href=\"http://nbviewer.jupyter.org/github/maskot1977/ipython_notebook/blob/master/%E6%8A%98%E3%82%8C%E7%B7%9A%E3%82%AF%E3%82%99%E3%83%A9%E3%83%95.ipynb\" target=\"_blank\">折れ線グラフ</a> ... 「ニューヨークの大気状態観測値」を例に\n",
    "<li><a href=\"http://nbviewer.jupyter.org/github/maskot1977/ipython_notebook/blob/master/%E3%83%92%E3%82%B9%E3%83%88%E3%82%AF%E3%82%99%E3%83%A9%E3%83%A0.ipynb\" target=\"_blank\">ヒストグラム</a> ... 「好きなアイスクリームアンケート」を例に\n",
    "<li><a href=\"http://nbviewer.jupyter.org/github/maskot1977/ipython_notebook/blob/master/%E3%83%9B%E3%82%99%E3%83%83%E3%82%AF%E3%82%B9%E3%83%95%E3%82%9A%E3%83%AD%E3%83%83%E3%83%88.ipynb\" target=\"_blank\">ボックスプロットとバイオリンプロット</a> ... 「あやめのデータ」を例に\n",
    "<li><a href=\"http://nbviewer.jupyter.org/github/maskot1977/ipython_notebook/blob/master/%E6%95%A3%E5%B8%83%E5%9B%B3.ipynb\" target=\"_blank\">散布図</a> ... 「合州国の州別暴力犯罪率」を例に\n",
    "<li><a href=\"http://nbviewer.jupyter.org/github/maskot1977/ipython_notebook/blob/master/%E6%95%A3%E5%B8%83%E5%9B%B3%E8%A1%8C%E5%88%97.ipynb\" target=\"_blank\">散布図行列</a> ... 「スポーツテストデータ」を例に\n",
    "<li><a href=\"http://nbviewer.jupyter.org/github/maskot1977/ipython_notebook/blob/master/%E7%9B%B8%E9%96%A2%E8%A1%8C%E5%88%97.ipynb\" target=\"_blank\">相関行列</a> ... 「新国民生活指標データ」を例に\n",
    "</ul>"
   ]
  },
  {
   "cell_type": "markdown",
   "metadata": {},
   "source": [
    "### Step 6. 機械学習（教師なし）"
   ]
  },
  {
   "cell_type": "markdown",
   "metadata": {},
   "source": [
    "教師なし学習（Unsupervised Learning）とは、機械学習の手法の一つで、データの背後に存在する本質的な構造を抽出するために用いられます。本実習ではこれを少しだけ体験してみましょう。\n",
    "<ul>\n",
    "<li><a href=\"http://nbviewer.jupyter.org/github/maskot1977/ipython_notebook/blob/master/%E4%B8%BB%E6%88%90%E5%88%86%E5%88%86%E6%9E%902017.ipynb\" target=\"_blank\">主成分分析</a> ... 「都道府県別アルコール類の消費量」を例に\n",
    "<li><a href=\"http://nbviewer.jupyter.org/github/maskot1977/ipython_notebook/blob/master/%E9%9A%8E%E5%B1%A4%E7%9A%84%E3%82%AF%E3%83%A9%E3%82%B9%E3%82%BF%E3%83%AA%E3%83%B3%E3%82%AF%E3%82%992017.ipynb\" target=\"_blank\">階層的クラスタリング</a> ... 「都道府県別アルコール類の消費量」を例に\n",
    "</ul>"
   ]
  },
  {
   "cell_type": "markdown",
   "metadata": {},
   "source": [
    "### Step 7. 機械学習（教師あり）"
   ]
  },
  {
   "cell_type": "markdown",
   "metadata": {},
   "source": [
    "教師あり学習（Supervised learning）とは、機械学習の手法の一つで、事前に与えられたデータを「例題（＝先生からの助言）」(training data)とみなして、それをガイドに学習（＝データへの何らかのフィッティング）を行うところからこの名があります。本実習ではこれも少しだけ体験してみましょう。\n",
    "<ul>\n",
    "<li><a href=\"http://nbviewer.jupyter.org/github/maskot1977/ipython_notebook/blob/master/%E6%95%99%E5%B8%AB%E3%81%82%E3%82%8A%E5%AD%A6%E7%BF%92%EF%BC%88%E3%82%B5%E3%83%9B%E3%82%9A%E3%83%BC%E3%83%88%E3%83%98%E3%82%99%E3%82%AF%E3%83%88%E3%83%AB%E3%83%9E%E3%82%B7%E3%83%B3%EF%BC%89.ipynb\" target=\"_blank\">サポートベクトルマシン</a> ... 「スイス銀行紙幣データ」と「あやめのデータ」を例に\n",
    "</ul>"
   ]
  },
  {
   "cell_type": "markdown",
   "metadata": {},
   "source": [
    "# 課題\n",
    "* <a href=\"https://raw.githubusercontent.com/maskot1977/ipython_notebook/master/toydata/icecream_chosa.txt\" target=\"_blank\">「好きなアイスクリームアンケート」</a> を用いて、アイスクリームの好みから性別(gender)を予測できるか。\n",
    "* 「ワインの品質」（<a href=\"http://archive.ics.uci.edu/ml/machine-learning-databases/wine-quality/winequality-red.csv\" target=\"_blank\">赤</a>・<a href=\"http://archive.ics.uci.edu/ml/machine-learning-databases/wine-quality/winequality-white.csv\" target=\"_blank\">白</a>）を用いて、測定データからワインの品質(quality)を言い当てることができるか。\n",
    "* <a href=\"https://raw.githubusercontent.com/maskot1977/ipython_notebook/master/toydata/pima-indians-diabetes.txt\" target=\"_blank\">「ピマ・インディアンの糖尿病診断」</a>を用いて、測定データから糖尿病か否かを診断できるか。\n",
    "* <a href=\"http://archive.ics.uci.edu/ml/machine-learning-databases/parkinsons/parkinsons.data\" target=\"_blank\">「パーキンソン病診断データ」</a>を用いて、測定データからパーキンソン病か否かを診断できるか。\n",
    "* <a href=\"http://archive.ics.uci.edu/ml/machine-learning-databases/ecoli/ecoli.data\" target=\"_blank\">「大腸菌タンパク質の細胞内局在」</a>を用いて、いくつかのパラメータからそのタンパク質がどこに局在するか予測できるか。\n",
    "* <a href=\"http://archive.ics.uci.edu/ml/machine-learning-databases/yeast/yeast.data\" target=\"_blank\">「酵母タンパク質の細胞内局在」</a>を用いて、いくつかのパラメータからそのタンパク質がどこに局在するか予測できるか。\n",
    "\n",
    "（<a href=\"http://nbviewer.jupyter.org/github/maskot1977/ipython_notebook/blob/master/%E5%AE%9F%E7%BF%92%E7%94%A8%E3%83%86%E3%82%99%E3%83%BC%E3%82%BF2017.ipynb\" target=\"_blank\">詳細</a>）以上の中から２つ以上を選び、それぞれデータの可視化と機械学習を用いながら解析し、結果を考察してください。\n",
    "\n",
    "__締切__ ：７日後の１３時２０分。提出締切厳守とします（遅れた場合、受け取らないことがあります）。\n",
    "\n",
    "__提出方法__ ：Microsoft Word、Microsoft PowerPoint、あるいは .ipynbファイルのいずれかの形式のファイルでレポートを作成し、指定されたメールアドレスまでメールで送信してください。メールタイトルは「2017総合実験」とし、メール本文と添付ファイルの両方に、学籍番号と氏名を明記すること。\n",
    "\n",
    "また、この実験に関して感想などがありましたら書いてくださると嬉しいです。今後の講義や実験などの改善につながるかもしれません。"
   ]
  },
  {
   "cell_type": "code",
   "execution_count": null,
   "metadata": {
    "collapsed": true
   },
   "outputs": [],
   "source": []
  }
 ],
 "metadata": {
  "kernelspec": {
   "display_name": "Python 3",
   "language": "python",
   "name": "python3"
  },
  "language_info": {
   "codemirror_mode": {
    "name": "ipython",
    "version": 3
   },
   "file_extension": ".py",
   "mimetype": "text/x-python",
   "name": "python",
   "nbconvert_exporter": "python",
   "pygments_lexer": "ipython3",
   "version": "3.4.5"
  }
 },
 "nbformat": 4,
 "nbformat_minor": 2
}
