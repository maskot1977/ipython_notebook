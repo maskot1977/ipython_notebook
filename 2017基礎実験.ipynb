{
 "cells": [
  {
   "cell_type": "markdown",
   "metadata": {},
   "source": [
    "# 2017年基礎実験\n",
    "## Jupyter Notebook を使った大規模データの可視化\n",
    "\n",
    "本実験では、Jupyter Notebook を使って大規模データの可視化を行います。本実験では、生物学実験で得られたものではないデータも多く取り扱いますが、数値データを可視化し俯瞰することは解析の基礎であり、どのようなデータであれ非常に大切なことです。\n",
    "\n",
    "### Jupyter Notebook (IPython Notebook) とは\n",
    "* Python という名のプログラミング言語が使えるプログラミング環境。計算コードと計算結果を同じ場所に時系列で保存できるので、実験系における実験ノートのように、いつどんな処理を行って何を得たのか記録して再現するのに便利。\n",
    "* [当学の演習室での使い方](https://raw.githubusercontent.com/maskot1977/-/master/%E6%BC%94%E7%BF%92%E5%AE%A4.txt)\n",
    "* [個人PCでのインストールと始め方](http://www.task-notes.com/entry/20151129/1448794509)\n",
    "* [小寺研究室](https://github.com/maskot1977/-/blob/master/L1%E3%82%BC%E3%83%9F2015%E5%B0%8F%E5%AF%BA%E7%A0%94%E7%A9%B6%E5%AE%A4.pptx.pdf) では、MacOSX上で右記のようにセットアップしています。> [環境構築](https://sites.google.com/site/masaakikotera/8-python/8-1-huan-jing-gou-zhu)"
   ]
  },
  {
   "cell_type": "markdown",
   "metadata": {},
   "source": [
    "### 本実習で用いるデータ\n",
    "* 「ニューヨークの大気状態観測値」\n",
    "* 「合州国の州別暴力犯罪率」\n",
    "* 「スポーツテストデータ」\n",
    "* 「好きなアイスクリームアンケート」\n",
    "* 「新国民生活指標データ」\n",
    "* 「都道府県別アルコール類の消費量」\n",
    "* 「スイス銀行紙幣データ」\n",
    "* 「ワインの品質」\n",
    "* 「あやめのデータ」\n",
    "* 「あわびのデータ」\n",
    "* 「ピマ・インディアンの糖尿病診断」\n",
    "* 「パーキンソン病診断データ」\n",
    "* 「大腸菌タンパク質の細胞内局在」\n",
    "* 「酵母タンパク質の細胞内局在」\n",
    "\n",
    "次のリンクをクリックして、中身を確認してください。\n",
    "http://nbviewer.jupyter.org/github/maskot1977/ipython_notebook/blob/master/%E5%AE%9F%E7%BF%92%E7%94%A8%E3%83%86%E3%82%99%E3%83%BC%E3%82%BF2017.ipynb"
   ]
  },
  {
   "cell_type": "markdown",
   "metadata": {},
   "source": [
    "## 本実習スタート\n",
    "\n",
    "私の担当回では、実験の班分けは関係ありません。個人で課題を解いて、個人で提出してください。また、友達同士で話し合ったり助け合ったりすることは自由です。ただし、レポートは個人個人ですので、それぞれ自分のオリジナリティを出すこと。"
   ]
  },
  {
   "cell_type": "markdown",
   "metadata": {},
   "source": [
    "### レポートの提出方法について\n",
    "\n",
    "下記の課題のレポートを、指定されたメールアドレスまで送信してください。\n",
    "* 締切：７日後の１３時２０分。提出締切厳守とします（遅れた場合、受け取らない場合があります）。\n",
    "* 提出方法：Microsoft Word、Microsoft PowerPoint、あるいは .ipynbファイルのいずれかの形式のファイルでレポートを作成し、指定されたメールアドレスまでメールで送信してください。メールタイトルは「2017基礎実験」とし、メール本文と添付ファイルの両方に、学籍番号と氏名を明記すること。"
   ]
  },
  {
   "cell_type": "markdown",
   "metadata": {},
   "source": [
    "### Step 1. まずは、ウォーミングアップから\n",
    "まずは次のリンクをクリックして、Pythonで簡単な計算をしてみましょう。\n",
    "http://nbviewer.jupyter.org/github/maskot1977/ipython_notebook/blob/master/Python%E3%82%A6%E3%82%A9%E3%83%BC%E3%83%9F%E3%83%B3%E3%82%AF%E3%82%99%E3%82%A2%E3%83%83%E3%83%95%E3%82%9A.ipynb"
   ]
  },
  {
   "cell_type": "markdown",
   "metadata": {},
   "source": [
    "### Step 2. ライブラリのインポート、乱数、そしてMatplotlibによる描画\n",
    "Pythonでは、皆がよく使う関数などをライブラリとしてまとめてあり、それをインポートして使います。乱数のライブラリの使い方や、ヒストグラムなどのグラフの描画の仕方を体験してみましょう。\n",
    "http://nbviewer.jupyter.org/github/maskot1977/ipython_notebook/blob/master/%E3%83%A9%E3%82%A4%E3%83%95%E3%82%99%E3%83%A9%E3%83%AA%E3%81%AE%E3%82%A4%E3%83%B3%E3%83%9B%E3%82%9A%E3%83%BC%E3%83%88%E3%80%81%E4%B9%B1%E6%95%B0%E3%80%81%E3%81%9D%E3%81%97%E3%81%A6Matplotlib%E3%81%AB%E3%82%88%E3%82%8B%E6%8F%8F%E7%94%BB.ipynb"
   ]
  },
  {
   "cell_type": "markdown",
   "metadata": {},
   "source": [
    "### Step 3. Numpy と Pandas を用いた演算\n",
    "行列データの取り扱いについて、簡単に学んでみましょう。\n",
    "http://nbviewer.jupyter.org/github/maskot1977/ipython_notebook/blob/master/Numpy%20%E3%81%A8%20Pandas%20%E3%82%92%E7%94%A8%E3%81%84%E3%81%9F%E6%BC%94%E7%AE%97.ipynb"
   ]
  },
  {
   "cell_type": "markdown",
   "metadata": {},
   "source": [
    "### Step 4. タブ区切りデータ、コンマ区切りデータ等の読み込み\n",
    "Matplotlibを使って、簡単なグラフを描いてみましょう。各自の画面中の IPython Notebook のセルに順次入力して（コピペ可）、「Shift + Enter」してください。"
   ]
  },
  {
   "cell_type": "code",
   "execution_count": 165,
   "metadata": {
    "collapsed": false
   },
   "outputs": [
    {
     "data": {
      "text/plain": [
       "<matplotlib.axes._subplots.AxesSubplot at 0x10779a278>"
      ]
     },
     "execution_count": 165,
     "metadata": {},
     "output_type": "execute_result"
    }
   ],
   "source": [
    "import matplotlib.pyplot as plt\n",
    "e.plot()"
   ]
  },
  {
   "cell_type": "code",
   "execution_count": 166,
   "metadata": {
    "collapsed": false
   },
   "outputs": [
    {
     "data": {
      "text/html": [
       "<div>\n",
       "<table border=\"1\" class=\"dataframe\">\n",
       "  <thead>\n",
       "    <tr style=\"text-align: right;\">\n",
       "      <th></th>\n",
       "      <th>0</th>\n",
       "      <th>1</th>\n",
       "      <th>2</th>\n",
       "      <th>3</th>\n",
       "      <th>4</th>\n",
       "      <th>5</th>\n",
       "      <th>6</th>\n",
       "      <th>7</th>\n",
       "      <th>8</th>\n",
       "      <th>9</th>\n",
       "    </tr>\n",
       "  </thead>\n",
       "  <tbody>\n",
       "    <tr>\n",
       "      <th>0</th>\n",
       "      <td>2</td>\n",
       "      <td>4</td>\n",
       "      <td>0</td>\n",
       "      <td>7</td>\n",
       "      <td>2</td>\n",
       "      <td>4</td>\n",
       "      <td>5</td>\n",
       "      <td>2</td>\n",
       "      <td>1</td>\n",
       "      <td>8</td>\n",
       "    </tr>\n",
       "    <tr>\n",
       "      <th>1</th>\n",
       "      <td>7</td>\n",
       "      <td>6</td>\n",
       "      <td>7</td>\n",
       "      <td>4</td>\n",
       "      <td>1</td>\n",
       "      <td>8</td>\n",
       "      <td>3</td>\n",
       "      <td>0</td>\n",
       "      <td>5</td>\n",
       "      <td>8</td>\n",
       "    </tr>\n",
       "    <tr>\n",
       "      <th>2</th>\n",
       "      <td>3</td>\n",
       "      <td>8</td>\n",
       "      <td>6</td>\n",
       "      <td>4</td>\n",
       "      <td>7</td>\n",
       "      <td>4</td>\n",
       "      <td>2</td>\n",
       "      <td>7</td>\n",
       "      <td>9</td>\n",
       "      <td>4</td>\n",
       "    </tr>\n",
       "    <tr>\n",
       "      <th>3</th>\n",
       "      <td>5</td>\n",
       "      <td>2</td>\n",
       "      <td>2</td>\n",
       "      <td>9</td>\n",
       "      <td>9</td>\n",
       "      <td>1</td>\n",
       "      <td>6</td>\n",
       "      <td>9</td>\n",
       "      <td>0</td>\n",
       "      <td>3</td>\n",
       "    </tr>\n",
       "  </tbody>\n",
       "</table>\n",
       "</div>"
      ],
      "text/plain": [
       "   0  1  2  3  4  5  6  7  8  9\n",
       "0  2  4  0  7  2  4  5  2  1  8\n",
       "1  7  6  7  4  1  8  3  0  5  8\n",
       "2  3  8  6  4  7  4  2  7  9  4\n",
       "3  5  2  2  9  9  1  6  9  0  3"
      ]
     },
     "execution_count": 166,
     "metadata": {},
     "output_type": "execute_result"
    }
   ],
   "source": [
    "e"
   ]
  },
  {
   "cell_type": "code",
   "execution_count": null,
   "metadata": {
    "collapsed": true
   },
   "outputs": [],
   "source": []
  }
 ],
 "metadata": {
  "kernelspec": {
   "display_name": "Python 3",
   "language": "python",
   "name": "python3"
  },
  "language_info": {
   "codemirror_mode": {
    "name": "ipython",
    "version": 3
   },
   "file_extension": ".py",
   "mimetype": "text/x-python",
   "name": "python",
   "nbconvert_exporter": "python",
   "pygments_lexer": "ipython3",
   "version": "3.4.5"
  }
 },
 "nbformat": 4,
 "nbformat_minor": 2
}
