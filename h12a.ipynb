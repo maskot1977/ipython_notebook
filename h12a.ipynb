{
 "cells": [
  {
   "cell_type": "markdown",
   "metadata": {},
   "source": [
    "# ハンバーガー統計学 + Python (第1章〜第2章)\n",
    "[ハンバーガー統計学にようこそ！](http://kogolab.chillout.jp/elearn/hamburger/index.html)\n",
    "のページを読み進めながら、以下の課題を Python を使って解いてください。\n",
    "\n",
    "* [アイスクリーム統計学・第１章〜第３章（散布図と相関、相関係数、無相関検定）](http://nbviewer.jupyter.org/github/maskot1977/ipython_notebook/blob/master/%E3%82%A2%E3%82%A4%E3%82%B9%E3%82%AF%E3%83%AA%E3%83%BC%E3%83%A0%E7%B5%B1%E8%A8%88%E5%AD%A6%E3%83%BB%E7%AC%AC%EF%BC%91%E7%AB%A0%E3%80%9C%E7%AC%AC%EF%BC%93%E7%AB%A0.ipynb)\n",
    "* [アイスクリーム統計学・第４章〜第６章（単回帰、偏相関、重回帰）](http://nbviewer.jupyter.org/github/maskot1977/ipython_notebook/blob/master/%E3%82%A2%E3%82%A4%E3%82%B9%E3%82%AF%E3%83%AA%E3%83%BC%E3%83%A0%E7%B5%B1%E8%A8%88%E5%AD%A6%E3%83%BB%E7%AC%AC%EF%BC%94%E7%AB%A0%E3%80%9C%E7%AC%AC%EF%BC%96%E7%AB%A0.ipynb)\n",
    "* [アイスクリーム統計学・第７章〜第９章（相関行列、因子分析1、因子分析2）](http://nbviewer.jupyter.org/github/maskot1977/ipython_notebook/blob/master/%E3%82%A2%E3%82%A4%E3%82%B9%E3%82%AF%E3%83%AA%E3%83%BC%E3%83%A0%E7%B5%B1%E8%A8%88%E5%AD%A6%E3%83%BB%E7%AC%AC%EF%BC%97%E7%AB%A0%E3%80%9C%E7%AC%AC%EF%BC%99%E7%AB%A0.ipynb)\n",
    "* [アイスクリーム統計学・第１０章（主成分分析とクラスター分析）](http://nbviewer.jupyter.org/github/maskot1977/ipython_notebook/blob/master/%E3%82%A2%E3%82%A4%E3%82%B9%E3%82%AF%E3%83%AA%E3%83%BC%E3%83%A0%E7%B5%B1%E8%A8%88%E5%AD%A6%E3%83%BB%E7%AC%AC%EF%BC%91%EF%BC%90%E7%AB%A0.ipynb)\n",
    "* [ハンバーガー統計学・第１章〜第２章（平均と分散、信頼区間）](http://nbviewer.jupyter.org/github/maskot1977/ipython_notebook/blob/master/%E3%83%8F%E3%83%B3%E3%83%8F%E3%82%99%E3%83%BC%E3%82%AB%E3%82%99%E3%83%BC%E7%B5%B1%E8%A8%88%E5%AD%A6%E3%83%BB%E7%AC%AC%EF%BC%91%E7%AB%A0%E3%80%9C%E7%AC%AC%EF%BC%92%E7%AB%A0.ipynb)\n",
    "* [ハンバーガー統計学・第３章〜第５章（カイ２乗検定、t検定 （対応なし・対応あり））](http://nbviewer.jupyter.org/github/maskot1977/ipython_notebook/blob/master/%E3%83%8F%E3%83%B3%E3%83%8F%E3%82%99%E3%83%BC%E3%82%AB%E3%82%99%E3%83%BC%E7%B5%B1%E8%A8%88%E5%AD%A6%E3%83%BB%E7%AC%AC%EF%BC%93%E7%AB%A0%E3%80%9C%E7%AC%AC%EF%BC%95%E7%AB%A0.ipynb)\n",
    "* [ハンバーガー統計学・第６章〜第７章（分散分析 (１要因、２要因) ）](http://nbviewer.jupyter.org/github/maskot1977/ipython_notebook/blob/master/%E3%83%8F%E3%83%B3%E3%83%8F%E3%82%99%E3%83%BC%E3%82%AB%E3%82%99%E3%83%BC%E7%B5%B1%E8%A8%88%E5%AD%A6%E3%83%BB%E7%AC%AC%EF%BC%96%E7%AB%A0%E3%80%9C%E7%AC%AC%EF%BC%97%E7%AB%A0.ipynb)\n",
    "* [ハンバーガー統計学・第８章 (分布と仮説検定)](http://nbviewer.jupyter.org/github/maskot1977/ipython_notebook/blob/master/%E3%83%8F%E3%83%B3%E3%83%8F%E3%82%99%E3%83%BC%E3%82%AB%E3%82%99%E3%83%BC%E7%B5%B1%E8%A8%88%E5%AD%A6%E3%83%BB%E7%AC%AC%EF%BC%98%E7%AB%A0.ipynb)\n",
    "\n",
    "### Jupyter Notebook (IPython Notebook) とは\n",
    "* Python という名のプログラミング言語が使えるプログラミング環境。計算コードと計算結果を同じ場所に時系列で保存できるので、実験系における実験ノートのように、いつどんな処理を行って何を得たのか記録して再現するのに便利。\n",
    "* [当学演習室での Jupyter Notebook の起動方法](https://raw.githubusercontent.com/maskot1977/-/master/%E6%BC%94%E7%BF%92%E5%AE%A4.txt)"
   ]
  },
  {
   "cell_type": "markdown",
   "metadata": {},
   "source": [
    "## 1. [平均と分散](http://kogolab.chillout.jp/elearn/hamburger/chap1/sec0.html)\n",
    "本文を読んで概念を学んでください。"
   ]
  },
  {
   "cell_type": "markdown",
   "metadata": {},
   "source": [
    "### 1.1　[ポテトの長さの平均は](http://kogolab.chillout.jp/elearn/hamburger/chap1/sec1.html)"
   ]
  },
  {
   "cell_type": "code",
   "execution_count": 1,
   "metadata": {
    "collapsed": true
   },
   "outputs": [],
   "source": [
    "# URL によるリソースへのアクセスを提供するライブラリをインポートする。\n",
    "import urllib # Python 2 の場合\n",
    "# import urllib.request # Python 3 の場合"
   ]
  },
  {
   "cell_type": "code",
   "execution_count": 2,
   "metadata": {
    "collapsed": true
   },
   "outputs": [],
   "source": [
    "# ウェブ上のリソースを指定する\n",
    "url = 'https://raw.githubusercontent.com/maskot1977/ipython_notebook/master/toydata/wakuwaku_potato.txt'"
   ]
  },
  {
   "cell_type": "code",
   "execution_count": 3,
   "metadata": {
    "collapsed": false
   },
   "outputs": [
    {
     "data": {
      "text/plain": [
       "('wakuwaku_potato.txt', <httplib.HTTPMessage instance at 0x10401e908>)"
      ]
     },
     "execution_count": 3,
     "metadata": {},
     "output_type": "execute_result"
    }
   ],
   "source": [
    "# 指定したURLからリソースをダウンロードし、名前をつける。\n",
    "urllib.urlretrieve(url, 'wakuwaku_potato.txt') # Python 2 の場合\n",
    "# urllib.request.urlretrieve(url, 'wakuwaku_potato.txt') # Python 3 の場合"
   ]
  },
  {
   "cell_type": "code",
   "execution_count": 4,
   "metadata": {
    "collapsed": true
   },
   "outputs": [],
   "source": [
    "# ファイルをオープンし長さのデータを読み込み、wakuwakuという名のリストに格納する。\n",
    "wakuwaku = []\n",
    "for line in open('wakuwaku_potato.txt'):\n",
    "    wakuwaku.append(float(line))"
   ]
  },
  {
   "cell_type": "code",
   "execution_count": 5,
   "metadata": {
    "collapsed": false
   },
   "outputs": [
    {
     "name": "stdout",
     "output_type": "stream",
     "text": [
      "[3.5, 3.8, 5.8, 6.4, 4.2, 4.2, 4.0, 3.6, 3.8, 5.2, 4.9, 5.2, 6.0, 3.9, 5.3, 4.6, 3.9, 4.2, 4.2, 6.4, 2.8, 5.6, 5.7, 5.1, 4.4, 5.6, 5.3, 3.9, 5.1, 3.6, 4.2, 5.0, 4.7, 4.1, 3.7, 4.9, 4.7, 5.3, 3.6, 4.2, 4.4, 4.0, 5.5, 4.2, 4.8, 3.7, 3.1, 4.7, 5.0]\n"
     ]
    }
   ],
   "source": [
    "# 格納したデータの確認\n",
    "print (wakuwaku)"
   ]
  },
  {
   "cell_type": "code",
   "execution_count": 6,
   "metadata": {
    "collapsed": false
   },
   "outputs": [
    {
     "name": "stdout",
     "output_type": "stream",
     "text": [
      "4.57142857143\n"
     ]
    }
   ],
   "source": [
    "# 平均長を求める\n",
    "sum = 0\n",
    "num = 0\n",
    "for length in wakuwaku:\n",
    "    sum += length\n",
    "    num += 1\n",
    "print (sum / num)"
   ]
  },
  {
   "cell_type": "markdown",
   "metadata": {},
   "source": [
    "__課題1.1__：[モグモグポテトの長さ](https://raw.githubusercontent.com/maskot1977/ipython_notebook/master/toydata/mogumogu_potato.txt)のデータをダウンロードし、モグモグポテトの平均長を求めてください。"
   ]
  },
  {
   "cell_type": "code",
   "execution_count": 7,
   "metadata": {
    "collapsed": true
   },
   "outputs": [],
   "source": [
    "# ウェブ上のリソースを指定する\n",
    "url = 'https://raw.githubusercontent.com/maskot1977/ipython_notebook/master/toydata/mogumogu_potato.txt'"
   ]
  },
  {
   "cell_type": "code",
   "execution_count": 8,
   "metadata": {
    "collapsed": false
   },
   "outputs": [
    {
     "data": {
      "text/plain": [
       "('mogumogu_potato.txt', <httplib.HTTPMessage instance at 0x104034998>)"
      ]
     },
     "execution_count": 8,
     "metadata": {},
     "output_type": "execute_result"
    }
   ],
   "source": [
    "# 指定したURLからリソースをダウンロードし、名前をつける。\n",
    "urllib.urlretrieve(url, 'mogumogu_potato.txt') # Python 2 の場合\n",
    "# urllib.request.urlretrieve(url, 'mogumogu_potato.txt') # Python 3 の場合"
   ]
  },
  {
   "cell_type": "code",
   "execution_count": 9,
   "metadata": {
    "collapsed": true
   },
   "outputs": [],
   "source": [
    "# ファイルをオープンし長さのデータを読み込み、mogumoguという名のリストに格納する。\n",
    "mogumogu = []\n",
    "for line in open('mogumogu_potato.txt'):\n",
    "    mogumogu.append(float(line))"
   ]
  },
  {
   "cell_type": "code",
   "execution_count": 10,
   "metadata": {
    "collapsed": false
   },
   "outputs": [
    {
     "name": "stdout",
     "output_type": "stream",
     "text": [
      "4.61428571429\n"
     ]
    }
   ],
   "source": [
    "# 平均長を求める\n",
    "sum = 0\n",
    "num = 0\n",
    "for length in mogumogu:\n",
    "    sum += length\n",
    "    num += 1\n",
    "print (sum / num)"
   ]
  },
  {
   "cell_type": "markdown",
   "metadata": {},
   "source": [
    "### 1.2　[度数分布](http://kogolab.chillout.jp/elearn/hamburger/chap1/sec2.html)"
   ]
  },
  {
   "cell_type": "code",
   "execution_count": 11,
   "metadata": {
    "collapsed": false
   },
   "outputs": [],
   "source": [
    "# 図やグラフを図示するためのライブラリをインポートする。\n",
    "import matplotlib.pyplot as plt\n",
    "%matplotlib inline"
   ]
  },
  {
   "cell_type": "code",
   "execution_count": 12,
   "metadata": {
    "collapsed": false
   },
   "outputs": [
    {
     "data": {
      "image/png": "[encoded data removed]",
      "text/plain": [
       "<matplotlib.figure.Figure at 0x10c578190>"
      ]
     },
     "metadata": {},
     "output_type": "display_data"
    }
   ],
   "source": [
    "# ヒストグラム（度数分布）を描く\n",
    "plt.hist(wakuwaku)\n",
    "plt.show()"
   ]
  },
  {
   "cell_type": "markdown",
   "metadata": {},
   "source": [
    "__課題1.2__：[モグモグポテトの長さ](https://raw.githubusercontent.com/maskot1977/ipython_notebook/master/toydata/mogumogu_potato.txt)のデータをダウンロードし、モグモグポテトの長さのヒストグラムを描いてください。"
   ]
  },
  {
   "cell_type": "code",
   "execution_count": 13,
   "metadata": {
    "collapsed": false,
    "scrolled": true
   },
   "outputs": [
    {
     "data": {
      "image/png": "[encoded data removed]",
      "text/plain": [
       "<matplotlib.figure.Figure at 0x10e961a50>"
      ]
     },
     "metadata": {},
     "output_type": "display_data"
    }
   ],
   "source": [
    "# ヒストグラム（度数分布）を描く\n",
    "plt.hist(mogumogu)\n",
    "plt.show()"
   ]
  },
  {
   "cell_type": "markdown",
   "metadata": {},
   "source": [
    "## 1.3　[ばらつきを数字にする](http://kogolab.chillout.jp/elearn/hamburger/chap1/sec3.html)\n",
    "本文を読んで概念を学んでください。"
   ]
  },
  {
   "cell_type": "markdown",
   "metadata": {},
   "source": [
    "### 1.4　[分散と標準偏差](http://kogolab.chillout.jp/elearn/hamburger/chap1/sec4.html)\n",
    "本文を読んで概念を学んでください。"
   ]
  },
  {
   "cell_type": "markdown",
   "metadata": {},
   "source": [
    "__課題1.4__：[ワクワクポテト](https://raw.githubusercontent.com/maskot1977/ipython_notebook/master/toydata/wakuwaku_potato.txt)と[モグモグポテト](https://raw.githubusercontent.com/maskot1977/ipython_notebook/master/toydata/mogumogu_potato.txt)の長さの分散と標準偏差を、それぞれ求めてください。"
   ]
  },
  {
   "cell_type": "code",
   "execution_count": 14,
   "metadata": {
    "collapsed": true
   },
   "outputs": [],
   "source": [
    "# 平均値を求める関数\n",
    "def average(list):\n",
    "    sum = 0.0\n",
    "    n = 0.0\n",
    "    for x in list:\n",
    "        sum += x\n",
    "        n += 1.0\n",
    "    return sum / n"
   ]
  },
  {
   "cell_type": "code",
   "execution_count": 15,
   "metadata": {
    "collapsed": true
   },
   "outputs": [],
   "source": [
    "# 分散を求める関数\n",
    "def variance(list):\n",
    "    ave = average(list)\n",
    "    sum = 0.0\n",
    "    n = 0.0\n",
    "    for x in list:\n",
    "        sum += (x - ave) ** 2.0\n",
    "        n += 1.0\n",
    "    return sum / n"
   ]
  },
  {
   "cell_type": "code",
   "execution_count": 16,
   "metadata": {
    "collapsed": true
   },
   "outputs": [],
   "source": [
    "# 標準偏差を求める関数\n",
    "import math\n",
    "def standard_deviation(list):\n",
    "    return math.sqrt(variance(list))"
   ]
  },
  {
   "cell_type": "code",
   "execution_count": 17,
   "metadata": {
    "collapsed": false
   },
   "outputs": [
    {
     "data": {
      "text/plain": [
       "0.6808163265306121"
      ]
     },
     "execution_count": 17,
     "metadata": {},
     "output_type": "execute_result"
    }
   ],
   "source": [
    "# ワクワクポテトの長さの分散\n",
    "variance(wakuwaku)"
   ]
  },
  {
   "cell_type": "code",
   "execution_count": 18,
   "metadata": {
    "collapsed": false
   },
   "outputs": [
    {
     "data": {
      "text/plain": [
       "2.5848979591836736"
      ]
     },
     "execution_count": 18,
     "metadata": {},
     "output_type": "execute_result"
    }
   ],
   "source": [
    "# モグモグポテトの長さの分散\n",
    "variance(mogumogu)"
   ]
  },
  {
   "cell_type": "code",
   "execution_count": 19,
   "metadata": {
    "collapsed": false
   },
   "outputs": [
    {
     "data": {
      "text/plain": [
       "0.8251159473253514"
      ]
     },
     "execution_count": 19,
     "metadata": {},
     "output_type": "execute_result"
    }
   ],
   "source": [
    "# ワクワクポテトの長さの標準偏差\n",
    "standard_deviation(wakuwaku)"
   ]
  },
  {
   "cell_type": "code",
   "execution_count": 20,
   "metadata": {
    "collapsed": false
   },
   "outputs": [
    {
     "data": {
      "text/plain": [
       "1.6077617855838202"
      ]
     },
     "execution_count": 20,
     "metadata": {},
     "output_type": "execute_result"
    }
   ],
   "source": [
    "# モグモグポテトの長さの標準偏差\n",
    "standard_deviation(mogumogu)"
   ]
  },
  {
   "cell_type": "markdown",
   "metadata": {},
   "source": [
    "### 1.5　[実践編：チキンでいこう](http://kogolab.chillout.jp/elearn/hamburger/chap1/sec5.html)"
   ]
  },
  {
   "cell_type": "markdown",
   "metadata": {},
   "source": [
    "[フライドチキンの重さ](https://raw.githubusercontent.com/maskot1977/ipython_notebook/master/toydata/fried_chicken.txt) のデータをダウンロードして、その後のコードを実行してください。"
   ]
  },
  {
   "cell_type": "code",
   "execution_count": 21,
   "metadata": {
    "collapsed": true
   },
   "outputs": [],
   "source": [
    "# ウェブ上のリソースを指定する\n",
    "url = 'https://raw.githubusercontent.com/maskot1977/ipython_notebook/master/toydata/fried_chicken.txt'"
   ]
  },
  {
   "cell_type": "code",
   "execution_count": 22,
   "metadata": {
    "collapsed": false
   },
   "outputs": [
    {
     "data": {
      "text/plain": [
       "('fried_chicken.txt', <httplib.HTTPMessage instance at 0x10f032a28>)"
      ]
     },
     "execution_count": 22,
     "metadata": {},
     "output_type": "execute_result"
    }
   ],
   "source": [
    "# 指定したURLからリソースをダウンロードし、名前をつける。\n",
    "urllib.urlretrieve(url, 'fried_chicken.txt') # Python 2 の場合\n",
    "# urllib.request.urlretrieve(url, 'fried_chicken.txt') # Python 3 の場合"
   ]
  },
  {
   "cell_type": "code",
   "execution_count": 23,
   "metadata": {
    "collapsed": true
   },
   "outputs": [],
   "source": [
    "# ダウンロードしたデータから、列ごとに数字を読み込んでリストに格納する。\n",
    "col1 = [] # ０列目の数字を格納する予定のリスト\n",
    "col2 = [] # １列目の数字を格納する予定のリスト\n",
    "col3 = [] # ２列目の数字を格納する予定のリスト\n",
    "for i, line in enumerate(open('fried_chicken.txt')): # ファイルを開いて一行一行読み込む\n",
    "    if i == 0: # ０番目の行の場合\n",
    "        continue # 次の行に行く\n",
    "    c = line.split() # 行を空白文字で分割したものをcというリストに入れる\n",
    "    col1.append(int(c[0])) # ０列目の単語を整数に変換してcol1に入れる\n",
    "    col2.append(int(c[1])) # １列目の単語を整数に変換してcol2に入れる\n",
    "    col3.append(int(c[2])) # ２列目の単語を整数に変換してcol3に入れる"
   ]
  },
  {
   "cell_type": "markdown",
   "metadata": {},
   "source": [
    "__課題1.5__：ワクワクチキンとモグモグチキンについて、重さの平均と分散と標準偏差を、それぞれ求めてください。またその結果について考察してください。"
   ]
  },
  {
   "cell_type": "code",
   "execution_count": 24,
   "metadata": {
    "collapsed": false
   },
   "outputs": [
    {
     "name": "stdout",
     "output_type": "stream",
     "text": [
      "146.3125\n",
      "56.33984375\n",
      "7.50598719357\n"
     ]
    }
   ],
   "source": [
    "# ワクワクポテトの重さの\n",
    "print (average(col2)) #平均\n",
    "print (variance(col2)) # 分散\n",
    "print (standard_deviation(col2)) # 標準偏差"
   ]
  },
  {
   "cell_type": "code",
   "execution_count": 25,
   "metadata": {
    "collapsed": false
   },
   "outputs": [
    {
     "name": "stdout",
     "output_type": "stream",
     "text": [
      "149.4375\n",
      "260.62109375\n",
      "16.1437633082\n"
     ]
    }
   ],
   "source": [
    "# モグモグポテトの重さの\n",
    "print (average(col3)) #平均\n",
    "print (variance(col3)) # 分散\n",
    "print (standard_deviation(col3)) # 標準偏差"
   ]
  },
  {
   "cell_type": "markdown",
   "metadata": {},
   "source": [
    "### [1.9　通過テスト](http://kogolab.chillout.jp/elearn/hamburger/chap1/sec9.html)\n",
    "[ある3つのクラスの算数の成績](https://raw.githubusercontent.com/maskot1977/ipython_notebook/master/toydata/math_exam.txt)を用いて以下の問いに答えてください。\n",
    "* それぞれの組で、成績の平均と分散と標準偏差を求めなさい。\n",
    "* この結果から、それぞれのクラスの成績の特徴としてどのようなことが言えるか、クラス間で比較しながら説明しなさい。"
   ]
  },
  {
   "cell_type": "code",
   "execution_count": 26,
   "metadata": {
    "collapsed": false
   },
   "outputs": [
    {
     "data": {
      "text/plain": [
       "('math_exam.txt', <httplib.HTTPMessage instance at 0x10f21a3f8>)"
      ]
     },
     "execution_count": 26,
     "metadata": {},
     "output_type": "execute_result"
    }
   ],
   "source": [
    "# ウェブ上のリソースを指定する\n",
    "url = 'https://raw.githubusercontent.com/maskot1977/ipython_notebook/master/toydata/math_exam.txt'\n",
    "# 指定したURLからリソースをダウンロードし、名前をつける。\n",
    "urllib.urlretrieve(url, 'math_exam.txt') # Python 2 の場合\n",
    "# urllib.request.urlretrieve(url, 'math_exam.txt') # Python 3 の場合"
   ]
  },
  {
   "cell_type": "code",
   "execution_count": 28,
   "metadata": {
    "collapsed": false
   },
   "outputs": [],
   "source": [
    "# ダウンロードしたデータから、列ごとに数字を読み込んでリストに格納する。\n",
    "col1 = [] # ０列目の数字を格納する予定のリスト\n",
    "col2 = [] # １列目の数字を格納する予定のリスト\n",
    "col3 = [] # ２列目の数字を格納する予定のリスト\n",
    "col4 = [] # 3列目の数字を格納する予定のリスト\n",
    "for i, line in enumerate(open('math_exam.txt')): # ファイルを開いて一行一行読み込む\n",
    "    if i == 0: # ０番目の行の場合\n",
    "        continue # 次の行に行く\n",
    "    c = line.split() # 行を空白文字で分割したものをcというリストに入れる\n",
    "    col1.append(int(c[0])) # ０列目の単語を整数に変換してcol1に入れる\n",
    "    col2.append(int(c[1])) # １列目の単語を整数に変換してcol2に入れる\n",
    "    col3.append(int(c[2])) # ２列目の単語を整数に変換してcol3に入れる\n",
    "    col4.append(int(c[3])) # 3列目の単語を整数に変換してcol4に入れる"
   ]
  },
  {
   "cell_type": "code",
   "execution_count": 29,
   "metadata": {
    "collapsed": false
   },
   "outputs": [
    {
     "name": "stdout",
     "output_type": "stream",
     "text": [
      "70.0\n",
      "58.1538461538\n",
      "7.62586691163\n"
     ]
    }
   ],
   "source": [
    "# 桜組\n",
    "print (average(col2)) # 平均\n",
    "print (variance(col2)) # 分散\n",
    "print (standard_deviation(col2)) # 標準偏差"
   ]
  },
  {
   "cell_type": "code",
   "execution_count": 30,
   "metadata": {
    "collapsed": false
   },
   "outputs": [
    {
     "name": "stdout",
     "output_type": "stream",
     "text": [
      "70.0\n",
      "26.9230769231\n",
      "5.18874521663\n"
     ]
    }
   ],
   "source": [
    "# 桃組\n",
    "print (average(col3)) # 平均\n",
    "print (variance(col3)) # 分散\n",
    "print (standard_deviation(col3)) # 標準偏差"
   ]
  },
  {
   "cell_type": "code",
   "execution_count": 31,
   "metadata": {
    "collapsed": false
   },
   "outputs": [
    {
     "name": "stdout",
     "output_type": "stream",
     "text": [
      "57.0\n",
      "26.9230769231\n",
      "5.18874521663\n"
     ]
    }
   ],
   "source": [
    "# 柳組\n",
    "print (average(col4)) # 平均\n",
    "print (variance(col4)) # 分散\n",
    "print (standard_deviation(col4)) # 標準偏差"
   ]
  },
  {
   "cell_type": "code",
   "execution_count": 32,
   "metadata": {
    "collapsed": true
   },
   "outputs": [],
   "source": [
    "# それぞれのクラスの成績の特徴としてどのようなことが言えるか\n",
    "\n",
    "# 桜組と桃組は平均点は同じだが、桜組の方が点数のばらつきが大きい。\n",
    "# 一方で柳組は、桃組よりも平均点は低いが、点数のばらつきは桃組と同じである。"
   ]
  },
  {
   "cell_type": "markdown",
   "metadata": {},
   "source": [
    "## 2. [信頼区間](http://kogolab.chillout.jp/elearn/hamburger/chap2/sec0.html)\n",
    "本文を読んで概念を学んでください。"
   ]
  },
  {
   "cell_type": "markdown",
   "metadata": {},
   "source": [
    "### 2.1　[平均的ポテトを推定する](http://kogolab.chillout.jp/elearn/hamburger/chap2/sec1.html)"
   ]
  },
  {
   "cell_type": "markdown",
   "metadata": {},
   "source": [
    "__課題2.1__：[ワクワクポテトの本数](https://raw.githubusercontent.com/maskot1977/ipython_notebook/master/toydata/wakuwaku_potato2.txt)のデータから、ポテトの本数の平均、分散、標準偏差を求めてください。"
   ]
  },
  {
   "cell_type": "code",
   "execution_count": 33,
   "metadata": {
    "collapsed": false
   },
   "outputs": [
    {
     "data": {
      "text/plain": [
       "('wakuwaku_potato2.txt', <httplib.HTTPMessage instance at 0x10f441d40>)"
      ]
     },
     "execution_count": 33,
     "metadata": {},
     "output_type": "execute_result"
    }
   ],
   "source": [
    "# ウェブ上のリソースを指定する\n",
    "url = 'https://raw.githubusercontent.com/maskot1977/ipython_notebook/master/toydata/wakuwaku_potato2.txt'\n",
    "# 指定したURLからリソースをダウンロードし、名前をつける。\n",
    "urllib.urlretrieve(url, 'wakuwaku_potato2.txt') # Python 2 の場合\n",
    "# urllib.request.urlretrieve(url, 'wakuwaku_potato2.txt') # Python 3 の場合"
   ]
  },
  {
   "cell_type": "code",
   "execution_count": 34,
   "metadata": {
    "collapsed": true
   },
   "outputs": [],
   "source": [
    "# ダウンロードしたデータから、列ごとに数字を読み込んでリストに格納する。\n",
    "col1 = [] # ０列目の数字を格納する予定のリスト\n",
    "for i, line in enumerate(open('wakuwaku_potato2.txt')): # ファイルを開いて一行一行読み込む\n",
    "    c = line.split() # 行を空白文字で分割したものをcというリストに入れる\n",
    "    col1.append(int(c[0])) # ０列目の単語を整数に変換してcol1に入れる"
   ]
  },
  {
   "cell_type": "code",
   "execution_count": 35,
   "metadata": {
    "collapsed": false
   },
   "outputs": [
    {
     "name": "stdout",
     "output_type": "stream",
     "text": [
      "49.2\n",
      "3.16\n",
      "1.77763888346\n"
     ]
    }
   ],
   "source": [
    "# ワクワクポテトの本数の\n",
    "print (average(col1)) # 平均\n",
    "print (variance(col1)) # 分散\n",
    "print (standard_deviation(col1)) # 標準偏差"
   ]
  },
  {
   "cell_type": "markdown",
   "metadata": {},
   "source": [
    "### 2.2　[母集団の平均と分散を推定する](http://kogolab.chillout.jp/elearn/hamburger/chap2/sec2.html)"
   ]
  },
  {
   "cell_type": "markdown",
   "metadata": {},
   "source": [
    "__課題2.2__：[ワクワクポテトの本数](https://raw.githubusercontent.com/maskot1977/ipython_notebook/master/toydata/wakuwaku_potato2.txt)のデータから、ポテトの本数の不偏分散を求めてください。"
   ]
  },
  {
   "cell_type": "code",
   "execution_count": 36,
   "metadata": {
    "collapsed": true
   },
   "outputs": [],
   "source": [
    "# 不偏分散を求める関数\n",
    "def unbiased_variance(list):\n",
    "    ave = average(list)\n",
    "    sum = 0.0\n",
    "    n = 0.0\n",
    "    for x in list:\n",
    "        sum += (x - ave) ** 2.0\n",
    "        n += 1.0\n",
    "    return sum / (n - 1)"
   ]
  },
  {
   "cell_type": "code",
   "execution_count": 37,
   "metadata": {
    "collapsed": false
   },
   "outputs": [
    {
     "data": {
      "text/plain": [
       "3.5111111111111115"
      ]
     },
     "execution_count": 37,
     "metadata": {},
     "output_type": "execute_result"
    }
   ],
   "source": [
    "unbiased_variance(col1)"
   ]
  },
  {
   "cell_type": "markdown",
   "metadata": {},
   "source": [
    "### 2.3　[区間推定／信頼区間](http://kogolab.chillout.jp/elearn/hamburger/chap2/sec3.html)\n",
    "本文を読んで概念を学んでください。"
   ]
  },
  {
   "cell_type": "markdown",
   "metadata": {},
   "source": [
    "### 2.4　[実践編：平均的チキンを推定する](http://kogolab.chillout.jp/elearn/hamburger/chap2/sec4.html)\n",
    "__課題2.4__：[ワクワクチキンのグラム数](https://raw.githubusercontent.com/maskot1977/ipython_notebook/master/toydata/fried_chicken2.txt)のデータを用いて、以下の問いに答えてください。ただし、t分布表は下表のとおりとします。\n",
    "* 標本平均、不偏分散、標本標準誤差、確率95%のt値、確率99%のt値、95%信頼区間、99%信頼区間を求めてください。\n",
    "* 標本の平均と不偏分散と標本標準誤差から何がわかるか説明してください。\n",
    "* 95%信頼区間と99%信頼区間の値から何がわかるか説明してください。\n",
    "<table width=\"50%\" border=\"1\" align=\"center\" cellpadding=\"2\" cellspacing=\"0\">\n",
    "  <tr bgcolor=\"#FFFFCC\"> \n",
    "    <td width=\"32%\"> <div align=\"right\">自由度</div></td>\n",
    "    <td width=\"34%\"> <div align=\"right\">確率95%</div></td>\n",
    "    <td width=\"34%\"> <div align=\"right\">確率99%</div></td>\n",
    "  </tr>\n",
    "  <tr> \n",
    "    <td bgcolor=\"#CCCCCC\"><div align=\"right\">1</div></td>\n",
    "    <td><div align=\"right\">12.706</div></td>\n",
    "    <td><div align=\"right\">63.657</div></td>\n",
    "  </tr>\n",
    "  <tr> \n",
    "    <td bgcolor=\"#CCCCCC\"><div align=\"right\">2</div></td>\n",
    "    <td><div align=\"right\">4.303</div></td>\n",
    "    <td><div align=\"right\">9.925</div></td>\n",
    "  </tr>\n",
    "  <tr> \n",
    "    <td bgcolor=\"#CCCCCC\"><div align=\"right\">3</div></td>\n",
    "    <td><div align=\"right\">3.182</div></td>\n",
    "    <td><div align=\"right\">5.841</div></td>\n",
    "  </tr>\n",
    "  <tr> \n",
    "    <td bgcolor=\"#CCCCCC\"><div align=\"right\">4</div></td>\n",
    "    <td><div align=\"right\">2.776</div></td>\n",
    "    <td><div align=\"right\">4.604</div></td>\n",
    "  </tr>\n",
    "  <tr> \n",
    "    <td bgcolor=\"#CCCCCC\"><div align=\"right\">5</div></td>\n",
    "    <td><div align=\"right\">2.571</div></td>\n",
    "    <td><div align=\"right\">4.032</div></td>\n",
    "  </tr>\n",
    "  <tr> \n",
    "    <td bgcolor=\"#CCCCCC\"><div align=\"right\">6</div></td>\n",
    "    <td><div align=\"right\">2.447</div></td>\n",
    "    <td><div align=\"right\">3.707</div></td>\n",
    "  </tr>\n",
    "  <tr> \n",
    "    <td bgcolor=\"#CCCCCC\"><div align=\"right\">7</div></td>\n",
    "    <td>\n",
    "<div align=\"right\">2.365</div></td>\n",
    "    <td>\n",
    "<div align=\"right\">3.499</div></td>\n",
    "  </tr>\n",
    "  <tr> \n",
    "    <td bgcolor=\"#CCCCCC\"><div align=\"right\">8</div></td>\n",
    "    <td><div align=\"right\">2.306</div></td>\n",
    "    <td><div align=\"right\">3.355</div></td>\n",
    "  </tr>\n",
    "  <tr> \n",
    "    <td bgcolor=\"#CCCCCC\"><div align=\"right\">9</div></td>\n",
    "    <td><div align=\"right\">2.262</div></td>\n",
    "    <td><div align=\"right\">3.250</div></td>\n",
    "  </tr>\n",
    "  <tr> \n",
    "    <td bgcolor=\"#CCCCCC\"><div align=\"right\">10</div></td>\n",
    "    <td><div align=\"right\">2.226</div></td>\n",
    "    <td><div align=\"right\">3.169</div></td>\n",
    "  </tr>\n",
    "</table>"
   ]
  },
  {
   "cell_type": "code",
   "execution_count": 38,
   "metadata": {
    "collapsed": false
   },
   "outputs": [
    {
     "data": {
      "text/plain": [
       "('fried_chicken2.txt', <httplib.HTTPMessage instance at 0x10f442878>)"
      ]
     },
     "execution_count": 38,
     "metadata": {},
     "output_type": "execute_result"
    }
   ],
   "source": [
    "# ウェブ上のリソースを指定する\n",
    "url = 'https://raw.githubusercontent.com/maskot1977/ipython_notebook/master/toydata/fried_chicken2.txt'\n",
    "# 指定したURLからリソースをダウンロードし、名前をつける。\n",
    "urllib.urlretrieve(url, 'fried_chicken2.txt') # Python 2 の場合\n",
    "# urllib.request.urlretrieve(url, 'fried_chicken2.txt') # Python 3 の場合"
   ]
  },
  {
   "cell_type": "code",
   "execution_count": 39,
   "metadata": {
    "collapsed": true
   },
   "outputs": [],
   "source": [
    "# ダウンロードしたデータから、列ごとに数字を読み込んでリストに格納する。\n",
    "col1 = [] # ０列目の数字を格納する予定のリスト\n",
    "for i, line in enumerate(open('fried_chicken2.txt')): # ファイルを開いて一行一行読み込む\n",
    "    c = line.split() # 行を空白文字で分割したものをcというリストに入れる\n",
    "    col1.append(int(c[0])) # ０列目の単語を整数に変換してcol1に入れる"
   ]
  },
  {
   "cell_type": "code",
   "execution_count": 47,
   "metadata": {
    "collapsed": true
   },
   "outputs": [],
   "source": [
    "import math\n",
    "def sample_standard_error(list):\n",
    "    n = 0\n",
    "    for x in list:\n",
    "        n += 1\n",
    "    return math.sqrt(unbiased_variance(col1)/n)"
   ]
  },
  {
   "cell_type": "code",
   "execution_count": 48,
   "metadata": {
    "collapsed": false
   },
   "outputs": [
    {
     "name": "stdout",
     "output_type": "stream",
     "text": [
      "550.375\n",
      "445.696428571\n",
      "7.46405074818\n"
     ]
    }
   ],
   "source": [
    "# ワクワクチキンの重さの\n",
    "print (average(col1)) # 標本平均\n",
    "print (unbiased_variance(col1)) # 不偏分散\n",
    "print (sample_standard_error(col1)) # 標本標準誤差"
   ]
  },
  {
   "cell_type": "code",
   "execution_count": 52,
   "metadata": {
    "collapsed": true
   },
   "outputs": [],
   "source": [
    "# 自由度（サンプルサイズ - 1）は 7 なので、上の表から\n",
    "# 確率95%のt値 = 2.365\n",
    "# 確率99%のt値 = 3.499"
   ]
  },
  {
   "cell_type": "code",
   "execution_count": 50,
   "metadata": {
    "collapsed": false
   },
   "outputs": [
    {
     "name": "stdout",
     "output_type": "stream",
     "text": [
      "(532.7225199805508, 568.0274800194492)\n"
     ]
    }
   ],
   "source": [
    "# 95%信頼区間\n",
    "print (average(col1) - 2.365 * sample_standard_error(col1), average(col1) + 2.365 * sample_standard_error(col1))"
   ]
  },
  {
   "cell_type": "code",
   "execution_count": 51,
   "metadata": {
    "collapsed": false
   },
   "outputs": [
    {
     "name": "stdout",
     "output_type": "stream",
     "text": [
      "(524.258286432113, 576.491713567887)\n"
     ]
    }
   ],
   "source": [
    "# 95%信頼区間\n",
    "print (average(col1) - 3.499 * sample_standard_error(col1), average(col1) + 3.499 * sample_standard_error(col1))"
   ]
  },
  {
   "cell_type": "code",
   "execution_count": 53,
   "metadata": {
    "collapsed": true
   },
   "outputs": [],
   "source": [
    "# 標本の平均と不偏分散と標本標準誤差から何がわかるか\n",
    "\n",
    "# 標本のチキンの重さの平均は、550.4であった。これは母平均の推定値として使うことができる。\n",
    "# また、不偏分散は、445.7であった。これは母分散の推定値として使うことができる。"
   ]
  },
  {
   "cell_type": "code",
   "execution_count": 54,
   "metadata": {
    "collapsed": true
   },
   "outputs": [],
   "source": [
    "# 95%信頼区間と99%信頼区間の値から何がわかるか\n",
    "\n",
    "# 95%信頼区間は532.7～568.0であった。\n",
    "# これは、この範囲内に母平均が含まれる確率が95%であることを示している。\n",
    "\n",
    "# 99%信頼区間は524.3～576.5であった。\n",
    "# これは、この範囲内に母平均が含まれる確率が99%であることを示している。"
   ]
  },
  {
   "cell_type": "markdown",
   "metadata": {},
   "source": [
    "### 2.5　[通過テスト](http://kogolab.chillout.jp/elearn/hamburger/chap2/sec9.html)\n",
    "本文を読んで、通過テストの問題に答えてください。"
   ]
  },
  {
   "cell_type": "code",
   "execution_count": 55,
   "metadata": {
    "collapsed": true
   },
   "outputs": [],
   "source": [
    "# 全国の小学校で5年生を対象とした算数の共通テストをおこなった。受験した人数が膨大であるため、500人分のデータを選んで統計処理をすることにした。\n",
    "# (1)　\n",
    "# a.　受験した全員のデータのことを統計学の言葉でなんと呼ぶか。\n",
    "\n",
    "# 母集団\n",
    "\n",
    "# b.　統計処理をする500人分のデータのことを統計学の言葉でなんと呼ぶか。\n",
    "\n",
    "# 標本\n",
    "\n",
    "# c.　500人分のデータをでたらめに選ぶことを統計学の言葉でなんと呼ぶか。\n",
    "\n",
    "# 無作為抽出\n",
    "\n",
    "# d.　500人分のデータをでたらめに選ぶと、だいたいどのような度数分布の形をすると予想できるか。\n",
    "\n",
    "# 正規分布"
   ]
  },
  {
   "cell_type": "code",
   "execution_count": 61,
   "metadata": {
    "collapsed": false
   },
   "outputs": [
    {
     "name": "stdout",
     "output_type": "stream",
     "text": [
      "(64.321036083433, 65.678963916567)\n",
      "(64.10764742394052, 65.89235257605948)\n"
     ]
    }
   ],
   "source": [
    "# (2)　500人分のデータは、平均が65、不偏分散が60であった。95%信頼区間と99%信頼区間を求めなさい。\n",
    "sse = math.sqrt(60.0/500.0)\n",
    "# 95%信頼区間\n",
    "print (65 - 1.960 * sse, 65 + 1.960 * sse)\n",
    "# 99%信頼区間\n",
    "print (65 - 2.576 * sse, 65 + 2.576 * sse)"
   ]
  },
  {
   "cell_type": "code",
   "execution_count": 62,
   "metadata": {
    "collapsed": true
   },
   "outputs": [],
   "source": [
    "# (3)　この２つの信頼区間の値は、それぞれどのようなことを意味するかを普通のことばで説明しなさい。\n",
    "# 95%信頼区間は64.3～65.7であった。\n",
    "# これは、この範囲内に母平均が含まれる確率が95%であることを示している。\n",
    "\n",
    "# 99%信頼区間は64.1～65.9であった。\n",
    "# これは、この範囲内に母平均が含まれる確率が99%であることを示している。"
   ]
  },
  {
   "cell_type": "markdown",
   "metadata": {},
   "source": [
    "__今日の課題提出__：計算結果を.ipynb ファイル（または.jsonファイル）として保存し、指定したアドレスまでメールしてください。メールタイトルは「__ハンバーガー統計学12__」とし、メール本文に学籍番号と氏名を明記のこと。また、感想も書いてくれると喜びます。今後の講義の改善につながるかも知れません。"
   ]
  }
 ],
 "metadata": {
  "kernelspec": {
   "display_name": "Python 2",
   "language": "python",
   "name": "python2"
  },
  "language_info": {
   "codemirror_mode": {
    "name": "ipython",
    "version": 2
   },
   "file_extension": ".py",
   "mimetype": "text/x-python",
   "name": "python",
   "nbconvert_exporter": "python",
   "pygments_lexer": "ipython2",
   "version": "2.7.12"
  }
 },
 "nbformat": 4,
 "nbformat_minor": 0
}
