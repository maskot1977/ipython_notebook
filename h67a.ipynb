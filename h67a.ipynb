{
 "cells": [
  {
   "cell_type": "markdown",
   "metadata": {},
   "source": [
    "# ハンバーガー統計学 + Python (第6章〜第7章)\n",
    "[ハンバーガー統計学にようこそ！](http://kogolab.chillout.jp/elearn/hamburger/index.html)\n",
    "のページを読み進めながら、以下の課題を Python を使って解いてください。\n",
    "\n",
    "* [アイスクリーム統計学・第１章〜第３章（散布図と相関、相関係数、無相関検定）](http://nbviewer.jupyter.org/github/maskot1977/ipython_notebook/blob/master/%E3%82%A2%E3%82%A4%E3%82%B9%E3%82%AF%E3%83%AA%E3%83%BC%E3%83%A0%E7%B5%B1%E8%A8%88%E5%AD%A6%E3%83%BB%E7%AC%AC%EF%BC%91%E7%AB%A0%E3%80%9C%E7%AC%AC%EF%BC%93%E7%AB%A0.ipynb)\n",
    "* [アイスクリーム統計学・第４章〜第６章（単回帰、偏相関、重回帰）](http://nbviewer.jupyter.org/github/maskot1977/ipython_notebook/blob/master/%E3%82%A2%E3%82%A4%E3%82%B9%E3%82%AF%E3%83%AA%E3%83%BC%E3%83%A0%E7%B5%B1%E8%A8%88%E5%AD%A6%E3%83%BB%E7%AC%AC%EF%BC%94%E7%AB%A0%E3%80%9C%E7%AC%AC%EF%BC%96%E7%AB%A0.ipynb)\n",
    "* [アイスクリーム統計学・第７章〜第９章（相関行列、因子分析1、因子分析2）](http://nbviewer.jupyter.org/github/maskot1977/ipython_notebook/blob/master/%E3%82%A2%E3%82%A4%E3%82%B9%E3%82%AF%E3%83%AA%E3%83%BC%E3%83%A0%E7%B5%B1%E8%A8%88%E5%AD%A6%E3%83%BB%E7%AC%AC%EF%BC%97%E7%AB%A0%E3%80%9C%E7%AC%AC%EF%BC%99%E7%AB%A0.ipynb)\n",
    "* [アイスクリーム統計学・第１０章（主成分分析とクラスター分析）](http://nbviewer.jupyter.org/github/maskot1977/ipython_notebook/blob/master/%E3%82%A2%E3%82%A4%E3%82%B9%E3%82%AF%E3%83%AA%E3%83%BC%E3%83%A0%E7%B5%B1%E8%A8%88%E5%AD%A6%E3%83%BB%E7%AC%AC%EF%BC%91%EF%BC%90%E7%AB%A0.ipynb)\n",
    "* [ハンバーガー統計学・第１章〜第２章（平均と分散、信頼区間）](http://nbviewer.jupyter.org/github/maskot1977/ipython_notebook/blob/master/%E3%83%8F%E3%83%B3%E3%83%8F%E3%82%99%E3%83%BC%E3%82%AB%E3%82%99%E3%83%BC%E7%B5%B1%E8%A8%88%E5%AD%A6%E3%83%BB%E7%AC%AC%EF%BC%91%E7%AB%A0%E3%80%9C%E7%AC%AC%EF%BC%92%E7%AB%A0.ipynb)\n",
    "* [ハンバーガー統計学・第３章〜第５章（カイ２乗検定、t検定 （対応なし・対応あり））](http://nbviewer.jupyter.org/github/maskot1977/ipython_notebook/blob/master/%E3%83%8F%E3%83%B3%E3%83%8F%E3%82%99%E3%83%BC%E3%82%AB%E3%82%99%E3%83%BC%E7%B5%B1%E8%A8%88%E5%AD%A6%E3%83%BB%E7%AC%AC%EF%BC%93%E7%AB%A0%E3%80%9C%E7%AC%AC%EF%BC%95%E7%AB%A0.ipynb)\n",
    "* [ハンバーガー統計学・第６章〜第７章（分散分析 (１要因、２要因) ）](http://nbviewer.jupyter.org/github/maskot1977/ipython_notebook/blob/master/%E3%83%8F%E3%83%B3%E3%83%8F%E3%82%99%E3%83%BC%E3%82%AB%E3%82%99%E3%83%BC%E7%B5%B1%E8%A8%88%E5%AD%A6%E3%83%BB%E7%AC%AC%EF%BC%96%E7%AB%A0%E3%80%9C%E7%AC%AC%EF%BC%97%E7%AB%A0.ipynb)\n",
    "* [ハンバーガー統計学・第８章 (分布と仮説検定)](http://nbviewer.jupyter.org/github/maskot1977/ipython_notebook/blob/master/%E3%83%8F%E3%83%B3%E3%83%8F%E3%82%99%E3%83%BC%E3%82%AB%E3%82%99%E3%83%BC%E7%B5%B1%E8%A8%88%E5%AD%A6%E3%83%BB%E7%AC%AC%EF%BC%98%E7%AB%A0.ipynb)\n",
    "\n",
    "### Jupyter Notebook (IPython Notebook) とは\n",
    "* Python という名のプログラミング言語が使えるプログラミング環境。計算コードと計算結果を同じ場所に時系列で保存できるので、実験系における実験ノートのように、いつどんな処理を行って何を得たのか記録して再現するのに便利。\n",
    "* [当学演習室での Jupyter Notebook の起動方法](https://raw.githubusercontent.com/maskot1977/-/master/%E6%BC%94%E7%BF%92%E5%AE%A4.txt)"
   ]
  },
  {
   "cell_type": "markdown",
   "metadata": {
    "collapsed": true
   },
   "source": [
    "## 6. [分散分析（１要因）](http://kogolab.chillout.jp/elearn/hamburger/chap6/sec0.html)\n",
    "本文を読んで概念を学んでください。"
   ]
  },
  {
   "cell_type": "markdown",
   "metadata": {},
   "source": [
    "### 6.1　[なぜt検定が使えないか](http://kogolab.chillout.jp/elearn/hamburger/chap6/sec1.html)\n",
    "本文を読んで概念を学んでください。"
   ]
  },
  {
   "cell_type": "markdown",
   "metadata": {},
   "source": [
    "### 6.2　[分散分析とは](http://kogolab.chillout.jp/elearn/hamburger/chap6/sec2.html)\n",
    "本文を読んで概念を学んでください。"
   ]
  },
  {
   "cell_type": "markdown",
   "metadata": {},
   "source": [
    "### 6.3　[分散分析をしよう](http://kogolab.chillout.jp/elearn/hamburger/chap6/sec3.html)\n",
    "\n",
    "__課題6.2__：ワクワク、モグモグ、パクパクのポテト20個ずつを手に入れて、駅に向かい、通行人合計60人にランダムにどれかひとつのポテトを食べてもらいました。そして、そのおいしさについて、100点満点で点数をつけてもらいました。このデータについて、以下の問いに答えてください。\n",
    " <TABLE BORDER=1 align=center CELLPADDING=\"0\" CELLSPACING=\"0\">\n",
    "    <TR align=center> \n",
    "      <td bgcolor=\"#cccccc\"></td>\n",
    "      <TD WIDTH=100 HEIGHT=30 bgcolor=\"#EEBBBB\">ワクワク</TD>\n",
    "      <TD WIDTH=100 height=30 bgcolor=\"#BBBBEE\">モグモグ</TD>\n",
    "      <TD WIDTH=100 height=30 bgcolor=\"#BBEEBB\">パクパク</TD>\n",
    "      <td WIDTH=100 height=30 bgcolor=\"#cccccc\">全体</td>\n",
    "      <td WIDTH=100 height=30 bgcolor=\"#cccccc\">群内</td>\n",
    "      <td WIDTH=100 height=30 bgcolor=\"#cccccc\">群間</td>\n",
    "    </TR>\n",
    "    <TR align=center> \n",
    "      <td bgcolor=\"#cccccc\">1</td>\n",
    "      <TD HEIGHT=\"30\">80</TD>\n",
    "      <TD>75</TD>\n",
    "      <TD>80</TD>\n",
    "      <td bgcolor=\"#cccccc\"></td>\n",
    "      <td bgcolor=\"#cccccc\"></td>\n",
    "      <td bgcolor=\"#cccccc\"></td>\n",
    "    </TR>\n",
    "    <TR align=center> \n",
    "      <td bgcolor=\"#cccccc\">2</td>\n",
    "      <TD HEIGHT=\"30\">75</TD>\n",
    "      <TD>70</TD>\n",
    "      <TD>80</TD>\n",
    "      <td bgcolor=\"#cccccc\"></td>\n",
    "      <td bgcolor=\"#cccccc\"></td>\n",
    "      <td bgcolor=\"#cccccc\"></td>\n",
    "    </TR>\n",
    "    <TR align=center> \n",
    "      <td bgcolor=\"#cccccc\">3</td>\n",
    "      <TD HEIGHT=\"30\">80</TD>\n",
    "      <TD>80</TD>\n",
    "      <TD>80</TD>\n",
    "      <td bgcolor=\"#cccccc\"></td>\n",
    "      <td bgcolor=\"#cccccc\"></td>\n",
    "      <td bgcolor=\"#cccccc\"></td>\n",
    "    </TR>\n",
    "    <TR align=center> \n",
    "      <td bgcolor=\"#cccccc\">4</td>\n",
    "      <TD HEIGHT=\"30\">90</TD>\n",
    "      <TD>85</TD>\n",
    "      <TD>90</TD>\n",
    "      <td bgcolor=\"#cccccc\"></td>\n",
    "      <td bgcolor=\"#cccccc\"></td>\n",
    "      <td bgcolor=\"#cccccc\"></td>\n",
    "    </TR>\n",
    "    <TR align=center> \n",
    "      <td bgcolor=\"#cccccc\">5</td>\n",
    "      <TD HEIGHT=\"30\">95</TD>\n",
    "      <TD>90</TD>\n",
    "      <TD>95</TD>\n",
    "      <td bgcolor=\"#cccccc\"></td>\n",
    "      <td bgcolor=\"#cccccc\"></td>\n",
    "      <td bgcolor=\"#cccccc\"></td>\n",
    "    </TR>\n",
    "    <TR align=center> \n",
    "      <td bgcolor=\"#cccccc\">6</td>\n",
    "      <TD HEIGHT=\"30\">80</TD>\n",
    "      <TD>75</TD>\n",
    "      <TD>85</TD>\n",
    "      <td bgcolor=\"#cccccc\"></td>\n",
    "      <td bgcolor=\"#cccccc\"></td>\n",
    "      <td bgcolor=\"#cccccc\"></td>\n",
    "    </TR>\n",
    "    <TR align=center> \n",
    "      <td bgcolor=\"#cccccc\">7</td>\n",
    "      <TD HEIGHT=\"30\">80</TD>\n",
    "      <TD>85</TD>\n",
    "      <TD>95</TD>\n",
    "      <td bgcolor=\"#cccccc\"></td>\n",
    "      <td bgcolor=\"#cccccc\"></td>\n",
    "      <td bgcolor=\"#cccccc\"></td>\n",
    "    </TR>\n",
    "    <TR align=center> \n",
    "      <td bgcolor=\"#cccccc\">8</td>\n",
    "      <TD HEIGHT=\"30\">85</TD>\n",
    "      <TD>80</TD>\n",
    "      <TD>90</TD>\n",
    "      <td bgcolor=\"#cccccc\"></td>\n",
    "      <td bgcolor=\"#cccccc\"></td>\n",
    "      <td bgcolor=\"#cccccc\"></td>\n",
    "    </TR>\n",
    "    <TR align=center> \n",
    "      <td bgcolor=\"#cccccc\">9</td>\n",
    "      <TD HEIGHT=\"30\">85</TD>\n",
    "      <TD>80</TD>\n",
    "      <TD>85</TD>\n",
    "      <td bgcolor=\"#cccccc\"></td>\n",
    "      <td bgcolor=\"#cccccc\"></td>\n",
    "      <td bgcolor=\"#cccccc\"></td>\n",
    "    </TR>\n",
    "    <TR align=center> \n",
    "      <td bgcolor=\"#cccccc\">10</td>\n",
    "      <TD HEIGHT=\"30\">80</TD>\n",
    "      <TD>75</TD>\n",
    "      <TD>90</TD>\n",
    "      <td bgcolor=\"#cccccc\"></td>\n",
    "      <td bgcolor=\"#cccccc\"></td>\n",
    "      <td bgcolor=\"#cccccc\"></td>\n",
    "    </TR>\n",
    "    <TR align=center> \n",
    "      <td bgcolor=\"#cccccc\">11</td>\n",
    "      <TD HEIGHT=\"30\">90</TD>\n",
    "      <TD>80</TD>\n",
    "      <TD>95</TD>\n",
    "      <td bgcolor=\"#cccccc\"></td>\n",
    "      <td bgcolor=\"#cccccc\"></td>\n",
    "      <td bgcolor=\"#cccccc\"></td>\n",
    "    </TR>\n",
    "    <TR align=center> \n",
    "      <td bgcolor=\"#cccccc\">12</td>\n",
    "      <TD HEIGHT=\"30\">80</TD>\n",
    "      <TD>75</TD>\n",
    "      <TD>85</TD>\n",
    "      <td bgcolor=\"#cccccc\"></td>\n",
    "      <td bgcolor=\"#cccccc\"></td>\n",
    "      <td bgcolor=\"#cccccc\"></td>\n",
    "    </TR>\n",
    "    <TR align=center> \n",
    "      <td bgcolor=\"#cccccc\">13</td>\n",
    "      <TD HEIGHT=\"30\">75</TD>\n",
    "      <TD>70</TD>\n",
    "      <TD>98</TD>\n",
    "      <td bgcolor=\"#cccccc\"></td>\n",
    "      <td bgcolor=\"#cccccc\"></td>\n",
    "      <td bgcolor=\"#cccccc\"></td>\n",
    "    </TR>\n",
    "    <TR align=center> \n",
    "      <td bgcolor=\"#cccccc\">14</td>\n",
    "      <TD HEIGHT=\"30\">90</TD>\n",
    "      <TD>85</TD>\n",
    "      <TD>95</TD>\n",
    "      <td bgcolor=\"#cccccc\"></td>\n",
    "      <td bgcolor=\"#cccccc\"></td>\n",
    "      <td bgcolor=\"#cccccc\"></td>\n",
    "    </TR>\n",
    "    <TR align=center> \n",
    "      <td bgcolor=\"#cccccc\">15</td>\n",
    "      <TD HEIGHT=\"30\">85</TD>\n",
    "      <TD>80</TD>\n",
    "      <TD>85</TD>\n",
    "      <td bgcolor=\"#cccccc\"></td>\n",
    "      <td bgcolor=\"#cccccc\"></td>\n",
    "      <td bgcolor=\"#cccccc\"></td>\n",
    "    </TR>\n",
    "    <TR align=center> \n",
    "      <td bgcolor=\"#cccccc\">16</td>\n",
    "      <TD HEIGHT=\"30\">85</TD>\n",
    "      <TD>75</TD>\n",
    "      <TD>85</TD>\n",
    "      <td bgcolor=\"#cccccc\"></td>\n",
    "      <td bgcolor=\"#cccccc\"></td>\n",
    "      <td bgcolor=\"#cccccc\"></td>\n",
    "    </TR>\n",
    "    <TR align=center> \n",
    "      <td bgcolor=\"#cccccc\">17</td>\n",
    "      <TD HEIGHT=\"30\">90</TD>\n",
    "      <TD>80</TD>\n",
    "      <TD>90</TD>\n",
    "      <td bgcolor=\"#cccccc\"></td>\n",
    "      <td bgcolor=\"#cccccc\"></td>\n",
    "      <td bgcolor=\"#cccccc\"></td>\n",
    "    </TR>\n",
    "    <TR align=center> \n",
    "      <td bgcolor=\"#cccccc\">18</td>\n",
    "      <TD HEIGHT=\"30\">90</TD>\n",
    "      <TD>80</TD>\n",
    "      <TD>90</TD>\n",
    "      <td bgcolor=\"#cccccc\"></td>\n",
    "      <td bgcolor=\"#cccccc\"></td>\n",
    "      <td bgcolor=\"#cccccc\"></td>\n",
    "    </TR>\n",
    "    <TR align=center> \n",
    "      <td bgcolor=\"#cccccc\">19</td>\n",
    "      <TD HEIGHT=\"30\">85</TD>\n",
    "      <TD>90</TD>\n",
    "      <TD>85</TD>\n",
    "      <td bgcolor=\"#cccccc\"></td>\n",
    "      <td bgcolor=\"#cccccc\"></td>\n",
    "      <td bgcolor=\"#cccccc\"></td>\n",
    "    </TR>\n",
    "    <TR align=center> \n",
    "      <td bgcolor=\"#cccccc\">20</td>\n",
    "      <TD HEIGHT=\"30\">80</TD>\n",
    "      <TD>80</TD>\n",
    "      <TD>85</TD>\n",
    "      <td bgcolor=\"#cccccc\"></td>\n",
    "      <td bgcolor=\"#cccccc\"></td>\n",
    "      <td bgcolor=\"#cccccc\"></td>\n",
    "    </TR>\n",
    "    <tr><td bgcolor=\"#cccccc\">平均</td><td>( a )</td><td>( b )</td><td>( c )</td><td>( d )</td>\n",
    "          <td bgcolor=\"#cccccc\"></td>\n",
    "      <td bgcolor=\"#cccccc\"></td>\n",
    "    </tr>\n",
    "    <tr><td bgcolor=\"#cccccc\">偏差平方和</td><td>( e )</td><td>( f )</td><td>( g )</td><td>( h )</td><td>( i )</td><td>( j )</td></tr>\n",
    "  </TABLE>"
   ]
  },
  {
   "cell_type": "markdown",
   "metadata": {},
   "source": [
    "* 帰無仮説を「3つのお店のポテトの評価（母集団）の平均のどの組み合わせにおいても差はない」とします。対立仮説は何か答えてください。"
   ]
  },
  {
   "cell_type": "code",
   "execution_count": 1,
   "metadata": {
    "collapsed": true
   },
   "outputs": [],
   "source": [
    "# 3つのお店のポテトの評価（母集団）の平均のうち、いずれかの組み合わせにおいても差がある。"
   ]
  },
  {
   "cell_type": "code",
   "execution_count": 3,
   "metadata": {
    "collapsed": true
   },
   "outputs": [],
   "source": [
    "wakuwaku   = [80, 75, 80, 90, 95, 80, 80, 85, 85, 80, 90, 80, 75, 90, 85, 85, 90, 90, 85, 80]\n",
    "mogumogu = [75, 70, 80, 85, 90, 75, 85, 80, 80, 75, 80, 75, 70, 85, 80, 75, 80, 80, 90, 80]\n",
    "pakupaku    = [80, 80, 80, 90, 95, 85, 95, 90, 85, 90, 95, 85, 98, 95, 85, 85, 90, 90, 85, 85]"
   ]
  },
  {
   "cell_type": "markdown",
   "metadata": {},
   "source": [
    "* それぞれの店のポテトの点数の平均（上表 a, b, c ）と全体の平均（上表 d ）を求めてください。"
   ]
  },
  {
   "cell_type": "code",
   "execution_count": 4,
   "metadata": {
    "collapsed": true
   },
   "outputs": [],
   "source": [
    "# 平均値を求める関数\n",
    "def average(list):\n",
    "    sum = 0.0\n",
    "    n = 0.0\n",
    "    for x in list:\n",
    "        sum += x\n",
    "        n += 1.0\n",
    "    return sum / n"
   ]
  },
  {
   "cell_type": "code",
   "execution_count": 5,
   "metadata": {
    "collapsed": false
   },
   "outputs": [
    {
     "name": "stdout",
     "output_type": "stream",
     "text": [
      "(84.0, 79.5, 88.15, 83.88333333333334)\n"
     ]
    }
   ],
   "source": [
    "a = average(wakuwaku)\n",
    "b = average(mogumogu)\n",
    "c = average(pakupaku)\n",
    "d = average(wakuwaku + mogumogu + pakupaku)\n",
    "print (a, b, c, d)"
   ]
  },
  {
   "cell_type": "markdown",
   "metadata": {},
   "source": [
    "* それぞれの店のポテトの点数の偏差平方和（上表 e, f, g ）と全体の偏差平方和（上表 h ）を求めてください。"
   ]
  },
  {
   "cell_type": "code",
   "execution_count": 6,
   "metadata": {
    "collapsed": true
   },
   "outputs": [],
   "source": [
    "def sum_square_deviation(list):\n",
    "    ave = average(list)\n",
    "    sum = 0\n",
    "    for x in list:\n",
    "        sum += (x - ave)**2\n",
    "    return sum"
   ]
  },
  {
   "cell_type": "code",
   "execution_count": 7,
   "metadata": {
    "collapsed": false
   },
   "outputs": [
    {
     "name": "stdout",
     "output_type": "stream",
     "text": [
      "(580.0, 595.0, 570.5499999999998, 2494.1833333333343)\n"
     ]
    }
   ],
   "source": [
    "e = sum_square_deviation(wakuwaku)\n",
    "f = sum_square_deviation(mogumogu)\n",
    "g = sum_square_deviation(pakupaku)\n",
    "h = sum_square_deviation(wakuwaku + mogumogu + pakupaku)\n",
    "print (e, f, g, h)"
   ]
  },
  {
   "cell_type": "markdown",
   "metadata": {},
   "source": [
    "* 群内の偏差平方和（上表　i ）を求めてください。群内の平方和＝Σ（それぞれの群の偏差平方和）"
   ]
  },
  {
   "cell_type": "code",
   "execution_count": 8,
   "metadata": {
    "collapsed": false
   },
   "outputs": [
    {
     "name": "stdout",
     "output_type": "stream",
     "text": [
      "1745.55\n"
     ]
    }
   ],
   "source": [
    "i = sum_square_deviation(wakuwaku) + sum_square_deviation(mogumogu) + sum_square_deviation(pakupaku)\n",
    "print (i)"
   ]
  },
  {
   "cell_type": "markdown",
   "metadata": {},
   "source": [
    "* 群間の偏差平方和（上表 j ）を求めてください。 群間の平方和 = Σ((群内平均ー全体平均)の2乗✕個数)"
   ]
  },
  {
   "cell_type": "code",
   "execution_count": 9,
   "metadata": {
    "collapsed": false
   },
   "outputs": [
    {
     "name": "stdout",
     "output_type": "stream",
     "text": [
      "748.633333333\n"
     ]
    }
   ],
   "source": [
    "j = 0\n",
    "j += (average(wakuwaku) - average(wakuwaku + mogumogu + pakupaku))**2 * len(wakuwaku)\n",
    "j += (average(mogumogu) - average(wakuwaku + mogumogu + pakupaku))**2 * len(mogumogu)\n",
    "j += (average(pakupaku) - average(wakuwaku + mogumogu + pakupaku))**2 * len(pakupaku)\n",
    "print (j)"
   ]
  },
  {
   "cell_type": "markdown",
   "metadata": {},
   "source": [
    "__分散分析表を作る__\n",
    "\n",
    "分散分析をするために、分散分析表を作ります。群間・群内・全体の偏差平方和は既に計算済みです。\n",
    "<TABLE BORDER=\"1\" align=\"center\" CELLPADDING=\"2\" CELLSPACING=\"0\">\n",
    "  <TR> \n",
    "    <TD WIDTH=100 BGCOLOR=\"#CCCCCC\"> <CENTER>\n",
    "        要因 </CENTER></TD>\n",
    "    <TD WIDTH=100 BGCOLOR=\"#DDDDDD\"> <CENTER>\n",
    "        偏差平方和 </CENTER></TD>\n",
    "    <TD WIDTH=100 BGCOLOR=\"#DDDDDD\"> <CENTER>\n",
    "        自由度 </CENTER></TD>\n",
    "    <TD WIDTH=100 BGCOLOR=\"#DDDDDD\"> <CENTER>\n",
    "        平均平方 </CENTER></TD>\n",
    "    <TD WIDTH=100 BGCOLOR=\"#DDDDDD\"> <CENTER>\n",
    "        F\n",
    "</CENTER></TD>\n",
    "  </TR>\n",
    "  <TR> \n",
    "    <TD WIDTH=100 BGCOLOR=\"#DDDDDD\"> <CENTER>\n",
    "        群間\n",
    "</CENTER></TD>\n",
    "    <TD WIDTH=100> <CENTER>( j )\n",
    "        　 </CENTER></TD>\n",
    "    <TD WIDTH=100> <CENTER>( k )\n",
    "        　 </CENTER></TD>\n",
    "    <TD WIDTH=100> <CENTER>( n )\n",
    "        　 </CENTER></TD>\n",
    "    <TD WIDTH=100> <CENTER>( p )\n",
    "        　 </CENTER></TD>\n",
    "  </TR>\n",
    "  <TR> \n",
    "    <TD WIDTH=100 BGCOLOR=\"#DDDDDD\"> <CENTER>\n",
    "        群内 \n",
    "      </CENTER></TD>\n",
    "    <TD WIDTH=100> <CENTER>( i )\n",
    "        　 </CENTER></TD>\n",
    "    <TD WIDTH=100> <CENTER>( l )\n",
    "        　 </CENTER></TD>\n",
    "    <TD WIDTH=100> <CENTER>( o )\n",
    "        　 </CENTER></TD>\n",
    "  </TR>\n",
    "  <TR> \n",
    "    <TD WIDTH=100 BGCOLOR=\"#CCCCCC\"> <CENTER>\n",
    "        全体 </CENTER></TD>\n",
    "    <TD WIDTH=100> <CENTER>( h )\n",
    "        　 </CENTER></TD>\n",
    "    <TD WIDTH=100> <CENTER>( m )\n",
    "        　 </CENTER></TD>\n",
    "  </TR>\n",
    "</TABLE>\n",
    "\n",
    "* 自由度を求めてください。\n",
    "  * ( k ) 群間の自由度　=　群の数　－　1\n",
    "  * ( l ) 群内の自由度　=　（群1のデータ数－1）＋（群2のデータ数－1）+（群3のデータ数－1）\n",
    "  * ( m ) 全体の自由度　=　データの総個数　－　1"
   ]
  },
  {
   "cell_type": "code",
   "execution_count": 10,
   "metadata": {
    "collapsed": false
   },
   "outputs": [
    {
     "name": "stdout",
     "output_type": "stream",
     "text": [
      "(2, 57, 59)\n"
     ]
    }
   ],
   "source": [
    "k = 3 - 1\n",
    "l = (len(wakuwaku) - 1) + (len(mogumogu) - 1) + (len(pakupaku) - 1)\n",
    "m = len(wakuwaku + mogumogu + pakupaku) - 1\n",
    "print (k, l, m)"
   ]
  },
  {
   "cell_type": "markdown",
   "metadata": {},
   "source": [
    "* 平均平方を求めてください。（上表 n, o）\n",
    "  * 平均平方＝偏差平方和／自由度"
   ]
  },
  {
   "cell_type": "code",
   "execution_count": 11,
   "metadata": {
    "collapsed": false
   },
   "outputs": [
    {
     "name": "stdout",
     "output_type": "stream",
     "text": [
      "(374.3166666666672, 30.62368421052631)\n"
     ]
    }
   ],
   "source": [
    "n = j / k\n",
    "o = i / l\n",
    "print (n, o)"
   ]
  },
  {
   "cell_type": "markdown",
   "metadata": {},
   "source": [
    "* F値を求めてください。（上表 p ）\n",
    "  * F　＝ 群間の平均平方／群内の平均平方"
   ]
  },
  {
   "cell_type": "code",
   "execution_count": 12,
   "metadata": {
    "collapsed": false
   },
   "outputs": [
    {
     "name": "stdout",
     "output_type": "stream",
     "text": [
      "12.2231101945\n"
     ]
    }
   ],
   "source": [
    "f_value = n / o\n",
    "print (f_value)"
   ]
  },
  {
   "cell_type": "code",
   "execution_count": 13,
   "metadata": {
    "collapsed": true
   },
   "outputs": [],
   "source": [
    "# これまでの計算を関数に直すと：\n",
    "def get_f_value_from_three_groups(list1, list2, list3):\n",
    "    j = 0\n",
    "    j += (average(list1) - average(list1 + list2 + list3))**2 * len(list1)\n",
    "    j += (average(list2) - average(list1 + list2 + list3))**2 * len(list2)\n",
    "    j += (average(list3) - average(list1 + list2 + list3))**2 * len(list3)\n",
    "    k = 3 - 1\n",
    "    l = (len(list1) - 1) + (len(list2) - 1) + (len(list3) - 1)\n",
    "    m = len(list1 + list2 + list3) - 1\n",
    "    n = j / k\n",
    "    o = i / l\n",
    "    return n / o"
   ]
  },
  {
   "cell_type": "code",
   "execution_count": 14,
   "metadata": {
    "collapsed": false
   },
   "outputs": [
    {
     "data": {
      "text/plain": [
       "12.223110194494591"
      ]
     },
     "execution_count": 14,
     "metadata": {},
     "output_type": "execute_result"
    }
   ],
   "source": [
    "get_f_value_from_three_groups(wakuwaku, mogumogu, pakupaku) "
   ]
  },
  {
   "cell_type": "markdown",
   "metadata": {},
   "source": [
    "__F分布表の値と比較する__"
   ]
  },
  {
   "cell_type": "markdown",
   "metadata": {},
   "source": [
    "5%有意水準のF分布表\n",
    "<TABLE BORDER=\"1\" align=\"center\" CELLPADDING=\"2\" CELLSPACING=\"0\">\n",
    "  <TR> \n",
    "    <TD WIDTH=100 rowspan=\"2\" BGCOLOR=\"#CCCCCC\"> <CENTER>\n",
    "        群内の自由度 \n",
    "      </CENTER>\n",
    "      <div align=\"center\"></div></TD>\n",
    "    <TD colspan=\"5\" BGCOLOR=\"#dddddd\"> <CENTER>\n",
    "        群間の自由度 \n",
    "      </CENTER>\n",
    "      <CENTER>\n",
    "      </CENTER>\n",
    "      <CENTER>\n",
    "      </CENTER>\n",
    "      <CENTER>\n",
    "      </CENTER></TD>\n",
    "  </TR>\n",
    "  <TR> \n",
    "    <TD WIDTH=100 BGCOLOR=\"#dddddd\"> <div align=\"center\">1</div></TD>\n",
    "    <TD WIDTH=100 BGCOLOR=\"#dddddd\"> <div align=\"center\">2</div></TD>\n",
    "    <TD WIDTH=100 BGCOLOR=\"#dddddd\"> <div align=\"center\">3</div></TD>\n",
    "    <TD WIDTH=100 BGCOLOR=\"#dddddd\"> <div align=\"center\">4</div></TD>\n",
    "    <TD WIDTH=100 BGCOLOR=\"#dddddd\"> <div align=\"center\">5</div></TD>\n",
    "  </TR>\n",
    "  <TR> \n",
    "    <TD BGCOLOR=\"#CCCCCC\"><div align=\"center\">10</div></TD>\n",
    "    <TD BGCOLOR=\"#eeeeee\"><div align=\"right\">4.96</div></TD>\n",
    "    <TD BGCOLOR=\"#eeeeee\"><div align=\"right\">4.10</div></TD>\n",
    "    <TD BGCOLOR=\"#eeeeee\"><div align=\"right\">3.71</div></TD>\n",
    "    <TD BGCOLOR=\"#eeeeee\"><div align=\"right\">3.48</div></TD>\n",
    "    <TD BGCOLOR=\"#eeeeee\"><div align=\"right\">3.33</div></TD>\n",
    "  </TR>\n",
    "  <TR> \n",
    "    <TD BGCOLOR=\"#CCCCCC\"><div align=\"center\">20</div></TD>\n",
    "    <TD BGCOLOR=\"#eeeeee\"><div align=\"right\">4.35</div></TD>\n",
    "    <TD BGCOLOR=\"#eeeeee\"><div align=\"right\">3.49</div></TD>\n",
    "    <TD BGCOLOR=\"#eeeeee\"><div align=\"right\">3.10</div></TD>\n",
    "    <TD BGCOLOR=\"#eeeeee\"><div align=\"right\">2.87</div></TD>\n",
    "    <TD BGCOLOR=\"#eeeeee\"><div align=\"right\">2.71</div></TD>\n",
    "  </TR>\n",
    "  <TR> \n",
    "    <TD BGCOLOR=\"#CCCCCC\"><div align=\"center\">30</div></TD>\n",
    "    <TD BGCOLOR=\"#eeeeee\"><div align=\"right\">4.17</div></TD>\n",
    "    <TD BGCOLOR=\"#eeeeee\"><div align=\"right\">3.32</div></TD>\n",
    "    <TD BGCOLOR=\"#eeeeee\"><div align=\"right\">2.92</div></TD>\n",
    "    <TD BGCOLOR=\"#eeeeee\"><div align=\"right\">2.69</div></TD>\n",
    "    <TD BGCOLOR=\"#eeeeee\"><div align=\"right\">2.53</div></TD>\n",
    "  </TR>\n",
    "  <TR> \n",
    "    <TD BGCOLOR=\"#CCCCCC\"><div align=\"center\">40</div></TD>\n",
    "    <TD BGCOLOR=\"#eeeeee\"><div align=\"right\">4.08</div></TD>\n",
    "    <TD BGCOLOR=\"#eeeeee\"><div align=\"right\">3.23</div></TD>\n",
    "    <TD BGCOLOR=\"#eeeeee\"><div align=\"right\">2.84</div></TD>\n",
    "    <TD BGCOLOR=\"#eeeeee\"><div align=\"right\">2.61</div></TD>\n",
    "    <TD BGCOLOR=\"#eeeeee\"><div align=\"right\">2.45</div></TD>\n",
    "  </TR>\n",
    "  <TR> \n",
    "    <TD BGCOLOR=\"#CCCCCC\"><div align=\"center\">50</div></TD>\n",
    "    <TD BGCOLOR=\"#eeeeee\"><div align=\"right\">4.03</div></TD>\n",
    "    <TD BGCOLOR=\"#eeeeee\"><div align=\"right\">3.18</div></TD>\n",
    "    <TD BGCOLOR=\"#eeeeee\"><div align=\"right\">2.79</div></TD>\n",
    "    <TD BGCOLOR=\"#eeeeee\"><div align=\"right\">2.56</div></TD>\n",
    "    <TD BGCOLOR=\"#eeeeee\"><div align=\"right\">2.40</div></TD>\n",
    "  </TR>\n",
    "  <TR> \n",
    "    <TD BGCOLOR=\"#CCCCCC\"><div align=\"center\">60</div></TD>\n",
    "    <TD BGCOLOR=\"#eeeeee\"><div align=\"right\">4.00</div></TD>\n",
    "    <TD BGCOLOR=\"#eeeeee\"><div align=\"right\">3.15</div></TD>\n",
    "    <TD BGCOLOR=\"#eeeeee\"><div align=\"right\">2.76</div></TD>\n",
    "    <TD BGCOLOR=\"#eeeeee\"><div align=\"right\">2.53</div></TD>\n",
    "    <TD BGCOLOR=\"#eeeeee\"><div align=\"right\">2.37</div></TD>\n",
    "  </TR>\n",
    "  <TR> \n",
    "    <TD BGCOLOR=\"#CCCCCC\"><div align=\"center\">70</div></TD>\n",
    "    <TD BGCOLOR=\"#eeeeee\"><div align=\"right\">3.98</div></TD>\n",
    "    <TD BGCOLOR=\"#eeeeee\"><div align=\"right\">3.13</div></TD>\n",
    "    <TD BGCOLOR=\"#eeeeee\"><div align=\"right\">2.74</div></TD>\n",
    "    <TD BGCOLOR=\"#eeeeee\"><div align=\"right\">2.50</div></TD>\n",
    "    <TD BGCOLOR=\"#eeeeee\"><div align=\"right\">2.35</div></TD>\n",
    "  </TR>\n",
    "  <TR> \n",
    "    <TD BGCOLOR=\"#CCCCCC\"><div align=\"center\">80</div></TD>\n",
    "    <TD BGCOLOR=\"#eeeeee\"><div align=\"right\">3.96</div></TD>\n",
    "    <TD BGCOLOR=\"#eeeeee\"><div align=\"right\">3.11</div></TD>\n",
    "    <TD BGCOLOR=\"#eeeeee\"><div align=\"right\">2.72</div></TD>\n",
    "    <TD BGCOLOR=\"#eeeeee\"><div align=\"right\">2.49</div></TD>\n",
    "    <TD BGCOLOR=\"#eeeeee\"><div align=\"right\">2.33</div></TD>\n",
    "  </TR>\n",
    "  <TR> \n",
    "    <TD BGCOLOR=\"#CCCCCC\"><div align=\"center\">90</div></TD>\n",
    "    <TD BGCOLOR=\"#eeeeee\"><div align=\"right\">3.95</div></TD>\n",
    "    <TD BGCOLOR=\"#eeeeee\"><div align=\"right\">3.10</div></TD>\n",
    "    <TD BGCOLOR=\"#eeeeee\"><div align=\"right\">2.71</div></TD>\n",
    "    <TD BGCOLOR=\"#eeeeee\"><div align=\"right\">2.47</div></TD>\n",
    "    <TD BGCOLOR=\"#eeeeee\"><div align=\"right\">2.32</div></TD>\n",
    "  </TR>\n",
    "  <TR> \n",
    "    <TD BGCOLOR=\"#CCCCCC\"><div align=\"center\">100</div></TD>\n",
    "    <TD BGCOLOR=\"#eeeeee\"><div align=\"right\">3.94</div></TD>\n",
    "    <TD BGCOLOR=\"#eeeeee\"><div align=\"right\">3.09</div></TD>\n",
    "    <TD BGCOLOR=\"#eeeeee\"><div align=\"right\">2.70</div></TD>\n",
    "    <TD BGCOLOR=\"#eeeeee\"><div align=\"right\">2.46</div></TD>\n",
    "    <TD BGCOLOR=\"#eeeeee\"><div align=\"right\">2.31</div></TD>\n",
    "  </TR>\n",
    "  <TR> \n",
    "    <TD BGCOLOR=\"#CCCCCC\"><div align=\"center\">200</div></TD>\n",
    "    <TD BGCOLOR=\"#eeeeee\"><div align=\"right\">3.89</div></TD>\n",
    "    <TD BGCOLOR=\"#eeeeee\"><div align=\"right\">3.04</div></TD>\n",
    "    <TD BGCOLOR=\"#eeeeee\"><div align=\"right\">2.65</div></TD>\n",
    "    <TD BGCOLOR=\"#eeeeee\"><div align=\"right\">2.42</div></TD>\n",
    "    <TD BGCOLOR=\"#eeeeee\"><div align=\"right\">2.26</div></TD>\n",
    "  </TR>\n",
    "  <TR> \n",
    "    <TD BGCOLOR=\"#CCCCCC\"><div align=\"center\">300</div></TD>\n",
    "    <TD BGCOLOR=\"#eeeeee\"><div align=\"right\">3.87</div></TD>\n",
    "    <TD BGCOLOR=\"#eeeeee\"><div align=\"right\">3.03</div></TD>\n",
    "    <TD BGCOLOR=\"#eeeeee\"><div align=\"right\">2.63</div></TD>\n",
    "    <TD BGCOLOR=\"#eeeeee\"><div align=\"right\">2.40</div></TD>\n",
    "    <TD BGCOLOR=\"#eeeeee\"><div align=\"right\">2.24</div></TD>\n",
    "  </TR>\n",
    "</TABLE>"
   ]
  },
  {
   "cell_type": "markdown",
   "metadata": {},
   "source": [
    "1%有意水準のF分布表 \n",
    "<TABLE BORDER=\"1\" align=\"center\" CELLPADDING=\"2\" CELLSPACING=\"0\">\n",
    "  <TR> \n",
    "    <TD WIDTH=100 rowspan=\"2\" BGCOLOR=\"#bCCCCC\"> \n",
    "      <CENTER>\n",
    "        群内の自由度 \n",
    "      </CENTER>\n",
    "      <div align=\"center\"></div></TD>\n",
    "    <TD colspan=\"5\" BGCOLOR=\"#bddddd\"> \n",
    "      <CENTER>\n",
    "        群間の自由度 \n",
    "      </CENTER>\n",
    "      <CENTER>\n",
    "      </CENTER>\n",
    "      <CENTER>\n",
    "      </CENTER>\n",
    "      <CENTER>\n",
    "      </CENTER></TD>\n",
    "  </TR>\n",
    "  <TR> \n",
    "    <TD WIDTH=100 BGCOLOR=\"#bddddd\"> \n",
    "      <div align=\"center\">1</div></TD>\n",
    "    <TD WIDTH=100 BGCOLOR=\"#bddddd\"> \n",
    "      <div align=\"center\">2</div></TD>\n",
    "    <TD WIDTH=100 BGCOLOR=\"#bddddd\"> \n",
    "      <div align=\"center\">3</div></TD>\n",
    "    <TD WIDTH=100 BGCOLOR=\"#bddddd\"> \n",
    "      <div align=\"center\">4</div></TD>\n",
    "    <TD WIDTH=100 BGCOLOR=\"#bddddd\"> \n",
    "      <div align=\"center\">5</div></TD>\n",
    "  </TR>\n",
    "  <TR> \n",
    "    <TD BGCOLOR=\"#bCCCCC\"> \n",
    "      <div align=\"center\">10</div></TD>\n",
    "    <TD BGCOLOR=\"#eeeeee\"><div align=\"right\">10.04</div></TD>\n",
    "    <TD BGCOLOR=\"#eeeeee\"><div align=\"right\">7.56</div></TD>\n",
    "    <TD BGCOLOR=\"#eeeeee\"><div align=\"right\">6.55</div></TD>\n",
    "    <TD BGCOLOR=\"#eeeeee\"><div align=\"right\">5.99</div></TD>\n",
    "    <TD BGCOLOR=\"#eeeeee\"><div align=\"right\">5.64</div></TD>\n",
    "  </TR>\n",
    "  <TR> \n",
    "    <TD BGCOLOR=\"#bCCCCC\"> \n",
    "      <div align=\"center\">20</div></TD>\n",
    "    <TD BGCOLOR=\"#eeeeee\"><div align=\"right\">8.10</div></TD>\n",
    "    <TD BGCOLOR=\"#eeeeee\"><div align=\"right\">5.85</div></TD>\n",
    "    <TD BGCOLOR=\"#eeeeee\"><div align=\"right\">4.94</div></TD>\n",
    "    <TD BGCOLOR=\"#eeeeee\"><div align=\"right\">4.43</div></TD>\n",
    "    <TD BGCOLOR=\"#eeeeee\"><div align=\"right\">4.10</div></TD>\n",
    "  </TR>\n",
    "  <TR> \n",
    "    <TD BGCOLOR=\"#bCCCCC\"> \n",
    "      <div align=\"center\">30</div></TD>\n",
    "    <TD BGCOLOR=\"#eeeeee\"><div align=\"right\">7.56</div></TD>\n",
    "    <TD BGCOLOR=\"#eeeeee\"><div align=\"right\">5.39</div></TD>\n",
    "    <TD BGCOLOR=\"#eeeeee\"><div align=\"right\">4.51</div></TD>\n",
    "    <TD BGCOLOR=\"#eeeeee\"><div align=\"right\">4.02</div></TD>\n",
    "    <TD BGCOLOR=\"#eeeeee\"><div align=\"right\">3.70</div></TD>\n",
    "  </TR>\n",
    "  <TR> \n",
    "    <TD BGCOLOR=\"#bCCCCC\"> \n",
    "      <div align=\"center\">40</div></TD>\n",
    "    <TD BGCOLOR=\"#eeeeee\"><div align=\"right\">7.31</div></TD>\n",
    "    <TD BGCOLOR=\"#eeeeee\"><div align=\"right\">5.18</div></TD>\n",
    "    <TD BGCOLOR=\"#eeeeee\"><div align=\"right\">4.31</div></TD>\n",
    "    <TD BGCOLOR=\"#eeeeee\"><div align=\"right\">3.83</div></TD>\n",
    "    <TD BGCOLOR=\"#eeeeee\"><div align=\"right\">3.51</div></TD>\n",
    "  </TR>\n",
    "  <TR> \n",
    "    <TD BGCOLOR=\"#bCCCCC\"> \n",
    "      <div align=\"center\">50</div></TD>\n",
    "    <TD BGCOLOR=\"#eeeeee\"><div align=\"right\">7.17</div></TD>\n",
    "    <TD BGCOLOR=\"#eeeeee\"><div align=\"right\">5.06</div></TD>\n",
    "    <TD BGCOLOR=\"#eeeeee\"><div align=\"right\">4.20</div></TD>\n",
    "    <TD BGCOLOR=\"#eeeeee\"><div align=\"right\">3.72</div></TD>\n",
    "    <TD BGCOLOR=\"#eeeeee\"><div align=\"right\">3.41</div></TD>\n",
    "  </TR>\n",
    "  <TR> \n",
    "    <TD BGCOLOR=\"#bCCCCC\"> \n",
    "      <div align=\"center\">60</div></TD>\n",
    "    <TD BGCOLOR=\"#eeeeee\"><div align=\"right\">7.08</div></TD>\n",
    "    <TD BGCOLOR=\"#eeeeee\"><div align=\"right\">4.98</div></TD>\n",
    "    <TD BGCOLOR=\"#eeeeee\"><div align=\"right\">4.13</div></TD>\n",
    "    <TD BGCOLOR=\"#eeeeee\"><div align=\"right\">3.65</div></TD>\n",
    "    <TD BGCOLOR=\"#eeeeee\"><div align=\"right\">3.34</div></TD>\n",
    "  </TR>\n",
    "  <TR> \n",
    "    <TD BGCOLOR=\"#bCCCCC\"> \n",
    "      <div align=\"center\">70</div></TD>\n",
    "    <TD BGCOLOR=\"#eeeeee\"><div align=\"right\">7.01</div></TD>\n",
    "    <TD BGCOLOR=\"#eeeeee\"><div align=\"right\">4.92</div></TD>\n",
    "    <TD BGCOLOR=\"#eeeeee\"><div align=\"right\">4.07</div></TD>\n",
    "    <TD BGCOLOR=\"#eeeeee\"><div align=\"right\">3.60</div></TD>\n",
    "    <TD BGCOLOR=\"#eeeeee\"><div align=\"right\">3.29</div></TD>\n",
    "  </TR>\n",
    "  <TR> \n",
    "    <TD BGCOLOR=\"#bCCCCC\"> \n",
    "      <div align=\"center\">80</div></TD>\n",
    "    <TD BGCOLOR=\"#eeeeee\"><div align=\"right\">6.96</div></TD>\n",
    "    <TD BGCOLOR=\"#eeeeee\"><div align=\"right\">4.88</div></TD>\n",
    "    <TD BGCOLOR=\"#eeeeee\"><div align=\"right\">4.04</div></TD>\n",
    "    <TD BGCOLOR=\"#eeeeee\"><div align=\"right\">3.56</div></TD>\n",
    "    <TD BGCOLOR=\"#eeeeee\"><div align=\"right\">3.26</div></TD>\n",
    "  </TR>\n",
    "  <TR> \n",
    "    <TD BGCOLOR=\"#bCCCCC\"> \n",
    "      <div align=\"center\">90</div></TD>\n",
    "    <TD BGCOLOR=\"#eeeeee\"><div align=\"right\">6.93</div></TD>\n",
    "    <TD BGCOLOR=\"#eeeeee\"><div align=\"right\">4.85</div></TD>\n",
    "    <TD BGCOLOR=\"#eeeeee\"><div align=\"right\">4.01</div></TD>\n",
    "    <TD BGCOLOR=\"#eeeeee\"><div align=\"right\">3.53</div></TD>\n",
    "    <TD BGCOLOR=\"#eeeeee\"><div align=\"right\">3.23</div></TD>\n",
    "  </TR>\n",
    "  <TR> \n",
    "    <TD BGCOLOR=\"#bCCCCC\"> \n",
    "      <div align=\"center\">100</div></TD>\n",
    "    <TD BGCOLOR=\"#eeeeee\"><div align=\"right\">6.90</div></TD>\n",
    "    <TD BGCOLOR=\"#eeeeee\"><div align=\"right\">4.82</div></TD>\n",
    "    <TD BGCOLOR=\"#eeeeee\"><div align=\"right\">3.98</div></TD>\n",
    "    <TD BGCOLOR=\"#eeeeee\"><div align=\"right\">3.51</div></TD>\n",
    "    <TD BGCOLOR=\"#eeeeee\"><div align=\"right\">3.21</div></TD>\n",
    "  </TR>\n",
    "  <TR> \n",
    "    <TD BGCOLOR=\"#bCCCCC\"> \n",
    "      <div align=\"center\">200</div></TD>\n",
    "    <TD BGCOLOR=\"#eeeeee\"><div align=\"right\">6.76</div></TD>\n",
    "    <TD BGCOLOR=\"#eeeeee\"><div align=\"right\">4.71</div></TD>\n",
    "    <TD BGCOLOR=\"#eeeeee\"><div align=\"right\">3.88</div></TD>\n",
    "    <TD BGCOLOR=\"#eeeeee\"><div align=\"right\">3.41</div></TD>\n",
    "    <TD BGCOLOR=\"#eeeeee\"><div align=\"right\">3.11</div></TD>\n",
    "  </TR>\n",
    "  <TR> \n",
    "    <TD BGCOLOR=\"#bCCCCC\"> \n",
    "      <div align=\"center\">300</div></TD>\n",
    "    <TD BGCOLOR=\"#eeeeee\"><div align=\"right\">6.72</div></TD>\n",
    "    <TD BGCOLOR=\"#eeeeee\"><div align=\"right\">4.68</div></TD>\n",
    "    <TD BGCOLOR=\"#eeeeee\"><div align=\"right\">3.85</div></TD>\n",
    "    <TD BGCOLOR=\"#eeeeee\"><div align=\"right\">3.38</div></TD>\n",
    "    <TD BGCOLOR=\"#eeeeee\"><div align=\"right\">3.08</div></TD>\n",
    "  </TR>\n",
    "</TABLE>"
   ]
  },
  {
   "cell_type": "markdown",
   "metadata": {},
   "source": [
    "* 計算したF値と、F分布表を比較して、帰無仮説が棄却できるかどうか説明してください。"
   ]
  },
  {
   "cell_type": "code",
   "execution_count": 30,
   "metadata": {
    "collapsed": true
   },
   "outputs": [],
   "source": [
    "# 群間の自由度は2、群内の自由度は57なので、5%有意水準のF値は約3.15、\n",
    "# 同様に1%有意水準のF値は約4.98である。対して、計算したF値は12.2だった。\n",
    "# したがって、どちらの有意水準においても棄却域に入るため、\n",
    "# 帰無仮説である「3つのお店のポテトの評価に差はない」は棄却された。\n",
    "# すなわち、ワクワク、モグモグ、パクパクのうち少なくともひとつの組み合わせの間で差があると言える。"
   ]
  },
  {
   "cell_type": "markdown",
   "metadata": {},
   "source": [
    "### 6.4　[実践編：3種類のハンバーガーの比較](http://kogolab.chillout.jp/elearn/hamburger/chap6/sec4.html)\n",
    "__課題6.4__ : 下記のデータを用いて、分散分析を行ってください。"
   ]
  },
  {
   "cell_type": "code",
   "execution_count": 15,
   "metadata": {
    "collapsed": true
   },
   "outputs": [],
   "source": [
    "wakuwaku =   [90, 70, 75, 90, 65, 70, 80, 85, 75, 75, 85, 75, 80, 90, 80]\n",
    "mogumogu = [75, 95, 75, 80, 75, 85, 75, 85, 80, 65, 90, 75, 90, 75, 85]\n",
    "pakupaku =    [65, 60, 75, 80, 65, 60, 70, 85, 70, 75, 75, 70, 80, 75, 80]"
   ]
  },
  {
   "cell_type": "code",
   "execution_count": 16,
   "metadata": {
    "collapsed": false
   },
   "outputs": [
    {
     "data": {
      "text/plain": [
       "6.630192966877685"
      ]
     },
     "execution_count": 16,
     "metadata": {},
     "output_type": "execute_result"
    }
   ],
   "source": [
    "get_f_value_from_three_groups(wakuwaku, mogumogu, pakupaku) "
   ]
  },
  {
   "cell_type": "code",
   "execution_count": 17,
   "metadata": {
    "collapsed": true
   },
   "outputs": [],
   "source": [
    "# 群間の自由度は2、群内の自由度は57なので、5%有意水準のF値は約3.15、\n",
    "# 同様に1%有意水準のF値は約4.98である。対して、計算したF値は6.63だった。\n",
    "# したがって、どちらの有意水準においても棄却域に入るため、\n",
    "# 帰無仮説である「3つのお店のバーガーの評価に差はない」は棄却された。\n",
    "# すなわち、ワクワク、モグモグ、パクパクのうち少なくともひとつの組み合わせの間で差があると言える。"
   ]
  },
  {
   "cell_type": "markdown",
   "metadata": {},
   "source": [
    "### 6.9　[通過テスト](http://kogolab.chillout.jp/elearn/hamburger/chap6/sec9.html)\n",
    "本文を読んで、問いに答えてください。"
   ]
  },
  {
   "cell_type": "code",
   "execution_count": 18,
   "metadata": {
    "collapsed": true
   },
   "outputs": [],
   "source": [
    "group1 = [6, 5, 7, 6, 8, 4, 6, 5, 8, 4, 5, 6, 5, 4, 5]\n",
    "group2 = [5, 6, 9, 7, 7, 6, 8, 5, 6, 9, 5, 4, 7, 6]\n",
    "group3 = [6, 8, 9, 6, 8, 6, 9, 7, 6, 5, 9, 6, 10, 8, 9, 6]"
   ]
  },
  {
   "cell_type": "code",
   "execution_count": 19,
   "metadata": {
    "collapsed": true
   },
   "outputs": [],
   "source": [
    "# 分散を求める関数\n",
    "def variance(list):\n",
    "    ave = average(list)\n",
    "    sum = 0.0\n",
    "    n = 0.0\n",
    "    for x in list:\n",
    "        sum += (x - ave) ** 2.0\n",
    "        n += 1.0\n",
    "    return sum / n"
   ]
  },
  {
   "cell_type": "code",
   "execution_count": 20,
   "metadata": {
    "collapsed": true
   },
   "outputs": [],
   "source": [
    "# 標準偏差を求める関数\n",
    "import math\n",
    "def standard_deviation(list):\n",
    "    return math.sqrt(variance(list))"
   ]
  },
  {
   "cell_type": "code",
   "execution_count": 21,
   "metadata": {
    "collapsed": false
   },
   "outputs": [
    {
     "name": "stdout",
     "output_type": "stream",
     "text": [
      "(5.6, 1.2543258481484518)\n",
      "(6.428571428571429, 1.4498416521560316)\n",
      "(7.375, 1.4947825928876748)\n"
     ]
    }
   ],
   "source": [
    "# (1)　3つの群における、平均と標準偏差を求めなさい\n",
    "print (average(group1), standard_deviation(group1))\n",
    "print (average(group2), standard_deviation(group2))\n",
    "print (average(group3), standard_deviation(group3))"
   ]
  },
  {
   "cell_type": "code",
   "execution_count": 22,
   "metadata": {
    "collapsed": true
   },
   "outputs": [],
   "source": [
    "# (2)　この検定での帰無仮説を言いなさい。\n",
    "\n",
    "# ３つの群には差がない。"
   ]
  },
  {
   "cell_type": "code",
   "execution_count": 23,
   "metadata": {
    "collapsed": true
   },
   "outputs": [],
   "source": [
    "# (3)　この検定での対立仮説を言いなさい。\n",
    "\n",
    "# ３つの群間の少なくとも１つに差がある。"
   ]
  },
  {
   "cell_type": "code",
   "execution_count": 24,
   "metadata": {
    "collapsed": false
   },
   "outputs": [
    {
     "name": "stdout",
     "output_type": "stream",
     "text": [
      "('J', 24.46587301587303)\n",
      "('I', 88.77857142857144)\n",
      "('H', 113.24444444444445)\n",
      "('K', 2)\n",
      "('L', 42)\n",
      "('M', 44)\n",
      "('N', 12.232936507936515)\n",
      "('O', 2.113775510204082)\n",
      "('F-value', 5.787244884276023)\n"
     ]
    }
   ],
   "source": [
    "# (4)　分散分析表を作りなさい\n",
    "\n",
    "j = 0\n",
    "j += (average(group1) - average(group1 + group2 + group3))**2 * len(group1)\n",
    "j += (average(group2) - average(group1 + group2 + group3))**2 * len(group2)\n",
    "j += (average(group3) - average(group1 + group2 + group3))**2 * len(group3)\n",
    "print (\"J\", j)\n",
    "\n",
    "i = sum_square_deviation(group1) + sum_square_deviation(group2) + sum_square_deviation(group3)\n",
    "print (\"I\", i)\n",
    "\n",
    "h = sum_square_deviation(group1 + group2 + group3)\n",
    "print (\"H\", h)\n",
    "\n",
    "k = 3 - 1\n",
    "print (\"K\", k)\n",
    "\n",
    "l = (len(group1) - 1) + (len(group2) - 1) + (len(group3) - 1)\n",
    "print (\"L\", l)\n",
    "\n",
    "m = len(group1 + group2 + group3) - 1\n",
    "print (\"M\", m)\n",
    "\n",
    "n = j / k\n",
    "print (\"N\", n)\n",
    "\n",
    "o = i / l\n",
    "print (\"O\", o)\n",
    "\n",
    "f_value = n / o\n",
    "print (\"F-value\", f_value)"
   ]
  },
  {
   "cell_type": "code",
   "execution_count": 25,
   "metadata": {
    "collapsed": true
   },
   "outputs": [],
   "source": [
    "# (5)　有意水準を1%としたとき、この分散分析表から言えることを書きなさい。\n",
    "\n",
    "# 群間の自由度は2、群内の自由度は42なので、1%有意水準のF値は約5.18、\n",
    "# 対して、計算したF値は5.78であり棄却域に入る。\n",
    "# 帰無仮説である「3つの群に差はない」は棄却された。\n",
    "# すなわち、３群のうち少なくともひとつの組み合わせの間で差があると言える。"
   ]
  },
  {
   "cell_type": "code",
   "execution_count": 26,
   "metadata": {
    "collapsed": true
   },
   "outputs": [],
   "source": [
    "# (6)　以上の検定の結果を、わかりやすいことばで説明しなさい。\n",
    "\n",
    "# ３つのグループ内のデータの散らばり具合と、グループ間のデータの散らばり具合を調べた結果、\n",
    "# グループ間の散らばりが、グループ内の散らばりよりも十分に大きいことが分かった。\n",
    "# つまり、３グループのうちどれかひとつには差がある。"
   ]
  },
  {
   "cell_type": "markdown",
   "metadata": {},
   "source": [
    "## 7. [分散分析（２要因）](http://kogolab.chillout.jp/elearn/hamburger/chap7/sec0.html)\n",
    "本文を読んで概念を学んでください。"
   ]
  },
  {
   "cell_type": "markdown",
   "metadata": {},
   "source": [
    "### 7.1　[2つの要因では?](http://kogolab.chillout.jp/elearn/hamburger/chap7/sec1.html)\n",
    "本文を読んで概念を学んでください。"
   ]
  },
  {
   "cell_type": "markdown",
   "metadata": {},
   "source": [
    "### 7.2　[２要因の分散分析表](http://kogolab.chillout.jp/elearn/hamburger/chap7/sec2.html)"
   ]
  },
  {
   "cell_type": "markdown",
   "metadata": {},
   "source": [
    " <TABLE HEIGHT=\"345\" BORDER=\"1\" CELLSPACING=\"0\" \n",
    "  CELLPADDING=\"0\">\n",
    "    <TR> \n",
    "      <td bgcolor=\"#cccccc\"></td>\n",
    "      <TD BGCOLOR=\"#dddddd\" HEIGHT=\"20\"> <CENTER>\n",
    "          クリスピーで辛口 </CENTER></TD>\n",
    "      <TD BGCOLOR=\"#dddddd\"> <CENTER>\n",
    "          クリスピーで普通味 \n",
    "        </CENTER></TD>\n",
    "      <TD BGCOLOR=\"#dddddd\"> <CENTER>\n",
    "          普通の衣で辛口 </CENTER></TD>\n",
    "      <TD WIDTH=\"20%\" BGCOLOR=\"#dddddd\"> <CENTER>\n",
    "          普通の衣で普通味 \n",
    "        </CENTER></TD>\n",
    "      <TD BGCOLOR=\"#dddddd\" HEIGHT=\"20\"> <CENTER>\n",
    "          クリスピー </CENTER></TD>\n",
    "      <TD BGCOLOR=\"#dddddd\"> <CENTER>\n",
    "          普通の衣 \n",
    "        </CENTER></TD>\n",
    "      <TD BGCOLOR=\"#dddddd\"> <CENTER>\n",
    "          辛口 </CENTER></TD>\n",
    "      <TD BGCOLOR=\"#dddddd\"> <CENTER>\n",
    "          普通味 \n",
    "        </CENTER></TD>\n",
    "      <TD BGCOLOR=\"#dddddd\"> <CENTER>\n",
    "          全体 \n",
    "        </CENTER></TD>\n",
    "    </TR>\n",
    "    <TR> \n",
    "      <td bgcolor=\"#cccccc\">1</td>\n",
    "      <TD ALIGN=\"CENTER\" HEIGHT=\"20\"> 65</TD>\n",
    "      <TD ALIGN=\"CENTER\"> 65</TD>\n",
    "      <TD ALIGN=\"CENTER\"> 70</TD>\n",
    "      <TD ALIGN=\"CENTER\"> 70</TD>\n",
    "      <td bgcolor=\"#cccccc\"></td>\n",
    "      <td bgcolor=\"#cccccc\"></td>\n",
    "      <td bgcolor=\"#cccccc\"></td>\n",
    "      <td bgcolor=\"#cccccc\"></td>\n",
    "      <td bgcolor=\"#cccccc\"></td>\n",
    "    </TR>\n",
    "    <TR> \n",
    "      <td bgcolor=\"#cccccc\">2</td>\n",
    "      <TD ALIGN=\"CENTER\" HEIGHT=\"20\"> 85</TD>\n",
    "      <TD ALIGN=\"CENTER\"> 70</TD>\n",
    "      <TD ALIGN=\"CENTER\"> 65</TD>\n",
    "      <TD ALIGN=\"CENTER\"??> 70</TD>\n",
    "      <td bgcolor=\"#cccccc\"></td>\n",
    "      <td bgcolor=\"#cccccc\"></td>\n",
    "      <td bgcolor=\"#cccccc\"></td>\n",
    "      <td bgcolor=\"#cccccc\"></td>\n",
    "      <td bgcolor=\"#cccccc\"></td>\n",
    "    </TR>\n",
    "    <TR> \n",
    "      <td bgcolor=\"#cccccc\">3</td>\n",
    "      <TD ALIGN=\"CENTER\" HEIGHT=\"20\"> 75</TD>\n",
    "      <TD ALIGN=\"CENTER\"> 80</TD>\n",
    "      <TD ALIGN=\"CENTER\"> 85</TD>\n",
    "      <TD ALIGN=\"CENTER\"> 85</TD>\n",
    "      <td bgcolor=\"#cccccc\"></td>\n",
    "      <td bgcolor=\"#cccccc\"></td>\n",
    "      <td bgcolor=\"#cccccc\"></td>\n",
    "      <td bgcolor=\"#cccccc\"></td>\n",
    "      <td bgcolor=\"#cccccc\"></td>\n",
    "    </TR>\n",
    "    <TR> \n",
    "      <td bgcolor=\"#cccccc\">4</td>\n",
    "      <TD ALIGN=\"CENTER\" HEIGHT=\"20\"> 85</TD>\n",
    "      <TD ALIGN=\"CENTER\"> 75</TD>\n",
    "      <TD ALIGN=\"CENTER\"> 80</TD>\n",
    "      <TD ALIGN=\"CENTER\"> 80</TD>\n",
    "      <td bgcolor=\"#cccccc\"></td>\n",
    "      <td bgcolor=\"#cccccc\"></td>\n",
    "      <td bgcolor=\"#cccccc\"></td>\n",
    "      <td bgcolor=\"#cccccc\"></td>\n",
    "      <td bgcolor=\"#cccccc\"></td>\n",
    "    </TR>\n",
    "    <TR> \n",
    "      <td bgcolor=\"#cccccc\">5</td>\n",
    "      <TD ALIGN=\"CENTER\" HEIGHT=\"20\"> 75</TD>\n",
    "      <TD ALIGN=\"CENTER\"> 70</TD>\n",
    "      <TD ALIGN=\"CENTER\"> 75</TD>\n",
    "      <TD ALIGN=\"CENTER\"> 65</TD>\n",
    "      <td bgcolor=\"#cccccc\"></td>\n",
    "      <td bgcolor=\"#cccccc\"></td>\n",
    "      <td bgcolor=\"#cccccc\"></td>\n",
    "      <td bgcolor=\"#cccccc\"></td>\n",
    "      <td bgcolor=\"#cccccc\"></td>\n",
    "    </TR>\n",
    "    <TR> \n",
    "      <td bgcolor=\"#cccccc\">6</td>\n",
    "      <TD ALIGN=\"CENTER\" HEIGHT=\"20\"> 80</TD>\n",
    "      <TD ALIGN=\"CENTER\"> 60</TD>\n",
    "      <TD ALIGN=\"CENTER\"> 65</TD>\n",
    "      <TD ALIGN=\"CENTER\"> 75</TD>\n",
    "      <td bgcolor=\"#cccccc\"></td>\n",
    "      <td bgcolor=\"#cccccc\"></td>\n",
    "      <td bgcolor=\"#cccccc\"></td>\n",
    "      <td bgcolor=\"#cccccc\"></td>\n",
    "      <td bgcolor=\"#cccccc\"></td>\n",
    "    </TR>\n",
    "    <TR> \n",
    "      <td bgcolor=\"#cccccc\">7</td>\n",
    "      <TD ALIGN=\"CENTER\" HEIGHT=\"20\"> 90</TD>\n",
    "      <TD ALIGN=\"CENTER\"> 65</TD>\n",
    "      <TD ALIGN=\"CENTER\"> 75</TD>\n",
    "      <TD ALIGN=\"CENTER\"> 65</TD>\n",
    "      <td bgcolor=\"#cccccc\"></td>\n",
    "      <td bgcolor=\"#cccccc\"></td>\n",
    "      <td bgcolor=\"#cccccc\"></td>\n",
    "      <td bgcolor=\"#cccccc\"></td>\n",
    "      <td bgcolor=\"#cccccc\"></td>\n",
    "    </TR>\n",
    "    <TR> \n",
    "      <td bgcolor=\"#cccccc\">8</td>\n",
    "      <TD ALIGN=\"CENTER\" HEIGHT=\"20\"> 75</TD>\n",
    "      <TD ALIGN=\"CENTER\"> 70</TD>\n",
    "      <TD ALIGN=\"CENTER\"> 60</TD>\n",
    "      <TD ALIGN=\"CENTER\"> 85</TD>\n",
    "      <td bgcolor=\"#cccccc\"></td>\n",
    "      <td bgcolor=\"#cccccc\"></td>\n",
    "      <td bgcolor=\"#cccccc\"></td>\n",
    "      <td bgcolor=\"#cccccc\"></td>\n",
    "      <td bgcolor=\"#cccccc\"></td>\n",
    "    </TR>\n",
    "    <TR> \n",
    "      <td bgcolor=\"#cccccc\">9</td>\n",
    "      <TD ALIGN=\"CENTER\" HEIGHT=\"20\"> 85</TD>\n",
    "      <TD ALIGN=\"CENTER\"> 85</TD>\n",
    "      <TD ALIGN=\"CENTER\"> 85</TD>\n",
    "      <TD ALIGN=\"CENTER\"> 80</TD>\n",
    "      <td bgcolor=\"#cccccc\"></td>\n",
    "      <td bgcolor=\"#cccccc\"></td>\n",
    "      <td bgcolor=\"#cccccc\"></td>\n",
    "      <td bgcolor=\"#cccccc\"></td>\n",
    "      <td bgcolor=\"#cccccc\"></td>\n",
    "    </TR>\n",
    "    <TR> \n",
    "      <td bgcolor=\"#cccccc\">10</td>\n",
    "      <TD ALIGN=\"CENTER\" HEIGHT=\"20\"> 65</TD>\n",
    "      <TD ALIGN=\"CENTER\"> 60</TD>\n",
    "      <TD ALIGN=\"CENTER\"> 65</TD>\n",
    "      <TD ALIGN=\"CENTER\"> 60</TD>\n",
    "      <td bgcolor=\"#cccccc\"></td>\n",
    "      <td bgcolor=\"#cccccc\"></td>\n",
    "      <td bgcolor=\"#cccccc\"></td>\n",
    "      <td bgcolor=\"#cccccc\"></td>\n",
    "      <td bgcolor=\"#cccccc\"></td>\n",
    "    </TR>\n",
    "    <TR> \n",
    "      <td bgcolor=\"#cccccc\">11</td>\n",
    "      <TD ALIGN=\"CENTER\" HEIGHT=\"20\"> 75</TD>\n",
    "      <TD ALIGN=\"CENTER\"> 65</TD>\n",
    "      <TD ALIGN=\"CENTER\"> 75</TD>\n",
    "      <TD ALIGN=\"CENTER\"> 70</TD>\n",
    "      <td bgcolor=\"#cccccc\"></td>\n",
    "      <td bgcolor=\"#cccccc\"></td>\n",
    "      <td bgcolor=\"#cccccc\"></td>\n",
    "      <td bgcolor=\"#cccccc\"></td>\n",
    "      <td bgcolor=\"#cccccc\"></td>\n",
    "    </TR>\n",
    "    <TR> \n",
    "      <td bgcolor=\"#cccccc\">12</td>\n",
    "      <TD ALIGN=\"CENTER\" HEIGHT=\"20\"> 85</TD>\n",
    "      <TD ALIGN=\"CENTER\"> 75</TD>\n",
    "      <TD ALIGN=\"CENTER\"> 70</TD>\n",
    "      <TD ALIGN=\"CENTER\"> 75</TD>\n",
    "      <td bgcolor=\"#cccccc\"></td>\n",
    "      <td bgcolor=\"#cccccc\"></td>\n",
    "      <td bgcolor=\"#cccccc\"></td>\n",
    "      <td bgcolor=\"#cccccc\"></td>\n",
    "      <td bgcolor=\"#cccccc\"></td>\n",
    "    </TR>\n",
    "    <TR> \n",
    "      <td bgcolor=\"#cccccc\">13</td>\n",
    "      <TD ALIGN=\"CENTER\" HEIGHT=\"20\"> 80</TD>\n",
    "      <TD ALIGN=\"CENTER\"> 70</TD>\n",
    "      <TD ALIGN=\"CENTER\"> 65</TD>\n",
    "      <TD ALIGN=\"CENTER\"> 70</TD>\n",
    "      <td bgcolor=\"#cccccc\"></td>\n",
    "      <td bgcolor=\"#cccccc\"></td>\n",
    "      <td bgcolor=\"#cccccc\"></td>\n",
    "      <td bgcolor=\"#cccccc\"></td>\n",
    "      <td bgcolor=\"#cccccc\"></td>\n",
    "    </TR>\n",
    "    <TR> \n",
    "      <td bgcolor=\"#cccccc\">14</td>\n",
    "      <TD ALIGN=\"CENTER\" HEIGHT=\"20\"> 85</TD>\n",
    "      <TD ALIGN=\"CENTER\"> 80</TD>\n",
    "      <TD ALIGN=\"CENTER\"> 80</TD>\n",
    "      <TD ALIGN=\"CENTER\"> 80</TD>\n",
    "      <td bgcolor=\"#cccccc\"></td>\n",
    "      <td bgcolor=\"#cccccc\"></td>\n",
    "      <td bgcolor=\"#cccccc\"></td>\n",
    "      <td bgcolor=\"#cccccc\"></td>\n",
    "      <td bgcolor=\"#cccccc\"></td>\n",
    "    </TR>\n",
    "    <TR> \n",
    "      <td bgcolor=\"#cccccc\">15</td>\n",
    "      <TD ALIGN=\"CENTER\" HEIGHT=\"20\"> 90</TD>\n",
    "      <TD ALIGN=\"CENTER\"> 75</TD>\n",
    "      <TD ALIGN=\"CENTER\"> 75</TD>\n",
    "      <TD ALIGN=\"CENTER\"> 85</TD>\n",
    "      <td bgcolor=\"#cccccc\"></td>\n",
    "      <td bgcolor=\"#cccccc\"></td>\n",
    "      <td bgcolor=\"#cccccc\"></td>\n",
    "      <td bgcolor=\"#cccccc\"></td>\n",
    "      <td bgcolor=\"#cccccc\"></td>\n",
    "    </TR>\n",
    "    <tr><td bgcolor=\"#cccccc\">平均</td><td>( a )</td><td>( b )</td><td>( c )</td><td>( d )</td>\n",
    "        <td>( e )</td><td>( f )</td><td>( g )</td><td> ( h )</td><td>( i )</td>\n",
    "    </tr>\n",
    "    <tr><td bgcolor=\"#cccccc\">偏差平方和</td><td>( j )</td><td>( k )</td><td>( l )</td><td>( m )</td>\n",
    "        <td bgcolor=\"#cccccc\"></td><td bgcolor=\"#cccccc\"></td><td bgcolor=\"#cccccc\"></td><td bgcolor=\"#cccccc\"></td><td>( n )</td>\n",
    "    </tr>\n",
    "    </TABLE>"
   ]
  },
  {
   "cell_type": "code",
   "execution_count": 56,
   "metadata": {
    "collapsed": true
   },
   "outputs": [],
   "source": [
    "# 以下の４つをそれぞれ「群」と呼びます。\n",
    "v13 = [65, 85, 75, 85, 75, 80, 90, 75, 85, 65, 75, 85, 80, 85, 90] # クリスピーで辛口\n",
    "v14 = [65, 70, 80, 75, 70, 60, 65, 70, 85, 60, 65, 75, 70, 80, 75] # クリスピーで普通味\n",
    "v23 = [70, 65, 85, 80, 75, 65, 75, 60, 85, 65, 75, 70, 65, 80, 75] # 普通の衣で辛口\n",
    "v24 = [70, 70, 85, 80, 65, 75, 65, 85, 80, 60, 70, 75, 70, 80, 85] # 普通の衣で普通味"
   ]
  },
  {
   "cell_type": "code",
   "execution_count": 57,
   "metadata": {
    "collapsed": false
   },
   "outputs": [],
   "source": [
    "# 以下の４つのうち、上２つを「要因１（食感）」、下２つを「要因２（味）」と呼びます。\n",
    "v1 = v13 + v14 # クリスピーのデータを作ってください。\n",
    "v2 = v23 + v24 # 普通の衣のデータを作ってください。\n",
    "v3 = v13 + v23 # 辛口のデータを作ってください。\n",
    "v4 = v14 + v24 # 普通味のデータを作ってください。"
   ]
  },
  {
   "cell_type": "markdown",
   "metadata": {},
   "source": [
    "* 各項目の平均値を計算してください（上表 a, b, c, d, e, f, g, h, i ）"
   ]
  },
  {
   "cell_type": "code",
   "execution_count": 31,
   "metadata": {
    "collapsed": false
   },
   "outputs": [
    {
     "name": "stdout",
     "output_type": "stream",
     "text": [
      "(79.66666666666667, 71.0, 72.66666666666667, 74.33333333333333)\n",
      "(75.33333333333333, 73.5, 76.16666666666667, 72.66666666666667)\n",
      "74.4166666667\n"
     ]
    }
   ],
   "source": [
    "a = average(v13)\n",
    "b = average(v14)\n",
    "c = average(v23)\n",
    "d = average(v24)\n",
    "e = average(v1)\n",
    "f = average(v2)\n",
    "g = average(v3)\n",
    "h = average(v4)\n",
    "i = average(v13 + v14 + v23 + v24)\n",
    "print (a, b, c, d)\n",
    "print (e, f, g, h)\n",
    "print (i)"
   ]
  },
  {
   "cell_type": "markdown",
   "metadata": {},
   "source": [
    "* 各群の偏差平方和を計算してください（上表 j, k, l, m ）。また、全体の偏差平方和を計算してください（上表 n ）。"
   ]
  },
  {
   "cell_type": "code",
   "execution_count": 32,
   "metadata": {
    "collapsed": false
   },
   "outputs": [
    {
     "name": "stdout",
     "output_type": "stream",
     "text": [
      "(873.3333333333333, 760.0, 843.3333333333333, 893.3333333333333)\n",
      "4004.58333333\n"
     ]
    }
   ],
   "source": [
    "j = sum_square_deviation(v13)\n",
    "k = sum_square_deviation(v14)\n",
    "l = sum_square_deviation(v23)\n",
    "m = sum_square_deviation(v24)\n",
    "n = sum_square_deviation(v13 + v14 + v23 + v24)\n",
    "print (j, k, l, m)\n",
    "print (n)"
   ]
  },
  {
   "cell_type": "markdown",
   "metadata": {},
   "source": [
    "__要因1によるズレを計算してください__ （下表 o )"
   ]
  },
  {
   "cell_type": "markdown",
   "metadata": {},
   "source": [
    "* 要因1（食感）によるズレ ＝ (クリスピーの平均 ー 全体の平均)の２乗 ✕ クリスピーのデータ個数　＋　(普通の衣の平均 ー 全体の平均)の２乗　✕ 普通衣のデータ個数"
   ]
  },
  {
   "cell_type": "code",
   "execution_count": 33,
   "metadata": {
    "collapsed": false
   },
   "outputs": [
    {
     "name": "stdout",
     "output_type": "stream",
     "text": [
      "50.4166666667\n"
     ]
    }
   ],
   "source": [
    "o = (average(v1) - average(v13 + v14 + v23 + v24))**2 * len(v1) + \\\n",
    "     (average(v2) - average(v13 + v14 + v23 + v24))**2 * len(v2)\n",
    "print o"
   ]
  },
  {
   "cell_type": "markdown",
   "metadata": {},
   "source": [
    "__要因2によるズレを計算してください__ (下表 p )"
   ]
  },
  {
   "cell_type": "markdown",
   "metadata": {},
   "source": [
    "* 要因２（味）によるズレ ＝ (辛口の平均 ー 全体の平均)の２乗 ✕ 辛口のデータ個数　＋　(普通味の平均 ー 全体の平均)の２乗　✕ 普通味のデータ個数"
   ]
  },
  {
   "cell_type": "code",
   "execution_count": 34,
   "metadata": {
    "collapsed": false
   },
   "outputs": [
    {
     "name": "stdout",
     "output_type": "stream",
     "text": [
      "183.75\n"
     ]
    }
   ],
   "source": [
    "p = (average(v3) - average(v13 + v14 + v23 + v24))**2 * len(v3) + \\\n",
    "     (average(v4) - average(v13 + v14 + v23 + v24))**2 * len(v4)\n",
    "print p"
   ]
  },
  {
   "cell_type": "markdown",
   "metadata": {},
   "source": [
    "__交互作用によるズレを計算してください__ (下表 q )"
   ]
  },
  {
   "cell_type": "markdown",
   "metadata": {},
   "source": [
    "* 各群の平均のズレ＝ Σ(（各群の平均　ー　全体の平均）の2乗✕ 各群のデータ個数)\n",
    "* 交互作用によるズレ　=　各群の平均のズレ　－　要因1によるズレ　－　要因2よるズレ"
   ]
  },
  {
   "cell_type": "code",
   "execution_count": 36,
   "metadata": {
    "collapsed": false
   },
   "outputs": [
    {
     "name": "stdout",
     "output_type": "stream",
     "text": [
      "400.416666667\n"
     ]
    }
   ],
   "source": [
    "q = (average(v13) - average(v13 + v14 + v23 + v24))**2 * len(v13) \\\n",
    "    + (average(v14) - average(v13 + v14 + v23 + v24))**2 * len(v14) \\\n",
    "    + (average(v23) - average(v13 + v14 + v23 + v24))**2 * len(v23) \\\n",
    "    + (average(v24) - average(v13 + v14 + v23 + v24))**2 * len(v24) \\\n",
    "    - o - p\n",
    "print q"
   ]
  },
  {
   "cell_type": "markdown",
   "metadata": {},
   "source": [
    "__残りのズレ（残差）を計算してください__ (下表 r )"
   ]
  },
  {
   "cell_type": "markdown",
   "metadata": {},
   "source": [
    "* 残りのズレ（残差）とは、群内の偏差平方和を足したものです（ j + k + l + m ）。"
   ]
  },
  {
   "cell_type": "code",
   "execution_count": 37,
   "metadata": {
    "collapsed": false
   },
   "outputs": [
    {
     "name": "stdout",
     "output_type": "stream",
     "text": [
      "3370.0\n"
     ]
    }
   ],
   "source": [
    "r = j + k + l + m\n",
    "print r"
   ]
  },
  {
   "cell_type": "markdown",
   "metadata": {},
   "source": [
    "__分散分析表を作る__\n",
    "\n",
    "o, p, q, r, n は既に計算済みです。"
   ]
  },
  {
   "cell_type": "markdown",
   "metadata": {},
   "source": [
    "<TABLE BORDER=\"1\" align=\"center\" CELLPADDING=\"2\" CELLSPACING=\"0\">\n",
    "  <TR> \n",
    "    <TD WIDTH=100 BGCOLOR=\"#CCCCCC\"> <div align=\"center\">要因 </div></TD>\n",
    "    <TD WIDTH=100 BGCOLOR=\"#DDDDDD\"> <CENTER>\n",
    "       偏差平方和 </CENTER></TD>\n",
    "    <TD WIDTH=100 BGCOLOR=\"#DDDDDD\"> <CENTER>\n",
    "        自由度 </CENTER></TD>\n",
    "    <TD WIDTH=100 BGCOLOR=\"#DDDDDD\"> <CENTER>\n",
    "        平均平方 </CENTER></TD>\n",
    "    <TD WIDTH=100 BGCOLOR=\"#DDDDDD\"> <CENTER>\n",
    "        F </CENTER></TD>\n",
    "  </TR>\n",
    "  <TR> \n",
    "    <TD WIDTH=100 BGCOLOR=\"#DDDDDD\"> <div align=\"center\">要因1 </div></TD>\n",
    "    <TD WIDTH=100> <div align=\"right\">( o )</div></TD>\n",
    "    <TD WIDTH=100> <div align=\"right\">( s )</div></TD>\n",
    "    <TD WIDTH=100> <div align=\"right\">( x )</div></TD>\n",
    "    <TD WIDTH=100> <div align=\"right\">( bb )</div></TD>\n",
    "  </TR>\n",
    "  <TR> \n",
    "    <TD WIDTH=100 BGCOLOR=\"#DDDDDD\"> <div align=\"center\">要因2 </div></TD>\n",
    "    <TD WIDTH=100> <div align=\"right\">( p )</div></TD>\n",
    "    <TD WIDTH=100> <div align=\"right\">( t )</div></TD>\n",
    "    <TD WIDTH=100> <div align=\"right\">( y )</div></TD>\n",
    "    <TD WIDTH=100> <div align=\"right\">( cc )</div></TD>\n",
    "  </TR>\n",
    "  <TR> \n",
    "    <TD WIDTH=100 BGCOLOR=\"#dddddd\"> <div align=\"center\">交互作用 </div></TD>\n",
    "    <TD WIDTH=100> <div align=\"right\">( q )</div></TD>\n",
    "    <TD WIDTH=100> <div align=\"right\">( u )</div></TD>\n",
    "    <TD WIDTH=100> <div align=\"right\">( z )</div></TD>\n",
    "    <TD WIDTH=100> <div align=\"right\">( dd )</div></TD>\n",
    "  </TR>\n",
    "  <TR> \n",
    "    <TD BGCOLOR=\"#dddddd\"> <div align=\"center\">残差</div></TD>\n",
    "    <TD><div align=\"right\">( r )</div></TD>\n",
    "    <TD><div align=\"right\">( w )</div></TD>\n",
    "    <TD><div align=\"right\">( aa )</div></TD>\n",
    "  </TR>\n",
    "  <TR> \n",
    "    <TD BGCOLOR=\"#CCCCCC\"><div align=\"center\">全体 </div></TD>\n",
    "    <TD><div align=\"right\">( n )</div></TD>\n",
    "    <TD><div align=\"right\">( v )</div></TD>\n",
    "  </TR>\n",
    "</TABLE>"
   ]
  },
  {
   "cell_type": "markdown",
   "metadata": {},
   "source": [
    "* 自由度を求めてください。\n",
    "  * (上表 s ) 要因1の自由度 ＝ 要因1の中の条件数（群の数）から１を引いたもの\n",
    "  * (上表 t ) 要因2の自由度 ＝ 要因2の中の条件数（群の数）から１を引いたもの\n",
    "  * (上表 u ) 交互作用の自由度　＝ 要因1の自由度 ✕ 要因2の自由度\n",
    "  * (上表 v ) 全体の自由度　＝ 全データ数から１を引いたもの\n",
    "  * (上表 w ) 残差の自由度 ＝ 全体の自由度 ー 要因1の自由度 ー 要因2の自由度 ー 交互作用の自由度"
   ]
  },
  {
   "cell_type": "code",
   "execution_count": 38,
   "metadata": {
    "collapsed": false
   },
   "outputs": [
    {
     "name": "stdout",
     "output_type": "stream",
     "text": [
      "(1, 1, 1, 56, 59)\n"
     ]
    }
   ],
   "source": [
    "s = 2 - 1\n",
    "t = 2 - 1\n",
    "u = s * t\n",
    "v = len(v13) + len(v14) + len(v23) + len(v24) - 1\n",
    "w = v - s - t - u\n",
    "print (s, t, u, w, v)"
   ]
  },
  {
   "cell_type": "markdown",
   "metadata": {},
   "source": [
    "* 平均平方を求めてください。(上表 x, y, z, aa )\n",
    "  * 平均平方 ＝ 偏差平方和 ／ 自由度"
   ]
  },
  {
   "cell_type": "code",
   "execution_count": 39,
   "metadata": {
    "collapsed": false
   },
   "outputs": [
    {
     "name": "stdout",
     "output_type": "stream",
     "text": [
      "(50.4166666666664, 183.75, 400.41666666666754, 60.17857142857143)\n"
     ]
    }
   ],
   "source": [
    "x = o / s\n",
    "y = p / t\n",
    "z = q / u\n",
    "aa = r / w\n",
    "print (x, y, z, aa)"
   ]
  },
  {
   "cell_type": "markdown",
   "metadata": {},
   "source": [
    "* F値を求めてください。\n",
    "  * (上表 bb ) 要因1のF値 ＝ 要因1の平均平方 ／ 残差の平均平方\n",
    "  * (上表 cc ) 要因2のF値 ＝ 要因2の平均平方 ／ 残差の平均平方\n",
    "  * (上表 dd ) 交互作用のF値 ＝ 交互作用の平均平方 ／ 残差の平均平方"
   ]
  },
  {
   "cell_type": "code",
   "execution_count": 54,
   "metadata": {
    "collapsed": false
   },
   "outputs": [
    {
     "name": "stdout",
     "output_type": "stream",
     "text": [
      "(0.8377843719089966, 3.0534124629080117, 6.653808110781418)\n"
     ]
    }
   ],
   "source": [
    "bb = x / aa\n",
    "cc = y / aa\n",
    "dd = z / aa\n",
    "print (bb, cc, dd)"
   ]
  },
  {
   "cell_type": "code",
   "execution_count": 58,
   "metadata": {
    "collapsed": true
   },
   "outputs": [],
   "source": [
    "# これまでのをまとめると\n",
    "def variance_analysis(v13, v14, v23, v24):\n",
    "    v1 = v13 + v14 \n",
    "    v2 = v23 + v24 \n",
    "    v3 = v13 + v23 \n",
    "    v4 = v14 + v24 \n",
    "    a = average(v13)\n",
    "    b = average(v14)\n",
    "    c = average(v23)\n",
    "    d = average(v24)\n",
    "    e = average(v1)\n",
    "    f = average(v2)\n",
    "    g = average(v3)\n",
    "    h = average(v4)\n",
    "    i = average(v13 + v14 + v23 + v24)\n",
    "    j = sum_square_deviation(v13)\n",
    "    k = sum_square_deviation(v14)\n",
    "    l = sum_square_deviation(v23)\n",
    "    m = sum_square_deviation(v24)\n",
    "    n = sum_square_deviation(v13 + v14 + v23 + v24)\n",
    "    o = (average(v1) - average(v13 + v14 + v23 + v24))**2 * len(v1) + \\\n",
    "         (average(v2) - average(v13 + v14 + v23 + v24))**2 * len(v2)\n",
    "    p = (average(v3) - average(v13 + v14 + v23 + v24))**2 * len(v3) + \\\n",
    "         (average(v4) - average(v13 + v14 + v23 + v24))**2 * len(v4)\n",
    "    q = (average(v13) - average(v13 + v14 + v23 + v24))**2 * len(v13) \\\n",
    "        + (average(v14) - average(v13 + v14 + v23 + v24))**2 * len(v14) \\\n",
    "        + (average(v23) - average(v13 + v14 + v23 + v24))**2 * len(v23) \\\n",
    "        + (average(v24) - average(v13 + v14 + v23 + v24))**2 * len(v24) \\\n",
    "        - o - p\n",
    "    r = j + k + l + m\n",
    "    s = 2 - 1\n",
    "    t = 2 - 1\n",
    "    u = s * t\n",
    "    v = len(v13) + len(v14) + len(v23) + len(v24) - 1\n",
    "    w = v - s - t - u\n",
    "    x = o / s\n",
    "    y = p / t\n",
    "    z = q / u\n",
    "    aa = r / w\n",
    "    bb = x / aa\n",
    "    cc = y / aa\n",
    "    dd = z / aa\n",
    "    return (bb, cc, dd)"
   ]
  },
  {
   "cell_type": "code",
   "execution_count": 59,
   "metadata": {
    "collapsed": false
   },
   "outputs": [
    {
     "data": {
      "text/plain": [
       "(0.8377843719089966, 3.0534124629080117, 6.653808110781418)"
      ]
     },
     "execution_count": 59,
     "metadata": {},
     "output_type": "execute_result"
    }
   ],
   "source": [
    "variance_analysis(v13, v14, v23, v24)"
   ]
  },
  {
   "cell_type": "markdown",
   "metadata": {},
   "source": [
    "* 計算したF値と、F分布表を比較して、以下の問いに答えてください。\n",
    "  * 要因1（食感）による点数の差があるかどうか答えてください。\n",
    "  * 要因2（味）　による点数の差があるかどうか答えてください。\n",
    "  * 交互作用による点数の差があるかどうか答えてください。"
   ]
  },
  {
   "cell_type": "code",
   "execution_count": 41,
   "metadata": {
    "collapsed": true
   },
   "outputs": [],
   "source": [
    "# 要因1（食感）による点数の差があるかどうか答えてください。\n",
    "\n",
    "# 要因1では、群内の自由度が56（近いところで60）、群間の自由度が1になります。\n",
    "# F分布表を見ると、5%有意水準で、F=4.00、1%有意水準で、F=7.08、となりますので、\n",
    "# 要因1のF=0.84　というのは、いずれの棄却域にも入りません。\n",
    "# したがって、「食感の要因による点数の差はない」と結論できます。"
   ]
  },
  {
   "cell_type": "code",
   "execution_count": 42,
   "metadata": {
    "collapsed": true
   },
   "outputs": [],
   "source": [
    "# 要因2（味）　による点数の差があるかどうか答えてください。\n",
    "\n",
    "# 要因２でも、群内の自由度が56（近いところで60）、群間の自由度が1になります。\n",
    "# F分布表を見ると、5%有意水準で、F=4.00、1%有意水準で、F=7.08、となりますので、\n",
    "# 要因2のF=3.05　というのは、いずれの棄却域にも入りません。\n",
    "# したがって、「味の要因による点数の差はない」と結論できます。"
   ]
  },
  {
   "cell_type": "code",
   "execution_count": 43,
   "metadata": {
    "collapsed": true
   },
   "outputs": [],
   "source": [
    "# 交互作用による点数の差があるかどうか答えてください。\n",
    "\n",
    "# 交互作用でも、群内の自由度が56（近いところで60）、群間の自由度が1になります。\n",
    "# F分布表を見ると、5%有意水準で、F=4.00、1%有意水準で、F=7.08、となりますので、\n",
    "# 交互作用のF=6.65　というのは、5%有意水準において棄却域に入ります。\n",
    "# 以上から、要因１要因２の単独の効果はないが、組み合わせによる効果はある（点数の差がある）と言えます。"
   ]
  },
  {
   "cell_type": "markdown",
   "metadata": {},
   "source": [
    "### 7.3　[交互作用とは?](http://kogolab.chillout.jp/elearn/hamburger/chap7/sec3.html)\n",
    "本文を読んで概念を学んでください。"
   ]
  },
  {
   "cell_type": "markdown",
   "metadata": {},
   "source": [
    "### 7.4　[実践編：セットでいこう](http://kogolab.chillout.jp/elearn/hamburger/chap7/sec4.html)"
   ]
  },
  {
   "cell_type": "markdown",
   "metadata": {},
   "source": [
    "__課題7.4__ 次のデータで同様に分散分析をしてください。\n",
    "<TABLE WIDTH=\"403\" HEIGHT=\"351\" BORDER=\"1\" CELLSPACING=\"0\" \n",
    "  CELLPADDING=\"0\">\n",
    "    <TR> \n",
    "      <TD height=\"29\" COLSPAN=\"2\" BGCOLOR=\"#ff9c05\"> \n",
    "        <CENTER>\n",
    "          ピリ辛バーガー </CENTER></TD>\n",
    "      <TD COLSPAN=\"2\" BGCOLOR=\"#f97c6a\"> <CENTER>\n",
    "          普通のハンバーガー </CENTER></TD>\n",
    "    </TR>\n",
    "    <TR> \n",
    "      <TD WIDTH=\"20%\" BGCOLOR=\"#fb3a04\" HEIGHT=\"20\"> <CENTER>\n",
    "          ピリ辛ポテト </CENTER></TD>\n",
    "      <TD WIDTH=\"20%\" BGCOLOR=\"#ffd303\"> <CENTER>\n",
    "          普通のポテト </CENTER></TD>\n",
    "      <TD WIDTH=\"20%\" BGCOLOR=\"#fa3a04\"> <CENTER>\n",
    "          ピリ辛ポテト </CENTER></TD>\n",
    "      <TD WIDTH=\"20%\" BGCOLOR=\"#ffd303\"> <CENTER>\n",
    "          普通のポテト </CENTER></TD>\n",
    "    </TR>\n",
    "    <TR> \n",
    "      <TD ALIGN=\"CENTER\"> 80</TD>\n",
    "      <TD ALIGN=\"CENTER\"> 85</TD>\n",
    "      <TD ALIGN=\"CENTER\" HEIGHT=\"20\"> 60</TD>\n",
    "      <TD ALIGN=\"CENTER\"> 55</TD>\n",
    "    </TR>\n",
    "    <TR> \n",
    "      <TD ALIGN=\"CENTER\"> 85</TD>\n",
    "      <TD ALIGN=\"CENTER\"> 65</TD>\n",
    "      <TD ALIGN=\"CENTER\" HEIGHT=\"20\"> 70</TD>\n",
    "      <TD ALIGN=\"CENTER\"> 65</TD>\n",
    "    </TR>\n",
    "    <TR> \n",
    "      <TD ALIGN=\"CENTER\"> 75</TD>\n",
    "      <TD ALIGN=\"CENTER\"> 80</TD>\n",
    "      <TD ALIGN=\"CENTER\" HEIGHT=\"20\"> 80</TD>\n",
    "      <TD ALIGN=\"CENTER\"> 50</TD>\n",
    "    </TR>\n",
    "    <TR> \n",
    "      <TD ALIGN=\"CENTER\"> 70</TD>\n",
    "      <TD ALIGN=\"CENTER\"> 75</TD>\n",
    "      <TD ALIGN=\"CENTER\" HEIGHT=\"20\"> 75</TD>\n",
    "      <TD ALIGN=\"CENTER\"> 70</TD>\n",
    "    </TR>\n",
    "    <TR> \n",
    "      <TD ALIGN=\"CENTER\"> 75</TD>\n",
    "      <TD ALIGN=\"CENTER\"> 85</TD>\n",
    "      <TD ALIGN=\"CENTER\" HEIGHT=\"20\"> 65</TD>\n",
    "      <TD ALIGN=\"CENTER\"> 50</TD>\n",
    "    </TR>\n",
    "    <TR> \n",
    "      <TD ALIGN=\"CENTER\"> 60</TD>\n",
    "      <TD ALIGN=\"CENTER\"> 65</TD>\n",
    "      <TD ALIGN=\"CENTER\" HEIGHT=\"20\"> 60</TD>\n",
    "      <TD ALIGN=\"CENTER\"> 65</TD>\n",
    "    </TR>\n",
    "    <TR> \n",
    "      <TD ALIGN=\"CENTER\"> 70</TD>\n",
    "      <TD ALIGN=\"CENTER\"> 75</TD>\n",
    "      <TD ALIGN=\"CENTER\" HEIGHT=\"20\"> 70</TD>\n",
    "      <TD ALIGN=\"CENTER\"> 75</TD>\n",
    "    </TR>\n",
    "    <TR> \n",
    "      <TD ALIGN=\"CENTER\"> 75</TD>\n",
    "      <TD ALIGN=\"CENTER\"> 60</TD>\n",
    "      <TD ALIGN=\"CENTER\" HEIGHT=\"20\"> 75</TD>\n",
    "      <TD ALIGN=\"CENTER\"> 65</TD>\n",
    "    </TR>\n",
    "    <TR> \n",
    "      <TD ALIGN=\"CENTER\"> 85</TD>\n",
    "      <TD ALIGN=\"CENTER\"> 80</TD>\n",
    "      <TD ALIGN=\"CENTER\" HEIGHT=\"20\"> 80</TD>\n",
    "      <TD ALIGN=\"CENTER\"> 75</TD>\n",
    "    </TR>\n",
    "    <TR> \n",
    "      <TD ALIGN=\"CENTER\"> 70</TD>\n",
    "      <TD ALIGN=\"CENTER\"> 70</TD>\n",
    "      <TD ALIGN=\"CENTER\" HEIGHT=\"20\"> 65</TD>\n",
    "      <TD ALIGN=\"CENTER\"> 65</TD>\n",
    "    </TR>\n",
    "    <TR> \n",
    "      <TD ALIGN=\"CENTER\"> 75</TD>\n",
    "      <TD ALIGN=\"CENTER\"> 75</TD>\n",
    "      <TD ALIGN=\"CENTER\" HEIGHT=\"20\"> 65</TD>\n",
    "      <TD ALIGN=\"CENTER\"> 70</TD>\n",
    "    </TR>\n",
    "    <TR> \n",
    "      <TD ALIGN=\"CENTER\"> 85</TD>\n",
    "      <TD ALIGN=\"CENTER\"> 80</TD>\n",
    "      <TD ALIGN=\"CENTER\" HEIGHT=\"20\"> 75</TD>\n",
    "      <TD ALIGN=\"CENTER\"> 55</TD>\n",
    "    </TR>\n",
    "    <TR> \n",
    "      <TD ALIGN=\"CENTER\"> 75</TD>\n",
    "      <TD ALIGN=\"CENTER\"> 65</TD>\n",
    "      <TD ALIGN=\"CENTER\" HEIGHT=\"20\"> 70</TD>\n",
    "      <TD ALIGN=\"CENTER\"> 65</TD>\n",
    "    </TR>\n",
    "    <TR> \n",
    "      <TD ALIGN=\"CENTER\"> 85</TD>\n",
    "      <TD ALIGN=\"CENTER\"> 85</TD>\n",
    "      <TD ALIGN=\"CENTER\" HEIGHT=\"20\"> 85</TD>\n",
    "      <TD ALIGN=\"CENTER\"> 70</TD>\n",
    "    </TR>\n",
    "    <TR> \n",
    "      <TD ALIGN=\"CENTER\"> 90</TD>\n",
    "      <TD ALIGN=\"CENTER\"> 75</TD>\n",
    "      <TD ALIGN=\"CENTER\" HEIGHT=\"20\"> 60</TD>\n",
    "      <TD ALIGN=\"CENTER\"> 65</TD>\n",
    "    </TR>\n",
    "  </TABLE>"
   ]
  },
  {
   "cell_type": "code",
   "execution_count": 60,
   "metadata": {
    "collapsed": true
   },
   "outputs": [],
   "source": [
    "# 以下の４つをそれぞれ「群」と呼びます。\n",
    "v13 = [80, 85, 75, 70, 75, 60, 70, 75, 85, 70, 75, 85, 75, 85, 90] # ピリ辛バーガー + ピリ辛ポテト\n",
    "v14 = [85, 65, 80, 75, 85, 65, 75, 60, 80, 70, 75, 80, 65, 85, 75] # ピリ辛バーガー + 普通のポテト\n",
    "v23 = [60, 70, 80, 75, 65, 60, 70, 75, 80, 65, 65, 75, 70, 85, 60] # 普通のハンバーガー + ピリ辛ポテト\n",
    "v24 = [55, 65, 50, 70, 50, 65, 75, 65, 75, 65, 70, 55, 65, 70, 65] # 普通のハンバーガー + 普通のポテト"
   ]
  },
  {
   "cell_type": "code",
   "execution_count": 61,
   "metadata": {
    "collapsed": false
   },
   "outputs": [],
   "source": [
    "# 以下の４つのうち、上２つを「要因１（バーガーの味）」、下２つを「要因２（ポテトの味）」と呼びます。\n",
    "v1 = v13 + v14 # ピリ辛バーガーのデータを作ってください。\n",
    "v2 = v23 + v24 # 普通のバーガーのデータを作ってください。\n",
    "v3 = v13 + v23 # ピリ辛ポテトのデータを作ってください。\n",
    "v4 = v14 + v24 # 普通のポテトのデータを作ってください。"
   ]
  },
  {
   "cell_type": "code",
   "execution_count": 62,
   "metadata": {
    "collapsed": false
   },
   "outputs": [
    {
     "data": {
      "text/plain": [
       "(17.542168674698758, 4.385542168674717, 0.9341983317887215)"
      ]
     },
     "execution_count": 62,
     "metadata": {},
     "output_type": "execute_result"
    }
   ],
   "source": [
    "variance_analysis(v13, v14, v23, v24)"
   ]
  },
  {
   "cell_type": "code",
   "execution_count": 63,
   "metadata": {
    "collapsed": true
   },
   "outputs": [],
   "source": [
    "# 要因1：自由度は1と56、F=17.54。これは1%水準で有意\n",
    "# 要因2：自由度は1と56、F=4.39。これは5%水準で有意\n",
    "# 交互作用：自由度は1と56、F=0.93。これは有意ではない　\n",
    "# この分散分析の結果と、平均値のグラフを読みとると、\n",
    "# ポテトもハンバーガーもセットの組み合わせによる影響がなく、\n",
    "# それぞれの「ピリ辛」が高い評価を得たということがわかります。\n",
    "#したがって、ピリ辛ポテトにピリ辛バーガーの組み合わせが最も高い評価を得ました。"
   ]
  },
  {
   "cell_type": "markdown",
   "metadata": {},
   "source": [
    "### 7.9　[通過テスト](http://kogolab.chillout.jp/elearn/hamburger/chap7/sec9.html)\n",
    "本文を読んで問題を解いてください。"
   ]
  },
  {
   "cell_type": "code",
   "execution_count": 64,
   "metadata": {
    "collapsed": true
   },
   "outputs": [],
   "source": [
    "v13 = [7, 8, 6, 8, 10, 7, 8, 8, 9, 7] # 算数が好きな生徒に普通の教科書で教えた\n",
    "v14 = [8, 9, 10, 10, 8, 8, 9, 7, 10, 8] # 算数が好きな生徒にマンガで教えた\n",
    "v23 = [4, 6, 5, 4, 3, 7, 5, 6, 4, 5] # 算数が嫌いな生徒に普通の教科書で教えた\n",
    "v24 = [8, 7, 8, 6, 9, 7, 8, 8, 10, 8] # 算数が嫌いな生徒にマンガで教えた"
   ]
  },
  {
   "cell_type": "code",
   "execution_count": 65,
   "metadata": {
    "collapsed": true
   },
   "outputs": [],
   "source": [
    "# (1)　この検定での帰無仮説を言いなさい。\n",
    "\n",
    "# マンガを使った教育の効果が、子どもの算数に対する好みによって影響されない。"
   ]
  },
  {
   "cell_type": "code",
   "execution_count": 66,
   "metadata": {
    "collapsed": true
   },
   "outputs": [],
   "source": [
    "# (2)　この検定での対立仮説を言いなさい。\n",
    "\n",
    "# マンガを使った教育の効果が、子どもの算数に対する好みによって影響される。"
   ]
  },
  {
   "cell_type": "code",
   "execution_count": 68,
   "metadata": {
    "collapsed": false
   },
   "outputs": [
    {
     "name": "stdout",
     "output_type": "stream",
     "text": [
      "(7.8, 1.077032961426901)\n",
      "(8.7, 1.004987562112089)\n",
      "(4.9, 1.1357816691600546)\n",
      "(7.9, 1.0440306508910548)\n"
     ]
    }
   ],
   "source": [
    "# (3)　4つの条件におけるそれぞれの平均と標準偏差を計算しなさい\n",
    "print (average(v13), standard_deviation(v13))\n",
    "print (average(v14), standard_deviation(v14))\n",
    "print (average(v23), standard_deviation(v23))\n",
    "print (average(v24), standard_deviation(v24))"
   ]
  },
  {
   "cell_type": "code",
   "execution_count": 79,
   "metadata": {
    "collapsed": false
   },
   "outputs": [
    {
     "data": {
      "image/png": "[encoded data removed]",
      "text/plain": [
       "<matplotlib.figure.Figure at 0x10f342890>"
      ]
     },
     "metadata": {},
     "output_type": "display_data"
    }
   ],
   "source": [
    "# (4)　4つの条件の平均を１つのグラフに描き、それを見て交互作用がありそうかどうかについて、予想しなさい。\n",
    "\n",
    "import matplotlib.pyplot as plt\n",
    "%matplotlib inline\n",
    "plt.plot( [average(v13), average(v14)], '-o', label=\"likes Math\")   # 折れ線 + 円\n",
    "plt.plot( [average(v23), average(v24)], '--o', label=\"hates Math\")  # 破線 + 円\n",
    "plt.legend(loc='best',fancybox=True, shadow=True)\n",
    "plt.xlabel(\"Control and Manga\")\n",
    "plt.xlim([-1, 2])\n",
    "plt.show()"
   ]
  },
  {
   "cell_type": "code",
   "execution_count": 87,
   "metadata": {
    "collapsed": true
   },
   "outputs": [],
   "source": [
    "# どちらも効果はありそうだが、算数嫌いな生徒のほうが効果が大きそう。"
   ]
  },
  {
   "cell_type": "code",
   "execution_count": 81,
   "metadata": {
    "collapsed": true
   },
   "outputs": [],
   "source": [
    "# (5)　分散分析表を作りなさい\n",
    "v1 = v13 + v14 \n",
    "v2 = v23 + v24 \n",
    "v3 = v13 + v23 \n",
    "v4 = v14 + v24 \n",
    "a = average(v13)\n",
    "b = average(v14)\n",
    "c = average(v23)\n",
    "d = average(v24)\n",
    "e = average(v1)\n",
    "f = average(v2)\n",
    "g = average(v3)\n",
    "h = average(v4)\n",
    "i = average(v13 + v14 + v23 + v24)\n",
    "j = sum_square_deviation(v13)\n",
    "k = sum_square_deviation(v14)\n",
    "l = sum_square_deviation(v23)\n",
    "m = sum_square_deviation(v24)\n",
    "n = sum_square_deviation(v13 + v14 + v23 + v24)\n",
    "o = (average(v1) - average(v13 + v14 + v23 + v24))**2 * len(v1) + \\\n",
    "     (average(v2) - average(v13 + v14 + v23 + v24))**2 * len(v2)\n",
    "p = (average(v3) - average(v13 + v14 + v23 + v24))**2 * len(v3) + \\\n",
    "     (average(v4) - average(v13 + v14 + v23 + v24))**2 * len(v4)\n",
    "q = (average(v13) - average(v13 + v14 + v23 + v24))**2 * len(v13) \\\n",
    "    + (average(v14) - average(v13 + v14 + v23 + v24))**2 * len(v14) \\\n",
    "    + (average(v23) - average(v13 + v14 + v23 + v24))**2 * len(v23) \\\n",
    "    + (average(v24) - average(v13 + v14 + v23 + v24))**2 * len(v24) \\\n",
    "    - o - p\n",
    "r = j + k + l + m\n",
    "s = 2 - 1\n",
    "t = 2 - 1\n",
    "u = s * t\n",
    "v = len(v13) + len(v14) + len(v23) + len(v24) - 1\n",
    "w = v - s - t - u\n",
    "x = o / s\n",
    "y = p / t\n",
    "z = q / u\n",
    "aa = r / w\n",
    "bb = x / aa\n",
    "cc = y / aa\n",
    "dd = z / aa"
   ]
  },
  {
   "cell_type": "code",
   "execution_count": 86,
   "metadata": {
    "collapsed": false
   },
   "outputs": [
    {
     "name": "stdout",
     "output_type": "stream",
     "text": [
      "(1, 36, 27.07912087912087)\n",
      "(1, 36, 30.08571428571432)\n",
      "(1, 36, 8.723076923076883)\n"
     ]
    }
   ],
   "source": [
    "print (s, w, bb)\n",
    "print (t, w, cc)\n",
    "print (u, w, dd)"
   ]
  },
  {
   "cell_type": "code",
   "execution_count": 82,
   "metadata": {
    "collapsed": false
   },
   "outputs": [],
   "source": [
    "#(6)　有意水準を1%としたとき、この分散分析表から言えることを書きなさい。\n",
    "\n",
    "# 要因1：自由度は1と36、F=27.08。これは1%水準で有意\n",
    "# 要因2：自由度は1と36、F=30.1。これは1%水準で有意\n",
    "# 交互作用：自由度は1と36、F=8.72。これも1%水準で有意　\n",
    "# この分散分析の結果と、平均値のグラフを読みとると、\n",
    "# 要因１，要因２，交互作用ともに有意差がある。"
   ]
  },
  {
   "cell_type": "code",
   "execution_count": 88,
   "metadata": {
    "collapsed": true
   },
   "outputs": [],
   "source": [
    "# (7)　以上の検定の結果を、わかりやすいことばで説明しなさい。\n",
    "\n",
    "# もともと算数が好きか嫌いかに関わらず、マンガ教材は従来の教材より効果があるが、\n",
    "# 特に算数が嫌いだった生徒に対する効果が高いことがわかった。"
   ]
  },
  {
   "cell_type": "markdown",
   "metadata": {},
   "source": [
    "__今日の課題提出__：計算結果を.ipynb ファイル（または.jsonファイル）として保存し、指定したアドレスまでメールしてください。メールタイトルは「__ハンバーガー統計学67__」とし、メール本文に学籍番号と氏名を明記のこと。また、感想も書いてくれると喜びます。今後の講義の改善につながるかも知れません。"
   ]
  }
 ],
 "metadata": {
  "kernelspec": {
   "display_name": "Python 2",
   "language": "python",
   "name": "python2"
  },
  "language_info": {
   "codemirror_mode": {
    "name": "ipython",
    "version": 2
   },
   "file_extension": ".py",
   "mimetype": "text/x-python",
   "name": "python",
   "nbconvert_exporter": "python",
   "pygments_lexer": "ipython2",
   "version": "2.7.12"
  }
 },
 "nbformat": 4,
 "nbformat_minor": 0
}
