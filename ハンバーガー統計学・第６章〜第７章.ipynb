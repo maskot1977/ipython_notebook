{
 "cells": [
  {
   "cell_type": "markdown",
   "metadata": {},
   "source": [
    "# ハンバーガー統計学 + Python (第6章〜第7章)\n",
    "[ハンバーガー統計学にようこそ！](http://kogolab.chillout.jp/elearn/hamburger/index.html)\n",
    "のページを読み進めながら、以下の課題を Python を使って解いてください。\n",
    "\n",
    "* [アイスクリーム統計学・第１章〜第３章（散布図と相関、相関係数、無相関検定）](http://nbviewer.jupyter.org/github/maskot1977/ipython_notebook/blob/master/%E3%82%A2%E3%82%A4%E3%82%B9%E3%82%AF%E3%83%AA%E3%83%BC%E3%83%A0%E7%B5%B1%E8%A8%88%E5%AD%A6%E3%83%BB%E7%AC%AC%EF%BC%91%E7%AB%A0%E3%80%9C%E7%AC%AC%EF%BC%93%E7%AB%A0.ipynb)\n",
    "* [アイスクリーム統計学・第４章〜第６章（単回帰、偏相関、重回帰）](http://nbviewer.jupyter.org/github/maskot1977/ipython_notebook/blob/master/%E3%82%A2%E3%82%A4%E3%82%B9%E3%82%AF%E3%83%AA%E3%83%BC%E3%83%A0%E7%B5%B1%E8%A8%88%E5%AD%A6%E3%83%BB%E7%AC%AC%EF%BC%94%E7%AB%A0%E3%80%9C%E7%AC%AC%EF%BC%96%E7%AB%A0.ipynb)\n",
    "* [アイスクリーム統計学・第７章〜第９章（相関行列、因子分析1、因子分析2）](http://nbviewer.jupyter.org/github/maskot1977/ipython_notebook/blob/master/%E3%82%A2%E3%82%A4%E3%82%B9%E3%82%AF%E3%83%AA%E3%83%BC%E3%83%A0%E7%B5%B1%E8%A8%88%E5%AD%A6%E3%83%BB%E7%AC%AC%EF%BC%97%E7%AB%A0%E3%80%9C%E7%AC%AC%EF%BC%99%E7%AB%A0.ipynb)\n",
    "* [アイスクリーム統計学・第１０章（主成分分析とクラスター分析）](http://nbviewer.jupyter.org/github/maskot1977/ipython_notebook/blob/master/%E3%82%A2%E3%82%A4%E3%82%B9%E3%82%AF%E3%83%AA%E3%83%BC%E3%83%A0%E7%B5%B1%E8%A8%88%E5%AD%A6%E3%83%BB%E7%AC%AC%EF%BC%91%EF%BC%90%E7%AB%A0.ipynb)\n",
    "* [ハンバーガー統計学・第１章〜第２章（平均と分散、信頼区間）](http://nbviewer.jupyter.org/github/maskot1977/ipython_notebook/blob/master/%E3%83%8F%E3%83%B3%E3%83%8F%E3%82%99%E3%83%BC%E3%82%AB%E3%82%99%E3%83%BC%E7%B5%B1%E8%A8%88%E5%AD%A6%E3%83%BB%E7%AC%AC%EF%BC%91%E7%AB%A0%E3%80%9C%E7%AC%AC%EF%BC%92%E7%AB%A0.ipynb)\n",
    "* [ハンバーガー統計学・第３章〜第５章（カイ２乗検定、t検定（対応なし・対応あり））](http://nbviewer.jupyter.org/github/maskot1977/ipython_notebook/blob/master/%E3%83%8F%E3%83%B3%E3%83%8F%E3%82%99%E3%83%BC%E3%82%AB%E3%82%99%E3%83%BC%E7%B5%B1%E8%A8%88%E5%AD%A6%E3%83%BB%E7%AC%AC%EF%BC%93%E7%AB%A0%E3%80%9C%E7%AC%AC%EF%BC%95%E7%AB%A0.ipynb)\n",
    "\n",
    "### Jupyter Notebook (IPython Notebook) とは\n",
    "* Python という名のプログラミング言語が使えるプログラミング環境。計算コードと計算結果を同じ場所に時系列で保存できるので、実験系における実験ノートのように、いつどんな処理を行って何を得たのか記録して再現するのに便利。\n",
    "* [当学演習室での Jupyter Notebook の起動方法](https://raw.githubusercontent.com/maskot1977/-/master/%E6%BC%94%E7%BF%92%E5%AE%A4.txt)"
   ]
  },
  {
   "cell_type": "markdown",
   "metadata": {
    "collapsed": true
   },
   "source": [
    "## 6. [分散分析（１要因）](http://kogolab.chillout.jp/elearn/hamburger/chap6/sec0.html)\n",
    "本文を読んで概念を学んでください。"
   ]
  },
  {
   "cell_type": "markdown",
   "metadata": {},
   "source": [
    "### 6.1　[なぜt検定が使えないか](http://kogolab.chillout.jp/elearn/hamburger/chap6/sec1.html)\n",
    "本文を読んで概念を学んでください。"
   ]
  },
  {
   "cell_type": "markdown",
   "metadata": {},
   "source": [
    "### 6.2　[分散分析とは](http://kogolab.chillout.jp/elearn/hamburger/chap6/sec2.html)\n",
    "本文を読んで概念を学んでください。"
   ]
  },
  {
   "cell_type": "markdown",
   "metadata": {},
   "source": [
    "### 6.3　[分散分析をしよう](http://kogolab.chillout.jp/elearn/hamburger/chap6/sec3.html)\n",
    "\n",
    "__課題6.2__：ワクワク、モグモグ、パクパクのポテト20個ずつを手に入れて、駅に向かい、通行人合計60人にランダムにどれかひとつのポテトを食べてもらいました。そして、そのおいしさについて、100点満点で点数をつけてもらいました。このデータについて、以下の問いに答えてください。\n",
    " <TABLE BORDER=1 align=center CELLPADDING=\"0\" CELLSPACING=\"0\">\n",
    "    <TR align=center> \n",
    "      <td bgcolor=\"#cccccc\"></td>\n",
    "      <TD WIDTH=100 HEIGHT=30 bgcolor=\"#EEBBBB\">ワクワク</TD>\n",
    "      <TD WIDTH=100 height=30 bgcolor=\"#BBBBEE\">モグモグ</TD>\n",
    "      <TD WIDTH=100 height=30 bgcolor=\"#BBEEBB\">パクパク</TD>\n",
    "      <td WIDTH=100 height=30 bgcolor=\"#cccccc\">全体</td>\n",
    "      <td WIDTH=100 height=30 bgcolor=\"#cccccc\">群内</td>\n",
    "      <td WIDTH=100 height=30 bgcolor=\"#cccccc\">群間</td>\n",
    "    </TR>\n",
    "    <TR align=center> \n",
    "      <td bgcolor=\"#cccccc\">1</td>\n",
    "      <TD HEIGHT=\"30\">80</TD>\n",
    "      <TD>75</TD>\n",
    "      <TD>80</TD>\n",
    "      <td bgcolor=\"#cccccc\"></td>\n",
    "      <td bgcolor=\"#cccccc\"></td>\n",
    "      <td bgcolor=\"#cccccc\"></td>\n",
    "    </TR>\n",
    "    <TR align=center> \n",
    "      <td bgcolor=\"#cccccc\">2</td>\n",
    "      <TD HEIGHT=\"30\">75</TD>\n",
    "      <TD>70</TD>\n",
    "      <TD>80</TD>\n",
    "      <td bgcolor=\"#cccccc\"></td>\n",
    "      <td bgcolor=\"#cccccc\"></td>\n",
    "      <td bgcolor=\"#cccccc\"></td>\n",
    "    </TR>\n",
    "    <TR align=center> \n",
    "      <td bgcolor=\"#cccccc\">3</td>\n",
    "      <TD HEIGHT=\"30\">80</TD>\n",
    "      <TD>80</TD>\n",
    "      <TD>80</TD>\n",
    "      <td bgcolor=\"#cccccc\"></td>\n",
    "      <td bgcolor=\"#cccccc\"></td>\n",
    "      <td bgcolor=\"#cccccc\"></td>\n",
    "    </TR>\n",
    "    <TR align=center> \n",
    "      <td bgcolor=\"#cccccc\">4</td>\n",
    "      <TD HEIGHT=\"30\">90</TD>\n",
    "      <TD>85</TD>\n",
    "      <TD>90</TD>\n",
    "      <td bgcolor=\"#cccccc\"></td>\n",
    "      <td bgcolor=\"#cccccc\"></td>\n",
    "      <td bgcolor=\"#cccccc\"></td>\n",
    "    </TR>\n",
    "    <TR align=center> \n",
    "      <td bgcolor=\"#cccccc\">5</td>\n",
    "      <TD HEIGHT=\"30\">95</TD>\n",
    "      <TD>90</TD>\n",
    "      <TD>95</TD>\n",
    "      <td bgcolor=\"#cccccc\"></td>\n",
    "      <td bgcolor=\"#cccccc\"></td>\n",
    "      <td bgcolor=\"#cccccc\"></td>\n",
    "    </TR>\n",
    "    <TR align=center> \n",
    "      <td bgcolor=\"#cccccc\">6</td>\n",
    "      <TD HEIGHT=\"30\">80</TD>\n",
    "      <TD>75</TD>\n",
    "      <TD>85</TD>\n",
    "      <td bgcolor=\"#cccccc\"></td>\n",
    "      <td bgcolor=\"#cccccc\"></td>\n",
    "      <td bgcolor=\"#cccccc\"></td>\n",
    "    </TR>\n",
    "    <TR align=center> \n",
    "      <td bgcolor=\"#cccccc\">7</td>\n",
    "      <TD HEIGHT=\"30\">80</TD>\n",
    "      <TD>85</TD>\n",
    "      <TD>95</TD>\n",
    "      <td bgcolor=\"#cccccc\"></td>\n",
    "      <td bgcolor=\"#cccccc\"></td>\n",
    "      <td bgcolor=\"#cccccc\"></td>\n",
    "    </TR>\n",
    "    <TR align=center> \n",
    "      <td bgcolor=\"#cccccc\">8</td>\n",
    "      <TD HEIGHT=\"30\">85</TD>\n",
    "      <TD>80</TD>\n",
    "      <TD>90</TD>\n",
    "      <td bgcolor=\"#cccccc\"></td>\n",
    "      <td bgcolor=\"#cccccc\"></td>\n",
    "      <td bgcolor=\"#cccccc\"></td>\n",
    "    </TR>\n",
    "    <TR align=center> \n",
    "      <td bgcolor=\"#cccccc\">9</td>\n",
    "      <TD HEIGHT=\"30\">85</TD>\n",
    "      <TD>80</TD>\n",
    "      <TD>85</TD>\n",
    "      <td bgcolor=\"#cccccc\"></td>\n",
    "      <td bgcolor=\"#cccccc\"></td>\n",
    "      <td bgcolor=\"#cccccc\"></td>\n",
    "    </TR>\n",
    "    <TR align=center> \n",
    "      <td bgcolor=\"#cccccc\">10</td>\n",
    "      <TD HEIGHT=\"30\">80</TD>\n",
    "      <TD>75</TD>\n",
    "      <TD>90</TD>\n",
    "      <td bgcolor=\"#cccccc\"></td>\n",
    "      <td bgcolor=\"#cccccc\"></td>\n",
    "      <td bgcolor=\"#cccccc\"></td>\n",
    "    </TR>\n",
    "    <TR align=center> \n",
    "      <td bgcolor=\"#cccccc\">11</td>\n",
    "      <TD HEIGHT=\"30\">90</TD>\n",
    "      <TD>80</TD>\n",
    "      <TD>95</TD>\n",
    "      <td bgcolor=\"#cccccc\"></td>\n",
    "      <td bgcolor=\"#cccccc\"></td>\n",
    "      <td bgcolor=\"#cccccc\"></td>\n",
    "    </TR>\n",
    "    <TR align=center> \n",
    "      <td bgcolor=\"#cccccc\">12</td>\n",
    "      <TD HEIGHT=\"30\">80</TD>\n",
    "      <TD>75</TD>\n",
    "      <TD>85</TD>\n",
    "      <td bgcolor=\"#cccccc\"></td>\n",
    "      <td bgcolor=\"#cccccc\"></td>\n",
    "      <td bgcolor=\"#cccccc\"></td>\n",
    "    </TR>\n",
    "    <TR align=center> \n",
    "      <td bgcolor=\"#cccccc\">13</td>\n",
    "      <TD HEIGHT=\"30\">75</TD>\n",
    "      <TD>70</TD>\n",
    "      <TD>98</TD>\n",
    "      <td bgcolor=\"#cccccc\"></td>\n",
    "      <td bgcolor=\"#cccccc\"></td>\n",
    "      <td bgcolor=\"#cccccc\"></td>\n",
    "    </TR>\n",
    "    <TR align=center> \n",
    "      <td bgcolor=\"#cccccc\">14</td>\n",
    "      <TD HEIGHT=\"30\">90</TD>\n",
    "      <TD>85</TD>\n",
    "      <TD>95</TD>\n",
    "      <td bgcolor=\"#cccccc\"></td>\n",
    "      <td bgcolor=\"#cccccc\"></td>\n",
    "      <td bgcolor=\"#cccccc\"></td>\n",
    "    </TR>\n",
    "    <TR align=center> \n",
    "      <td bgcolor=\"#cccccc\">15</td>\n",
    "      <TD HEIGHT=\"30\">85</TD>\n",
    "      <TD>80</TD>\n",
    "      <TD>85</TD>\n",
    "      <td bgcolor=\"#cccccc\"></td>\n",
    "      <td bgcolor=\"#cccccc\"></td>\n",
    "      <td bgcolor=\"#cccccc\"></td>\n",
    "    </TR>\n",
    "    <TR align=center> \n",
    "      <td bgcolor=\"#cccccc\">16</td>\n",
    "      <TD HEIGHT=\"30\">85</TD>\n",
    "      <TD>75</TD>\n",
    "      <TD>85</TD>\n",
    "      <td bgcolor=\"#cccccc\"></td>\n",
    "      <td bgcolor=\"#cccccc\"></td>\n",
    "      <td bgcolor=\"#cccccc\"></td>\n",
    "    </TR>\n",
    "    <TR align=center> \n",
    "      <td bgcolor=\"#cccccc\">17</td>\n",
    "      <TD HEIGHT=\"30\">90</TD>\n",
    "      <TD>80</TD>\n",
    "      <TD>90</TD>\n",
    "      <td bgcolor=\"#cccccc\"></td>\n",
    "      <td bgcolor=\"#cccccc\"></td>\n",
    "      <td bgcolor=\"#cccccc\"></td>\n",
    "    </TR>\n",
    "    <TR align=center> \n",
    "      <td bgcolor=\"#cccccc\">18</td>\n",
    "      <TD HEIGHT=\"30\">90</TD>\n",
    "      <TD>80</TD>\n",
    "      <TD>90</TD>\n",
    "      <td bgcolor=\"#cccccc\"></td>\n",
    "      <td bgcolor=\"#cccccc\"></td>\n",
    "      <td bgcolor=\"#cccccc\"></td>\n",
    "    </TR>\n",
    "    <TR align=center> \n",
    "      <td bgcolor=\"#cccccc\">19</td>\n",
    "      <TD HEIGHT=\"30\">85</TD>\n",
    "      <TD>90</TD>\n",
    "      <TD>85</TD>\n",
    "      <td bgcolor=\"#cccccc\"></td>\n",
    "      <td bgcolor=\"#cccccc\"></td>\n",
    "      <td bgcolor=\"#cccccc\"></td>\n",
    "    </TR>\n",
    "    <TR align=center> \n",
    "      <td bgcolor=\"#cccccc\">20</td>\n",
    "      <TD HEIGHT=\"30\">80</TD>\n",
    "      <TD>80</TD>\n",
    "      <TD>85</TD>\n",
    "      <td bgcolor=\"#cccccc\"></td>\n",
    "      <td bgcolor=\"#cccccc\"></td>\n",
    "      <td bgcolor=\"#cccccc\"></td>\n",
    "    </TR>\n",
    "    <tr><td bgcolor=\"#cccccc\">平均</td><td>( a )</td><td>( b )</td><td>( c )</td><td>( d )</td>\n",
    "          <td bgcolor=\"#cccccc\"></td>\n",
    "      <td bgcolor=\"#cccccc\"></td>\n",
    "    </tr>\n",
    "    <tr><td bgcolor=\"#cccccc\">偏差平方和</td><td>( e )</td><td>( f )</td><td>( g )</td><td>( h )</td><td>( i )</td><td>( j )</td></tr>\n",
    "  </TABLE>"
   ]
  },
  {
   "cell_type": "markdown",
   "metadata": {},
   "source": [
    "* 帰無仮説を「3つのお店のポテトの評価（母集団）の平均のどの組み合わせにおいても差はない」とします。対立仮説は何か答えてください。"
   ]
  },
  {
   "cell_type": "code",
   "execution_count": null,
   "metadata": {
    "collapsed": true
   },
   "outputs": [],
   "source": []
  },
  {
   "cell_type": "code",
   "execution_count": 1,
   "metadata": {
    "collapsed": true
   },
   "outputs": [],
   "source": [
    "wakuwaku   = [80, 75, 80, 90, 95, 80, 80, 85, 85, 80, 90, 80, 75, 90, 85, 85, 90, 90, 85, 80]\n",
    "mogumogu = [75, 70, 80, 85, 90, 75, 85, 80, 80, 75, 80, 75, 70, 85, 80, 75, 80, 80, 90, 80]\n",
    "pakupaku    = [80, 80, 80, 90, 95, 85, 95, 90, 85, 90, 95, 85, 98, 95, 85, 85, 90, 90, 85, 85]"
   ]
  },
  {
   "cell_type": "markdown",
   "metadata": {},
   "source": [
    "* それぞれの店のポテトの点数の平均（上表 a, b, c ）と全体の平均（上表 d ）を求めてください。"
   ]
  },
  {
   "cell_type": "code",
   "execution_count": null,
   "metadata": {
    "collapsed": true
   },
   "outputs": [],
   "source": []
  },
  {
   "cell_type": "markdown",
   "metadata": {},
   "source": [
    "* それぞれの店のポテトの点数の偏差平方和（上表 e, f, g ）と全体の偏差平方和（上表 h ）を求めてください。"
   ]
  },
  {
   "cell_type": "code",
   "execution_count": null,
   "metadata": {
    "collapsed": true
   },
   "outputs": [],
   "source": []
  },
  {
   "cell_type": "markdown",
   "metadata": {},
   "source": [
    "* 群内の偏差平方和（上表　i ）を求めてください。群内の平方和＝Σ（それぞれの群の偏差平方和）"
   ]
  },
  {
   "cell_type": "code",
   "execution_count": null,
   "metadata": {
    "collapsed": true
   },
   "outputs": [],
   "source": []
  },
  {
   "cell_type": "markdown",
   "metadata": {},
   "source": [
    "* 群間の偏差平方和（上表 j ）を求めてください。 群間の平方和 = Σ((群内平均ー全体平均)の2乗✕個数)"
   ]
  },
  {
   "cell_type": "code",
   "execution_count": null,
   "metadata": {
    "collapsed": true
   },
   "outputs": [],
   "source": []
  },
  {
   "cell_type": "markdown",
   "metadata": {},
   "source": [
    "__分散分析表を作る__\n",
    "\n",
    "分散分析をするために、分散分析表を作ります。群間・群内・全体の偏差平方和は既に計算済みです。\n",
    "<TABLE BORDER=\"1\" align=\"center\" CELLPADDING=\"2\" CELLSPACING=\"0\">\n",
    "  <TR> \n",
    "    <TD WIDTH=100 BGCOLOR=\"#CCCCCC\"> <CENTER>\n",
    "        要因 </CENTER></TD>\n",
    "    <TD WIDTH=100 BGCOLOR=\"#DDDDDD\"> <CENTER>\n",
    "        偏差平方和 </CENTER></TD>\n",
    "    <TD WIDTH=100 BGCOLOR=\"#DDDDDD\"> <CENTER>\n",
    "        自由度 </CENTER></TD>\n",
    "    <TD WIDTH=100 BGCOLOR=\"#DDDDDD\"> <CENTER>\n",
    "        平均平方 </CENTER></TD>\n",
    "    <TD WIDTH=100 BGCOLOR=\"#DDDDDD\"> <CENTER>\n",
    "        F\n",
    "</CENTER></TD>\n",
    "  </TR>\n",
    "  <TR> \n",
    "    <TD WIDTH=100 BGCOLOR=\"#DDDDDD\"> <CENTER>\n",
    "        群間\n",
    "</CENTER></TD>\n",
    "    <TD WIDTH=100> <CENTER>( j )\n",
    "        　 </CENTER></TD>\n",
    "    <TD WIDTH=100> <CENTER>( k )\n",
    "        　 </CENTER></TD>\n",
    "    <TD WIDTH=100> <CENTER>( n )\n",
    "        　 </CENTER></TD>\n",
    "    <TD WIDTH=100> <CENTER>( p )\n",
    "        　 </CENTER></TD>\n",
    "  </TR>\n",
    "  <TR> \n",
    "    <TD WIDTH=100 BGCOLOR=\"#DDDDDD\"> <CENTER>\n",
    "        群内 \n",
    "      </CENTER></TD>\n",
    "    <TD WIDTH=100> <CENTER>( i )\n",
    "        　 </CENTER></TD>\n",
    "    <TD WIDTH=100> <CENTER>( l )\n",
    "        　 </CENTER></TD>\n",
    "    <TD WIDTH=100> <CENTER>( o )\n",
    "        　 </CENTER></TD>\n",
    "  </TR>\n",
    "  <TR> \n",
    "    <TD WIDTH=100 BGCOLOR=\"#CCCCCC\"> <CENTER>\n",
    "        全体 </CENTER></TD>\n",
    "    <TD WIDTH=100> <CENTER>( h )\n",
    "        　 </CENTER></TD>\n",
    "    <TD WIDTH=100> <CENTER>( m )\n",
    "        　 </CENTER></TD>\n",
    "  </TR>\n",
    "</TABLE>\n",
    "\n",
    "* 自由度を求めてください。\n",
    "  * ( k ) 群間の自由度　=　群の数　－　1\n",
    "  * ( l ) 群内の自由度　=　（群1のデータ数－1）＋（群2のデータ数－1）+（群3のデータ数－1）\n",
    "  * ( m ) 全体の自由度　=　データの総個数　－　1"
   ]
  },
  {
   "cell_type": "code",
   "execution_count": null,
   "metadata": {
    "collapsed": true
   },
   "outputs": [],
   "source": []
  },
  {
   "cell_type": "markdown",
   "metadata": {},
   "source": [
    "* 平均平方を求めてください。（上表 n, o）\n",
    "  * 平均平方＝偏差平方和／自由度"
   ]
  },
  {
   "cell_type": "code",
   "execution_count": null,
   "metadata": {
    "collapsed": true
   },
   "outputs": [],
   "source": []
  },
  {
   "cell_type": "markdown",
   "metadata": {},
   "source": [
    "* F値を求めてください。（上表 p ）\n",
    "  * F　＝ 群間の平均平方／群内の平均平方"
   ]
  },
  {
   "cell_type": "code",
   "execution_count": null,
   "metadata": {
    "collapsed": true
   },
   "outputs": [],
   "source": []
  },
  {
   "cell_type": "markdown",
   "metadata": {},
   "source": [
    "__F分布表の値と比較する__"
   ]
  },
  {
   "cell_type": "markdown",
   "metadata": {},
   "source": [
    "5%有意水準のF分布表\n",
    "<TABLE BORDER=\"1\" align=\"center\" CELLPADDING=\"2\" CELLSPACING=\"0\">\n",
    "  <TR> \n",
    "    <TD WIDTH=100 rowspan=\"2\" BGCOLOR=\"#CCCCCC\"> <CENTER>\n",
    "        群内の自由度 \n",
    "      </CENTER>\n",
    "      <div align=\"center\"></div></TD>\n",
    "    <TD colspan=\"5\" BGCOLOR=\"#dddddd\"> <CENTER>\n",
    "        群間の自由度 \n",
    "      </CENTER>\n",
    "      <CENTER>\n",
    "      </CENTER>\n",
    "      <CENTER>\n",
    "      </CENTER>\n",
    "      <CENTER>\n",
    "      </CENTER></TD>\n",
    "  </TR>\n",
    "  <TR> \n",
    "    <TD WIDTH=100 BGCOLOR=\"#dddddd\"> <div align=\"center\">1</div></TD>\n",
    "    <TD WIDTH=100 BGCOLOR=\"#dddddd\"> <div align=\"center\">2</div></TD>\n",
    "    <TD WIDTH=100 BGCOLOR=\"#dddddd\"> <div align=\"center\">3</div></TD>\n",
    "    <TD WIDTH=100 BGCOLOR=\"#dddddd\"> <div align=\"center\">4</div></TD>\n",
    "    <TD WIDTH=100 BGCOLOR=\"#dddddd\"> <div align=\"center\">5</div></TD>\n",
    "  </TR>\n",
    "  <TR> \n",
    "    <TD BGCOLOR=\"#CCCCCC\"><div align=\"center\">10</div></TD>\n",
    "    <TD BGCOLOR=\"#eeeeee\"><div align=\"right\">4.96</div></TD>\n",
    "    <TD BGCOLOR=\"#eeeeee\"><div align=\"right\">4.10</div></TD>\n",
    "    <TD BGCOLOR=\"#eeeeee\"><div align=\"right\">3.71</div></TD>\n",
    "    <TD BGCOLOR=\"#eeeeee\"><div align=\"right\">3.48</div></TD>\n",
    "    <TD BGCOLOR=\"#eeeeee\"><div align=\"right\">3.33</div></TD>\n",
    "  </TR>\n",
    "  <TR> \n",
    "    <TD BGCOLOR=\"#CCCCCC\"><div align=\"center\">20</div></TD>\n",
    "    <TD BGCOLOR=\"#eeeeee\"><div align=\"right\">4.35</div></TD>\n",
    "    <TD BGCOLOR=\"#eeeeee\"><div align=\"right\">3.49</div></TD>\n",
    "    <TD BGCOLOR=\"#eeeeee\"><div align=\"right\">3.10</div></TD>\n",
    "    <TD BGCOLOR=\"#eeeeee\"><div align=\"right\">2.87</div></TD>\n",
    "    <TD BGCOLOR=\"#eeeeee\"><div align=\"right\">2.71</div></TD>\n",
    "  </TR>\n",
    "  <TR> \n",
    "    <TD BGCOLOR=\"#CCCCCC\"><div align=\"center\">30</div></TD>\n",
    "    <TD BGCOLOR=\"#eeeeee\"><div align=\"right\">4.17</div></TD>\n",
    "    <TD BGCOLOR=\"#eeeeee\"><div align=\"right\">3.32</div></TD>\n",
    "    <TD BGCOLOR=\"#eeeeee\"><div align=\"right\">2.92</div></TD>\n",
    "    <TD BGCOLOR=\"#eeeeee\"><div align=\"right\">2.69</div></TD>\n",
    "    <TD BGCOLOR=\"#eeeeee\"><div align=\"right\">2.53</div></TD>\n",
    "  </TR>\n",
    "  <TR> \n",
    "    <TD BGCOLOR=\"#CCCCCC\"><div align=\"center\">40</div></TD>\n",
    "    <TD BGCOLOR=\"#eeeeee\"><div align=\"right\">4.08</div></TD>\n",
    "    <TD BGCOLOR=\"#eeeeee\"><div align=\"right\">3.23</div></TD>\n",
    "    <TD BGCOLOR=\"#eeeeee\"><div align=\"right\">2.84</div></TD>\n",
    "    <TD BGCOLOR=\"#eeeeee\"><div align=\"right\">2.61</div></TD>\n",
    "    <TD BGCOLOR=\"#eeeeee\"><div align=\"right\">2.45</div></TD>\n",
    "  </TR>\n",
    "  <TR> \n",
    "    <TD BGCOLOR=\"#CCCCCC\"><div align=\"center\">50</div></TD>\n",
    "    <TD BGCOLOR=\"#eeeeee\"><div align=\"right\">4.03</div></TD>\n",
    "    <TD BGCOLOR=\"#eeeeee\"><div align=\"right\">3.18</div></TD>\n",
    "    <TD BGCOLOR=\"#eeeeee\"><div align=\"right\">2.79</div></TD>\n",
    "    <TD BGCOLOR=\"#eeeeee\"><div align=\"right\">2.56</div></TD>\n",
    "    <TD BGCOLOR=\"#eeeeee\"><div align=\"right\">2.40</div></TD>\n",
    "  </TR>\n",
    "  <TR> \n",
    "    <TD BGCOLOR=\"#CCCCCC\"><div align=\"center\">60</div></TD>\n",
    "    <TD BGCOLOR=\"#eeeeee\"><div align=\"right\">4.00</div></TD>\n",
    "    <TD BGCOLOR=\"#eeeeee\"><div align=\"right\">3.15</div></TD>\n",
    "    <TD BGCOLOR=\"#eeeeee\"><div align=\"right\">2.76</div></TD>\n",
    "    <TD BGCOLOR=\"#eeeeee\"><div align=\"right\">2.53</div></TD>\n",
    "    <TD BGCOLOR=\"#eeeeee\"><div align=\"right\">2.37</div></TD>\n",
    "  </TR>\n",
    "  <TR> \n",
    "    <TD BGCOLOR=\"#CCCCCC\"><div align=\"center\">70</div></TD>\n",
    "    <TD BGCOLOR=\"#eeeeee\"><div align=\"right\">3.98</div></TD>\n",
    "    <TD BGCOLOR=\"#eeeeee\"><div align=\"right\">3.13</div></TD>\n",
    "    <TD BGCOLOR=\"#eeeeee\"><div align=\"right\">2.74</div></TD>\n",
    "    <TD BGCOLOR=\"#eeeeee\"><div align=\"right\">2.50</div></TD>\n",
    "    <TD BGCOLOR=\"#eeeeee\"><div align=\"right\">2.35</div></TD>\n",
    "  </TR>\n",
    "  <TR> \n",
    "    <TD BGCOLOR=\"#CCCCCC\"><div align=\"center\">80</div></TD>\n",
    "    <TD BGCOLOR=\"#eeeeee\"><div align=\"right\">3.96</div></TD>\n",
    "    <TD BGCOLOR=\"#eeeeee\"><div align=\"right\">3.11</div></TD>\n",
    "    <TD BGCOLOR=\"#eeeeee\"><div align=\"right\">2.72</div></TD>\n",
    "    <TD BGCOLOR=\"#eeeeee\"><div align=\"right\">2.49</div></TD>\n",
    "    <TD BGCOLOR=\"#eeeeee\"><div align=\"right\">2.33</div></TD>\n",
    "  </TR>\n",
    "  <TR> \n",
    "    <TD BGCOLOR=\"#CCCCCC\"><div align=\"center\">90</div></TD>\n",
    "    <TD BGCOLOR=\"#eeeeee\"><div align=\"right\">3.95</div></TD>\n",
    "    <TD BGCOLOR=\"#eeeeee\"><div align=\"right\">3.10</div></TD>\n",
    "    <TD BGCOLOR=\"#eeeeee\"><div align=\"right\">2.71</div></TD>\n",
    "    <TD BGCOLOR=\"#eeeeee\"><div align=\"right\">2.47</div></TD>\n",
    "    <TD BGCOLOR=\"#eeeeee\"><div align=\"right\">2.32</div></TD>\n",
    "  </TR>\n",
    "  <TR> \n",
    "    <TD BGCOLOR=\"#CCCCCC\"><div align=\"center\">100</div></TD>\n",
    "    <TD BGCOLOR=\"#eeeeee\"><div align=\"right\">3.94</div></TD>\n",
    "    <TD BGCOLOR=\"#eeeeee\"><div align=\"right\">3.09</div></TD>\n",
    "    <TD BGCOLOR=\"#eeeeee\"><div align=\"right\">2.70</div></TD>\n",
    "    <TD BGCOLOR=\"#eeeeee\"><div align=\"right\">2.46</div></TD>\n",
    "    <TD BGCOLOR=\"#eeeeee\"><div align=\"right\">2.31</div></TD>\n",
    "  </TR>\n",
    "  <TR> \n",
    "    <TD BGCOLOR=\"#CCCCCC\"><div align=\"center\">200</div></TD>\n",
    "    <TD BGCOLOR=\"#eeeeee\"><div align=\"right\">3.89</div></TD>\n",
    "    <TD BGCOLOR=\"#eeeeee\"><div align=\"right\">3.04</div></TD>\n",
    "    <TD BGCOLOR=\"#eeeeee\"><div align=\"right\">2.65</div></TD>\n",
    "    <TD BGCOLOR=\"#eeeeee\"><div align=\"right\">2.42</div></TD>\n",
    "    <TD BGCOLOR=\"#eeeeee\"><div align=\"right\">2.26</div></TD>\n",
    "  </TR>\n",
    "  <TR> \n",
    "    <TD BGCOLOR=\"#CCCCCC\"><div align=\"center\">300</div></TD>\n",
    "    <TD BGCOLOR=\"#eeeeee\"><div align=\"right\">3.87</div></TD>\n",
    "    <TD BGCOLOR=\"#eeeeee\"><div align=\"right\">3.03</div></TD>\n",
    "    <TD BGCOLOR=\"#eeeeee\"><div align=\"right\">2.63</div></TD>\n",
    "    <TD BGCOLOR=\"#eeeeee\"><div align=\"right\">2.40</div></TD>\n",
    "    <TD BGCOLOR=\"#eeeeee\"><div align=\"right\">2.24</div></TD>\n",
    "  </TR>\n",
    "</TABLE>"
   ]
  },
  {
   "cell_type": "markdown",
   "metadata": {},
   "source": [
    "1%有意水準のF分布表 \n",
    "<TABLE BORDER=\"1\" align=\"center\" CELLPADDING=\"2\" CELLSPACING=\"0\">\n",
    "  <TR> \n",
    "    <TD WIDTH=100 rowspan=\"2\" BGCOLOR=\"#bCCCCC\"> \n",
    "      <CENTER>\n",
    "        群内の自由度 \n",
    "      </CENTER>\n",
    "      <div align=\"center\"></div></TD>\n",
    "    <TD colspan=\"5\" BGCOLOR=\"#bddddd\"> \n",
    "      <CENTER>\n",
    "        群間の自由度 \n",
    "      </CENTER>\n",
    "      <CENTER>\n",
    "      </CENTER>\n",
    "      <CENTER>\n",
    "      </CENTER>\n",
    "      <CENTER>\n",
    "      </CENTER></TD>\n",
    "  </TR>\n",
    "  <TR> \n",
    "    <TD WIDTH=100 BGCOLOR=\"#bddddd\"> \n",
    "      <div align=\"center\">1</div></TD>\n",
    "    <TD WIDTH=100 BGCOLOR=\"#bddddd\"> \n",
    "      <div align=\"center\">2</div></TD>\n",
    "    <TD WIDTH=100 BGCOLOR=\"#bddddd\"> \n",
    "      <div align=\"center\">3</div></TD>\n",
    "    <TD WIDTH=100 BGCOLOR=\"#bddddd\"> \n",
    "      <div align=\"center\">4</div></TD>\n",
    "    <TD WIDTH=100 BGCOLOR=\"#bddddd\"> \n",
    "      <div align=\"center\">5</div></TD>\n",
    "  </TR>\n",
    "  <TR> \n",
    "    <TD BGCOLOR=\"#bCCCCC\"> \n",
    "      <div align=\"center\">10</div></TD>\n",
    "    <TD BGCOLOR=\"#eeeeee\"><div align=\"right\">10.04</div></TD>\n",
    "    <TD BGCOLOR=\"#eeeeee\"><div align=\"right\">7.56</div></TD>\n",
    "    <TD BGCOLOR=\"#eeeeee\"><div align=\"right\">6.55</div></TD>\n",
    "    <TD BGCOLOR=\"#eeeeee\"><div align=\"right\">5.99</div></TD>\n",
    "    <TD BGCOLOR=\"#eeeeee\"><div align=\"right\">5.64</div></TD>\n",
    "  </TR>\n",
    "  <TR> \n",
    "    <TD BGCOLOR=\"#bCCCCC\"> \n",
    "      <div align=\"center\">20</div></TD>\n",
    "    <TD BGCOLOR=\"#eeeeee\"><div align=\"right\">8.10</div></TD>\n",
    "    <TD BGCOLOR=\"#eeeeee\"><div align=\"right\">5.85</div></TD>\n",
    "    <TD BGCOLOR=\"#eeeeee\"><div align=\"right\">4.94</div></TD>\n",
    "    <TD BGCOLOR=\"#eeeeee\"><div align=\"right\">4.43</div></TD>\n",
    "    <TD BGCOLOR=\"#eeeeee\"><div align=\"right\">4.10</div></TD>\n",
    "  </TR>\n",
    "  <TR> \n",
    "    <TD BGCOLOR=\"#bCCCCC\"> \n",
    "      <div align=\"center\">30</div></TD>\n",
    "    <TD BGCOLOR=\"#eeeeee\"><div align=\"right\">7.56</div></TD>\n",
    "    <TD BGCOLOR=\"#eeeeee\"><div align=\"right\">5.39</div></TD>\n",
    "    <TD BGCOLOR=\"#eeeeee\"><div align=\"right\">4.51</div></TD>\n",
    "    <TD BGCOLOR=\"#eeeeee\"><div align=\"right\">4.02</div></TD>\n",
    "    <TD BGCOLOR=\"#eeeeee\"><div align=\"right\">3.70</div></TD>\n",
    "  </TR>\n",
    "  <TR> \n",
    "    <TD BGCOLOR=\"#bCCCCC\"> \n",
    "      <div align=\"center\">40</div></TD>\n",
    "    <TD BGCOLOR=\"#eeeeee\"><div align=\"right\">7.31</div></TD>\n",
    "    <TD BGCOLOR=\"#eeeeee\"><div align=\"right\">5.18</div></TD>\n",
    "    <TD BGCOLOR=\"#eeeeee\"><div align=\"right\">4.31</div></TD>\n",
    "    <TD BGCOLOR=\"#eeeeee\"><div align=\"right\">3.83</div></TD>\n",
    "    <TD BGCOLOR=\"#eeeeee\"><div align=\"right\">3.51</div></TD>\n",
    "  </TR>\n",
    "  <TR> \n",
    "    <TD BGCOLOR=\"#bCCCCC\"> \n",
    "      <div align=\"center\">50</div></TD>\n",
    "    <TD BGCOLOR=\"#eeeeee\"><div align=\"right\">7.17</div></TD>\n",
    "    <TD BGCOLOR=\"#eeeeee\"><div align=\"right\">5.06</div></TD>\n",
    "    <TD BGCOLOR=\"#eeeeee\"><div align=\"right\">4.20</div></TD>\n",
    "    <TD BGCOLOR=\"#eeeeee\"><div align=\"right\">3.72</div></TD>\n",
    "    <TD BGCOLOR=\"#eeeeee\"><div align=\"right\">3.41</div></TD>\n",
    "  </TR>\n",
    "  <TR> \n",
    "    <TD BGCOLOR=\"#bCCCCC\"> \n",
    "      <div align=\"center\">60</div></TD>\n",
    "    <TD BGCOLOR=\"#eeeeee\"><div align=\"right\">7.08</div></TD>\n",
    "    <TD BGCOLOR=\"#eeeeee\"><div align=\"right\">4.98</div></TD>\n",
    "    <TD BGCOLOR=\"#eeeeee\"><div align=\"right\">4.13</div></TD>\n",
    "    <TD BGCOLOR=\"#eeeeee\"><div align=\"right\">3.65</div></TD>\n",
    "    <TD BGCOLOR=\"#eeeeee\"><div align=\"right\">3.34</div></TD>\n",
    "  </TR>\n",
    "  <TR> \n",
    "    <TD BGCOLOR=\"#bCCCCC\"> \n",
    "      <div align=\"center\">70</div></TD>\n",
    "    <TD BGCOLOR=\"#eeeeee\"><div align=\"right\">7.01</div></TD>\n",
    "    <TD BGCOLOR=\"#eeeeee\"><div align=\"right\">4.92</div></TD>\n",
    "    <TD BGCOLOR=\"#eeeeee\"><div align=\"right\">4.07</div></TD>\n",
    "    <TD BGCOLOR=\"#eeeeee\"><div align=\"right\">3.60</div></TD>\n",
    "    <TD BGCOLOR=\"#eeeeee\"><div align=\"right\">3.29</div></TD>\n",
    "  </TR>\n",
    "  <TR> \n",
    "    <TD BGCOLOR=\"#bCCCCC\"> \n",
    "      <div align=\"center\">80</div></TD>\n",
    "    <TD BGCOLOR=\"#eeeeee\"><div align=\"right\">6.96</div></TD>\n",
    "    <TD BGCOLOR=\"#eeeeee\"><div align=\"right\">4.88</div></TD>\n",
    "    <TD BGCOLOR=\"#eeeeee\"><div align=\"right\">4.04</div></TD>\n",
    "    <TD BGCOLOR=\"#eeeeee\"><div align=\"right\">3.56</div></TD>\n",
    "    <TD BGCOLOR=\"#eeeeee\"><div align=\"right\">3.26</div></TD>\n",
    "  </TR>\n",
    "  <TR> \n",
    "    <TD BGCOLOR=\"#bCCCCC\"> \n",
    "      <div align=\"center\">90</div></TD>\n",
    "    <TD BGCOLOR=\"#eeeeee\"><div align=\"right\">6.93</div></TD>\n",
    "    <TD BGCOLOR=\"#eeeeee\"><div align=\"right\">4.85</div></TD>\n",
    "    <TD BGCOLOR=\"#eeeeee\"><div align=\"right\">4.01</div></TD>\n",
    "    <TD BGCOLOR=\"#eeeeee\"><div align=\"right\">3.53</div></TD>\n",
    "    <TD BGCOLOR=\"#eeeeee\"><div align=\"right\">3.23</div></TD>\n",
    "  </TR>\n",
    "  <TR> \n",
    "    <TD BGCOLOR=\"#bCCCCC\"> \n",
    "      <div align=\"center\">100</div></TD>\n",
    "    <TD BGCOLOR=\"#eeeeee\"><div align=\"right\">6.90</div></TD>\n",
    "    <TD BGCOLOR=\"#eeeeee\"><div align=\"right\">4.82</div></TD>\n",
    "    <TD BGCOLOR=\"#eeeeee\"><div align=\"right\">3.98</div></TD>\n",
    "    <TD BGCOLOR=\"#eeeeee\"><div align=\"right\">3.51</div></TD>\n",
    "    <TD BGCOLOR=\"#eeeeee\"><div align=\"right\">3.21</div></TD>\n",
    "  </TR>\n",
    "  <TR> \n",
    "    <TD BGCOLOR=\"#bCCCCC\"> \n",
    "      <div align=\"center\">200</div></TD>\n",
    "    <TD BGCOLOR=\"#eeeeee\"><div align=\"right\">6.76</div></TD>\n",
    "    <TD BGCOLOR=\"#eeeeee\"><div align=\"right\">4.71</div></TD>\n",
    "    <TD BGCOLOR=\"#eeeeee\"><div align=\"right\">3.88</div></TD>\n",
    "    <TD BGCOLOR=\"#eeeeee\"><div align=\"right\">3.41</div></TD>\n",
    "    <TD BGCOLOR=\"#eeeeee\"><div align=\"right\">3.11</div></TD>\n",
    "  </TR>\n",
    "  <TR> \n",
    "    <TD BGCOLOR=\"#bCCCCC\"> \n",
    "      <div align=\"center\">300</div></TD>\n",
    "    <TD BGCOLOR=\"#eeeeee\"><div align=\"right\">6.72</div></TD>\n",
    "    <TD BGCOLOR=\"#eeeeee\"><div align=\"right\">4.68</div></TD>\n",
    "    <TD BGCOLOR=\"#eeeeee\"><div align=\"right\">3.85</div></TD>\n",
    "    <TD BGCOLOR=\"#eeeeee\"><div align=\"right\">3.38</div></TD>\n",
    "    <TD BGCOLOR=\"#eeeeee\"><div align=\"right\">3.08</div></TD>\n",
    "  </TR>\n",
    "</TABLE>"
   ]
  },
  {
   "cell_type": "markdown",
   "metadata": {},
   "source": [
    "* 計算したF値と、F分布表を比較して、帰無仮説が棄却できるかどうか説明してください。"
   ]
  },
  {
   "cell_type": "code",
   "execution_count": null,
   "metadata": {
    "collapsed": true
   },
   "outputs": [],
   "source": []
  },
  {
   "cell_type": "markdown",
   "metadata": {},
   "source": [
    "### 6.4　[実践編：3種類のハンバーガーの比較](http://kogolab.chillout.jp/elearn/hamburger/chap6/sec4.html)\n",
    "__課題6.4__ : 下記のデータを用いて、分散分析を行ってください。"
   ]
  },
  {
   "cell_type": "code",
   "execution_count": 2,
   "metadata": {
    "collapsed": true
   },
   "outputs": [],
   "source": [
    "wakuwaku =   [90, 70, 75, 90, 65, 70, 80, 85, 75, 75, 85, 75, 80, 90, 80]\n",
    "mogumogu = [75, 95, 75, 80, 75, 85, 75, 85, 80, 65, 90, 75, 90, 75, 85]\n",
    "pakupaku =    [65, 60, 75, 80, 65, 60, 70, 85, 70, 75, 75, 70, 80, 75, 80]"
   ]
  },
  {
   "cell_type": "code",
   "execution_count": null,
   "metadata": {
    "collapsed": true
   },
   "outputs": [],
   "source": []
  },
  {
   "cell_type": "markdown",
   "metadata": {},
   "source": [
    "### 6.9　[通過テスト](http://kogolab.chillout.jp/elearn/hamburger/chap6/sec9.html)\n",
    "本文を読んで、問いに答えてください。"
   ]
  },
  {
   "cell_type": "code",
   "execution_count": null,
   "metadata": {
    "collapsed": true
   },
   "outputs": [],
   "source": []
  },
  {
   "cell_type": "markdown",
   "metadata": {},
   "source": [
    "## 7. [分散分析（２要因）](http://kogolab.chillout.jp/elearn/hamburger/chap7/sec0.html)\n",
    "本文を読んで概念を学んでください。"
   ]
  },
  {
   "cell_type": "markdown",
   "metadata": {},
   "source": [
    "### 7.1　[2つの要因では?](http://kogolab.chillout.jp/elearn/hamburger/chap7/sec1.html)\n",
    "本文を読んで概念を学んでください。"
   ]
  },
  {
   "cell_type": "markdown",
   "metadata": {},
   "source": [
    "### 7.2　[２要因の分散分析表](http://kogolab.chillout.jp/elearn/hamburger/chap7/sec2.html)"
   ]
  },
  {
   "cell_type": "markdown",
   "metadata": {},
   "source": [
    " <TABLE HEIGHT=\"345\" BORDER=\"1\" CELLSPACING=\"0\" \n",
    "  CELLPADDING=\"0\">\n",
    "    <TR> \n",
    "      <td bgcolor=\"#cccccc\"></td>\n",
    "      <TD BGCOLOR=\"#dddddd\" HEIGHT=\"20\"> <CENTER>\n",
    "          クリスピーで辛口 </CENTER></TD>\n",
    "      <TD BGCOLOR=\"#dddddd\"> <CENTER>\n",
    "          クリスピーで普通味 \n",
    "        </CENTER></TD>\n",
    "      <TD BGCOLOR=\"#dddddd\"> <CENTER>\n",
    "          普通の衣で辛口 </CENTER></TD>\n",
    "      <TD WIDTH=\"20%\" BGCOLOR=\"#dddddd\"> <CENTER>\n",
    "          普通の衣で普通味 \n",
    "        </CENTER></TD>\n",
    "      <TD BGCOLOR=\"#dddddd\" HEIGHT=\"20\"> <CENTER>\n",
    "          クリスピー </CENTER></TD>\n",
    "      <TD BGCOLOR=\"#dddddd\"> <CENTER>\n",
    "          普通の衣 \n",
    "        </CENTER></TD>\n",
    "      <TD BGCOLOR=\"#dddddd\"> <CENTER>\n",
    "          辛口 </CENTER></TD>\n",
    "      <TD BGCOLOR=\"#dddddd\"> <CENTER>\n",
    "          普通味 \n",
    "        </CENTER></TD>\n",
    "      <TD BGCOLOR=\"#dddddd\"> <CENTER>\n",
    "          全体 \n",
    "        </CENTER></TD>\n",
    "    </TR>\n",
    "    <TR> \n",
    "      <td bgcolor=\"#cccccc\">1</td>\n",
    "      <TD ALIGN=\"CENTER\" HEIGHT=\"20\"> 65</TD>\n",
    "      <TD ALIGN=\"CENTER\"> 65</TD>\n",
    "      <TD ALIGN=\"CENTER\"> 70</TD>\n",
    "      <TD ALIGN=\"CENTER\"> 70</TD>\n",
    "      <td bgcolor=\"#cccccc\"></td>\n",
    "      <td bgcolor=\"#cccccc\"></td>\n",
    "      <td bgcolor=\"#cccccc\"></td>\n",
    "      <td bgcolor=\"#cccccc\"></td>\n",
    "      <td bgcolor=\"#cccccc\"></td>\n",
    "    </TR>\n",
    "    <TR> \n",
    "      <td bgcolor=\"#cccccc\">2</td>\n",
    "      <TD ALIGN=\"CENTER\" HEIGHT=\"20\"> 85</TD>\n",
    "      <TD ALIGN=\"CENTER\"> 70</TD>\n",
    "      <TD ALIGN=\"CENTER\"> 65</TD>\n",
    "      <TD ALIGN=\"CENTER\"??> 70</TD>\n",
    "      <td bgcolor=\"#cccccc\"></td>\n",
    "      <td bgcolor=\"#cccccc\"></td>\n",
    "      <td bgcolor=\"#cccccc\"></td>\n",
    "      <td bgcolor=\"#cccccc\"></td>\n",
    "      <td bgcolor=\"#cccccc\"></td>\n",
    "    </TR>\n",
    "    <TR> \n",
    "      <td bgcolor=\"#cccccc\">3</td>\n",
    "      <TD ALIGN=\"CENTER\" HEIGHT=\"20\"> 75</TD>\n",
    "      <TD ALIGN=\"CENTER\"> 80</TD>\n",
    "      <TD ALIGN=\"CENTER\"> 85</TD>\n",
    "      <TD ALIGN=\"CENTER\"> 85</TD>\n",
    "      <td bgcolor=\"#cccccc\"></td>\n",
    "      <td bgcolor=\"#cccccc\"></td>\n",
    "      <td bgcolor=\"#cccccc\"></td>\n",
    "      <td bgcolor=\"#cccccc\"></td>\n",
    "      <td bgcolor=\"#cccccc\"></td>\n",
    "    </TR>\n",
    "    <TR> \n",
    "      <td bgcolor=\"#cccccc\">4</td>\n",
    "      <TD ALIGN=\"CENTER\" HEIGHT=\"20\"> 85</TD>\n",
    "      <TD ALIGN=\"CENTER\"> 75</TD>\n",
    "      <TD ALIGN=\"CENTER\"> 80</TD>\n",
    "      <TD ALIGN=\"CENTER\"> 80</TD>\n",
    "      <td bgcolor=\"#cccccc\"></td>\n",
    "      <td bgcolor=\"#cccccc\"></td>\n",
    "      <td bgcolor=\"#cccccc\"></td>\n",
    "      <td bgcolor=\"#cccccc\"></td>\n",
    "      <td bgcolor=\"#cccccc\"></td>\n",
    "    </TR>\n",
    "    <TR> \n",
    "      <td bgcolor=\"#cccccc\">5</td>\n",
    "      <TD ALIGN=\"CENTER\" HEIGHT=\"20\"> 75</TD>\n",
    "      <TD ALIGN=\"CENTER\"> 70</TD>\n",
    "      <TD ALIGN=\"CENTER\"> 75</TD>\n",
    "      <TD ALIGN=\"CENTER\"> 65</TD>\n",
    "      <td bgcolor=\"#cccccc\"></td>\n",
    "      <td bgcolor=\"#cccccc\"></td>\n",
    "      <td bgcolor=\"#cccccc\"></td>\n",
    "      <td bgcolor=\"#cccccc\"></td>\n",
    "      <td bgcolor=\"#cccccc\"></td>\n",
    "    </TR>\n",
    "    <TR> \n",
    "      <td bgcolor=\"#cccccc\">6</td>\n",
    "      <TD ALIGN=\"CENTER\" HEIGHT=\"20\"> 80</TD>\n",
    "      <TD ALIGN=\"CENTER\"> 60</TD>\n",
    "      <TD ALIGN=\"CENTER\"> 65</TD>\n",
    "      <TD ALIGN=\"CENTER\"> 75</TD>\n",
    "      <td bgcolor=\"#cccccc\"></td>\n",
    "      <td bgcolor=\"#cccccc\"></td>\n",
    "      <td bgcolor=\"#cccccc\"></td>\n",
    "      <td bgcolor=\"#cccccc\"></td>\n",
    "      <td bgcolor=\"#cccccc\"></td>\n",
    "    </TR>\n",
    "    <TR> \n",
    "      <td bgcolor=\"#cccccc\">7</td>\n",
    "      <TD ALIGN=\"CENTER\" HEIGHT=\"20\"> 90</TD>\n",
    "      <TD ALIGN=\"CENTER\"> 65</TD>\n",
    "      <TD ALIGN=\"CENTER\"> 75</TD>\n",
    "      <TD ALIGN=\"CENTER\"> 65</TD>\n",
    "      <td bgcolor=\"#cccccc\"></td>\n",
    "      <td bgcolor=\"#cccccc\"></td>\n",
    "      <td bgcolor=\"#cccccc\"></td>\n",
    "      <td bgcolor=\"#cccccc\"></td>\n",
    "      <td bgcolor=\"#cccccc\"></td>\n",
    "    </TR>\n",
    "    <TR> \n",
    "      <td bgcolor=\"#cccccc\">8</td>\n",
    "      <TD ALIGN=\"CENTER\" HEIGHT=\"20\"> 75</TD>\n",
    "      <TD ALIGN=\"CENTER\"> 70</TD>\n",
    "      <TD ALIGN=\"CENTER\"> 60</TD>\n",
    "      <TD ALIGN=\"CENTER\"> 85</TD>\n",
    "      <td bgcolor=\"#cccccc\"></td>\n",
    "      <td bgcolor=\"#cccccc\"></td>\n",
    "      <td bgcolor=\"#cccccc\"></td>\n",
    "      <td bgcolor=\"#cccccc\"></td>\n",
    "      <td bgcolor=\"#cccccc\"></td>\n",
    "    </TR>\n",
    "    <TR> \n",
    "      <td bgcolor=\"#cccccc\">9</td>\n",
    "      <TD ALIGN=\"CENTER\" HEIGHT=\"20\"> 85</TD>\n",
    "      <TD ALIGN=\"CENTER\"> 85</TD>\n",
    "      <TD ALIGN=\"CENTER\"> 85</TD>\n",
    "      <TD ALIGN=\"CENTER\"> 80</TD>\n",
    "      <td bgcolor=\"#cccccc\"></td>\n",
    "      <td bgcolor=\"#cccccc\"></td>\n",
    "      <td bgcolor=\"#cccccc\"></td>\n",
    "      <td bgcolor=\"#cccccc\"></td>\n",
    "      <td bgcolor=\"#cccccc\"></td>\n",
    "    </TR>\n",
    "    <TR> \n",
    "      <td bgcolor=\"#cccccc\">10</td>\n",
    "      <TD ALIGN=\"CENTER\" HEIGHT=\"20\"> 65</TD>\n",
    "      <TD ALIGN=\"CENTER\"> 60</TD>\n",
    "      <TD ALIGN=\"CENTER\"> 65</TD>\n",
    "      <TD ALIGN=\"CENTER\"> 60</TD>\n",
    "      <td bgcolor=\"#cccccc\"></td>\n",
    "      <td bgcolor=\"#cccccc\"></td>\n",
    "      <td bgcolor=\"#cccccc\"></td>\n",
    "      <td bgcolor=\"#cccccc\"></td>\n",
    "      <td bgcolor=\"#cccccc\"></td>\n",
    "    </TR>\n",
    "    <TR> \n",
    "      <td bgcolor=\"#cccccc\">11</td>\n",
    "      <TD ALIGN=\"CENTER\" HEIGHT=\"20\"> 75</TD>\n",
    "      <TD ALIGN=\"CENTER\"> 65</TD>\n",
    "      <TD ALIGN=\"CENTER\"> 75</TD>\n",
    "      <TD ALIGN=\"CENTER\"> 70</TD>\n",
    "      <td bgcolor=\"#cccccc\"></td>\n",
    "      <td bgcolor=\"#cccccc\"></td>\n",
    "      <td bgcolor=\"#cccccc\"></td>\n",
    "      <td bgcolor=\"#cccccc\"></td>\n",
    "      <td bgcolor=\"#cccccc\"></td>\n",
    "    </TR>\n",
    "    <TR> \n",
    "      <td bgcolor=\"#cccccc\">12</td>\n",
    "      <TD ALIGN=\"CENTER\" HEIGHT=\"20\"> 85</TD>\n",
    "      <TD ALIGN=\"CENTER\"> 75</TD>\n",
    "      <TD ALIGN=\"CENTER\"> 70</TD>\n",
    "      <TD ALIGN=\"CENTER\"> 75</TD>\n",
    "      <td bgcolor=\"#cccccc\"></td>\n",
    "      <td bgcolor=\"#cccccc\"></td>\n",
    "      <td bgcolor=\"#cccccc\"></td>\n",
    "      <td bgcolor=\"#cccccc\"></td>\n",
    "      <td bgcolor=\"#cccccc\"></td>\n",
    "    </TR>\n",
    "    <TR> \n",
    "      <td bgcolor=\"#cccccc\">13</td>\n",
    "      <TD ALIGN=\"CENTER\" HEIGHT=\"20\"> 80</TD>\n",
    "      <TD ALIGN=\"CENTER\"> 70</TD>\n",
    "      <TD ALIGN=\"CENTER\"> 65</TD>\n",
    "      <TD ALIGN=\"CENTER\"> 70</TD>\n",
    "      <td bgcolor=\"#cccccc\"></td>\n",
    "      <td bgcolor=\"#cccccc\"></td>\n",
    "      <td bgcolor=\"#cccccc\"></td>\n",
    "      <td bgcolor=\"#cccccc\"></td>\n",
    "      <td bgcolor=\"#cccccc\"></td>\n",
    "    </TR>\n",
    "    <TR> \n",
    "      <td bgcolor=\"#cccccc\">14</td>\n",
    "      <TD ALIGN=\"CENTER\" HEIGHT=\"20\"> 85</TD>\n",
    "      <TD ALIGN=\"CENTER\"> 80</TD>\n",
    "      <TD ALIGN=\"CENTER\"> 80</TD>\n",
    "      <TD ALIGN=\"CENTER\"> 80</TD>\n",
    "      <td bgcolor=\"#cccccc\"></td>\n",
    "      <td bgcolor=\"#cccccc\"></td>\n",
    "      <td bgcolor=\"#cccccc\"></td>\n",
    "      <td bgcolor=\"#cccccc\"></td>\n",
    "      <td bgcolor=\"#cccccc\"></td>\n",
    "    </TR>\n",
    "    <TR> \n",
    "      <td bgcolor=\"#cccccc\">15</td>\n",
    "      <TD ALIGN=\"CENTER\" HEIGHT=\"20\"> 90</TD>\n",
    "      <TD ALIGN=\"CENTER\"> 75</TD>\n",
    "      <TD ALIGN=\"CENTER\"> 75</TD>\n",
    "      <TD ALIGN=\"CENTER\"> 85</TD>\n",
    "      <td bgcolor=\"#cccccc\"></td>\n",
    "      <td bgcolor=\"#cccccc\"></td>\n",
    "      <td bgcolor=\"#cccccc\"></td>\n",
    "      <td bgcolor=\"#cccccc\"></td>\n",
    "      <td bgcolor=\"#cccccc\"></td>\n",
    "    </TR>\n",
    "    <tr><td bgcolor=\"#cccccc\">平均</td><td>( a )</td><td>( b )</td><td>( c )</td><td>( d )</td>\n",
    "        <td>( e )</td><td>( f )</td><td>( g )</td><td> ( h )</td><td>( i )</td>\n",
    "    </tr>\n",
    "    <tr><td bgcolor=\"#cccccc\">偏差平方和</td><td>( j )</td><td>( k )</td><td>( l )</td><td>( m )</td>\n",
    "        <td bgcolor=\"#cccccc\"></td><td bgcolor=\"#cccccc\"></td><td bgcolor=\"#cccccc\"></td><td bgcolor=\"#cccccc\"></td><td>( n )</td>\n",
    "    </tr>\n",
    "    </TABLE>"
   ]
  },
  {
   "cell_type": "code",
   "execution_count": 3,
   "metadata": {
    "collapsed": true
   },
   "outputs": [],
   "source": [
    "# 以下の４つをそれぞれ「群」と呼びます。\n",
    "v13 = [65, 85, 75, 85, 75, 80, 90, 75, 85, 65, 75, 85, 80, 85, 90] # クリスピーで辛口\n",
    "v14 = [65, 70, 80, 75, 70, 60, 65, 70, 85, 60, 65, 75, 70, 80, 75] # クリスピーで普通味\n",
    "v23 = [70, 65, 85, 80, 75, 65, 75, 60, 85, 65, 75, 70, 65, 80, 75] # 普通の衣で辛口\n",
    "v24 = [70, 70, 85, 80, 65, 75, 65, 85, 80, 60, 70, 75, 70, 80, 85] # 普通の衣で普通味"
   ]
  },
  {
   "cell_type": "code",
   "execution_count": 4,
   "metadata": {
    "collapsed": false
   },
   "outputs": [],
   "source": [
    "# 以下の４つのうち、上２つを「要因１（食感）」、下２つを「要因２（味）」と呼びます。\n",
    "v1 = [] # クリスピーのデータを作ってください。\n",
    "v2 = [] # 普通の衣のデータを作ってください。\n",
    "v3 = [] # 辛口のデータを作ってください。\n",
    "v4 = [] # 普通味のデータを作ってください。"
   ]
  },
  {
   "cell_type": "markdown",
   "metadata": {},
   "source": [
    "* 各項目の平均値を計算してください（上表 a, b, c, d, e, f, g, h, i ）"
   ]
  },
  {
   "cell_type": "code",
   "execution_count": null,
   "metadata": {
    "collapsed": true
   },
   "outputs": [],
   "source": []
  },
  {
   "cell_type": "markdown",
   "metadata": {},
   "source": [
    "* 各群の偏差平方和を計算してください（上表 j, k, l, m ）。また、全体の偏差平方和を計算してください（上表 n ）。"
   ]
  },
  {
   "cell_type": "code",
   "execution_count": null,
   "metadata": {
    "collapsed": true
   },
   "outputs": [],
   "source": []
  },
  {
   "cell_type": "markdown",
   "metadata": {},
   "source": [
    "__要因1によるズレを計算してください__ （下表 o )"
   ]
  },
  {
   "cell_type": "markdown",
   "metadata": {},
   "source": [
    "* 要因1（食感）によるズレ ＝ (クリスピーの平均 ー 全体の平均)の２乗 ✕ クリスピーのデータ個数　＋　(普通の衣の平均 ー 全体の平均)の２乗　✕ 普通衣のデータ個数"
   ]
  },
  {
   "cell_type": "code",
   "execution_count": null,
   "metadata": {
    "collapsed": true
   },
   "outputs": [],
   "source": []
  },
  {
   "cell_type": "markdown",
   "metadata": {},
   "source": [
    "__要因2によるズレを計算してください__ (下表 p )"
   ]
  },
  {
   "cell_type": "markdown",
   "metadata": {},
   "source": [
    "* 要因２（味）によるズレ ＝ (辛口の平均 ー 全体の平均)の２乗 ✕ 辛口のデータ個数　＋　(普通味の平均 ー 全体の平均)の２乗　✕ 普通味のデータ個数"
   ]
  },
  {
   "cell_type": "code",
   "execution_count": null,
   "metadata": {
    "collapsed": true
   },
   "outputs": [],
   "source": []
  },
  {
   "cell_type": "markdown",
   "metadata": {},
   "source": [
    "__交互作用によるズレを計算してください__ (下表 q )"
   ]
  },
  {
   "cell_type": "markdown",
   "metadata": {},
   "source": [
    "* 各群の平均のズレ＝ Σ(（各群の平均　ー　全体の平均）✕ 各群のデータ個数)\n",
    "* 交互作用によるズレ　=　各群の平均のズレ　－　要因1によるズレ　－　要因2よるズレ"
   ]
  },
  {
   "cell_type": "code",
   "execution_count": null,
   "metadata": {
    "collapsed": true
   },
   "outputs": [],
   "source": []
  },
  {
   "cell_type": "markdown",
   "metadata": {},
   "source": [
    "__残りのズレ（残差）を計算してください__ (下表 r )"
   ]
  },
  {
   "cell_type": "markdown",
   "metadata": {},
   "source": [
    "* 残りのズレ（残差）とは、群内の偏差平方和を足したものです（ j + k + l + m ）。"
   ]
  },
  {
   "cell_type": "code",
   "execution_count": null,
   "metadata": {
    "collapsed": true
   },
   "outputs": [],
   "source": []
  },
  {
   "cell_type": "markdown",
   "metadata": {},
   "source": [
    "__分散分析表を作る__\n",
    "\n",
    "o, p, q, r, n は既に計算済みです。"
   ]
  },
  {
   "cell_type": "markdown",
   "metadata": {},
   "source": [
    "<TABLE BORDER=\"1\" align=\"center\" CELLPADDING=\"2\" CELLSPACING=\"0\">\n",
    "  <TR> \n",
    "    <TD WIDTH=100 BGCOLOR=\"#CCCCCC\"> <div align=\"center\">要因 </div></TD>\n",
    "    <TD WIDTH=100 BGCOLOR=\"#DDDDDD\"> <CENTER>\n",
    "       偏差平方和 </CENTER></TD>\n",
    "    <TD WIDTH=100 BGCOLOR=\"#DDDDDD\"> <CENTER>\n",
    "        自由度 </CENTER></TD>\n",
    "    <TD WIDTH=100 BGCOLOR=\"#DDDDDD\"> <CENTER>\n",
    "        平均平方 </CENTER></TD>\n",
    "    <TD WIDTH=100 BGCOLOR=\"#DDDDDD\"> <CENTER>\n",
    "        F </CENTER></TD>\n",
    "  </TR>\n",
    "  <TR> \n",
    "    <TD WIDTH=100 BGCOLOR=\"#DDDDDD\"> <div align=\"center\">要因1 </div></TD>\n",
    "    <TD WIDTH=100> <div align=\"right\">( o )</div></TD>\n",
    "    <TD WIDTH=100> <div align=\"right\">( s )</div></TD>\n",
    "    <TD WIDTH=100> <div align=\"right\">( x )</div></TD>\n",
    "    <TD WIDTH=100> <div align=\"right\">( bb )</div></TD>\n",
    "  </TR>\n",
    "  <TR> \n",
    "    <TD WIDTH=100 BGCOLOR=\"#DDDDDD\"> <div align=\"center\">要因2 </div></TD>\n",
    "    <TD WIDTH=100> <div align=\"right\">( p )</div></TD>\n",
    "    <TD WIDTH=100> <div align=\"right\">( t )</div></TD>\n",
    "    <TD WIDTH=100> <div align=\"right\">( y )</div></TD>\n",
    "    <TD WIDTH=100> <div align=\"right\">( cc )</div></TD>\n",
    "  </TR>\n",
    "  <TR> \n",
    "    <TD WIDTH=100 BGCOLOR=\"#dddddd\"> <div align=\"center\">交互作用 </div></TD>\n",
    "    <TD WIDTH=100> <div align=\"right\">( q )</div></TD>\n",
    "    <TD WIDTH=100> <div align=\"right\">( u )</div></TD>\n",
    "    <TD WIDTH=100> <div align=\"right\">( z )</div></TD>\n",
    "    <TD WIDTH=100> <div align=\"right\">( dd )</div></TD>\n",
    "  </TR>\n",
    "  <TR> \n",
    "    <TD BGCOLOR=\"#dddddd\"> <div align=\"center\">残差</div></TD>\n",
    "    <TD><div align=\"right\">( r )</div></TD>\n",
    "    <TD><div align=\"right\">( w )</div></TD>\n",
    "    <TD><div align=\"right\">( aa )</div></TD>\n",
    "  </TR>\n",
    "  <TR> \n",
    "    <TD BGCOLOR=\"#CCCCCC\"><div align=\"center\">全体 </div></TD>\n",
    "    <TD><div align=\"right\">( n )</div></TD>\n",
    "    <TD><div align=\"right\">( v )</div></TD>\n",
    "  </TR>\n",
    "</TABLE>"
   ]
  },
  {
   "cell_type": "markdown",
   "metadata": {},
   "source": [
    "* 自由度を求めてください。\n",
    "  * (上表 s ) 要因1の自由度 ＝ 要因1の中の条件数（群の数）から１を引いたもの\n",
    "  * (上表 t ) 要因2の自由度 ＝ 要因2の中の条件数（群の数）から１を引いたもの\n",
    "  * (上表 u ) 交互作用の自由度　＝ 要因1の自由度 ✕ 要因2の自由度\n",
    "  * (上表 v ) 全体の自由度　＝ 全データ数から１を引いたもの\n",
    "  * (上表 w ) 残差の自由度 ＝ 全体の自由度 ー 要因1の自由度 ー 要因2の自由度 ー 交互作用の自由度"
   ]
  },
  {
   "cell_type": "code",
   "execution_count": null,
   "metadata": {
    "collapsed": true
   },
   "outputs": [],
   "source": []
  },
  {
   "cell_type": "markdown",
   "metadata": {},
   "source": [
    "* 平均平方を求めてください。(上表 x, y, z, aa )\n",
    "  * 平均平方 ＝ 偏差平方和 ／ 自由度"
   ]
  },
  {
   "cell_type": "code",
   "execution_count": null,
   "metadata": {
    "collapsed": true
   },
   "outputs": [],
   "source": []
  },
  {
   "cell_type": "markdown",
   "metadata": {},
   "source": [
    "* F値を求めてください。\n",
    "  * (上表 bb ) 要因1のF値 ＝ 要因1の平均平方 ／ 残差の平均平方\n",
    "  * (上表 cc ) 要因2のF値 ＝ 要因2の平均平方 ／ 残差の平均平方\n",
    "  * (上表 dd ) 交互作用のF値 ＝ 交互作用の平均平方 ／ 残差の平均平方"
   ]
  },
  {
   "cell_type": "code",
   "execution_count": null,
   "metadata": {
    "collapsed": true
   },
   "outputs": [],
   "source": []
  },
  {
   "cell_type": "markdown",
   "metadata": {},
   "source": [
    "* 計算したF値と、F分布表を比較して、以下の問いに答えてください。\n",
    "  * 要因1（食感）による点数の差があるかどうか答えてください。\n",
    "  * 要因2（味）　による点数の差があるかどうか答えてください。\n",
    "  * 交互作用による点数の差があるかどうか答えてください。"
   ]
  },
  {
   "cell_type": "code",
   "execution_count": null,
   "metadata": {
    "collapsed": true
   },
   "outputs": [],
   "source": []
  },
  {
   "cell_type": "markdown",
   "metadata": {},
   "source": [
    "### 7.3　[交互作用とは?](http://kogolab.chillout.jp/elearn/hamburger/chap7/sec3.html)\n",
    "本文を読んで概念を学んでください。"
   ]
  },
  {
   "cell_type": "markdown",
   "metadata": {},
   "source": [
    "### 7.4　[実践編：セットでいこう](http://kogolab.chillout.jp/elearn/hamburger/chap7/sec4.html)"
   ]
  },
  {
   "cell_type": "markdown",
   "metadata": {},
   "source": [
    "__課題7.4__ 次のデータで同様に分散分析をしてください。\n",
    "<TABLE WIDTH=\"403\" HEIGHT=\"351\" BORDER=\"1\" CELLSPACING=\"0\" \n",
    "  CELLPADDING=\"0\">\n",
    "    <TR> \n",
    "      <TD height=\"29\" COLSPAN=\"2\" BGCOLOR=\"#ff9c05\"> \n",
    "        <CENTER>\n",
    "          ピリ辛バーガー </CENTER></TD>\n",
    "      <TD COLSPAN=\"2\" BGCOLOR=\"#f97c6a\"> <CENTER>\n",
    "          普通のハンバーガー </CENTER></TD>\n",
    "    </TR>\n",
    "    <TR> \n",
    "      <TD WIDTH=\"20%\" BGCOLOR=\"#fb3a04\" HEIGHT=\"20\"> <CENTER>\n",
    "          ピリ辛ポテト </CENTER></TD>\n",
    "      <TD WIDTH=\"20%\" BGCOLOR=\"#ffd303\"> <CENTER>\n",
    "          普通のポテト </CENTER></TD>\n",
    "      <TD WIDTH=\"20%\" BGCOLOR=\"#fa3a04\"> <CENTER>\n",
    "          ピリ辛ポテト </CENTER></TD>\n",
    "      <TD WIDTH=\"20%\" BGCOLOR=\"#ffd303\"> <CENTER>\n",
    "          普通のポテト </CENTER></TD>\n",
    "    </TR>\n",
    "    <TR> \n",
    "      <TD ALIGN=\"CENTER\"> 80</TD>\n",
    "      <TD ALIGN=\"CENTER\"> 85</TD>\n",
    "      <TD ALIGN=\"CENTER\" HEIGHT=\"20\"> 60</TD>\n",
    "      <TD ALIGN=\"CENTER\"> 55</TD>\n",
    "    </TR>\n",
    "    <TR> \n",
    "      <TD ALIGN=\"CENTER\"> 85</TD>\n",
    "      <TD ALIGN=\"CENTER\"> 65</TD>\n",
    "      <TD ALIGN=\"CENTER\" HEIGHT=\"20\"> 70</TD>\n",
    "      <TD ALIGN=\"CENTER\"> 65</TD>\n",
    "    </TR>\n",
    "    <TR> \n",
    "      <TD ALIGN=\"CENTER\"> 75</TD>\n",
    "      <TD ALIGN=\"CENTER\"> 80</TD>\n",
    "      <TD ALIGN=\"CENTER\" HEIGHT=\"20\"> 80</TD>\n",
    "      <TD ALIGN=\"CENTER\"> 50</TD>\n",
    "    </TR>\n",
    "    <TR> \n",
    "      <TD ALIGN=\"CENTER\"> 70</TD>\n",
    "      <TD ALIGN=\"CENTER\"> 75</TD>\n",
    "      <TD ALIGN=\"CENTER\" HEIGHT=\"20\"> 75</TD>\n",
    "      <TD ALIGN=\"CENTER\"> 70</TD>\n",
    "    </TR>\n",
    "    <TR> \n",
    "      <TD ALIGN=\"CENTER\"> 75</TD>\n",
    "      <TD ALIGN=\"CENTER\"> 85</TD>\n",
    "      <TD ALIGN=\"CENTER\" HEIGHT=\"20\"> 65</TD>\n",
    "      <TD ALIGN=\"CENTER\"> 50</TD>\n",
    "    </TR>\n",
    "    <TR> \n",
    "      <TD ALIGN=\"CENTER\"> 60</TD>\n",
    "      <TD ALIGN=\"CENTER\"> 65</TD>\n",
    "      <TD ALIGN=\"CENTER\" HEIGHT=\"20\"> 60</TD>\n",
    "      <TD ALIGN=\"CENTER\"> 65</TD>\n",
    "    </TR>\n",
    "    <TR> \n",
    "      <TD ALIGN=\"CENTER\"> 70</TD>\n",
    "      <TD ALIGN=\"CENTER\"> 75</TD>\n",
    "      <TD ALIGN=\"CENTER\" HEIGHT=\"20\"> 70</TD>\n",
    "      <TD ALIGN=\"CENTER\"> 75</TD>\n",
    "    </TR>\n",
    "    <TR> \n",
    "      <TD ALIGN=\"CENTER\"> 75</TD>\n",
    "      <TD ALIGN=\"CENTER\"> 60</TD>\n",
    "      <TD ALIGN=\"CENTER\" HEIGHT=\"20\"> 75</TD>\n",
    "      <TD ALIGN=\"CENTER\"> 65</TD>\n",
    "    </TR>\n",
    "    <TR> \n",
    "      <TD ALIGN=\"CENTER\"> 85</TD>\n",
    "      <TD ALIGN=\"CENTER\"> 80</TD>\n",
    "      <TD ALIGN=\"CENTER\" HEIGHT=\"20\"> 80</TD>\n",
    "      <TD ALIGN=\"CENTER\"> 75</TD>\n",
    "    </TR>\n",
    "    <TR> \n",
    "      <TD ALIGN=\"CENTER\"> 70</TD>\n",
    "      <TD ALIGN=\"CENTER\"> 70</TD>\n",
    "      <TD ALIGN=\"CENTER\" HEIGHT=\"20\"> 65</TD>\n",
    "      <TD ALIGN=\"CENTER\"> 65</TD>\n",
    "    </TR>\n",
    "    <TR> \n",
    "      <TD ALIGN=\"CENTER\"> 75</TD>\n",
    "      <TD ALIGN=\"CENTER\"> 75</TD>\n",
    "      <TD ALIGN=\"CENTER\" HEIGHT=\"20\"> 65</TD>\n",
    "      <TD ALIGN=\"CENTER\"> 70</TD>\n",
    "    </TR>\n",
    "    <TR> \n",
    "      <TD ALIGN=\"CENTER\"> 85</TD>\n",
    "      <TD ALIGN=\"CENTER\"> 80</TD>\n",
    "      <TD ALIGN=\"CENTER\" HEIGHT=\"20\"> 75</TD>\n",
    "      <TD ALIGN=\"CENTER\"> 55</TD>\n",
    "    </TR>\n",
    "    <TR> \n",
    "      <TD ALIGN=\"CENTER\"> 75</TD>\n",
    "      <TD ALIGN=\"CENTER\"> 65</TD>\n",
    "      <TD ALIGN=\"CENTER\" HEIGHT=\"20\"> 70</TD>\n",
    "      <TD ALIGN=\"CENTER\"> 65</TD>\n",
    "    </TR>\n",
    "    <TR> \n",
    "      <TD ALIGN=\"CENTER\"> 85</TD>\n",
    "      <TD ALIGN=\"CENTER\"> 85</TD>\n",
    "      <TD ALIGN=\"CENTER\" HEIGHT=\"20\"> 85</TD>\n",
    "      <TD ALIGN=\"CENTER\"> 70</TD>\n",
    "    </TR>\n",
    "    <TR> \n",
    "      <TD ALIGN=\"CENTER\"> 90</TD>\n",
    "      <TD ALIGN=\"CENTER\"> 75</TD>\n",
    "      <TD ALIGN=\"CENTER\" HEIGHT=\"20\"> 60</TD>\n",
    "      <TD ALIGN=\"CENTER\"> 65</TD>\n",
    "    </TR>\n",
    "  </TABLE>"
   ]
  },
  {
   "cell_type": "code",
   "execution_count": 5,
   "metadata": {
    "collapsed": true
   },
   "outputs": [],
   "source": [
    "# 以下の４つをそれぞれ「群」と呼びます。\n",
    "v13 = [80, 85, 75, 70, 75, 60, 70, 75, 85, 70, 75, 85, 75, 85, 90] # ピリ辛バーガー + ピリ辛ポテト\n",
    "v14 = [85, 65, 80, 75, 85, 65, 75, 60, 80, 70, 75, 80, 65, 85, 75] # ピリ辛バーガー + 普通のポテト\n",
    "v23 = [60, 70, 80, 75, 65, 60, 70, 75, 80, 65, 65, 75, 70, 85, 60] # 普通のハンバーガー + ピリ辛ポテト\n",
    "v24 = [55, 65, 50, 70, 50, 65, 75, 65, 75, 65, 70, 55, 65, 70, 65] # 普通のハンバーガー + 普通のポテト"
   ]
  },
  {
   "cell_type": "code",
   "execution_count": 6,
   "metadata": {
    "collapsed": true
   },
   "outputs": [],
   "source": [
    "# 以下の４つのうち、上２つを「要因１（バーガーの味）」、下２つを「要因２（ポテトの味）」と呼びます。\n",
    "v1 = [] # ピリ辛バーガーのデータを作ってください。\n",
    "v2 = [] # 普通のバーガーのデータを作ってください。\n",
    "v3 = [] # ピリ辛ポテトのデータを作ってください。\n",
    "v4 = [] # 普通のポテトのデータを作ってください。"
   ]
  },
  {
   "cell_type": "code",
   "execution_count": null,
   "metadata": {
    "collapsed": true
   },
   "outputs": [],
   "source": []
  },
  {
   "cell_type": "markdown",
   "metadata": {},
   "source": [
    "### 7.9　[通過テスト](http://kogolab.chillout.jp/elearn/hamburger/chap7/sec9.html)\n",
    "本文を読んで問題を解いてください。"
   ]
  },
  {
   "cell_type": "code",
   "execution_count": null,
   "metadata": {
    "collapsed": true
   },
   "outputs": [],
   "source": []
  },
  {
   "cell_type": "markdown",
   "metadata": {},
   "source": [
    "__今日の課題提出__：計算結果を.ipynb ファイル（または.jsonファイル）として保存し、指定したアドレスまでメールしてください。メールタイトルは「__ハンバーガー統計学67__」とし、メール本文に学籍番号と氏名を明記のこと。また、感想も書いてくれると喜びます。今後の講義の改善につながるかも知れません。"
   ]
  }
 ],
 "metadata": {
  "kernelspec": {
   "display_name": "Python 2",
   "language": "python",
   "name": "python2"
  },
  "language_info": {
   "codemirror_mode": {
    "name": "ipython",
    "version": 2
   },
   "file_extension": ".py",
   "mimetype": "text/x-python",
   "name": "python",
   "nbconvert_exporter": "python",
   "pygments_lexer": "ipython2",
   "version": "2.7.12"
  }
 },
 "nbformat": 4,
 "nbformat_minor": 0
}
