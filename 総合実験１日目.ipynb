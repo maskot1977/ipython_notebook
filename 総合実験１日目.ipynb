{
 "cells": [
  {
   "cell_type": "markdown",
   "metadata": {},
   "source": [
    "# 総合実験（１日目）"
   ]
  },
  {
   "cell_type": "markdown",
   "metadata": {},
   "source": [
    "## 〜 IPython Notebook (Jupyter Notebook)を使った基本統計量の計算と可視化 〜"
   ]
  },
  {
   "cell_type": "markdown",
   "metadata": {},
   "source": [
    "### IPython Notebook とは\n",
    "* Python という名のプログラミング言語が使えるプログラミング環境。計算コードと計算結果を同じ場所に時系列で保存できるので、実験系における実験ノートのように、いつどんな処理を行って何を得たのか記録して再現するのに便利。\n",
    "* [Jupyter Notebook（IPython）のインストールと始め方](http://www.task-notes.com/entry/20151129/1448794509)\n",
    "* [小寺研究室](https://github.com/maskot1977/-/blob/master/L1%E3%82%BC%E3%83%9F2015%E5%B0%8F%E5%AF%BA%E7%A0%94%E7%A9%B6%E5%AE%A4.pptx.pdf) では、MacOSX上で右記のようにセットアップして使っています。> [環境構築](https://sites.google.com/site/masaakikotera/8-python/8-1-huan-jing-gou-zhu)"
   ]
  },
  {
   "cell_type": "markdown",
   "metadata": {},
   "source": [
    "### まずは、意味が分からなくてもいいので使ってみましょう\n",
    "* Python にまだ慣れてない人は、[Pythonウォーミングアップ](http://nbviewer.jupyter.org/github/maskot1977/ipython_notebook/blob/master/Python%E3%82%A6%E3%82%A9%E3%83%BC%E3%83%9F%E3%83%B3%E3%82%AF%E3%82%99%E3%82%A2%E3%83%83%E3%83%95%E3%82%9A.ipynb) に進んでください。\n",
    "\n",
    "### 本実習スタート\n",
    "* 本実習ではまず、下のプログラムを順次実行してもらいます。各自の画面中の IPython Notebook のセルに順次入力して（コピペ可）、「Shift + Enter」してください。\n",
    "* 最後に、課題を解いてもらいます。課題の結果を、指定する方法で指定するメールアドレスまで送信してください。"
   ]
  },
  {
   "cell_type": "code",
   "execution_count": 1,
   "metadata": {
    "collapsed": true
   },
   "outputs": [],
   "source": [
    "# URL によるリソースへのアクセスを提供するライブラリをインポートする。\n",
    "import urllib"
   ]
  },
  {
   "cell_type": "code",
   "execution_count": 2,
   "metadata": {
    "collapsed": true
   },
   "outputs": [],
   "source": [
    "# ウェブ上のリソースを指定する\n",
    "url = 'https://dl.dropboxusercontent.com/u/432512/20120210/data/iris.txt'"
   ]
  },
  {
   "cell_type": "code",
   "execution_count": 3,
   "metadata": {
    "collapsed": false
   },
   "outputs": [
    {
     "data": {
      "text/plain": [
       "('iris.txt', <httplib.HTTPMessage instance at 0x10410a638>)"
      ]
     },
     "execution_count": 3,
     "metadata": {},
     "output_type": "execute_result"
    }
   ],
   "source": [
    "# 指定したURLからリソースをダウンロードし、名前をつける。\n",
    "urllib.urlretrieve(url, 'iris.txt')"
   ]
  },
  {
   "cell_type": "code",
   "execution_count": 4,
   "metadata": {
    "collapsed": false
   },
   "outputs": [
    {
     "name": "stdout",
     "output_type": "stream",
     "text": [
      "\tSepal.Length\tSepal.Width\tPetal.Length\tPetal.Width\tSpecies\r\n",
      "\n",
      "1\t5.1\t3.5\t1.4\t0.2\tsetosa\r\n",
      "\n",
      "2\t4.9\t3\t1.4\t0.2\tsetosa\r\n",
      "\n",
      "3\t4.7\t3.2\t1.3\t0.2\tsetosa\r\n",
      "\n",
      "4\t4.6\t3.1\t1.5\t0.2\tsetosa\r\n",
      "\n",
      "5\t5\t3.6\t1.4\t0.2\tsetosa\r\n",
      "\n",
      "6\t5.4\t3.9\t1.7\t0.4\tsetosa\r\n",
      "\n",
      "7\t4.6\t3.4\t1.4\t0.3\tsetosa\r\n",
      "\n",
      "8\t5\t3.4\t1.5\t0.2\tsetosa\r\n",
      "\n",
      "9\t4.4\t2.9\t1.4\t0.2\tsetosa\r\n",
      "\n",
      "10\t4.9\t3.1\t1.5\t0.1\tsetosa\r\n",
      "\n",
      "11\t5.4\t3.7\t1.5\t0.2\tsetosa\r\n",
      "\n",
      "12\t4.8\t3.4\t1.6\t0.2\tsetosa\r\n",
      "\n",
      "13\t4.8\t3\t1.4\t0.1\tsetosa\r\n",
      "\n",
      "14\t4.3\t3\t1.1\t0.1\tsetosa\r\n",
      "\n",
      "15\t5.8\t4\t1.2\t0.2\tsetosa\r\n",
      "\n",
      "16\t5.7\t4.4\t1.5\t0.4\tsetosa\r\n",
      "\n",
      "17\t5.4\t3.9\t1.3\t0.4\tsetosa\r\n",
      "\n",
      "18\t5.1\t3.5\t1.4\t0.3\tsetosa\r\n",
      "\n",
      "19\t5.7\t3.8\t1.7\t0.3\tsetosa\r\n",
      "\n",
      "20\t5.1\t3.8\t1.5\t0.3\tsetosa\r\n",
      "\n",
      "21\t5.4\t3.4\t1.7\t0.2\tsetosa\r\n",
      "\n",
      "22\t5.1\t3.7\t1.5\t0.4\tsetosa\r\n",
      "\n",
      "23\t4.6\t3.6\t1\t0.2\tsetosa\r\n",
      "\n",
      "24\t5.1\t3.3\t1.7\t0.5\tsetosa\r\n",
      "\n",
      "25\t4.8\t3.4\t1.9\t0.2\tsetosa\r\n",
      "\n",
      "26\t5\t3\t1.6\t0.2\tsetosa\r\n",
      "\n",
      "27\t5\t3.4\t1.6\t0.4\tsetosa\r\n",
      "\n",
      "28\t5.2\t3.5\t1.5\t0.2\tsetosa\r\n",
      "\n",
      "29\t5.2\t3.4\t1.4\t0.2\tsetosa\r\n",
      "\n",
      "30\t4.7\t3.2\t1.6\t0.2\tsetosa\r\n",
      "\n",
      "31\t4.8\t3.1\t1.6\t0.2\tsetosa\r\n",
      "\n",
      "32\t5.4\t3.4\t1.5\t0.4\tsetosa\r\n",
      "\n",
      "33\t5.2\t4.1\t1.5\t0.1\tsetosa\r\n",
      "\n",
      "34\t5.5\t4.2\t1.4\t0.2\tsetosa\r\n",
      "\n",
      "35\t4.9\t3.1\t1.5\t0.2\tsetosa\r\n",
      "\n",
      "36\t5\t3.2\t1.2\t0.2\tsetosa\r\n",
      "\n",
      "37\t5.5\t3.5\t1.3\t0.2\tsetosa\r\n",
      "\n",
      "38\t4.9\t3.6\t1.4\t0.1\tsetosa\r\n",
      "\n",
      "39\t4.4\t3\t1.3\t0.2\tsetosa\r\n",
      "\n",
      "40\t5.1\t3.4\t1.5\t0.2\tsetosa\r\n",
      "\n",
      "41\t5\t3.5\t1.3\t0.3\tsetosa\r\n",
      "\n",
      "42\t4.5\t2.3\t1.3\t0.3\tsetosa\r\n",
      "\n",
      "43\t4.4\t3.2\t1.3\t0.2\tsetosa\r\n",
      "\n",
      "44\t5\t3.5\t1.6\t0.6\tsetosa\r\n",
      "\n",
      "45\t5.1\t3.8\t1.9\t0.4\tsetosa\r\n",
      "\n",
      "46\t4.8\t3\t1.4\t0.3\tsetosa\r\n",
      "\n",
      "47\t5.1\t3.8\t1.6\t0.2\tsetosa\r\n",
      "\n",
      "48\t4.6\t3.2\t1.4\t0.2\tsetosa\r\n",
      "\n",
      "49\t5.3\t3.7\t1.5\t0.2\tsetosa\r\n",
      "\n",
      "50\t5\t3.3\t1.4\t0.2\tsetosa\r\n",
      "\n",
      "51\t7\t3.2\t4.7\t1.4\tversicolor\r\n",
      "\n",
      "52\t6.4\t3.2\t4.5\t1.5\tversicolor\r\n",
      "\n",
      "53\t6.9\t3.1\t4.9\t1.5\tversicolor\r\n",
      "\n",
      "54\t5.5\t2.3\t4\t1.3\tversicolor\r\n",
      "\n",
      "55\t6.5\t2.8\t4.6\t1.5\tversicolor\r\n",
      "\n",
      "56\t5.7\t2.8\t4.5\t1.3\tversicolor\r\n",
      "\n",
      "57\t6.3\t3.3\t4.7\t1.6\tversicolor\r\n",
      "\n",
      "58\t4.9\t2.4\t3.3\t1\tversicolor\r\n",
      "\n",
      "59\t6.6\t2.9\t4.6\t1.3\tversicolor\r\n",
      "\n",
      "60\t5.2\t2.7\t3.9\t1.4\tversicolor\r\n",
      "\n",
      "61\t5\t2\t3.5\t1\tversicolor\r\n",
      "\n",
      "62\t5.9\t3\t4.2\t1.5\tversicolor\r\n",
      "\n",
      "63\t6\t2.2\t4\t1\tversicolor\r\n",
      "\n",
      "64\t6.1\t2.9\t4.7\t1.4\tversicolor\r\n",
      "\n",
      "65\t5.6\t2.9\t3.6\t1.3\tversicolor\r\n",
      "\n",
      "66\t6.7\t3.1\t4.4\t1.4\tversicolor\r\n",
      "\n",
      "67\t5.6\t3\t4.5\t1.5\tversicolor\r\n",
      "\n",
      "68\t5.8\t2.7\t4.1\t1\tversicolor\r\n",
      "\n",
      "69\t6.2\t2.2\t4.5\t1.5\tversicolor\r\n",
      "\n",
      "70\t5.6\t2.5\t3.9\t1.1\tversicolor\r\n",
      "\n",
      "71\t5.9\t3.2\t4.8\t1.8\tversicolor\r\n",
      "\n",
      "72\t6.1\t2.8\t4\t1.3\tversicolor\r\n",
      "\n",
      "73\t6.3\t2.5\t4.9\t1.5\tversicolor\r\n",
      "\n",
      "74\t6.1\t2.8\t4.7\t1.2\tversicolor\r\n",
      "\n",
      "75\t6.4\t2.9\t4.3\t1.3\tversicolor\r\n",
      "\n",
      "76\t6.6\t3\t4.4\t1.4\tversicolor\r\n",
      "\n",
      "77\t6.8\t2.8\t4.8\t1.4\tversicolor\r\n",
      "\n",
      "78\t6.7\t3\t5\t1.7\tversicolor\r\n",
      "\n",
      "79\t6\t2.9\t4.5\t1.5\tversicolor\r\n",
      "\n",
      "80\t5.7\t2.6\t3.5\t1\tversicolor\r\n",
      "\n",
      "81\t5.5\t2.4\t3.8\t1.1\tversicolor\r\n",
      "\n",
      "82\t5.5\t2.4\t3.7\t1\tversicolor\r\n",
      "\n",
      "83\t5.8\t2.7\t3.9\t1.2\tversicolor\r\n",
      "\n",
      "84\t6\t2.7\t5.1\t1.6\tversicolor\r\n",
      "\n",
      "85\t5.4\t3\t4.5\t1.5\tversicolor\r\n",
      "\n",
      "86\t6\t3.4\t4.5\t1.6\tversicolor\r\n",
      "\n",
      "87\t6.7\t3.1\t4.7\t1.5\tversicolor\r\n",
      "\n",
      "88\t6.3\t2.3\t4.4\t1.3\tversicolor\r\n",
      "\n",
      "89\t5.6\t3\t4.1\t1.3\tversicolor\r\n",
      "\n",
      "90\t5.5\t2.5\t4\t1.3\tversicolor\r\n",
      "\n",
      "91\t5.5\t2.6\t4.4\t1.2\tversicolor\r\n",
      "\n",
      "92\t6.1\t3\t4.6\t1.4\tversicolor\r\n",
      "\n",
      "93\t5.8\t2.6\t4\t1.2\tversicolor\r\n",
      "\n",
      "94\t5\t2.3\t3.3\t1\tversicolor\r\n",
      "\n",
      "95\t5.6\t2.7\t4.2\t1.3\tversicolor\r\n",
      "\n",
      "96\t5.7\t3\t4.2\t1.2\tversicolor\r\n",
      "\n",
      "97\t5.7\t2.9\t4.2\t1.3\tversicolor\r\n",
      "\n",
      "98\t6.2\t2.9\t4.3\t1.3\tversicolor\r\n",
      "\n",
      "99\t5.1\t2.5\t3\t1.1\tversicolor\r\n",
      "\n",
      "100\t5.7\t2.8\t4.1\t1.3\tversicolor\r\n",
      "\n",
      "101\t6.3\t3.3\t6\t2.5\tvirginica\r\n",
      "\n",
      "102\t5.8\t2.7\t5.1\t1.9\tvirginica\r\n",
      "\n",
      "103\t7.1\t3\t5.9\t2.1\tvirginica\r\n",
      "\n",
      "104\t6.3\t2.9\t5.6\t1.8\tvirginica\r\n",
      "\n",
      "105\t6.5\t3\t5.8\t2.2\tvirginica\r\n",
      "\n",
      "106\t7.6\t3\t6.6\t2.1\tvirginica\r\n",
      "\n",
      "107\t4.9\t2.5\t4.5\t1.7\tvirginica\r\n",
      "\n",
      "108\t7.3\t2.9\t6.3\t1.8\tvirginica\r\n",
      "\n",
      "109\t6.7\t2.5\t5.8\t1.8\tvirginica\r\n",
      "\n",
      "110\t7.2\t3.6\t6.1\t2.5\tvirginica\r\n",
      "\n",
      "111\t6.5\t3.2\t5.1\t2\tvirginica\r\n",
      "\n",
      "112\t6.4\t2.7\t5.3\t1.9\tvirginica\r\n",
      "\n",
      "113\t6.8\t3\t5.5\t2.1\tvirginica\r\n",
      "\n",
      "114\t5.7\t2.5\t5\t2\tvirginica\r\n",
      "\n",
      "115\t5.8\t2.8\t5.1\t2.4\tvirginica\r\n",
      "\n",
      "116\t6.4\t3.2\t5.3\t2.3\tvirginica\r\n",
      "\n",
      "117\t6.5\t3\t5.5\t1.8\tvirginica\r\n",
      "\n",
      "118\t7.7\t3.8\t6.7\t2.2\tvirginica\r\n",
      "\n",
      "119\t7.7\t2.6\t6.9\t2.3\tvirginica\r\n",
      "\n",
      "120\t6\t2.2\t5\t1.5\tvirginica\r\n",
      "\n",
      "121\t6.9\t3.2\t5.7\t2.3\tvirginica\r\n",
      "\n",
      "122\t5.6\t2.8\t4.9\t2\tvirginica\r\n",
      "\n",
      "123\t7.7\t2.8\t6.7\t2\tvirginica\r\n",
      "\n",
      "124\t6.3\t2.7\t4.9\t1.8\tvirginica\r\n",
      "\n",
      "125\t6.7\t3.3\t5.7\t2.1\tvirginica\r\n",
      "\n",
      "126\t7.2\t3.2\t6\t1.8\tvirginica\r\n",
      "\n",
      "127\t6.2\t2.8\t4.8\t1.8\tvirginica\r\n",
      "\n",
      "128\t6.1\t3\t4.9\t1.8\tvirginica\r\n",
      "\n",
      "129\t6.4\t2.8\t5.6\t2.1\tvirginica\r\n",
      "\n",
      "130\t7.2\t3\t5.8\t1.6\tvirginica\r\n",
      "\n",
      "131\t7.4\t2.8\t6.1\t1.9\tvirginica\r\n",
      "\n",
      "132\t7.9\t3.8\t6.4\t2\tvirginica\r\n",
      "\n",
      "133\t6.4\t2.8\t5.6\t2.2\tvirginica\r\n",
      "\n",
      "134\t6.3\t2.8\t5.1\t1.5\tvirginica\r\n",
      "\n",
      "135\t6.1\t2.6\t5.6\t1.4\tvirginica\r\n",
      "\n",
      "136\t7.7\t3\t6.1\t2.3\tvirginica\r\n",
      "\n",
      "137\t6.3\t3.4\t5.6\t2.4\tvirginica\r\n",
      "\n",
      "138\t6.4\t3.1\t5.5\t1.8\tvirginica\r\n",
      "\n",
      "139\t6\t3\t4.8\t1.8\tvirginica\r\n",
      "\n",
      "140\t6.9\t3.1\t5.4\t2.1\tvirginica\r\n",
      "\n",
      "141\t6.7\t3.1\t5.6\t2.4\tvirginica\r\n",
      "\n",
      "142\t6.9\t3.1\t5.1\t2.3\tvirginica\r\n",
      "\n",
      "143\t5.8\t2.7\t5.1\t1.9\tvirginica\r\n",
      "\n",
      "144\t6.8\t3.2\t5.9\t2.3\tvirginica\r\n",
      "\n",
      "145\t6.7\t3.3\t5.7\t2.5\tvirginica\r\n",
      "\n",
      "146\t6.7\t3\t5.2\t2.3\tvirginica\r\n",
      "\n",
      "147\t6.3\t2.5\t5\t1.9\tvirginica\r\n",
      "\n",
      "148\t6.5\t3\t5.2\t2\tvirginica\r\n",
      "\n",
      "149\t6.2\t3.4\t5.4\t2.3\tvirginica\r\n",
      "\n",
      "150\t5.9\t3\t5.1\t1.8\tvirginica\r\n",
      "\n"
     ]
    }
   ],
   "source": [
    "# ダウンロードしたファイルの中身を確認する。\n",
    "for line in open('iris.txt'):\n",
    "    print line"
   ]
  },
  {
   "cell_type": "code",
   "execution_count": 5,
   "metadata": {
    "collapsed": false
   },
   "outputs": [
    {
     "name": "stdout",
     "output_type": "stream",
     "text": [
      "0 \tSepal.Length\tSepal.Width\tPetal.Length\tPetal.Width\tSpecies\r\n",
      "\n",
      "1 1\t5.1\t3.5\t1.4\t0.2\tsetosa\r\n",
      "\n",
      "2 2\t4.9\t3\t1.4\t0.2\tsetosa\r\n",
      "\n",
      "3 3\t4.7\t3.2\t1.3\t0.2\tsetosa\r\n",
      "\n",
      "4 4\t4.6\t3.1\t1.5\t0.2\tsetosa\r\n",
      "\n",
      "5 5\t5\t3.6\t1.4\t0.2\tsetosa\r\n",
      "\n",
      "6 6\t5.4\t3.9\t1.7\t0.4\tsetosa\r\n",
      "\n"
     ]
    }
   ],
   "source": [
    "# ダウンロードしたファイルの中身を確認する（行番号付き）\n",
    "for i, line in enumerate(open('iris.txt')):\n",
    "    print i, line\n",
    "    if i > 5:\n",
    "        break"
   ]
  },
  {
   "cell_type": "code",
   "execution_count": 6,
   "metadata": {
    "collapsed": false
   },
   "outputs": [
    {
     "name": "stdout",
     "output_type": "stream",
     "text": [
      "['1', '5.1', '3.5', '1.4', '0.2', 'setosa']\n",
      "['2', '4.9', '3', '1.4', '0.2', 'setosa']\n",
      "['3', '4.7', '3.2', '1.3', '0.2', 'setosa']\n",
      "['4', '4.6', '3.1', '1.5', '0.2', 'setosa']\n",
      "['5', '5', '3.6', '1.4', '0.2', 'setosa']\n",
      "['6', '5.4', '3.9', '1.7', '0.4', 'setosa']\n"
     ]
    }
   ],
   "source": [
    "# ダウンロードしたファイルの中身を確認する（先頭行を無視して、空白でデータ区切りをする）\n",
    "for i, line in enumerate(open('iris.txt')):\n",
    "    if i == 0:\n",
    "        continue\n",
    "    else:\n",
    "        a = line.split()\n",
    "        print a\n",
    "    if i > 5:\n",
    "        break"
   ]
  },
  {
   "cell_type": "code",
   "execution_count": 7,
   "metadata": {
    "collapsed": true
   },
   "outputs": [],
   "source": [
    "# ダウンロードしたファイルから、指定した列の数字をリストに入れる。\n",
    "x1 = []\n",
    "for i, line in enumerate(open('iris.txt')):\n",
    "    if i == 0:\n",
    "        continue\n",
    "    else:\n",
    "        a = line.split()\n",
    "        x1.append(float(a[1]))"
   ]
  },
  {
   "cell_type": "code",
   "execution_count": 8,
   "metadata": {
    "collapsed": false
   },
   "outputs": [
    {
     "name": "stdout",
     "output_type": "stream",
     "text": [
      "[5.1, 4.9, 4.7, 4.6, 5.0, 5.4, 4.6, 5.0, 4.4, 4.9, 5.4, 4.8, 4.8, 4.3, 5.8, 5.7, 5.4, 5.1, 5.7, 5.1, 5.4, 5.1, 4.6, 5.1, 4.8, 5.0, 5.0, 5.2, 5.2, 4.7, 4.8, 5.4, 5.2, 5.5, 4.9, 5.0, 5.5, 4.9, 4.4, 5.1, 5.0, 4.5, 4.4, 5.0, 5.1, 4.8, 5.1, 4.6, 5.3, 5.0, 7.0, 6.4, 6.9, 5.5, 6.5, 5.7, 6.3, 4.9, 6.6, 5.2, 5.0, 5.9, 6.0, 6.1, 5.6, 6.7, 5.6, 5.8, 6.2, 5.6, 5.9, 6.1, 6.3, 6.1, 6.4, 6.6, 6.8, 6.7, 6.0, 5.7, 5.5, 5.5, 5.8, 6.0, 5.4, 6.0, 6.7, 6.3, 5.6, 5.5, 5.5, 6.1, 5.8, 5.0, 5.6, 5.7, 5.7, 6.2, 5.1, 5.7, 6.3, 5.8, 7.1, 6.3, 6.5, 7.6, 4.9, 7.3, 6.7, 7.2, 6.5, 6.4, 6.8, 5.7, 5.8, 6.4, 6.5, 7.7, 7.7, 6.0, 6.9, 5.6, 7.7, 6.3, 6.7, 7.2, 6.2, 6.1, 6.4, 7.2, 7.4, 7.9, 6.4, 6.3, 6.1, 7.7, 6.3, 6.4, 6.0, 6.9, 6.7, 6.9, 5.8, 6.8, 6.7, 6.7, 6.3, 6.5, 6.2, 5.9]\n"
     ]
    }
   ],
   "source": [
    "# リスト x1 の中身を確認する。\n",
    "print x1"
   ]
  },
  {
   "cell_type": "code",
   "execution_count": 9,
   "metadata": {
    "collapsed": true
   },
   "outputs": [],
   "source": [
    "# ダウンロードしたファイルから、４つの列の数字をそれぞれ４つのリストに入れる。\n",
    "x1 = []\n",
    "x2 = []\n",
    "x3 = []\n",
    "x4 = []\n",
    "for i, line in enumerate(open('iris.txt')):\n",
    "    if i == 0:\n",
    "        continue\n",
    "    else:\n",
    "        a = line.split()\n",
    "        x1.append(float(a[1]))\n",
    "        x2.append(float(a[2]))\n",
    "        x3.append(float(a[3]))\n",
    "        x4.append(float(a[4]))"
   ]
  },
  {
   "cell_type": "code",
   "execution_count": 10,
   "metadata": {
    "collapsed": false
   },
   "outputs": [
    {
     "name": "stdout",
     "output_type": "stream",
     "text": [
      "[5.1, 4.9, 4.7, 4.6, 5.0, 5.4, 4.6, 5.0, 4.4, 4.9, 5.4, 4.8, 4.8, 4.3, 5.8, 5.7, 5.4, 5.1, 5.7, 5.1, 5.4, 5.1, 4.6, 5.1, 4.8, 5.0, 5.0, 5.2, 5.2, 4.7, 4.8, 5.4, 5.2, 5.5, 4.9, 5.0, 5.5, 4.9, 4.4, 5.1, 5.0, 4.5, 4.4, 5.0, 5.1, 4.8, 5.1, 4.6, 5.3, 5.0, 7.0, 6.4, 6.9, 5.5, 6.5, 5.7, 6.3, 4.9, 6.6, 5.2, 5.0, 5.9, 6.0, 6.1, 5.6, 6.7, 5.6, 5.8, 6.2, 5.6, 5.9, 6.1, 6.3, 6.1, 6.4, 6.6, 6.8, 6.7, 6.0, 5.7, 5.5, 5.5, 5.8, 6.0, 5.4, 6.0, 6.7, 6.3, 5.6, 5.5, 5.5, 6.1, 5.8, 5.0, 5.6, 5.7, 5.7, 6.2, 5.1, 5.7, 6.3, 5.8, 7.1, 6.3, 6.5, 7.6, 4.9, 7.3, 6.7, 7.2, 6.5, 6.4, 6.8, 5.7, 5.8, 6.4, 6.5, 7.7, 7.7, 6.0, 6.9, 5.6, 7.7, 6.3, 6.7, 7.2, 6.2, 6.1, 6.4, 7.2, 7.4, 7.9, 6.4, 6.3, 6.1, 7.7, 6.3, 6.4, 6.0, 6.9, 6.7, 6.9, 5.8, 6.8, 6.7, 6.7, 6.3, 6.5, 6.2, 5.9]\n"
     ]
    }
   ],
   "source": [
    "# リスト x1 の中身を確認する。\n",
    "print x1"
   ]
  },
  {
   "cell_type": "code",
   "execution_count": 11,
   "metadata": {
    "collapsed": false
   },
   "outputs": [
    {
     "name": "stdout",
     "output_type": "stream",
     "text": [
      "[3.5, 3.0, 3.2, 3.1, 3.6, 3.9, 3.4, 3.4, 2.9, 3.1, 3.7, 3.4, 3.0, 3.0, 4.0, 4.4, 3.9, 3.5, 3.8, 3.8, 3.4, 3.7, 3.6, 3.3, 3.4, 3.0, 3.4, 3.5, 3.4, 3.2, 3.1, 3.4, 4.1, 4.2, 3.1, 3.2, 3.5, 3.6, 3.0, 3.4, 3.5, 2.3, 3.2, 3.5, 3.8, 3.0, 3.8, 3.2, 3.7, 3.3, 3.2, 3.2, 3.1, 2.3, 2.8, 2.8, 3.3, 2.4, 2.9, 2.7, 2.0, 3.0, 2.2, 2.9, 2.9, 3.1, 3.0, 2.7, 2.2, 2.5, 3.2, 2.8, 2.5, 2.8, 2.9, 3.0, 2.8, 3.0, 2.9, 2.6, 2.4, 2.4, 2.7, 2.7, 3.0, 3.4, 3.1, 2.3, 3.0, 2.5, 2.6, 3.0, 2.6, 2.3, 2.7, 3.0, 2.9, 2.9, 2.5, 2.8, 3.3, 2.7, 3.0, 2.9, 3.0, 3.0, 2.5, 2.9, 2.5, 3.6, 3.2, 2.7, 3.0, 2.5, 2.8, 3.2, 3.0, 3.8, 2.6, 2.2, 3.2, 2.8, 2.8, 2.7, 3.3, 3.2, 2.8, 3.0, 2.8, 3.0, 2.8, 3.8, 2.8, 2.8, 2.6, 3.0, 3.4, 3.1, 3.0, 3.1, 3.1, 3.1, 2.7, 3.2, 3.3, 3.0, 2.5, 3.0, 3.4, 3.0]\n"
     ]
    }
   ],
   "source": [
    "# リスト x2 の中身を確認する。\n",
    "print x2"
   ]
  },
  {
   "cell_type": "code",
   "execution_count": 12,
   "metadata": {
    "collapsed": false
   },
   "outputs": [
    {
     "name": "stdout",
     "output_type": "stream",
     "text": [
      "[1.4, 1.4, 1.3, 1.5, 1.4, 1.7, 1.4, 1.5, 1.4, 1.5, 1.5, 1.6, 1.4, 1.1, 1.2, 1.5, 1.3, 1.4, 1.7, 1.5, 1.7, 1.5, 1.0, 1.7, 1.9, 1.6, 1.6, 1.5, 1.4, 1.6, 1.6, 1.5, 1.5, 1.4, 1.5, 1.2, 1.3, 1.4, 1.3, 1.5, 1.3, 1.3, 1.3, 1.6, 1.9, 1.4, 1.6, 1.4, 1.5, 1.4, 4.7, 4.5, 4.9, 4.0, 4.6, 4.5, 4.7, 3.3, 4.6, 3.9, 3.5, 4.2, 4.0, 4.7, 3.6, 4.4, 4.5, 4.1, 4.5, 3.9, 4.8, 4.0, 4.9, 4.7, 4.3, 4.4, 4.8, 5.0, 4.5, 3.5, 3.8, 3.7, 3.9, 5.1, 4.5, 4.5, 4.7, 4.4, 4.1, 4.0, 4.4, 4.6, 4.0, 3.3, 4.2, 4.2, 4.2, 4.3, 3.0, 4.1, 6.0, 5.1, 5.9, 5.6, 5.8, 6.6, 4.5, 6.3, 5.8, 6.1, 5.1, 5.3, 5.5, 5.0, 5.1, 5.3, 5.5, 6.7, 6.9, 5.0, 5.7, 4.9, 6.7, 4.9, 5.7, 6.0, 4.8, 4.9, 5.6, 5.8, 6.1, 6.4, 5.6, 5.1, 5.6, 6.1, 5.6, 5.5, 4.8, 5.4, 5.6, 5.1, 5.1, 5.9, 5.7, 5.2, 5.0, 5.2, 5.4, 5.1]\n"
     ]
    }
   ],
   "source": [
    "# リスト x3 の中身を確認する。\n",
    "print x3"
   ]
  },
  {
   "cell_type": "code",
   "execution_count": 13,
   "metadata": {
    "collapsed": false
   },
   "outputs": [
    {
     "name": "stdout",
     "output_type": "stream",
     "text": [
      "[0.2, 0.2, 0.2, 0.2, 0.2, 0.4, 0.3, 0.2, 0.2, 0.1, 0.2, 0.2, 0.1, 0.1, 0.2, 0.4, 0.4, 0.3, 0.3, 0.3, 0.2, 0.4, 0.2, 0.5, 0.2, 0.2, 0.4, 0.2, 0.2, 0.2, 0.2, 0.4, 0.1, 0.2, 0.2, 0.2, 0.2, 0.1, 0.2, 0.2, 0.3, 0.3, 0.2, 0.6, 0.4, 0.3, 0.2, 0.2, 0.2, 0.2, 1.4, 1.5, 1.5, 1.3, 1.5, 1.3, 1.6, 1.0, 1.3, 1.4, 1.0, 1.5, 1.0, 1.4, 1.3, 1.4, 1.5, 1.0, 1.5, 1.1, 1.8, 1.3, 1.5, 1.2, 1.3, 1.4, 1.4, 1.7, 1.5, 1.0, 1.1, 1.0, 1.2, 1.6, 1.5, 1.6, 1.5, 1.3, 1.3, 1.3, 1.2, 1.4, 1.2, 1.0, 1.3, 1.2, 1.3, 1.3, 1.1, 1.3, 2.5, 1.9, 2.1, 1.8, 2.2, 2.1, 1.7, 1.8, 1.8, 2.5, 2.0, 1.9, 2.1, 2.0, 2.4, 2.3, 1.8, 2.2, 2.3, 1.5, 2.3, 2.0, 2.0, 1.8, 2.1, 1.8, 1.8, 1.8, 2.1, 1.6, 1.9, 2.0, 2.2, 1.5, 1.4, 2.3, 2.4, 1.8, 1.8, 2.1, 2.4, 2.3, 1.9, 2.3, 2.5, 2.3, 1.9, 2.0, 2.3, 1.8]\n"
     ]
    }
   ],
   "source": [
    "# リスト x4 の中身を確認する。\n",
    "print x4"
   ]
  },
  {
   "cell_type": "markdown",
   "metadata": {},
   "source": [
    "### 平均値を求める関数を作る\n",
    "* 同じ計算を繰り返すために、何度も同じプログラムを書くのは面倒です。関数を定義して、使いまわしましょう。"
   ]
  },
  {
   "cell_type": "code",
   "execution_count": 14,
   "metadata": {
    "collapsed": true
   },
   "outputs": [],
   "source": [
    "# 平均値を求める関数\n",
    "def average(data):\n",
    "    sum = 0.0\n",
    "    n = 0.0\n",
    "    for x in data:\n",
    "        sum += x\n",
    "        n += 1.0\n",
    "    return sum / n"
   ]
  },
  {
   "cell_type": "code",
   "execution_count": 15,
   "metadata": {
    "collapsed": false
   },
   "outputs": [
    {
     "data": {
      "text/plain": [
       "5.843333333333335"
      ]
     },
     "execution_count": 15,
     "metadata": {},
     "output_type": "execute_result"
    }
   ],
   "source": [
    "# リスト x1 の平均値を求める。\n",
    "average(x1)"
   ]
  },
  {
   "cell_type": "code",
   "execution_count": 16,
   "metadata": {
    "collapsed": false
   },
   "outputs": [
    {
     "name": "stdout",
     "output_type": "stream",
     "text": [
      "5.84333333333\n",
      "3.05733333333\n",
      "3.758\n",
      "1.19933333333\n"
     ]
    }
   ],
   "source": [
    "# すべてのリストの平均値をそれぞれ求める。\n",
    "print average(x1)\n",
    "print average(x2)\n",
    "print average(x3)\n",
    "print average(x4)"
   ]
  },
  {
   "cell_type": "markdown",
   "metadata": {},
   "source": [
    "### 分散を求める関数を作る\n",
    "* 同じ計算を繰り返すために、何度も同じプログラムを書くのは面倒です。関数を定義して、使いまわしましょう。\n",
    "* 分散とは何か？標準偏差とは何か？忘れてしまった人は右記を参照。 http://www.cybernet.co.jp/cetol/kousa/kousa7.html"
   ]
  },
  {
   "cell_type": "code",
   "execution_count": 17,
   "metadata": {
    "collapsed": true
   },
   "outputs": [],
   "source": [
    "# 分散を求める関数\n",
    "def dispersion(data):\n",
    "    ave = average(data)\n",
    "    accum = 0.0\n",
    "    n = 0.0\n",
    "    for x in data:\n",
    "        accum += (x - ave) ** 2.0\n",
    "        n += 1.0\n",
    "    return accum / n"
   ]
  },
  {
   "cell_type": "code",
   "execution_count": 18,
   "metadata": {
    "collapsed": false
   },
   "outputs": [
    {
     "name": "stdout",
     "output_type": "stream",
     "text": [
      "0.681122222222\n",
      "0.188712888889\n",
      "3.09550266667\n",
      "0.577132888889\n"
     ]
    }
   ],
   "source": [
    "# すべてのリストの分散をそれぞれ求める。\n",
    "print dispersion(x1)\n",
    "print dispersion(x2)\n",
    "print dispersion(x3)\n",
    "print dispersion(x4)"
   ]
  },
  {
   "cell_type": "markdown",
   "metadata": {},
   "source": [
    "### 標準偏差を求める関数を作る\n",
    "* 同じ計算を繰り返すために、何度も同じプログラムを書くのは面倒です。関数を定義して、使いまわしましょう。\n",
    "* 分散とは何か？標準偏差とは何か？忘れてしまった人は右記を参照。 http://www.cybernet.co.jp/cetol/kousa/kousa7.html\n",
    "* １行で書ける関数は、上の「平均を求める関数」や「分散を求める関数」のような定義もできますが、下の例のように lambda というキーワードを使って関数を定義することができます。\n",
    "* 「import math」は、平方根（sqrt）などの数学関数を使うためのライブラリをインポートするために唱えます。"
   ]
  },
  {
   "cell_type": "code",
   "execution_count": 19,
   "metadata": {
    "collapsed": true
   },
   "outputs": [],
   "source": [
    "# 標準偏差を求める関数\n",
    "import math\n",
    "standard_deviation = lambda data: math.sqrt(dispersion(data))"
   ]
  },
  {
   "cell_type": "code",
   "execution_count": 20,
   "metadata": {
    "collapsed": false
   },
   "outputs": [
    {
     "name": "stdout",
     "output_type": "stream",
     "text": [
      "0.825301291785\n",
      "0.434410967735\n",
      "1.75940406578\n",
      "0.759692627902\n"
     ]
    }
   ],
   "source": [
    "# すべてのリストの標準偏差をそれぞれ求める。\n",
    "print standard_deviation(x1)\n",
    "print standard_deviation(x2)\n",
    "print standard_deviation(x3)\n",
    "print standard_deviation(x4)"
   ]
  },
  {
   "cell_type": "markdown",
   "metadata": {},
   "source": [
    "### 共分散を求める関数を作る\n",
    "* 同じ計算を繰り返すために、何度も同じプログラムを書くのは面倒です。関数を定義して、使いまわしましょう。\n",
    "* 共分散とは何か？相関係数とは何か？忘れてしまった人は右記を参照。 http://kogures.com/hitoshi/webtext/stat-soukan/index.html"
   ]
  },
  {
   "cell_type": "code",
   "execution_count": 21,
   "metadata": {
    "collapsed": true
   },
   "outputs": [],
   "source": [
    "# 共分散を求める関数\n",
    "def covariance(data1, data2): \n",
    "    ave1 = average(data1)\n",
    "    ave2 = average(data2)\n",
    "    accum = 0.0\n",
    "    n = 0.0\n",
    "    for d1, d2 in zip(data1, data2):\n",
    "        accum += (d1 - ave1) * (d2 - ave2)\n",
    "        n += 1.0\n",
    "    return accum / n"
   ]
  },
  {
   "cell_type": "code",
   "execution_count": 22,
   "metadata": {
    "collapsed": false
   },
   "outputs": [
    {
     "name": "stdout",
     "output_type": "stream",
     "text": [
      "-0.0421511111111\n",
      "1.26582\n",
      "0.512828888889\n",
      "-0.327458666667\n",
      "-0.120828444444\n",
      "1.286972\n"
     ]
    }
   ],
   "source": [
    "# すべてのリスト対の共分散をそれぞれ求める。\n",
    "print covariance(x1, x2)\n",
    "print covariance(x1, x3)\n",
    "print covariance(x1, x4)\n",
    "print covariance(x2, x3)\n",
    "print covariance(x2, x4)\n",
    "print covariance(x3, x4)"
   ]
  },
  {
   "cell_type": "markdown",
   "metadata": {},
   "source": [
    "### 相関係数を求める関数を作る\n",
    "* 同じ計算を繰り返すために、何度も同じプログラムを書くのは面倒です。関数を定義して、使いまわしましょう。\n",
    "* 共分散とは何か？相関係数とは何か？忘れてしまった人は右記を参照。 http://kogures.com/hitoshi/webtext/stat-soukan/index.html\n",
    "* １行で書ける関数は、上の「平均を求める関数」や「分散を求める関数」のような定義もできますが、下の例のように lambda というキーワードを使って関数を定義することができます。"
   ]
  },
  {
   "cell_type": "code",
   "execution_count": 23,
   "metadata": {
    "collapsed": true
   },
   "outputs": [],
   "source": [
    "# 相関係数を求める関数\n",
    "correlation = lambda data1, data2: covariance(data1, data2) / (standard_deviation(data1) * standard_deviation(data2))"
   ]
  },
  {
   "cell_type": "code",
   "execution_count": 24,
   "metadata": {
    "collapsed": false
   },
   "outputs": [
    {
     "name": "stdout",
     "output_type": "stream",
     "text": [
      "-0.117569784133\n",
      "0.871753775887\n",
      "0.817941126272\n",
      "-0.428440104331\n",
      "-0.366125932536\n",
      "0.962865431403\n"
     ]
    }
   ],
   "source": [
    "# すべてのリスト対の相関係数をそれぞれ求める。\n",
    "print correlation(x1, x2)\n",
    "print correlation(x1, x3)\n",
    "print correlation(x1, x4)\n",
    "print correlation(x2, x3)\n",
    "print correlation(x2, x4)\n",
    "print correlation(x3, x4)"
   ]
  },
  {
   "cell_type": "markdown",
   "metadata": {},
   "source": [
    "### データを図示する\n",
    "* 平均、分散、標準偏差、共分散、相関係数などの数字だけ見て満足せずに、データをヒストグラムで表したり、散布図にプロットしてデータの特徴を把握しましょう。"
   ]
  },
  {
   "cell_type": "code",
   "execution_count": 25,
   "metadata": {
    "collapsed": true
   },
   "outputs": [],
   "source": [
    "# 図やグラフを図示するためのライブラリをインポートする。\n",
    "import matplotlib.pyplot as plt\n",
    "%matplotlib inline"
   ]
  },
  {
   "cell_type": "code",
   "execution_count": 26,
   "metadata": {
    "collapsed": false
   },
   "outputs": [
    {
     "data": {
      "text/plain": [
       "(array([  9.,  23.,  14.,  27.,  22.,  20.,  18.,   6.,   5.,   6.]),\n",
       " array([ 4.3 ,  4.66,  5.02,  5.38,  5.74,  6.1 ,  6.46,  6.82,  7.18,\n",
       "         7.54,  7.9 ]),\n",
       " <a list of 10 Patch objects>)"
      ]
     },
     "execution_count": 26,
     "metadata": {},
     "output_type": "execute_result"
    },
    {
     "data": {
      "image/png": "[encoded data removed]",
      "text/plain": [
       "<matplotlib.figure.Figure at 0x10bf27f50>"
      ]
     },
     "metadata": {},
     "output_type": "display_data"
    }
   ],
   "source": [
    "# x1のヒストグラム\n",
    "plt.hist(x1, alpha=0.5)"
   ]
  },
  {
   "cell_type": "code",
   "execution_count": 27,
   "metadata": {
    "collapsed": false
   },
   "outputs": [
    {
     "data": {
      "text/plain": [
       "(array([  4.,   7.,  22.,  24.,  37.,  31.,  10.,  11.,   2.,   2.]),\n",
       " array([ 2.  ,  2.24,  2.48,  2.72,  2.96,  3.2 ,  3.44,  3.68,  3.92,\n",
       "         4.16,  4.4 ]),\n",
       " <a list of 10 Patch objects>)"
      ]
     },
     "execution_count": 27,
     "metadata": {},
     "output_type": "execute_result"
    },
    {
     "data": {
      "image/png": "[encoded data removed]",
      "text/plain": [
       "<matplotlib.figure.Figure at 0x10c7d1e90>"
      ]
     },
     "metadata": {},
     "output_type": "display_data"
    }
   ],
   "source": [
    "# x2のヒストグラム\n",
    "plt.hist(x2, alpha=0.5)"
   ]
  },
  {
   "cell_type": "code",
   "execution_count": 28,
   "metadata": {
    "collapsed": false
   },
   "outputs": [
    {
     "data": {
      "text/plain": [
       "(array([ 37.,  13.,   0.,   3.,   8.,  26.,  29.,  18.,  11.,   5.]),\n",
       " array([ 1.  ,  1.59,  2.18,  2.77,  3.36,  3.95,  4.54,  5.13,  5.72,\n",
       "         6.31,  6.9 ]),\n",
       " <a list of 10 Patch objects>)"
      ]
     },
     "execution_count": 28,
     "metadata": {},
     "output_type": "execute_result"
    },
    {
     "data": {
      "image/png": "[encoded data removed]",
      "text/plain": [
       "<matplotlib.figure.Figure at 0x10f1c6410>"
      ]
     },
     "metadata": {},
     "output_type": "display_data"
    }
   ],
   "source": [
    "# x3のヒストグラム\n",
    "plt.hist(x3, alpha=0.5)"
   ]
  },
  {
   "cell_type": "code",
   "execution_count": 29,
   "metadata": {
    "collapsed": false
   },
   "outputs": [
    {
     "data": {
      "text/plain": [
       "(array([ 41.,   8.,   1.,   7.,   8.,  33.,   6.,  23.,   9.,  14.]),\n",
       " array([ 0.1 ,  0.34,  0.58,  0.82,  1.06,  1.3 ,  1.54,  1.78,  2.02,\n",
       "         2.26,  2.5 ]),\n",
       " <a list of 10 Patch objects>)"
      ]
     },
     "execution_count": 29,
     "metadata": {},
     "output_type": "execute_result"
    },
    {
     "data": {
      "image/png": "[encoded data removed]",
      "text/plain": [
       "<matplotlib.figure.Figure at 0x10f34d4d0>"
      ]
     },
     "metadata": {},
     "output_type": "display_data"
    }
   ],
   "source": [
    "# x4のヒストグラム\n",
    "plt.hist(x4, alpha=0.5)"
   ]
  },
  {
   "cell_type": "code",
   "execution_count": 30,
   "metadata": {
    "collapsed": false
   },
   "outputs": [
    {
     "data": {
      "text/plain": [
       "<matplotlib.collections.PathCollection at 0x10f768410>"
      ]
     },
     "execution_count": 30,
     "metadata": {},
     "output_type": "execute_result"
    },
    {
     "data": {
      "image/png": "[encoded data removed]",
      "text/plain": [
       "<matplotlib.figure.Figure at 0x10f4cba50>"
      ]
     },
     "metadata": {},
     "output_type": "display_data"
    }
   ],
   "source": [
    "# x1 と x2 の関係をプロットする。\n",
    "plt.scatter(x1, x2, alpha=0.5)"
   ]
  },
  {
   "cell_type": "code",
   "execution_count": 31,
   "metadata": {
    "collapsed": false
   },
   "outputs": [
    {
     "data": {
      "text/plain": [
       "<matplotlib.collections.PathCollection at 0x10fa314d0>"
      ]
     },
     "execution_count": 31,
     "metadata": {},
     "output_type": "execute_result"
    },
    {
     "data": {
      "image/png": "[encoded data removed]",
      "text/plain": [
       "<matplotlib.figure.Figure at 0x10f71e510>"
      ]
     },
     "metadata": {},
     "output_type": "display_data"
    }
   ],
   "source": [
    "# x1 と x3 の関係をプロットする。\n",
    "plt.scatter(x1, x3, alpha=0.5)"
   ]
  },
  {
   "cell_type": "code",
   "execution_count": 32,
   "metadata": {
    "collapsed": false
   },
   "outputs": [
    {
     "data": {
      "text/plain": [
       "<matplotlib.collections.PathCollection at 0x10fb2cd10>"
      ]
     },
     "execution_count": 32,
     "metadata": {},
     "output_type": "execute_result"
    },
    {
     "data": {
      "image/png": "[encoded data removed]",
      "text/plain": [
       "<matplotlib.figure.Figure at 0x10fabb650>"
      ]
     },
     "metadata": {},
     "output_type": "display_data"
    }
   ],
   "source": [
    "# x1 と x4 の関係をプロットする。\n",
    "plt.scatter(x1, x4, alpha=0.5)"
   ]
  },
  {
   "cell_type": "code",
   "execution_count": 33,
   "metadata": {
    "collapsed": false
   },
   "outputs": [
    {
     "data": {
      "text/plain": [
       "<matplotlib.collections.PathCollection at 0x10fc85d90>"
      ]
     },
     "execution_count": 33,
     "metadata": {},
     "output_type": "execute_result"
    },
    {
     "data": {
      "image/png": "[encoded data removed]",
      "text/plain": [
       "<matplotlib.figure.Figure at 0x10fbde710>"
      ]
     },
     "metadata": {},
     "output_type": "display_data"
    }
   ],
   "source": [
    "# x2 と x3 の関係をプロットする。\n",
    "plt.scatter(x2, x3, alpha=0.5)"
   ]
  },
  {
   "cell_type": "code",
   "execution_count": 34,
   "metadata": {
    "collapsed": false
   },
   "outputs": [
    {
     "data": {
      "text/plain": [
       "<matplotlib.collections.PathCollection at 0x10fd892d0>"
      ]
     },
     "execution_count": 34,
     "metadata": {},
     "output_type": "execute_result"
    },
    {
     "data": {
      "image/png": "[encoded data removed]",
      "text/plain": [
       "<matplotlib.figure.Figure at 0x10fcdb650>"
      ]
     },
     "metadata": {},
     "output_type": "display_data"
    }
   ],
   "source": [
    "# x2 と x4 の関係をプロットする。\n",
    "plt.scatter(x2, x4, alpha=0.5)"
   ]
  },
  {
   "cell_type": "code",
   "execution_count": 35,
   "metadata": {
    "collapsed": false
   },
   "outputs": [
    {
     "data": {
      "text/plain": [
       "<matplotlib.collections.PathCollection at 0x110037b10>"
      ]
     },
     "execution_count": 35,
     "metadata": {},
     "output_type": "execute_result"
    },
    {
     "data": {
      "image/png": "[encoded data removed]",
      "text/plain": [
       "<matplotlib.figure.Figure at 0x10fd3ded0>"
      ]
     },
     "metadata": {},
     "output_type": "display_data"
    }
   ],
   "source": [
    "# x3 と x4 の関係をプロットする。\n",
    "plt.scatter(x3, x4, alpha=0.5)"
   ]
  },
  {
   "cell_type": "markdown",
   "metadata": {},
   "source": [
    "### ちょっと高度な図示\n",
    "* データの全体像を眺めたいと思った時、こういう方法も便利です。本日の実習では「こんな方法もあるんだな」と知っておく程度で十分です。"
   ]
  },
  {
   "cell_type": "code",
   "execution_count": 36,
   "metadata": {
    "collapsed": false
   },
   "outputs": [
    {
     "data": {
      "image/png": "[encoded data removed]",
      "text/plain": [
       "<matplotlib.figure.Figure at 0x118160f10>"
      ]
     },
     "metadata": {},
     "output_type": "display_data"
    }
   ],
   "source": [
    "# 図やグラフを図示するためのライブラリをインポートする。\n",
    "import matplotlib.pyplot as plt\n",
    "%matplotlib inline\n",
    "import pandas # データフレームワーク処理のライブラリをインポート\n",
    "from pandas.tools import plotting # 高度なプロットを行うツールのインポート\n",
    "data = pandas.read_csv('iris.txt', sep='\\t', na_values=\".\") # データの読み込み\n",
    "plotting.scatter_matrix(data[['Sepal.Length', 'Sepal.Width', 'Petal.Length', 'Petal.Width']], figsize=(10, 10))   #データのプロット\n",
    "plt.show()"
   ]
  },
  {
   "cell_type": "markdown",
   "metadata": {},
   "source": [
    "-------\n",
    "# 課題\n",
    "新しいノートを開いて、以下の課題を解いてください。"
   ]
  },
  {
   "cell_type": "markdown",
   "metadata": {},
   "source": [
    "* __課題１__：下記URLからデータをダウンロードしてください。\n",
    "\n",
    " * https://dl.dropboxusercontent.com/u/432512/20120210/data/anscombe.txt"
   ]
  },
  {
   "cell_type": "markdown",
   "metadata": {},
   "source": [
    "* __課題２__： x1, x2, x3, x4, y1, y2, y3, y4 の平均値をそれぞれ求めてください。"
   ]
  },
  {
   "cell_type": "markdown",
   "metadata": {},
   "source": [
    "* __課題３__： x1, x2, x3, x4, y1, y2, y3, y4 の分散をそれぞれ求めてください。"
   ]
  },
  {
   "cell_type": "markdown",
   "metadata": {},
   "source": [
    "* __課題４__： x1, x2, x3, x4, y1, y2, y3, y4 の標準偏差をそれぞれ求めてください。"
   ]
  },
  {
   "cell_type": "markdown",
   "metadata": {},
   "source": [
    "* __課題５__： x1とy1の共分散、x2とy2の共分散、x3とy3の共分散、x4とy4の共分散をそれぞれ求めてください。"
   ]
  },
  {
   "cell_type": "markdown",
   "metadata": {},
   "source": [
    "* __課題６__： x1とy1の相関係数、x2とy2の相関係数、x3とy3の相関係数、x4とy4の相関係数をそれぞれ求めてください。"
   ]
  },
  {
   "cell_type": "markdown",
   "metadata": {},
   "source": [
    "* __課題７__： x1とy1の関係、x2とy2の関係、x3とy3の関係、x4とy4の関係をそれぞれ散布図としてプロットしてください。"
   ]
  },
  {
   "cell_type": "markdown",
   "metadata": {},
   "source": [
    "* __課題８__：以上の結果をふまえ、平均値・標準偏差・相関係数とデータの分布の形について考察してください。また、計算結果を [自分の氏名].ipynb ファイルとして保存し、指定したアドレスまでメールしてください。メールタイトルは「総合実験１日目」とし、メール本文に学籍番号と氏名を明記のこと。"
   ]
  },
  {
   "cell_type": "markdown",
   "metadata": {
    "collapsed": true
   },
   "source": [
    "もし時間が余ったら、[総合実験２日目](http://nbviewer.jupyter.org/github/maskot1977/ipython_notebook/blob/master/%E7%B7%8F%E5%90%88%E5%AE%9F%E9%A8%93%EF%BC%92%E6%97%A5%E7%9B%AE.ipynb)に進んでもらって結構です。"
   ]
  },
  {
   "cell_type": "code",
   "execution_count": null,
   "metadata": {
    "collapsed": true
   },
   "outputs": [],
   "source": []
  }
 ],
 "metadata": {
  "kernelspec": {
   "display_name": "Python 2",
   "language": "python",
   "name": "python2"
  },
  "language_info": {
   "codemirror_mode": {
    "name": "ipython",
    "version": 2
   },
   "file_extension": ".py",
   "mimetype": "text/x-python",
   "name": "python",
   "nbconvert_exporter": "python",
   "pygments_lexer": "ipython2",
   "version": "2.7.11"
  }
 },
 "nbformat": 4,
 "nbformat_minor": 0
}
