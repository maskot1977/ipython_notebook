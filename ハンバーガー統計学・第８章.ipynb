{
 "cells": [
  {
   "cell_type": "markdown",
   "metadata": {},
   "source": [
    "# ハンバーガー統計学 + Python (第８章)\n",
    "\n",
    "* [アイスクリーム統計学・第１章〜第３章（散布図と相関、相関係数、無相関検定）](http://nbviewer.jupyter.org/github/maskot1977/ipython_notebook/blob/master/%E3%82%A2%E3%82%A4%E3%82%B9%E3%82%AF%E3%83%AA%E3%83%BC%E3%83%A0%E7%B5%B1%E8%A8%88%E5%AD%A6%E3%83%BB%E7%AC%AC%EF%BC%91%E7%AB%A0%E3%80%9C%E7%AC%AC%EF%BC%93%E7%AB%A0.ipynb)\n",
    "* [アイスクリーム統計学・第４章〜第６章（単回帰、偏相関、重回帰）](http://nbviewer.jupyter.org/github/maskot1977/ipython_notebook/blob/master/%E3%82%A2%E3%82%A4%E3%82%B9%E3%82%AF%E3%83%AA%E3%83%BC%E3%83%A0%E7%B5%B1%E8%A8%88%E5%AD%A6%E3%83%BB%E7%AC%AC%EF%BC%94%E7%AB%A0%E3%80%9C%E7%AC%AC%EF%BC%96%E7%AB%A0.ipynb)\n",
    "* [アイスクリーム統計学・第７章〜第９章（相関行列、因子分析1、因子分析2）](http://nbviewer.jupyter.org/github/maskot1977/ipython_notebook/blob/master/%E3%82%A2%E3%82%A4%E3%82%B9%E3%82%AF%E3%83%AA%E3%83%BC%E3%83%A0%E7%B5%B1%E8%A8%88%E5%AD%A6%E3%83%BB%E7%AC%AC%EF%BC%97%E7%AB%A0%E3%80%9C%E7%AC%AC%EF%BC%99%E7%AB%A0.ipynb)\n",
    "* [アイスクリーム統計学・第１０章（主成分分析とクラスター分析）](http://nbviewer.jupyter.org/github/maskot1977/ipython_notebook/blob/master/%E3%82%A2%E3%82%A4%E3%82%B9%E3%82%AF%E3%83%AA%E3%83%BC%E3%83%A0%E7%B5%B1%E8%A8%88%E5%AD%A6%E3%83%BB%E7%AC%AC%EF%BC%91%EF%BC%90%E7%AB%A0.ipynb)\n",
    "* [ハンバーガー統計学・第１章〜第２章（平均と分散、信頼区間）](http://nbviewer.jupyter.org/github/maskot1977/ipython_notebook/blob/master/%E3%83%8F%E3%83%B3%E3%83%8F%E3%82%99%E3%83%BC%E3%82%AB%E3%82%99%E3%83%BC%E7%B5%B1%E8%A8%88%E5%AD%A6%E3%83%BB%E7%AC%AC%EF%BC%91%E7%AB%A0%E3%80%9C%E7%AC%AC%EF%BC%92%E7%AB%A0.ipynb)\n",
    "* [ハンバーガー統計学・第３章〜第５章（カイ２乗検定、t検定 （対応なし・対応あり））](http://nbviewer.jupyter.org/github/maskot1977/ipython_notebook/blob/master/%E3%83%8F%E3%83%B3%E3%83%8F%E3%82%99%E3%83%BC%E3%82%AB%E3%82%99%E3%83%BC%E7%B5%B1%E8%A8%88%E5%AD%A6%E3%83%BB%E7%AC%AC%EF%BC%93%E7%AB%A0%E3%80%9C%E7%AC%AC%EF%BC%95%E7%AB%A0.ipynb)\n",
    "* [ハンバーガー統計学・第６章〜第７章（分散分析 (１要因、２要因) ）](http://nbviewer.jupyter.org/github/maskot1977/ipython_notebook/blob/master/%E3%83%8F%E3%83%B3%E3%83%8F%E3%82%99%E3%83%BC%E3%82%AB%E3%82%99%E3%83%BC%E7%B5%B1%E8%A8%88%E5%AD%A6%E3%83%BB%E7%AC%AC%EF%BC%96%E7%AB%A0%E3%80%9C%E7%AC%AC%EF%BC%97%E7%AB%A0.ipynb)\n",
    "* [ハンバーガー統計学・第８章 (分布と仮説検定)](http://nbviewer.jupyter.org/github/maskot1977/ipython_notebook/blob/master/%E3%83%8F%E3%83%B3%E3%83%8F%E3%82%99%E3%83%BC%E3%82%AB%E3%82%99%E3%83%BC%E7%B5%B1%E8%A8%88%E5%AD%A6%E3%83%BB%E7%AC%AC%EF%BC%98%E7%AB%A0.ipynb)\n",
    "\n",
    "### Jupyter Notebook (IPython Notebook) とは\n",
    "* Python という名のプログラミング言語が使えるプログラミング環境。計算コードと計算結果を同じ場所に時系列で保存できるので、実験系における実験ノートのように、いつどんな処理を行って何を得たのか記録して再現するのに便利。\n",
    "* [当学演習室での Jupyter Notebook の起動方法](https://raw.githubusercontent.com/maskot1977/-/master/%E6%BC%94%E7%BF%92%E5%AE%A4.txt)"
   ]
  },
  {
   "cell_type": "markdown",
   "metadata": {},
   "source": [
    "## 8.　分布と仮説検定\n",
    "ここから先は、今までの総復習になります。"
   ]
  },
  {
   "cell_type": "markdown",
   "metadata": {},
   "source": [
    "### 8.1 [データの種類に関する理解](http://qiita.com/ynakayama/items/93157f4c3ae4b23cb748#%E3%83%87%E3%83%BC%E3%82%BF%E3%81%AE%E7%A8%AE%E9%A1%9E%E3%81%AB%E9%96%A2%E3%81%99%E3%82%8B%E7%90%86%E8%A7%A3)\n",
    "上記リンクのページを読んで、以下の用語の意味を理解してください。\n",
    "\n",
    "* 離散変数 (discrete variable) と 連続変数 (continuous variable)\n",
    "* 名義尺度、順序尺度、間隔尺度、比例尺度"
   ]
  },
  {
   "cell_type": "markdown",
   "metadata": {},
   "source": [
    "### 8.2 [標本抽出法](http://qiita.com/ynakayama/items/d7f6989a4e17ed8a05ec)\n",
    "上記リンクのページを読んで、以下の用語の意味を理解してください。\n",
    "\n",
    "* 標本調査\n",
    "* 無作為抽出法、有意抽出法\n",
    "* 母平均、母比率、極限定理"
   ]
  },
  {
   "cell_type": "markdown",
   "metadata": {},
   "source": [
    "### 8.3 [標本抽出と推定・検定](http://qiita.com/ynakayama/items/09b8a09f79ebaff24ea8)\n",
    "上記リンクのページを読んで、以下の用語の意味を理解してください。\n",
    "\n",
    "* 母集団 (population)\n",
    "* 推定 (estimation)、区間推定 (interval estimation)、不偏推定量 (unbiased estimator)\n",
    "* 検定"
   ]
  },
  {
   "cell_type": "markdown",
   "metadata": {},
   "source": [
    "### 8.4 [データ分析と統計処理の基本的な手順の整理](http://qiita.com/ynakayama/items/1d0530f83b6dabd7b2fa#_reference-d1fd49cac38e75700d6f)\n",
    "上記リンクのページを読んで、以下の用語の意味と統計処理の流れを理解してください。\n",
    "\n",
    "* 記述統計と推測統計\n",
    "* 散布図、回帰分析\n",
    "* 標準誤差と t 値\n",
    "* 重回帰分析"
   ]
  },
  {
   "cell_type": "markdown",
   "metadata": {},
   "source": [
    "### 8.5 [統計量と区間推定](http://qiita.com/ynakayama/items/5a955c7e29c295292502)\n",
    "上記リンクのページを読んで、以下の用語の意味を理解してください。\n",
    "\n",
    "* 平均値、中央値、分散、標準偏差\n",
    "* 復元抽出と非復元抽出\n",
    "* 標本の期待値と分散\n",
    "* 信頼区間"
   ]
  },
  {
   "cell_type": "markdown",
   "metadata": {},
   "source": [
    "### 8.6 [仮説検定と確率分布](http://qiita.com/ynakayama/items/e41f592ad7fe02f23c1c#_reference-641569ed3919a0a008da)\n",
    "上記リンクのページを読んで、以下の用語の意味を理解してください。\n",
    "\n",
    "* 仮説検定\n",
    "* 連続型の確率分布 ... 正規分布、指数分布など\n",
    "* 離散型の確率分布 ... ポアソン分布など\n",
    "* カイ二乗検定、t 検定\n",
    "\n",
    "正規分布に関して、右記のリンク先も読んでください。→ [正規分布](https://ja.wikipedia.org/wiki/%E6%AD%A3%E8%A6%8F%E5%88%86%E5%B8%83)\n",
    "\n",
    "その他の分布に関して、右記のリンク先も読んでください。→[連続型確率分布](http://qiita.com/ynakayama/items/42ece37f040c45863d9a)"
   ]
  },
  {
   "cell_type": "markdown",
   "metadata": {},
   "source": [
    "__ランダムな数字__：\n",
    "以下のコードを実行してください。"
   ]
  },
  {
   "cell_type": "code",
   "execution_count": 1,
   "metadata": {
    "collapsed": true
   },
   "outputs": [],
   "source": [
    "# 図やグラフを図示するためのライブラリをインポートする。\n",
    "import matplotlib.pyplot as plt\n",
    "%matplotlib inline"
   ]
  },
  {
   "cell_type": "code",
   "execution_count": 2,
   "metadata": {
    "collapsed": true
   },
   "outputs": [],
   "source": [
    "# 乱数を扱うためのライブラリをインポートする。\n",
    "import random\n",
    "import numpy as np"
   ]
  },
  {
   "cell_type": "code",
   "execution_count": 3,
   "metadata": {
    "collapsed": false
   },
   "outputs": [],
   "source": [
    "# 一様乱数を１０個発生させて data というリストに格納する。\n",
    "data = []\n",
    "for n in range(10):\n",
    "    data.append(random.random())"
   ]
  },
  {
   "cell_type": "code",
   "execution_count": 4,
   "metadata": {
    "collapsed": false
   },
   "outputs": [
    {
     "data": {
      "text/plain": [
       "[0.5303050856863768,\n",
       " 0.47149749974717736,\n",
       " 0.733650717967107,\n",
       " 0.9039216871390907,\n",
       " 0.6106998839646681,\n",
       " 0.4869592783804024,\n",
       " 0.5352229247880221,\n",
       " 0.31450888631942053,\n",
       " 0.3871226002488972,\n",
       " 0.417037767795555]"
      ]
     },
     "execution_count": 4,
     "metadata": {},
     "output_type": "execute_result"
    }
   ],
   "source": [
    "# data の中身を確認する。\n",
    "data"
   ]
  },
  {
   "cell_type": "code",
   "execution_count": 5,
   "metadata": {
    "collapsed": false
   },
   "outputs": [
    {
     "data": {
      "image/png": "[encoded data removed]",
      "text/plain": [
       "<matplotlib.figure.Figure at 0x109d36350>"
      ]
     },
     "metadata": {},
     "output_type": "display_data"
    }
   ],
   "source": [
    "# ヒストグラムを描く。\n",
    "plt.hist(data, bins=20)\n",
    "plt.show()"
   ]
  },
  {
   "cell_type": "markdown",
   "metadata": {},
   "source": [
    "__課題8.6__：以下の問いに答えてください。\n",
    "* 一様乱数を 10回、100回、1000回、10000回発生させて、それぞれヒストグラムを描いてください。\n",
    "* __random.normalvariate(mu, sigma)__ は正規分布に従う乱数を発生させる関数です（mu は平均で、sigma は標準偏差）。平均０、標準偏差1の正規分布に従う乱数を 10回、100回、1000回、10000回発生させて、それぞれヒストグラムを描いてください。\n",
    "* __random.expovariate(lambd)__は指数分布に従う乱数を発生させる関数です（lambd は平均にしたい値の逆数）。平均1の指数分布に従う乱数を 10回、100回、1000回、10000回発生させて、それぞれヒストグラムを描いてください。\n",
    "* __np.random.binomial(n=10, p=0.5)__ は、二項分布に従う乱数を発生させる numpy の関数です（確率pで表が出るコインをn回投げたときに、表が出る個数を返します）。p=0.5の二項分布に従う乱数を 10回、100回、1000回、10000回発生させて、それぞれヒストグラムを描いてください。\n",
    "* 同様に、p=0.2, p=0.8 の二項分布に従う乱数を10000回発生させて、それぞれヒストグラムを描いてください。"
   ]
  },
  {
   "cell_type": "code",
   "execution_count": null,
   "metadata": {
    "collapsed": true
   },
   "outputs": [],
   "source": []
  },
  {
   "cell_type": "markdown",
   "metadata": {},
   "source": [
    "### 8.7 [分布の適合度を検定する](http://qiita.com/ynakayama/items/5ab69d6d06d61148a689#_reference-b3cc8224722bc23a82f2)\n",
    "上記リンクのページを読んで、以下のトピックの意味を理解してください。\n",
    "\n",
    "* 検定によってわかること\n",
    "* 分布の適合度の検定\n",
    "* ポアソン分布と極限定理"
   ]
  },
  {
   "cell_type": "markdown",
   "metadata": {
    "collapsed": true
   },
   "source": [
    "### 8.8 [t検定](http://www.geisya.or.jp/~mwm48961/statistics/bunsan1.htm)\n",
    "上記リンクのページを読んでt検定の概要を理解してください。"
   ]
  },
  {
   "cell_type": "markdown",
   "metadata": {},
   "source": [
    "下記は、t検定を行うPythonプログラムの例です。"
   ]
  },
  {
   "cell_type": "code",
   "execution_count": 6,
   "metadata": {
    "collapsed": false
   },
   "outputs": [
    {
     "name": "stdout",
     "output_type": "stream",
     "text": [
      "[68, 75, 80, 71, 73, 79, 69, 65]\n",
      "[86, 83, 76, 81, 75, 82, 87, 75]\n",
      "t 値は -2.99232037543\n",
      "確率は 0.0201600161737\n",
      "有意な差があります\n"
     ]
    }
   ],
   "source": [
    "import numpy as np\n",
    "import scipy as sp\n",
    "from scipy import stats\n",
    "\n",
    "X = [68, 75, 80, 71, 73, 79, 69, 65]\n",
    "Y = [86, 83, 76, 81, 75, 82, 87, 75]\n",
    "\n",
    "print(X)\n",
    "print(Y)\n",
    "\n",
    "t, p = stats.ttest_rel(X, Y)\n",
    "\n",
    "print( \"t 値は %(t)s\" %locals() )\n",
    "print( \"確率は %(p)s\" %locals() )\n",
    "\n",
    "if p < 0.05:\n",
    "    print(\"有意な差があります\")\n",
    "else:\n",
    "    print(\"有意な差がありません\")"
   ]
  },
  {
   "cell_type": "markdown",
   "metadata": {},
   "source": [
    "__課題17.8__：[アイスクリームアンケート調査結果](https://raw.githubusercontent.com/maskot1977/ipython_notebook/master/toydata/icecream_chosa.txt)をダウンロードして、以下の問いに答えてください。\n",
    "* バニラの好みの分布と、ストロベリーの好みの分布との間に有意な差があるかどうか調べてください。\n",
    "* 味の全組み合わせに対して、分布間に有意な差があるものをリストアップしてください。"
   ]
  },
  {
   "cell_type": "code",
   "execution_count": null,
   "metadata": {
    "collapsed": false
   },
   "outputs": [],
   "source": []
  },
  {
   "cell_type": "markdown",
   "metadata": {},
   "source": [
    "### 8.9 [カイ二乗検定 (Chi-squared test)](http://stat.biopapyrus.net/statistic/chisqtest.html)\n",
    "カイ二乗検定は、観測データの分布が理論値の分布に従うかどうかを検定する手法である。例えば、サイコロを60回ふったとき、各目が出る回数は次のようになったとき、理論値の分布に従うかどうかを検定する。"
   ]
  },
  {
   "cell_type": "code",
   "execution_count": 7,
   "metadata": {
    "collapsed": false
   },
   "outputs": [
    {
     "name": "stdout",
     "output_type": "stream",
     "text": [
      "chi2 値は -2.99232037543\n",
      "確率は 0.0296994592035\n",
      "有意な差があります\n"
     ]
    }
   ],
   "source": [
    "from scipy import stats\n",
    "\n",
    "o = [17, 10, 6, 7, 15, 5] # 実測値\n",
    "e = [10, 10, 10, 10, 10, 10] # 理論値\n",
    "\n",
    "chi2, p = stats.chisquare(o, f_exp = e)\n",
    "\n",
    "print( \"chi2 値は %(t)s\" %locals() )\n",
    "print( \"確率は %(p)s\" %locals() )\n",
    "\n",
    "if p < 0.05:\n",
    "    print(\"有意な差があります\")\n",
    "else:\n",
    "    print(\"有意な差がありません\")"
   ]
  },
  {
   "cell_type": "markdown",
   "metadata": {},
   "source": [
    "__課題8.10__：仮説検定とは何か。以下の語をすべて用いて説明してください。\n",
    "* 母集団\n",
    "* 標本\n",
    "* 正規分布\n",
    "* 二項分布\n",
    "* t検定\n",
    "* カイ二乗検定\n",
    "* 極限定理\n",
    "* 帰無仮説\n",
    "* 有意\n",
    "* 無作為"
   ]
  },
  {
   "cell_type": "code",
   "execution_count": null,
   "metadata": {
    "collapsed": false
   },
   "outputs": [],
   "source": []
  },
  {
   "cell_type": "markdown",
   "metadata": {},
   "source": [
    "__今日の課題提出__：計算結果を.ipynb ファイル（または.jsonファイル）として保存し、指定したアドレスまでメールしてください。メールタイトルは「__ハンバーガー統計学8__」とし、メール本文に学籍番号と氏名を明記のこと。また、感想も書いてくれると喜びます。今後の講義の改善につながるかも知れません。"
   ]
  }
 ],
 "metadata": {
  "kernelspec": {
   "display_name": "Python 2",
   "language": "python",
   "name": "python2"
  },
  "language_info": {
   "codemirror_mode": {
    "name": "ipython",
    "version": 2
   },
   "file_extension": ".py",
   "mimetype": "text/x-python",
   "name": "python",
   "nbconvert_exporter": "python",
   "pygments_lexer": "ipython2",
   "version": "2.7.12"
  }
 },
 "nbformat": 4,
 "nbformat_minor": 0
}
