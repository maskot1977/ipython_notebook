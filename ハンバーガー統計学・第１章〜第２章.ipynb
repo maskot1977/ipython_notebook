{
 "cells": [
  {
   "cell_type": "markdown",
   "metadata": {},
   "source": [
    "# ハンバーガー統計学 + Python (第1章〜第2章)\n",
    "[ハンバーガー統計学にようこそ！](http://kogolab.chillout.jp/elearn/hamburger/index.html)\n",
    "のページを読み進めながら、以下の課題を Python を使って解いてください。\n",
    "\n",
    "* [アイスクリーム統計学・第１章〜第３章（散布図と相関、相関係数、無相関検定）](http://nbviewer.jupyter.org/github/maskot1977/ipython_notebook/blob/master/%E3%82%A2%E3%82%A4%E3%82%B9%E3%82%AF%E3%83%AA%E3%83%BC%E3%83%A0%E7%B5%B1%E8%A8%88%E5%AD%A6%E3%83%BB%E7%AC%AC%EF%BC%91%E7%AB%A0%E3%80%9C%E7%AC%AC%EF%BC%93%E7%AB%A0.ipynb)\n",
    "* [アイスクリーム統計学・第４章〜第６章（単回帰、偏相関、重回帰）](http://nbviewer.jupyter.org/github/maskot1977/ipython_notebook/blob/master/%E3%82%A2%E3%82%A4%E3%82%B9%E3%82%AF%E3%83%AA%E3%83%BC%E3%83%A0%E7%B5%B1%E8%A8%88%E5%AD%A6%E3%83%BB%E7%AC%AC%EF%BC%94%E7%AB%A0%E3%80%9C%E7%AC%AC%EF%BC%96%E7%AB%A0.ipynb)\n",
    "* [アイスクリーム統計学・第７章〜第９章（相関行列、因子分析1、因子分析2）](http://nbviewer.jupyter.org/github/maskot1977/ipython_notebook/blob/master/%E3%82%A2%E3%82%A4%E3%82%B9%E3%82%AF%E3%83%AA%E3%83%BC%E3%83%A0%E7%B5%B1%E8%A8%88%E5%AD%A6%E3%83%BB%E7%AC%AC%EF%BC%97%E7%AB%A0%E3%80%9C%E7%AC%AC%EF%BC%99%E7%AB%A0.ipynb)\n",
    "* [アイスクリーム統計学・第１０章（主成分分析とクラスター分析）](http://nbviewer.jupyter.org/github/maskot1977/ipython_notebook/blob/master/%E3%82%A2%E3%82%A4%E3%82%B9%E3%82%AF%E3%83%AA%E3%83%BC%E3%83%A0%E7%B5%B1%E8%A8%88%E5%AD%A6%E3%83%BB%E7%AC%AC%EF%BC%91%EF%BC%90%E7%AB%A0.ipynb)\n",
    "* [ハンバーガー統計学・第１章〜第２章（平均と分散、信頼区間）](http://nbviewer.jupyter.org/github/maskot1977/ipython_notebook/blob/master/%E3%83%8F%E3%83%B3%E3%83%8F%E3%82%99%E3%83%BC%E3%82%AB%E3%82%99%E3%83%BC%E7%B5%B1%E8%A8%88%E5%AD%A6%E3%83%BB%E7%AC%AC%EF%BC%91%E7%AB%A0%E3%80%9C%E7%AC%AC%EF%BC%92%E7%AB%A0.ipynb)\n",
    "* [ハンバーガー統計学・第３章〜第５章（カイ２乗検定、t検定（対応なし・対応あり））](http://nbviewer.jupyter.org/github/maskot1977/ipython_notebook/blob/master/%E3%83%8F%E3%83%B3%E3%83%8F%E3%82%99%E3%83%BC%E3%82%AB%E3%82%99%E3%83%BC%E7%B5%B1%E8%A8%88%E5%AD%A6%E3%83%BB%E7%AC%AC%EF%BC%93%E7%AB%A0%E3%80%9C%E7%AC%AC%EF%BC%95%E7%AB%A0.ipynb)\n",
    "\n",
    "### Jupyter Notebook (IPython Notebook) とは\n",
    "* Python という名のプログラミング言語が使えるプログラミング環境。計算コードと計算結果を同じ場所に時系列で保存できるので、実験系における実験ノートのように、いつどんな処理を行って何を得たのか記録して再現するのに便利。\n",
    "* [当学演習室での Jupyter Notebook の起動方法](https://raw.githubusercontent.com/maskot1977/-/master/%E6%BC%94%E7%BF%92%E5%AE%A4.txt)"
   ]
  },
  {
   "cell_type": "markdown",
   "metadata": {},
   "source": [
    "## 1. [平均と分散](http://kogolab.chillout.jp/elearn/hamburger/chap1/sec0.html)\n",
    "本文を読んで概念を学んでください。"
   ]
  },
  {
   "cell_type": "markdown",
   "metadata": {},
   "source": [
    "### 1.1　[ポテトの長さの平均は](http://kogolab.chillout.jp/elearn/hamburger/chap1/sec1.html)"
   ]
  },
  {
   "cell_type": "code",
   "execution_count": 9,
   "metadata": {
    "collapsed": true
   },
   "outputs": [],
   "source": [
    "# URL によるリソースへのアクセスを提供するライブラリをインポートする。\n",
    "import urllib # Python 2 の場合\n",
    "# import urllib.request # Python 3 の場合"
   ]
  },
  {
   "cell_type": "code",
   "execution_count": 19,
   "metadata": {
    "collapsed": true
   },
   "outputs": [],
   "source": [
    "# ウェブ上のリソースを指定する\n",
    "url = 'https://raw.githubusercontent.com/maskot1977/ipython_notebook/master/toydata/wakuwaku_potato.txt'"
   ]
  },
  {
   "cell_type": "code",
   "execution_count": 11,
   "metadata": {
    "collapsed": false
   },
   "outputs": [
    {
     "data": {
      "text/plain": [
       "('wakuwaku_potato.txt', <httplib.HTTPMessage instance at 0x104126368>)"
      ]
     },
     "execution_count": 11,
     "metadata": {},
     "output_type": "execute_result"
    }
   ],
   "source": [
    "# 指定したURLからリソースをダウンロードし、名前をつける。\n",
    "urllib.urlretrieve(url, 'wakuwaku_potato.txt') # Python 2 の場合\n",
    "# urllib.request.urlretrieve(url, 'wakuwaku_potato.txt') # Python 3 の場合"
   ]
  },
  {
   "cell_type": "code",
   "execution_count": 12,
   "metadata": {
    "collapsed": true
   },
   "outputs": [],
   "source": [
    "# ファイルをオープンし長さのデータを読み込み、wakuwakuという名のリストに格納する。\n",
    "wakuwaku = []\n",
    "for line in open('wakuwaku_potato.txt'):\n",
    "    wakuwaku.append(float(line))"
   ]
  },
  {
   "cell_type": "code",
   "execution_count": 13,
   "metadata": {
    "collapsed": false
   },
   "outputs": [
    {
     "name": "stdout",
     "output_type": "stream",
     "text": [
      "[3.5, 3.8, 5.8, 6.4, 4.2, 4.2, 4.0, 3.6, 3.8, 5.2, 4.9, 5.2, 6.0, 3.9, 5.3, 4.6, 3.9, 4.2, 4.2, 6.4, 2.8, 5.6, 5.7, 5.1, 4.4, 5.6, 5.3, 3.9, 5.1, 3.6, 4.2, 5.0, 4.7, 4.1, 3.7, 4.9, 4.7, 5.3, 3.6, 4.2, 4.4, 4.0, 5.5, 4.2, 4.8, 3.7, 3.1, 4.7, 5.0]\n"
     ]
    }
   ],
   "source": [
    "# 格納したデータの確認\n",
    "print (wakuwaku)"
   ]
  },
  {
   "cell_type": "code",
   "execution_count": 14,
   "metadata": {
    "collapsed": false
   },
   "outputs": [
    {
     "name": "stdout",
     "output_type": "stream",
     "text": [
      "4.57142857143\n"
     ]
    }
   ],
   "source": [
    "# 平均長を求める\n",
    "sum = 0\n",
    "num = 0\n",
    "for length in wakuwaku:\n",
    "    sum += length\n",
    "    num += 1\n",
    "print (sum / num)"
   ]
  },
  {
   "cell_type": "markdown",
   "metadata": {},
   "source": [
    "__課題1.1__：[モグモグポテトの長さ](https://raw.githubusercontent.com/maskot1977/ipython_notebook/master/toydata/mogumogu_potato.txt)のデータをダウンロードし、モグモグポテトの平均長を求めてください。"
   ]
  },
  {
   "cell_type": "code",
   "execution_count": null,
   "metadata": {
    "collapsed": true
   },
   "outputs": [],
   "source": []
  },
  {
   "cell_type": "markdown",
   "metadata": {},
   "source": [
    "### 1.2　[度数分布](http://kogolab.chillout.jp/elearn/hamburger/chap1/sec2.html)"
   ]
  },
  {
   "cell_type": "code",
   "execution_count": 15,
   "metadata": {
    "collapsed": false
   },
   "outputs": [],
   "source": [
    "# 図やグラフを図示するためのライブラリをインポートする。\n",
    "import matplotlib.pyplot as plt\n",
    "%matplotlib inline"
   ]
  },
  {
   "cell_type": "code",
   "execution_count": 16,
   "metadata": {
    "collapsed": false
   },
   "outputs": [
    {
     "data": {
      "image/png": "[encoded data removed]",
      "text/plain": [
       "<matplotlib.figure.Figure at 0x10c5e7f90>"
      ]
     },
     "metadata": {},
     "output_type": "display_data"
    }
   ],
   "source": [
    "# ヒストグラム（度数分布）を描く\n",
    "plt.hist(wakuwaku)\n",
    "plt.show()"
   ]
  },
  {
   "cell_type": "markdown",
   "metadata": {},
   "source": [
    "__課題1.2__：[モグモグポテトの長さ](https://raw.githubusercontent.com/maskot1977/ipython_notebook/master/toydata/mogumogu_potato.txt)のデータをダウンロードし、モグモグポテトの長さのヒストグラムを描いてください。"
   ]
  },
  {
   "cell_type": "code",
   "execution_count": null,
   "metadata": {
    "collapsed": true
   },
   "outputs": [],
   "source": []
  },
  {
   "cell_type": "markdown",
   "metadata": {},
   "source": [
    "## 1.3　[ばらつきを数字にする](http://kogolab.chillout.jp/elearn/hamburger/chap1/sec3.html)\n",
    "本文を読んで概念を学んでください。"
   ]
  },
  {
   "cell_type": "markdown",
   "metadata": {},
   "source": [
    "### 1.4　[分散と標準偏差](http://kogolab.chillout.jp/elearn/hamburger/chap1/sec4.html)\n",
    "本文を読んで概念を学んでください。"
   ]
  },
  {
   "cell_type": "markdown",
   "metadata": {},
   "source": [
    "__課題1.4__：[ワクワクポテト](https://raw.githubusercontent.com/maskot1977/ipython_notebook/master/toydata/wakuwaku_potato.txt)と[モグモグポテト]((https://raw.githubusercontent.com/maskot1977/ipython_notebook/master/toydata/mogumogu_potato.txt)の長さの分散と標準偏差を、それぞれ求めてください。"
   ]
  },
  {
   "cell_type": "code",
   "execution_count": null,
   "metadata": {
    "collapsed": true
   },
   "outputs": [],
   "source": []
  },
  {
   "cell_type": "markdown",
   "metadata": {},
   "source": [
    "### 1.5　[実践編：チキンでいこう](http://kogolab.chillout.jp/elearn/hamburger/chap1/sec5.html)"
   ]
  },
  {
   "cell_type": "markdown",
   "metadata": {},
   "source": [
    "[フライドチキンの重さ](https://raw.githubusercontent.com/maskot1977/ipython_notebook/master/toydata/fried_chicken.txt) のデータをダウンロードして、その後のコードを実行してください。"
   ]
  },
  {
   "cell_type": "code",
   "execution_count": 21,
   "metadata": {
    "collapsed": true
   },
   "outputs": [],
   "source": [
    "# ウェブ上のリソースを指定する"
   ]
  },
  {
   "cell_type": "code",
   "execution_count": 22,
   "metadata": {
    "collapsed": true
   },
   "outputs": [],
   "source": [
    "# 指定したURLからリソースをダウンロードし、名前をつける。"
   ]
  },
  {
   "cell_type": "code",
   "execution_count": 23,
   "metadata": {
    "collapsed": true
   },
   "outputs": [],
   "source": [
    "# ダウンロードしたデータから、列ごとに数字を読み込んでリストに格納する。\n",
    "col1 = [] # ０列目の数字を格納する予定のリスト\n",
    "col2 = [] # １列目の数字を格納する予定のリスト\n",
    "col3 = [] # ２列目の数字を格納する予定のリスト\n",
    "for i, line in enumerate(open('fried_chicken.txt')): # ファイルを開いて一行一行読み込む\n",
    "    if i == 0: # ０番目の行の場合\n",
    "        continue # 次の行に行く\n",
    "    c = line.split() # 行を空白文字で分割したものをcというリストに入れる\n",
    "    col1.append(int(c[0])) # ０列目の単語を整数に変換してcol1に入れる\n",
    "    col2.append(int(c[1])) # １列目の単語を整数に変換してcol2に入れる\n",
    "    col3.append(int(c[2])) # ２列目の単語を整数に変換してcol3に入れる"
   ]
  },
  {
   "cell_type": "markdown",
   "metadata": {},
   "source": [
    "__課題1.5__：ワクワクチキンとモグモグチキンについて、重さの平均と分散と標準偏差を、それぞれ求めてください。またその結果について考察してください。"
   ]
  },
  {
   "cell_type": "code",
   "execution_count": null,
   "metadata": {
    "collapsed": true
   },
   "outputs": [],
   "source": []
  },
  {
   "cell_type": "markdown",
   "metadata": {},
   "source": [
    "### [1.9　通過テスト](http://kogolab.chillout.jp/elearn/hamburger/chap1/sec9.html)\n",
    "[ある3つのクラスの算数の成績](https://raw.githubusercontent.com/maskot1977/ipython_notebook/master/toydata/math_exam.txt)を用いて以下の問いに答えてください。\n",
    "* それぞれの組で、成績の平均と分散と標準偏差を求めなさい。\n",
    "* この結果から、それぞれのクラスの成績の特徴としてどのようなことが言えるか、クラス間で比較しながら説明しなさい。"
   ]
  },
  {
   "cell_type": "code",
   "execution_count": null,
   "metadata": {
    "collapsed": true
   },
   "outputs": [],
   "source": []
  },
  {
   "cell_type": "markdown",
   "metadata": {},
   "source": [
    "## 2. [信頼区間](http://kogolab.chillout.jp/elearn/hamburger/chap2/sec0.html)\n",
    "本文を読んで概念を学んでください。"
   ]
  },
  {
   "cell_type": "markdown",
   "metadata": {},
   "source": [
    "### 2.1　[平均的ポテトを推定する](http://kogolab.chillout.jp/elearn/hamburger/chap2/sec1.html)"
   ]
  },
  {
   "cell_type": "markdown",
   "metadata": {},
   "source": [
    "__課題2.1__：[ワクワクポテトの本数](https://raw.githubusercontent.com/maskot1977/ipython_notebook/master/toydata/wakuwaku_potato2.txt)のデータから、ポテトの本数の平均、分散、標準偏差を求めてください。"
   ]
  },
  {
   "cell_type": "code",
   "execution_count": null,
   "metadata": {
    "collapsed": true
   },
   "outputs": [],
   "source": []
  },
  {
   "cell_type": "markdown",
   "metadata": {},
   "source": [
    "### 2.2　[母集団の平均と分散を推定する](http://kogolab.chillout.jp/elearn/hamburger/chap2/sec2.html)"
   ]
  },
  {
   "cell_type": "markdown",
   "metadata": {},
   "source": [
    "__課題2.2__：[ワクワクポテトの本数](https://raw.githubusercontent.com/maskot1977/ipython_notebook/master/toydata/wakuwaku_potato2.txt)のデータから、ポテトの本数の不偏分散を求めてください。"
   ]
  },
  {
   "cell_type": "code",
   "execution_count": null,
   "metadata": {
    "collapsed": true
   },
   "outputs": [],
   "source": []
  },
  {
   "cell_type": "markdown",
   "metadata": {},
   "source": [
    "### 2.3　[区間推定／信頼区間](http://kogolab.chillout.jp/elearn/hamburger/chap2/sec3.html)\n",
    "本文を読んで概念を学んでください。"
   ]
  },
  {
   "cell_type": "markdown",
   "metadata": {},
   "source": [
    "### 2.4　[実践編：平均的チキンを推定する](http://kogolab.chillout.jp/elearn/hamburger/chap2/sec4.html)\n",
    "__課題2.4__：[ワクワクチキンのグラム数](https://raw.githubusercontent.com/maskot1977/ipython_notebook/master/toydata/fried_chicken2.txt)のデータを用いて、以下の問いに答えてください。ただし、t分布表は下表のとおりとします。\n",
    "* 標本平均、不偏分散、標本標準誤差、確率95%のt値、確率99%のt値、95%信頼区間、99%信頼区間を求めてください。\n",
    "* 標本の平均と不偏分散と標本標準誤差から何がわかるか説明してください。\n",
    "* 95%信頼区間と99%信頼区間の値から何がわかるか説明してください。\n",
    "<table width=\"50%\" border=\"1\" align=\"center\" cellpadding=\"2\" cellspacing=\"0\">\n",
    "  <tr bgcolor=\"#FFFFCC\"> \n",
    "    <td width=\"32%\"> <div align=\"right\">自由度</div></td>\n",
    "    <td width=\"34%\"> <div align=\"right\">確率95%</div></td>\n",
    "    <td width=\"34%\"> <div align=\"right\">確率99%</div></td>\n",
    "  </tr>\n",
    "  <tr> \n",
    "    <td bgcolor=\"#CCCCCC\"><div align=\"right\">1</div></td>\n",
    "    <td><div align=\"right\">12.706</div></td>\n",
    "    <td><div align=\"right\">63.657</div></td>\n",
    "  </tr>\n",
    "  <tr> \n",
    "    <td bgcolor=\"#CCCCCC\"><div align=\"right\">2</div></td>\n",
    "    <td><div align=\"right\">4.303</div></td>\n",
    "    <td><div align=\"right\">9.925</div></td>\n",
    "  </tr>\n",
    "  <tr> \n",
    "    <td bgcolor=\"#CCCCCC\"><div align=\"right\">3</div></td>\n",
    "    <td><div align=\"right\">3.182</div></td>\n",
    "    <td><div align=\"right\">5.841</div></td>\n",
    "  </tr>\n",
    "  <tr> \n",
    "    <td bgcolor=\"#CCCCCC\"><div align=\"right\">4</div></td>\n",
    "    <td><div align=\"right\">2.776</div></td>\n",
    "    <td><div align=\"right\">4.604</div></td>\n",
    "  </tr>\n",
    "  <tr> \n",
    "    <td bgcolor=\"#CCCCCC\"><div align=\"right\">5</div></td>\n",
    "    <td><div align=\"right\">2.571</div></td>\n",
    "    <td><div align=\"right\">4.032</div></td>\n",
    "  </tr>\n",
    "  <tr> \n",
    "    <td bgcolor=\"#CCCCCC\"><div align=\"right\">6</div></td>\n",
    "    <td><div align=\"right\">2.447</div></td>\n",
    "    <td><div align=\"right\">3.707</div></td>\n",
    "  </tr>\n",
    "  <tr> \n",
    "    <td bgcolor=\"#CCCCCC\"><div align=\"right\">7</div></td>\n",
    "    <td>\n",
    "<div align=\"right\">2.365</div></td>\n",
    "    <td>\n",
    "<div align=\"right\">3.499</div></td>\n",
    "  </tr>\n",
    "  <tr> \n",
    "    <td bgcolor=\"#CCCCCC\"><div align=\"right\">8</div></td>\n",
    "    <td><div align=\"right\">2.306</div></td>\n",
    "    <td><div align=\"right\">3.355</div></td>\n",
    "  </tr>\n",
    "  <tr> \n",
    "    <td bgcolor=\"#CCCCCC\"><div align=\"right\">9</div></td>\n",
    "    <td><div align=\"right\">2.262</div></td>\n",
    "    <td><div align=\"right\">3.250</div></td>\n",
    "  </tr>\n",
    "  <tr> \n",
    "    <td bgcolor=\"#CCCCCC\"><div align=\"right\">10</div></td>\n",
    "    <td><div align=\"right\">2.226</div></td>\n",
    "    <td><div align=\"right\">3.169</div></td>\n",
    "  </tr>\n",
    "</table>"
   ]
  },
  {
   "cell_type": "markdown",
   "metadata": {},
   "source": [
    "### 2.5　[通過テスト](http://kogolab.chillout.jp/elearn/hamburger/chap2/sec9.html)\n",
    "本文を読んで、通過テストの問題に答えてください。"
   ]
  },
  {
   "cell_type": "code",
   "execution_count": null,
   "metadata": {
    "collapsed": true
   },
   "outputs": [],
   "source": []
  },
  {
   "cell_type": "markdown",
   "metadata": {},
   "source": [
    "__今日の課題提出__：計算結果を.ipynb ファイル（または.jsonファイル）として保存し、指定したアドレスまでメールしてください。メールタイトルは「__ハンバーガー統計学12__」とし、メール本文に学籍番号と氏名を明記のこと。また、感想も書いてくれると喜びます。今後の講義の改善につながるかも知れません。"
   ]
  }
 ],
 "metadata": {
  "kernelspec": {
   "display_name": "Python 2",
   "language": "python",
   "name": "python2"
  },
  "language_info": {
   "codemirror_mode": {
    "name": "ipython",
    "version": 2
   },
   "file_extension": ".py",
   "mimetype": "text/x-python",
   "name": "python",
   "nbconvert_exporter": "python",
   "pygments_lexer": "ipython2",
   "version": "2.7.12"
  }
 },
 "nbformat": 4,
 "nbformat_minor": 0
}
