{
 "cells": [
  {
   "cell_type": "markdown",
   "metadata": {},
   "source": [
    "# アイスクリーム統計学 + Python (第７章〜第９章)\n",
    "[アイスクリーム統計学にようこそ！](http://kogolab.chillout.jp/elearn/icecream/index.html)\n",
    "のページを読み進めながら、以下の課題を Python を使って解いてください。"
   ]
  },
  {
   "cell_type": "markdown",
   "metadata": {},
   "source": [
    "## 7.　[相関行列](http://kogolab.chillout.jp/elearn/icecream/chap7/sec0.html)"
   ]
  },
  {
   "cell_type": "markdown",
   "metadata": {},
   "source": [
    "### 7.1　[多変量データ](http://kogolab.chillout.jp/elearn/icecream/chap7/sec1.html)"
   ]
  },
  {
   "cell_type": "markdown",
   "metadata": {},
   "source": [
    "* [調査票](https://github.com/maskot1977/ipython_notebook/blob/master/toydata/chosahyo.pdf)"
   ]
  },
  {
   "cell_type": "markdown",
   "metadata": {},
   "source": [
    "### 7.2　[変数をまとめる](http://kogolab.chillout.jp/elearn/icecream/chap7/sec2.html)"
   ]
  },
  {
   "cell_type": "markdown",
   "metadata": {},
   "source": [
    "* [調査結果（Excelファイル）](https://github.com/maskot1977/ipython_notebook/blob/master/toydata/icecream-chosa.xls?raw=true)"
   ]
  },
  {
   "cell_type": "markdown",
   "metadata": {},
   "source": [
    "### 7.3　[相関行列を計算する(1)](http://kogolab.chillout.jp/elearn/icecream/chap7/sec3.html)"
   ]
  },
  {
   "cell_type": "markdown",
   "metadata": {},
   "source": [
    "### 7.4　[相関行列を計算する(2)](http://kogolab.chillout.jp/elearn/icecream/chap7/sec4.html)"
   ]
  },
  {
   "cell_type": "markdown",
   "metadata": {},
   "source": [
    "### 7.6　[通過テスト](http://kogolab.chillout.jp/elearn/icecream/chap7/sec6.html)"
   ]
  },
  {
   "cell_type": "markdown",
   "metadata": {},
   "source": [
    "* [調査結果（Excelファイル）](https://github.com/maskot1977/ipython_notebook/blob/master/toydata/icecream-chosa.xls?raw=true)"
   ]
  },
  {
   "cell_type": "markdown",
   "metadata": {},
   "source": [
    "## 8.　[因子分析(1)](http://kogolab.chillout.jp/elearn/icecream/chap8/sec0.html)"
   ]
  },
  {
   "cell_type": "markdown",
   "metadata": {},
   "source": [
    "### 8.1　[因子分析の考え方](http://kogolab.chillout.jp/elearn/icecream/chap8/sec1.html)"
   ]
  },
  {
   "cell_type": "markdown",
   "metadata": {},
   "source": [
    "### 8.2　[固有値](http://kogolab.chillout.jp/elearn/icecream/chap8/sec2.html)"
   ]
  },
  {
   "cell_type": "markdown",
   "metadata": {},
   "source": [
    "### 8.3　[因子負荷](http://kogolab.chillout.jp/elearn/icecream/chap8/sec3.html)"
   ]
  },
  {
   "cell_type": "markdown",
   "metadata": {},
   "source": [
    "### 8.4　[回転](http://kogolab.chillout.jp/elearn/icecream/chap8/sec4.html)"
   ]
  },
  {
   "cell_type": "markdown",
   "metadata": {},
   "source": [
    "### 8.5　[通過テスト](http://kogolab.chillout.jp/elearn/icecream/chap8/sec6.html)"
   ]
  },
  {
   "cell_type": "markdown",
   "metadata": {},
   "source": [
    "## 9.　[因子分析(2)](http://kogolab.chillout.jp/elearn/icecream/chap9/sec0.html)"
   ]
  },
  {
   "cell_type": "markdown",
   "metadata": {},
   "source": [
    "### 9.1　[単純構造](http://kogolab.chillout.jp/elearn/icecream/chap9/sec1.html)"
   ]
  },
  {
   "cell_type": "markdown",
   "metadata": {},
   "source": [
    "### 9.2　[因子得点](http://kogolab.chillout.jp/elearn/icecream/chap9/sec2.html)"
   ]
  },
  {
   "cell_type": "markdown",
   "metadata": {},
   "source": [
    "### 9.3　[通過テスト](http://kogolab.chillout.jp/elearn/icecream/chap9/sec3.html)"
   ]
  },
  {
   "cell_type": "markdown",
   "metadata": {},
   "source": [
    "* [因子得点のデータ](https://github.com/maskot1977/ipython_notebook/blob/master/toydata/fscore.xls?raw=true)"
   ]
  },
  {
   "cell_type": "code",
   "execution_count": null,
   "metadata": {
    "collapsed": true
   },
   "outputs": [],
   "source": []
  }
 ],
 "metadata": {
  "kernelspec": {
   "display_name": "Python 2",
   "language": "python",
   "name": "python2"
  },
  "language_info": {
   "codemirror_mode": {
    "name": "ipython",
    "version": 2
   },
   "file_extension": ".py",
   "mimetype": "text/x-python",
   "name": "python",
   "nbconvert_exporter": "python",
   "pygments_lexer": "ipython2",
   "version": "2.7.12"
  }
 },
 "nbformat": 4,
 "nbformat_minor": 0
}
