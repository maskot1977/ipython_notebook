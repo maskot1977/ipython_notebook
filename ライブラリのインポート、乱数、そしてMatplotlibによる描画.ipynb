{
 "cells": [
  {
   "cell_type": "markdown",
   "metadata": {},
   "source": [
    "# ライブラリのインポート、乱数、そしてMatplotlibによる描画"
   ]
  },
  {
   "cell_type": "code",
   "execution_count": 1,
   "metadata": {
    "collapsed": true
   },
   "outputs": [],
   "source": [
    "from numpy.random import *"
   ]
  },
  {
   "cell_type": "code",
   "execution_count": 2,
   "metadata": {
    "collapsed": true
   },
   "outputs": [],
   "source": [
    "import matplotlib.pyplot as plt\n",
    "%matplotlib inline"
   ]
  },
  {
   "cell_type": "markdown",
   "metadata": {},
   "source": [
    "## 一様乱数"
   ]
  },
  {
   "cell_type": "code",
   "execution_count": 3,
   "metadata": {
    "collapsed": false
   },
   "outputs": [
    {
     "data": {
      "text/plain": [
       "0.5711058988715297"
      ]
     },
     "execution_count": 3,
     "metadata": {},
     "output_type": "execute_result"
    }
   ],
   "source": [
    "rand()      # 0〜1の乱数を1個生成"
   ]
  },
  {
   "cell_type": "code",
   "execution_count": 4,
   "metadata": {
    "collapsed": false
   },
   "outputs": [
    {
     "data": {
      "text/plain": [
       "array([ 0.3974845 ,  0.2804745 ,  0.4876511 ,  0.74349837,  0.27299054,\n",
       "        0.21491225,  0.75334042,  0.48508317,  0.37885442,  0.57098457,\n",
       "        0.77830932,  0.44179658,  0.47333357,  0.82160452,  0.44870624,\n",
       "        0.87838512,  0.69349337,  0.4715035 ,  0.15648899,  0.08898805,\n",
       "        0.30239486,  0.45934126,  0.69907757,  0.48865311,  0.34479244,\n",
       "        0.87635034,  0.38924935,  0.09124186,  0.74972712,  0.24361072,\n",
       "        0.39542824,  0.75099922,  0.76003171,  0.55323615,  0.91727916,\n",
       "        0.1844922 ,  0.36400017,  0.31556345,  0.43499192,  0.83189859,\n",
       "        0.05463369,  0.79884611,  0.83435679,  0.59694601,  0.17368607,\n",
       "        0.20065979,  0.16615077,  0.4424008 ,  0.67444159,  0.70545123,\n",
       "        0.84723213,  0.6709079 ,  0.13980573,  0.03766885,  0.58629224,\n",
       "        0.24477072,  0.70458133,  0.38681108,  0.18642814,  0.31583616,\n",
       "        0.29156554,  0.98037572,  0.97578359,  0.10203984,  0.6109768 ,\n",
       "        0.10885868,  0.8841769 ,  0.37650694,  0.96386504,  0.4566121 ,\n",
       "        0.90786375,  0.68819956,  0.2787231 ,  0.03009206,  0.31473012,\n",
       "        0.43759595,  0.16266363,  0.17575202,  0.37049484,  0.50508897,\n",
       "        0.26652512,  0.96353304,  0.08109715,  0.75387984,  0.73127757,\n",
       "        0.82113629,  0.90983133,  0.32990352,  0.19501231,  0.26019051,\n",
       "        0.85513952,  0.43588677,  0.63361671,  0.44910911,  0.12253821,\n",
       "        0.11759707,  0.37689606,  0.42415416,  0.8935063 ,  0.35304992])"
      ]
     },
     "execution_count": 4,
     "metadata": {},
     "output_type": "execute_result"
    }
   ],
   "source": [
    "rand(100)   # 0〜1の乱数を100個生成"
   ]
  },
  {
   "cell_type": "code",
   "execution_count": 5,
   "metadata": {
    "collapsed": false
   },
   "outputs": [
    {
     "data": {
      "text/plain": [
       "array([[ 0.1343308 ,  0.849276  ,  0.79797932,  0.48710126,  0.43220302,\n",
       "         0.27073886,  0.46153987,  0.56813297,  0.48248819,  0.42813212],\n",
       "       [ 0.80774914,  0.86889811,  0.50202042,  0.2898408 ,  0.73071374,\n",
       "         0.24298982,  0.2797851 ,  0.365163  ,  0.76314037,  0.38549578],\n",
       "       [ 0.56899781,  0.58963849,  0.19118298,  0.21897937,  0.92904851,\n",
       "         0.08740129,  0.56182824,  0.09732572,  0.27810998,  0.35319528],\n",
       "       [ 0.03009446,  0.08845707,  0.79104839,  0.60879015,  0.41609207,\n",
       "         0.90909591,  0.51138359,  0.50563811,  0.78498751,  0.25232125],\n",
       "       [ 0.03719288,  0.3652683 ,  0.37509408,  0.78740473,  0.69306962,\n",
       "         0.68211761,  0.52457205,  0.36723201,  0.23553789,  0.45477452],\n",
       "       [ 0.64398078,  0.02423766,  0.12753282,  0.17369049,  0.8304232 ,\n",
       "         0.44904046,  0.56114795,  0.20448983,  0.39571862,  0.3357253 ],\n",
       "       [ 0.99411758,  0.55584917,  0.52216061,  0.58981605,  0.9114666 ,\n",
       "         0.47406169,  0.83830984,  0.16545353,  0.549904  ,  0.09295717],\n",
       "       [ 0.96707741,  0.06720873,  0.39993962,  0.91524753,  0.48235942,\n",
       "         0.84305723,  0.71444371,  0.1733362 ,  0.75443327,  0.85234101],\n",
       "       [ 0.851068  ,  0.92213858,  0.26596346,  0.52656534,  0.05925021,\n",
       "         0.38879981,  0.83397674,  0.04040564,  0.36531846,  0.61394344],\n",
       "       [ 0.00250009,  0.59993864,  0.68687446,  0.55352095,  0.26400834,\n",
       "         0.19102711,  0.14618826,  0.02278566,  0.28513408,  0.95616898]])"
      ]
     },
     "execution_count": 5,
     "metadata": {},
     "output_type": "execute_result"
    }
   ],
   "source": [
    "rand(10,10) # 0〜1の乱数で 10x10 の行列を生成"
   ]
  },
  {
   "cell_type": "code",
   "execution_count": 6,
   "metadata": {
    "collapsed": false,
    "scrolled": true
   },
   "outputs": [
    {
     "data": {
      "text/plain": [
       "array([ 59.47520452,  46.05856162,  54.29842078,  49.66802897,\n",
       "        59.72563153,  51.35314059,  47.78011432,  68.3694564 ,\n",
       "        67.12908633,  47.13891729,  31.50710551,  50.8738215 ,\n",
       "        32.80350583,  58.16617822,  37.6433286 ,  38.4312646 ,\n",
       "        37.79484929,  41.79018947,  55.9937992 ,  64.53625614,\n",
       "        67.0432177 ,  47.30581371,  59.67467246,  60.16030437,\n",
       "        36.47377323,  41.36808202,  69.4533774 ,  63.76727907,\n",
       "        32.93271844,  67.79321578,  49.48320139,  37.10420708,\n",
       "        63.88646683,  54.58241565,  59.64747271,  34.14282892,\n",
       "        37.70232683,  44.4813589 ,  65.67131057,  62.70125937,\n",
       "        60.53652005,  60.21628018,  56.32715656,  36.40629717,\n",
       "        67.32696741,  59.51575459,  69.70688225,  68.74855817,\n",
       "        60.21269541,  60.18774783,  56.9288281 ,  35.05197807,\n",
       "        47.67394877,  53.11518086,  60.90126096,  51.84174614,\n",
       "        53.32117211,  35.13355702,  68.48388877,  59.81527336,\n",
       "        64.97965281,  31.18920981,  45.1324672 ,  50.19636768,\n",
       "        33.38651174,  63.3852003 ,  50.34229609,  35.44183735,\n",
       "        63.26992131,  36.8166564 ,  57.20900847,  57.46954544,\n",
       "        65.27873615,  44.02910561,  31.32250933,  33.08055032,\n",
       "        41.18379022,  65.01343812,  49.07993745,  50.89472741,\n",
       "        49.45337413,  31.68937945,  38.45222119,  55.80911394,\n",
       "        43.26322431,  30.90019483,  48.94692052,  37.72876473,\n",
       "        57.79021889,  63.66280224,  55.29842982,  44.97946661,\n",
       "        33.58944754,  37.88955069,  47.81945983,  56.27287606,\n",
       "        55.61512065,  53.32981899,  49.44219543,  32.82277469])"
      ]
     },
     "execution_count": 6,
     "metadata": {},
     "output_type": "execute_result"
    }
   ],
   "source": [
    "rand(100) * 40 + 30 # 30〜70の乱数を100個生成"
   ]
  },
  {
   "cell_type": "code",
   "execution_count": 8,
   "metadata": {
    "collapsed": false
   },
   "outputs": [
    {
     "data": {
      "image/png": "[encoded data removed]",
      "text/plain": [
       "<matplotlib.figure.Figure at 0x105fa88d0>"
      ]
     },
     "metadata": {},
     "output_type": "display_data"
    }
   ],
   "source": [
    "R = rand(100)        # 標準正規分布で乱数を100個生成\n",
    "plt.hist(R, bins=20)   # 20本のヒストグラムを作成\n",
    "plt.show()    "
   ]
  },
  {
   "cell_type": "code",
   "execution_count": 10,
   "metadata": {
    "collapsed": false
   },
   "outputs": [
    {
     "data": {
      "image/png": "[encoded data removed]",
      "text/plain": [
       "<matplotlib.figure.Figure at 0x106123978>"
      ]
     },
     "metadata": {},
     "output_type": "display_data"
    }
   ],
   "source": [
    "R = rand(10000)        # 標準正規分布で乱数を10000個生成\n",
    "plt.hist(R, bins=20)   # 20本のヒストグラムを作成\n",
    "plt.show()    "
   ]
  },
  {
   "cell_type": "markdown",
   "metadata": {},
   "source": [
    "## 正規分布に従う乱数"
   ]
  },
  {
   "cell_type": "markdown",
   "metadata": {},
   "source": [
    "標準正規分布ならば randn() で、平均・分散を指定したい場合は normal() を用いる。"
   ]
  },
  {
   "cell_type": "code",
   "execution_count": 12,
   "metadata": {
    "collapsed": false
   },
   "outputs": [
    {
     "data": {
      "text/plain": [
       "0.4146877109182507"
      ]
     },
     "execution_count": 12,
     "metadata": {},
     "output_type": "execute_result"
    }
   ],
   "source": [
    "randn()         # 標準正規分布 (平均0, 標準偏差1)"
   ]
  },
  {
   "cell_type": "code",
   "execution_count": 13,
   "metadata": {
    "collapsed": false
   },
   "outputs": [
    {
     "data": {
      "text/plain": [
       "array([-0.36842608, -1.71572963, -0.64887664, -0.19379101,  0.54360074,\n",
       "        0.067478  ,  0.40860982,  0.5697241 ,  0.32462874,  1.30424333])"
      ]
     },
     "execution_count": 13,
     "metadata": {},
     "output_type": "execute_result"
    }
   ],
   "source": [
    "randn(10)       # 標準正規分布を10個生成"
   ]
  },
  {
   "cell_type": "code",
   "execution_count": 14,
   "metadata": {
    "collapsed": false
   },
   "outputs": [
    {
     "data": {
      "text/plain": [
       "array([[-0.91286338, -0.08805705,  0.08815227,  0.83873093,  1.39343822,\n",
       "        -1.56262496, -0.49435048, -0.6181421 ,  1.39207796,  0.46180327],\n",
       "       [-0.67832442, -2.00555994, -1.09029367,  0.66296218, -1.37398162,\n",
       "        -0.34650467, -1.8532013 ,  0.29289888,  0.39942087, -0.20597787],\n",
       "       [-1.12382807,  0.75214646,  0.86218267, -0.52559193,  0.09971589,\n",
       "        -1.65382132,  0.12726778, -0.98463239,  1.62112621, -1.27036642],\n",
       "       [-0.29009732, -0.65953024, -0.79360126,  0.05434536, -1.64459605,\n",
       "        -0.97890276,  0.25976387, -0.6469048 ,  0.02001919, -0.74854419],\n",
       "       [ 0.32106388,  0.87872973,  1.41318774, -0.84688376,  1.38548006,\n",
       "        -0.47286397,  1.63857795, -0.47507658,  1.49309421, -0.5021398 ],\n",
       "       [-1.06176146,  0.29984384,  0.39185614, -3.27642188, -0.4343499 ,\n",
       "         0.40454327, -1.74374628,  0.38801098,  1.41685993, -1.23570215],\n",
       "       [ 1.78566889,  0.40255987,  0.12366493, -0.01299039,  0.1507657 ,\n",
       "        -0.71961002, -0.02109143, -0.21003894, -0.4138317 ,  0.87796038],\n",
       "       [-1.0919349 ,  2.10770922, -0.84744495, -1.05257275, -1.83436119,\n",
       "         0.68183784, -1.5860631 ,  0.6329076 , -0.11556967,  0.71810903],\n",
       "       [-0.13776364, -1.68070205,  0.38180324, -0.35075884, -0.29909521,\n",
       "        -0.6581705 ,  1.56845063, -0.98614806,  0.02125808,  0.10840294],\n",
       "       [ 0.04959466, -0.76969114,  1.74450295, -0.75241613,  0.72173618,\n",
       "         0.57206214,  1.48975709, -0.33073917, -0.8568778 ,  0.16884354]])"
      ]
     },
     "execution_count": 14,
     "metadata": {},
     "output_type": "execute_result"
    }
   ],
   "source": [
    "randn(10,10)    # 標準正規分布による 10x10 の行列"
   ]
  },
  {
   "cell_type": "code",
   "execution_count": 15,
   "metadata": {
    "collapsed": false
   },
   "outputs": [
    {
     "data": {
      "text/plain": [
       "55.0193079570755"
      ]
     },
     "execution_count": 15,
     "metadata": {},
     "output_type": "execute_result"
    }
   ],
   "source": [
    "normal(50,10)   # 平均50、標準偏差10の正規分布"
   ]
  },
  {
   "cell_type": "code",
   "execution_count": 18,
   "metadata": {
    "collapsed": false
   },
   "outputs": [
    {
     "data": {
      "image/png": "[encoded data removed]",
      "text/plain": [
       "<matplotlib.figure.Figure at 0x10680ca90>"
      ]
     },
     "metadata": {},
     "output_type": "display_data"
    }
   ],
   "source": [
    "R = randn(10000)        # 標準正規分布で乱数を10000個生成\n",
    "plt.hist(R, bins=20)   # 20本のヒストグラムを作成\n",
    "plt.show()   "
   ]
  },
  {
   "cell_type": "markdown",
   "metadata": {},
   "source": [
    "## 整数の乱数"
   ]
  },
  {
   "cell_type": "code",
   "execution_count": 23,
   "metadata": {
    "collapsed": false
   },
   "outputs": [
    {
     "data": {
      "text/plain": [
       "9"
      ]
     },
     "execution_count": 23,
     "metadata": {},
     "output_type": "execute_result"
    }
   ],
   "source": [
    "randint(100)            #  0〜99 の整数を1個生成"
   ]
  },
  {
   "cell_type": "code",
   "execution_count": 24,
   "metadata": {
    "collapsed": false
   },
   "outputs": [
    {
     "data": {
      "text/plain": [
       "55"
      ]
     },
     "execution_count": 24,
     "metadata": {},
     "output_type": "execute_result"
    }
   ],
   "source": [
    "randint(30,70)          # 30〜69 の整数を1個生成"
   ]
  },
  {
   "cell_type": "code",
   "execution_count": 26,
   "metadata": {
    "collapsed": false
   },
   "outputs": [
    {
     "data": {
      "text/plain": [
       "array([97, 92, 23, 65, 56,  6, 60, 28, 64, 32, 57, 26, 85, 35, 61, 26, 31,\n",
       "       56, 14, 10])"
      ]
     },
     "execution_count": 26,
     "metadata": {},
     "output_type": "execute_result"
    }
   ],
   "source": [
    "randint(0,100,20)       #  0〜99 の整数を20個生成"
   ]
  },
  {
   "cell_type": "code",
   "execution_count": 27,
   "metadata": {
    "collapsed": false
   },
   "outputs": [
    {
     "data": {
      "text/plain": [
       "array([[23, 73, 73,  0, 85],\n",
       "       [55, 84, 97,  4, 26],\n",
       "       [57, 93, 17, 34, 97],\n",
       "       [44, 17, 30, 14, 57],\n",
       "       [85, 61, 45, 43,  7]])"
      ]
     },
     "execution_count": 27,
     "metadata": {},
     "output_type": "execute_result"
    }
   ],
   "source": [
    "randint(0,100,(5,5))    #  0〜99 の整数で5x5の行列を生成"
   ]
  },
  {
   "cell_type": "code",
   "execution_count": null,
   "metadata": {
    "collapsed": true
   },
   "outputs": [],
   "source": []
  }
 ],
 "metadata": {
  "kernelspec": {
   "display_name": "Python 3",
   "language": "python",
   "name": "python3"
  },
  "language_info": {
   "codemirror_mode": {
    "name": "ipython",
    "version": 3
   },
   "file_extension": ".py",
   "mimetype": "text/x-python",
   "name": "python",
   "nbconvert_exporter": "python",
   "pygments_lexer": "ipython3",
   "version": "3.4.5"
  }
 },
 "nbformat": 4,
 "nbformat_minor": 2
}
