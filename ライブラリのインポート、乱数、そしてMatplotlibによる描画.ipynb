{
 "cells": [
  {
   "cell_type": "markdown",
   "metadata": {},
   "source": [
    "# ライブラリのインポート、乱数、そしてMatplotlibによる描画"
   ]
  },
  {
   "cell_type": "code",
   "execution_count": 1,
   "metadata": {
    "collapsed": true
   },
   "outputs": [],
   "source": [
    "#（シャープ）以降の文字はプログラムに影響しません。\n",
    "# 図やグラフを図示するためのライブラリをインポートする。\n",
    "import matplotlib.pyplot as plt\n",
    "import matplotlib.ticker as ticker\n",
    "%matplotlib inline"
   ]
  },
  {
   "cell_type": "code",
   "execution_count": 2,
   "metadata": {
    "collapsed": true
   },
   "outputs": [],
   "source": [
    "# 乱数を扱うためのライブラリをインポートする。\n",
    "from numpy.random import *"
   ]
  },
  {
   "cell_type": "markdown",
   "metadata": {},
   "source": [
    "## 一様乱数"
   ]
  },
  {
   "cell_type": "code",
   "execution_count": 3,
   "metadata": {
    "collapsed": false
   },
   "outputs": [
    {
     "data": {
      "text/plain": [
       "0.40700323596412924"
      ]
     },
     "execution_count": 3,
     "metadata": {},
     "output_type": "execute_result"
    }
   ],
   "source": [
    "rand()      # 0〜1の乱数を1個生成"
   ]
  },
  {
   "cell_type": "code",
   "execution_count": 4,
   "metadata": {
    "collapsed": false
   },
   "outputs": [
    {
     "data": {
      "text/plain": [
       "array([ 0.53032101,  0.52869306,  0.75781957,  0.36551902,  0.16117167,\n",
       "        0.35675448,  0.46860957,  0.74823697,  0.93469779,  0.107024  ,\n",
       "        0.01197254,  0.35108752,  0.92713973,  0.48992898,  0.22016095,\n",
       "        0.50421926,  0.64832774,  0.25029525,  0.45037115,  0.34815425,\n",
       "        0.0672886 ,  0.0376444 ,  0.49120279,  0.23586715,  0.48852678,\n",
       "        0.82875351,  0.30896953,  0.72739395,  0.11667388,  0.2287049 ,\n",
       "        0.56429086,  0.86099195,  0.97258642,  0.20613438,  0.30824859,\n",
       "        0.74094307,  0.58642   ,  0.40275997,  0.88894719,  0.28266837,\n",
       "        0.57374634,  0.18497929,  0.75747645,  0.32715002,  0.19077793,\n",
       "        0.52052737,  0.71229869,  0.80072843,  0.84043432,  0.96214959,\n",
       "        0.15794213,  0.79449521,  0.79330325,  0.65107699,  0.53937026,\n",
       "        0.46815638,  0.29985448,  0.74121029,  0.35888462,  0.02762599,\n",
       "        0.24682752,  0.51184405,  0.41556429,  0.56918968,  0.35192489,\n",
       "        0.51092812,  0.51288707,  0.48276649,  0.05980727,  0.28911857,\n",
       "        0.38343017,  0.82334789,  0.14585769,  0.84168536,  0.04921094,\n",
       "        0.68714069,  0.65984018,  0.63232978,  0.7145604 ,  0.13047929,\n",
       "        0.39363855,  0.50755674,  0.80250508,  0.9672134 ,  0.00993279,\n",
       "        0.12452831,  0.35769371,  0.49096738,  0.6480682 ,  0.2288254 ,\n",
       "        0.99130148,  0.51738504,  0.8066141 ,  0.42725924,  0.03204714,\n",
       "        0.46594412,  0.7521216 ,  0.09145023,  0.26638211,  0.77803094])"
      ]
     },
     "execution_count": 4,
     "metadata": {},
     "output_type": "execute_result"
    }
   ],
   "source": [
    "rand(100)   # 0〜1の乱数を100個生成"
   ]
  },
  {
   "cell_type": "code",
   "execution_count": 5,
   "metadata": {
    "collapsed": false
   },
   "outputs": [
    {
     "data": {
      "text/plain": [
       "array([[ 0.45721352,  0.11162072,  0.20325181,  0.92015245,  0.57602236,\n",
       "         0.32212472,  0.69324879,  0.97041287,  0.67387812,  0.66174569],\n",
       "       [ 0.63897369,  0.37897843,  0.1190276 ,  0.50183865,  0.73894992,\n",
       "         0.94974366,  0.71202526,  0.31011676,  0.96814809,  0.4460588 ],\n",
       "       [ 0.05185187,  0.61732921,  0.05461425,  0.41434321,  0.36231954,\n",
       "         0.00383544,  0.637151  ,  0.93962668,  0.23251559,  0.5869633 ],\n",
       "       [ 0.85741817,  0.3578213 ,  0.90464621,  0.34416986,  0.33549496,\n",
       "         0.99889712,  0.79581554,  0.13039367,  0.96715188,  0.22964458],\n",
       "       [ 0.38957952,  0.96825879,  0.97530511,  0.75839664,  0.0285735 ,\n",
       "         0.27276606,  0.24900427,  0.20880609,  0.91777576,  0.77977424],\n",
       "       [ 0.86028675,  0.4819313 ,  0.90619334,  0.17598727,  0.27014243,\n",
       "         0.81992147,  0.41769805,  0.7600142 ,  0.31500007,  0.77869689],\n",
       "       [ 0.64311022,  0.86706437,  0.43934215,  0.28965345,  0.17364599,\n",
       "         0.93452925,  0.18082833,  0.84622105,  0.16744717,  0.77841033],\n",
       "       [ 0.14519241,  0.96625567,  0.14125686,  0.31546548,  0.00438654,\n",
       "         0.68661422,  0.35627963,  0.08070345,  0.08698443,  0.70302264],\n",
       "       [ 0.10687953,  0.61442811,  0.6576925 ,  0.41808598,  0.95738555,\n",
       "         0.91082006,  0.53914842,  0.91203454,  0.23438367,  0.22416393],\n",
       "       [ 0.91532856,  0.66487929,  0.73237527,  0.68303195,  0.16492929,\n",
       "         0.90956176,  0.60559099,  0.70515529,  0.20862307,  0.06154025]])"
      ]
     },
     "execution_count": 5,
     "metadata": {},
     "output_type": "execute_result"
    }
   ],
   "source": [
    "rand(10,10) # 0〜1の乱数で 10x10 の行列を生成"
   ]
  },
  {
   "cell_type": "code",
   "execution_count": 6,
   "metadata": {
    "collapsed": false,
    "scrolled": true
   },
   "outputs": [
    {
     "data": {
      "text/plain": [
       "array([ 67.93039244,  43.37662424,  30.38288872,  59.80822678,\n",
       "        43.13409743,  30.23714143,  39.28842969,  59.33103252,\n",
       "        33.40200976,  68.43100183,  69.73551339,  37.38112929,\n",
       "        61.21014663,  41.06734318,  59.94029891,  31.80619853,\n",
       "        52.89775403,  52.17002946,  38.69081598,  39.77543564,\n",
       "        38.003152  ,  46.11871022,  56.23671905,  67.88211307,\n",
       "        45.48924672,  58.06974423,  40.9305119 ,  56.98467326,\n",
       "        55.55709259,  51.79357986,  69.81052394,  56.13549718,\n",
       "        31.22534809,  54.05965086,  57.93588692,  42.50891643,\n",
       "        30.91946857,  39.13624579,  60.05816291,  39.90164062,\n",
       "        32.86721668,  66.91766724,  63.84067741,  36.64633424,\n",
       "        57.09147821,  63.68295668,  31.41488625,  40.1509328 ,\n",
       "        37.5760733 ,  57.44999963,  65.71516639,  61.25431486,\n",
       "        33.67236847,  46.69429025,  53.7780466 ,  42.06453945,\n",
       "        55.16067592,  32.1555222 ,  55.24603098,  56.55643954,\n",
       "        65.59324432,  58.46063801,  44.30355591,  49.03333192,\n",
       "        65.0397429 ,  59.37725824,  32.56905134,  60.24841669,\n",
       "        50.59765137,  46.81119172,  48.05939841,  52.80874036,\n",
       "        53.20463024,  31.44209511,  46.14381301,  68.15185231,\n",
       "        61.94246728,  38.59359219,  67.71215167,  36.91184831,\n",
       "        43.59435536,  46.39758951,  42.46345572,  68.97658962,\n",
       "        50.25742785,  62.83936183,  48.41835591,  67.98143112,\n",
       "        39.31319075,  59.08964316,  41.85569368,  52.51746805,\n",
       "        62.19288736,  68.38397698,  31.13219168,  67.50370868,\n",
       "        42.14239992,  34.68092942,  60.49381451,  49.09321885])"
      ]
     },
     "execution_count": 6,
     "metadata": {},
     "output_type": "execute_result"
    }
   ],
   "source": [
    "rand(100) * 40 + 30 # 30〜70の乱数を100個生成"
   ]
  },
  {
   "cell_type": "code",
   "execution_count": 7,
   "metadata": {
    "collapsed": false
   },
   "outputs": [
    {
     "data": {
      "image/png": "[encoded data removed]",
      "text/plain": [
       "<matplotlib.figure.Figure at 0x1060971d0>"
      ]
     },
     "metadata": {},
     "output_type": "display_data"
    }
   ],
   "source": [
    "R = rand(100)        # 標準正規分布で乱数を100個生成\n",
    "plt.hist(R, bins=20)   # 20本のヒストグラムを作成\n",
    "plt.show()    "
   ]
  },
  {
   "cell_type": "code",
   "execution_count": 8,
   "metadata": {
    "collapsed": false
   },
   "outputs": [
    {
     "data": {
      "image/png": "[encoded data removed]",
      "text/plain": [
       "<matplotlib.figure.Figure at 0x10474ec50>"
      ]
     },
     "metadata": {},
     "output_type": "display_data"
    }
   ],
   "source": [
    "R = rand(10000)        # 標準正規分布で乱数を10000個生成\n",
    "plt.hist(R, bins=20)   # 20本のヒストグラムを作成\n",
    "plt.show()    "
   ]
  },
  {
   "cell_type": "markdown",
   "metadata": {},
   "source": [
    "## 正規分布に従う乱数"
   ]
  },
  {
   "cell_type": "markdown",
   "metadata": {},
   "source": [
    "標準正規分布ならば randn() で、平均・分散を指定したい場合は normal() を用いる。"
   ]
  },
  {
   "cell_type": "code",
   "execution_count": 9,
   "metadata": {
    "collapsed": false
   },
   "outputs": [
    {
     "data": {
      "text/plain": [
       "-0.33067216883579464"
      ]
     },
     "execution_count": 9,
     "metadata": {},
     "output_type": "execute_result"
    }
   ],
   "source": [
    "randn()         # 標準正規分布 (平均0, 標準偏差1)"
   ]
  },
  {
   "cell_type": "code",
   "execution_count": 10,
   "metadata": {
    "collapsed": false
   },
   "outputs": [
    {
     "data": {
      "text/plain": [
       "array([ 0.10522194, -0.43385275, -0.62084705,  0.47295813,  1.03452852,\n",
       "       -0.97561118, -0.61392406,  1.76444702,  1.11315788, -0.74248541])"
      ]
     },
     "execution_count": 10,
     "metadata": {},
     "output_type": "execute_result"
    }
   ],
   "source": [
    "randn(10)       # 標準正規分布を10個生成"
   ]
  },
  {
   "cell_type": "code",
   "execution_count": 11,
   "metadata": {
    "collapsed": false
   },
   "outputs": [
    {
     "data": {
      "text/plain": [
       "array([[ 0.92036467, -1.54926361,  0.54318438,  0.68390761, -1.74830724,\n",
       "         0.07089737,  0.97687003, -1.41173504, -1.21473307, -1.19787858],\n",
       "       [-0.74295366, -1.72702539,  0.81204352,  0.65930302, -0.07173068,\n",
       "         0.18885009,  0.01673648, -0.35776028,  0.25205535,  0.33650719],\n",
       "       [ 0.45906452,  0.19894615,  1.70110388,  0.98169155,  0.17782372,\n",
       "        -1.57852914, -2.21837427, -1.38582104, -0.72917176,  0.24553257],\n",
       "       [ 0.47616247,  2.01925829,  1.05602223,  0.67575715,  1.50123765,\n",
       "        -0.97282228,  0.52557125, -0.04565249,  0.34457938, -1.45405227],\n",
       "       [-0.42861448, -1.26640351,  0.16390674,  0.9797599 ,  0.84639101,\n",
       "        -0.38840987,  0.47549008, -0.87012704,  0.41771691, -1.90776689],\n",
       "       [ 0.23845928, -0.63583185,  1.57737705, -1.06167248, -1.20238241,\n",
       "         0.28933532, -1.5895187 ,  1.06414818,  1.55141273, -0.89582927],\n",
       "       [ 0.82533742,  0.5057758 ,  0.25116507,  0.94961912, -0.49282642,\n",
       "         0.3833829 ,  0.19977185,  0.06116674, -0.54379776, -1.37570775],\n",
       "       [-0.76789773,  0.53568389,  0.68639822, -0.6212478 ,  1.22378625,\n",
       "         0.17824359,  0.36401039, -1.0358962 , -1.54381642,  0.88858322],\n",
       "       [-1.01071114,  1.3331603 , -1.263295  ,  1.38648884, -1.63784421,\n",
       "        -0.29083053,  0.81411151, -0.67166577,  0.77974891,  1.97696116],\n",
       "       [ 1.13035898, -1.30639274, -0.81682523,  0.49769997, -0.35827425,\n",
       "         1.93638142,  1.44754063,  1.12191139, -0.79378156,  1.4163888 ]])"
      ]
     },
     "execution_count": 11,
     "metadata": {},
     "output_type": "execute_result"
    }
   ],
   "source": [
    "randn(10,10)    # 標準正規分布による 10x10 の行列"
   ]
  },
  {
   "cell_type": "code",
   "execution_count": 12,
   "metadata": {
    "collapsed": false
   },
   "outputs": [
    {
     "data": {
      "text/plain": [
       "68.32098083023345"
      ]
     },
     "execution_count": 12,
     "metadata": {},
     "output_type": "execute_result"
    }
   ],
   "source": [
    "normal(50,10)   # 平均50、標準偏差10の正規分布"
   ]
  },
  {
   "cell_type": "code",
   "execution_count": 13,
   "metadata": {
    "collapsed": false
   },
   "outputs": [
    {
     "data": {
      "image/png": "[encoded data removed]",
      "text/plain": [
       "<matplotlib.figure.Figure at 0x1062d6b00>"
      ]
     },
     "metadata": {},
     "output_type": "display_data"
    }
   ],
   "source": [
    "R = randn(10000)        # 標準正規分布で乱数を10000個生成\n",
    "plt.hist(R, bins=20)   # 20本のヒストグラムを作成\n",
    "plt.show()   "
   ]
  },
  {
   "cell_type": "markdown",
   "metadata": {},
   "source": [
    "## 整数の乱数"
   ]
  },
  {
   "cell_type": "code",
   "execution_count": 14,
   "metadata": {
    "collapsed": false
   },
   "outputs": [
    {
     "data": {
      "text/plain": [
       "83"
      ]
     },
     "execution_count": 14,
     "metadata": {},
     "output_type": "execute_result"
    }
   ],
   "source": [
    "randint(100)            #  0〜99 の整数を1個生成"
   ]
  },
  {
   "cell_type": "code",
   "execution_count": 15,
   "metadata": {
    "collapsed": false
   },
   "outputs": [
    {
     "data": {
      "text/plain": [
       "51"
      ]
     },
     "execution_count": 15,
     "metadata": {},
     "output_type": "execute_result"
    }
   ],
   "source": [
    "randint(30,70)          # 30〜69 の整数を1個生成"
   ]
  },
  {
   "cell_type": "code",
   "execution_count": 16,
   "metadata": {
    "collapsed": false
   },
   "outputs": [
    {
     "data": {
      "text/plain": [
       "array([48, 41, 69, 71, 66, 61, 64, 96, 34, 44, 26, 67, 88, 46, 94, 69, 50,\n",
       "       28, 50, 47])"
      ]
     },
     "execution_count": 16,
     "metadata": {},
     "output_type": "execute_result"
    }
   ],
   "source": [
    "randint(0,100,20)       #  0〜99 の整数を20個生成"
   ]
  },
  {
   "cell_type": "code",
   "execution_count": 17,
   "metadata": {
    "collapsed": false
   },
   "outputs": [
    {
     "data": {
      "text/plain": [
       "array([[43, 88, 60, 17, 28],\n",
       "       [84, 13, 58, 58, 71],\n",
       "       [33, 20, 16, 56,  1],\n",
       "       [25, 16, 53, 37,  4],\n",
       "       [90, 25, 78, 18, 78]])"
      ]
     },
     "execution_count": 17,
     "metadata": {},
     "output_type": "execute_result"
    }
   ],
   "source": [
    "randint(0,100,(5,5))    #  0〜99 の整数で5x5の行列を生成"
   ]
  },
  {
   "cell_type": "code",
   "execution_count": null,
   "metadata": {
    "collapsed": true
   },
   "outputs": [],
   "source": []
  }
 ],
 "metadata": {
  "kernelspec": {
   "display_name": "Python 3",
   "language": "python",
   "name": "python3"
  },
  "language_info": {
   "codemirror_mode": {
    "name": "ipython",
    "version": 3
   },
   "file_extension": ".py",
   "mimetype": "text/x-python",
   "name": "python",
   "nbconvert_exporter": "python",
   "pygments_lexer": "ipython3",
   "version": "3.4.5"
  }
 },
 "nbformat": 4,
 "nbformat_minor": 2
}
