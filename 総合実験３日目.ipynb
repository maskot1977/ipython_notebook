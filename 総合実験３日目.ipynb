{
 "cells": [
  {
   "cell_type": "markdown",
   "metadata": {},
   "source": [
    "# 総合実験（３日目）"
   ]
  },
  {
   "cell_type": "markdown",
   "metadata": {},
   "source": [
    "## 〜 IPython Notebook (Jupyter Notebook)を使った多変量解析 〜"
   ]
  },
  {
   "cell_type": "markdown",
   "metadata": {},
   "source": [
    "### IPython Notebook とは\n",
    "* Python という名のプログラミング言語が使えるプログラミング環境。計算コードと計算結果を同じ場所に時系列で保存できるので、実験系における実験ノートのように、いつどんな処理を行って何を得たのか記録して再現するのに便利。\n",
    "* [Jupyter Notebook（IPython）のインストールと始め方](http://www.task-notes.com/entry/20151129/1448794509)\n",
    "* [小寺研究室](https://github.com/maskot1977/-/blob/master/L1%E3%82%BC%E3%83%9F2015%E5%B0%8F%E5%AF%BA%E7%A0%94%E7%A9%B6%E5%AE%A4.pptx.pdf) では、MacOSX上で右記のようにセットアップして使っています。> [環境構築](https://sites.google.com/site/masaakikotera/8-python/8-1-huan-jing-gou-zhu)"
   ]
  },
  {
   "cell_type": "markdown",
   "metadata": {},
   "source": [
    "### 前回の復習\n",
    "* 前回の内容を忘れてしまった人は[総合実験（２日目）](http://nbviewer.jupyter.org/github/maskot1977/ipython_notebook/blob/master/%E7%B7%8F%E5%90%88%E5%AE%9F%E9%A8%93%EF%BC%92%E6%97%A5%E7%9B%AE.ipynb) を見てください。"
   ]
  },
  {
   "cell_type": "markdown",
   "metadata": {},
   "source": [
    "### 本実習スタート\n",
    "* 本実習では多変量解析のうち主成分分析（PCA; Principal Component Analysis）を行ないます。\n",
    "   * 主成分分析を知らない人は、右記のリンク参照→ [10分でわかる主成分分析(PCA)](http://www.slideshare.net/takanoriogata1121/10pca-49324044) ・ [主成分分析](http://www.yasunaga-lab.bio.kyutech.ac.jp/EosJ/index.php/%E4%B8%BB%E6%88%90%E5%88%86%E5%88%86%E6%9E%90)\n",
    "* 各自の画面中の IPython Notebook のセルに順次入力して（コピペ可）、「Shift + Enter」してください。\n",
    "* 最後に、課題を解いてもらいます。課題の結果を、指定する方法で指定するメールアドレスまで送信してください。"
   ]
  },
  {
   "cell_type": "markdown",
   "metadata": {},
   "source": [
    "### まずは基本統計量を計算する関数の作成から"
   ]
  },
  {
   "cell_type": "code",
   "execution_count": 1,
   "metadata": {
    "collapsed": true
   },
   "outputs": [],
   "source": [
    "# 平均値を求める関数\n",
    "def average(data):\n",
    "    sum = 0.0\n",
    "    n = 0.0\n",
    "    for x in data:\n",
    "        sum += x\n",
    "        n += 1.0\n",
    "    return sum / n"
   ]
  },
  {
   "cell_type": "code",
   "execution_count": 2,
   "metadata": {
    "collapsed": true
   },
   "outputs": [],
   "source": [
    "# 分散を求める関数\n",
    "def dispersion(data):\n",
    "    ave = average(data)\n",
    "    accum = 0.0\n",
    "    n = 0.0\n",
    "    for x in data:\n",
    "        accum += (x - ave) ** 2.0\n",
    "        n += 1.0\n",
    "    return accum / n"
   ]
  },
  {
   "cell_type": "code",
   "execution_count": 3,
   "metadata": {
    "collapsed": true
   },
   "outputs": [],
   "source": [
    "# 標準偏差を求める関数\n",
    "import math\n",
    "standard_deviation = lambda data: math.sqrt(dispersion(data))"
   ]
  },
  {
   "cell_type": "code",
   "execution_count": 4,
   "metadata": {
    "collapsed": false
   },
   "outputs": [],
   "source": [
    "# リストの正規化をする（Z値に変換する）関数\n",
    "def normalize(data):\n",
    "    ave = average(data)\n",
    "    std = standard_deviation(data)\n",
    "    list = []\n",
    "    for x in data:\n",
    "        list.append((x - ave) / (std / float(len(data))))\n",
    "    return list"
   ]
  },
  {
   "cell_type": "code",
   "execution_count": 5,
   "metadata": {
    "collapsed": true
   },
   "outputs": [],
   "source": [
    "# リストのリストの正規化をする（Z値に変換する）関数\n",
    "def normalize2(data):\n",
    "    list = []\n",
    "    for x in data:\n",
    "        list.append(normalize(x))\n",
    "    return list"
   ]
  },
  {
   "cell_type": "markdown",
   "metadata": {},
   "source": [
    "### 計算に必要ないろんなライブラリのインポート"
   ]
  },
  {
   "cell_type": "code",
   "execution_count": 6,
   "metadata": {
    "collapsed": true
   },
   "outputs": [],
   "source": [
    "# 図やグラフを図示するためのライブラリをインポートする。\n",
    "import matplotlib.pyplot as plt\n",
    "%matplotlib inline"
   ]
  },
  {
   "cell_type": "code",
   "execution_count": 7,
   "metadata": {
    "collapsed": true
   },
   "outputs": [],
   "source": [
    "import pandas as pd # データフレームワーク処理のライブラリをインポート\n",
    "from pandas.tools import plotting # 高度なプロットを行うツールのインポート"
   ]
  },
  {
   "cell_type": "code",
   "execution_count": 8,
   "metadata": {
    "collapsed": true
   },
   "outputs": [],
   "source": [
    "import sklearn #機械学習のライブラリ\n",
    "from sklearn.decomposition import PCA #主成分分析器"
   ]
  },
  {
   "cell_type": "code",
   "execution_count": 9,
   "metadata": {
    "collapsed": true
   },
   "outputs": [],
   "source": [
    "import numpy as np #数値計算用ライブラリ"
   ]
  },
  {
   "cell_type": "code",
   "execution_count": 10,
   "metadata": {
    "collapsed": true
   },
   "outputs": [],
   "source": [
    "# URL によるリソースへのアクセスを提供するライブラリをインポートする。\n",
    "import urllib"
   ]
  },
  {
   "cell_type": "markdown",
   "metadata": {},
   "source": [
    "### 実データ解析開始\n",
    "* データをダウンロードし、まずはデータの全体像を把握します。"
   ]
  },
  {
   "cell_type": "code",
   "execution_count": 11,
   "metadata": {
    "collapsed": false
   },
   "outputs": [
    {
     "data": {
      "text/plain": [
       "('sake_dataJ.txt', <httplib.HTTPMessage instance at 0x1164e9ab8>)"
      ]
     },
     "execution_count": 11,
     "metadata": {},
     "output_type": "execute_result"
    }
   ],
   "source": [
    "# ウェブ上のリソースを指定する\n",
    "url = 'https://raw.githubusercontent.com/maskot1977/ipython_notebook/master/toydata/sake_dataJ.txt'\n",
    "# 指定したURLからリソースをダウンロードし、名前をつける。\n",
    "urllib.urlretrieve(url, 'sake_dataJ.txt')"
   ]
  },
  {
   "cell_type": "code",
   "execution_count": 12,
   "metadata": {
    "collapsed": false
   },
   "outputs": [
    {
     "data": {
      "text/html": [
       "<div>\n",
       "<table border=\"1\" class=\"dataframe\">\n",
       "  <thead>\n",
       "    <tr style=\"text-align: right;\">\n",
       "      <th></th>\n",
       "      <th>Pref</th>\n",
       "      <th>Sake</th>\n",
       "      <th>Shochu</th>\n",
       "      <th>Bear</th>\n",
       "      <th>Wine</th>\n",
       "      <th>Whisky</th>\n",
       "    </tr>\n",
       "  </thead>\n",
       "  <tbody>\n",
       "    <tr>\n",
       "      <th>0</th>\n",
       "      <td>Hokkaido</td>\n",
       "      <td>46476000</td>\n",
       "      <td>50642000</td>\n",
       "      <td>315300000</td>\n",
       "      <td>10488000</td>\n",
       "      <td>9749000</td>\n",
       "    </tr>\n",
       "    <tr>\n",
       "      <th>1</th>\n",
       "      <td>Aomori</td>\n",
       "      <td>17273000</td>\n",
       "      <td>11503000</td>\n",
       "      <td>83164000</td>\n",
       "      <td>1774000</td>\n",
       "      <td>3122000</td>\n",
       "    </tr>\n",
       "    <tr>\n",
       "      <th>2</th>\n",
       "      <td>Iwate</td>\n",
       "      <td>17120000</td>\n",
       "      <td>10220000</td>\n",
       "      <td>67803000</td>\n",
       "      <td>1458000</td>\n",
       "      <td>1870000</td>\n",
       "    </tr>\n",
       "    <tr>\n",
       "      <th>3</th>\n",
       "      <td>Miyagi</td>\n",
       "      <td>27859000</td>\n",
       "      <td>11768000</td>\n",
       "      <td>109850000</td>\n",
       "      <td>2824000</td>\n",
       "      <td>5049000</td>\n",
       "    </tr>\n",
       "    <tr>\n",
       "      <th>4</th>\n",
       "      <td>Akita</td>\n",
       "      <td>24153000</td>\n",
       "      <td>6240000</td>\n",
       "      <td>67894000</td>\n",
       "      <td>1242000</td>\n",
       "      <td>2099000</td>\n",
       "    </tr>\n",
       "  </tbody>\n",
       "</table>\n",
       "</div>"
      ],
      "text/plain": [
       "       Pref      Sake    Shochu       Bear      Wine   Whisky\n",
       "0  Hokkaido  46476000  50642000  315300000  10488000  9749000\n",
       "1    Aomori  17273000  11503000   83164000   1774000  3122000\n",
       "2     Iwate  17120000  10220000   67803000   1458000  1870000\n",
       "3    Miyagi  27859000  11768000  109850000   2824000  5049000\n",
       "4     Akita  24153000   6240000   67894000   1242000  2099000"
      ]
     },
     "execution_count": 12,
     "metadata": {},
     "output_type": "execute_result"
    }
   ],
   "source": [
    "df = pd.read_csv('sake_dataJ.txt', sep='\\t', na_values=\".\") # データの読み込み\n",
    "pd.DataFrame(df).head() # 先頭N行を表示する。カラムのタイトルも確認する。"
   ]
  },
  {
   "cell_type": "code",
   "execution_count": 13,
   "metadata": {
    "collapsed": false
   },
   "outputs": [
    {
     "data": {
      "image/png": "[encoded data removed]",
      "text/plain": [
       "<matplotlib.figure.Figure at 0x1164eee10>"
      ]
     },
     "metadata": {},
     "output_type": "display_data"
    }
   ],
   "source": [
    "# 下記の関数にカラム名を入力すれば、指定した全てのカラムのヒストグラムと散布図が表示されます。\n",
    "plotting.scatter_matrix(df[['Sake', 'Shochu', 'Bear', 'Wine', 'Whisky']], figsize=(10, 10)) \n",
    "plt.show()"
   ]
  },
  {
   "cell_type": "markdown",
   "metadata": {},
   "source": [
    "上図を「図1」と呼ぶことにします。課題1と4で、似たような図を作成してもらいます。"
   ]
  },
  {
   "cell_type": "markdown",
   "metadata": {},
   "source": [
    "### 主成分分析\n",
    "#### 行をエントリとし、列を説明変数とする場合。"
   ]
  },
  {
   "cell_type": "code",
   "execution_count": 14,
   "metadata": {
    "collapsed": false
   },
   "outputs": [],
   "source": [
    "# 表形式のデータを、PCAにかけられる形に整形する。\n",
    "# 行をエントリとし、列を説明変数とする場合。\n",
    "x_labels = []\n",
    "y_labels = []\n",
    "data1 = []\n",
    "for i, line in enumerate(open('sake_dataJ.txt')):\n",
    "    if i == 0:\n",
    "        a = line.strip().split(\"\\t\")\n",
    "        x_labels = []\n",
    "        for j, val in enumerate(a):\n",
    "            if j == 0:\n",
    "                continue\n",
    "            else:\n",
    "                x_labels.append(val)\n",
    "    else:\n",
    "        a = line.strip().split(\"\\t\")\n",
    "        b = []\n",
    "        for j, val in enumerate(a):\n",
    "            if j == 0:\n",
    "                y_labels.append(val)\n",
    "            else:\n",
    "                b.append(float(val))\n",
    "        data1.append(b)\n",
    "data1 = normalize2(data1)"
   ]
  },
  {
   "cell_type": "code",
   "execution_count": 15,
   "metadata": {
    "collapsed": false
   },
   "outputs": [
    {
     "data": {
      "text/plain": [
       "PCA(copy=True, n_components=None, whiten=False)"
      ]
     },
     "execution_count": 15,
     "metadata": {},
     "output_type": "execute_result"
    }
   ],
   "source": [
    "#主成分分析の実行\n",
    "pca = PCA()\n",
    "pca.fit(data1)"
   ]
  },
  {
   "cell_type": "code",
   "execution_count": 16,
   "metadata": {
    "collapsed": false
   },
   "outputs": [
    {
     "data": {
      "text/html": [
       "<div>\n",
       "<table border=\"1\" class=\"dataframe\">\n",
       "  <thead>\n",
       "    <tr style=\"text-align: right;\">\n",
       "      <th></th>\n",
       "      <th>Sake</th>\n",
       "      <th>Shochu</th>\n",
       "      <th>Bear</th>\n",
       "      <th>Wine</th>\n",
       "      <th>Whisky</th>\n",
       "    </tr>\n",
       "  </thead>\n",
       "  <tbody>\n",
       "    <tr>\n",
       "      <th>0</th>\n",
       "      <td>0.665066</td>\n",
       "      <td>-0.745030</td>\n",
       "      <td>0.020380</td>\n",
       "      <td>0.015191</td>\n",
       "      <td>0.044392</td>\n",
       "    </tr>\n",
       "    <tr>\n",
       "      <th>1</th>\n",
       "      <td>0.595199</td>\n",
       "      <td>0.492514</td>\n",
       "      <td>-0.291951</td>\n",
       "      <td>-0.423517</td>\n",
       "      <td>-0.372246</td>\n",
       "    </tr>\n",
       "    <tr>\n",
       "      <th>2</th>\n",
       "      <td>-0.033083</td>\n",
       "      <td>-0.000164</td>\n",
       "      <td>-0.030030</td>\n",
       "      <td>-0.674053</td>\n",
       "      <td>0.737331</td>\n",
       "    </tr>\n",
       "    <tr>\n",
       "      <th>3</th>\n",
       "      <td>0.048279</td>\n",
       "      <td>0.048577</td>\n",
       "      <td>-0.844658</td>\n",
       "      <td>0.407499</td>\n",
       "      <td>0.340303</td>\n",
       "    </tr>\n",
       "    <tr>\n",
       "      <th>4</th>\n",
       "      <td>0.447214</td>\n",
       "      <td>0.447214</td>\n",
       "      <td>0.447214</td>\n",
       "      <td>0.447214</td>\n",
       "      <td>0.447214</td>\n",
       "    </tr>\n",
       "  </tbody>\n",
       "</table>\n",
       "</div>"
      ],
      "text/plain": [
       "       Sake    Shochu      Bear      Wine    Whisky\n",
       "0  0.665066 -0.745030  0.020380  0.015191  0.044392\n",
       "1  0.595199  0.492514 -0.291951 -0.423517 -0.372246\n",
       "2 -0.033083 -0.000164 -0.030030 -0.674053  0.737331\n",
       "3  0.048279  0.048577 -0.844658  0.407499  0.340303\n",
       "4  0.447214  0.447214  0.447214  0.447214  0.447214"
      ]
     },
     "execution_count": 16,
     "metadata": {},
     "output_type": "execute_result"
    }
   ],
   "source": [
    "# 因子負荷量の確認。左から順に第一変数、第二変数、、、\n",
    "# 上から順に因子1、因子２、、、\n",
    "pd.DataFrame(list(pca.components_), columns=x_labels)"
   ]
  },
  {
   "cell_type": "code",
   "execution_count": 17,
   "metadata": {
    "collapsed": false
   },
   "outputs": [
    {
     "data": {
      "image/png": "[encoded data removed]",
      "text/plain": [
       "<matplotlib.figure.Figure at 0x11b6247d0>"
      ]
     },
     "metadata": {},
     "output_type": "display_data"
    }
   ],
   "source": [
    "# それぞれの因子にどの説明変数がどの程度用いられているか図示する\n",
    "plt.figure(figsize=(5, 5))\n",
    "for x, y, name in zip(pca.components_[0], pca.components_[1], x_labels):\n",
    "    plt.text(x, y, name, alpha=0.8, size=15)\n",
    "plt.scatter(pca.components_[0], pca.components_[1])\n",
    "plt.title(\"Factor loadings\")\n",
    "plt.xlabel(\"Factor 1\")\n",
    "plt.ylabel(\"Factor 2\")\n",
    "plt.show()"
   ]
  },
  {
   "cell_type": "code",
   "execution_count": 18,
   "metadata": {
    "collapsed": false
   },
   "outputs": [
    {
     "data": {
      "text/plain": [
       "[0.84883499643508986,\n",
       " 0.13109085939363213,\n",
       " 0.013441153902092553,\n",
       " 0.006632990269185365,\n",
       " 1.097158765092042e-31]"
      ]
     },
     "execution_count": 18,
     "metadata": {},
     "output_type": "execute_result"
    }
   ],
   "source": [
    "# 主成分に対する因子の寄与率を確認。左から順に第一主成分、第二主成分、、、\n",
    "list(pca.explained_variance_ratio_)"
   ]
  },
  {
   "cell_type": "code",
   "execution_count": 19,
   "metadata": {
    "collapsed": false
   },
   "outputs": [
    {
     "data": {
      "image/png": "[encoded data removed]",
      "text/plain": [
       "<matplotlib.figure.Figure at 0x11bc85710>"
      ]
     },
     "metadata": {},
     "output_type": "display_data"
    }
   ],
   "source": [
    "# 累積寄与率を図示する\n",
    "import matplotlib.ticker as ticker\n",
    "plt.gca().get_xaxis().set_major_locator(ticker.MaxNLocator(integer=True))\n",
    "plt.plot([0] + list( np.cumsum(pca.explained_variance_ratio_)), \"-o\")\n",
    "plt.xlabel(\"Number of principal components\")\n",
    "plt.ylabel(\"Cumulative contribution ratio\")\n",
    "plt.show()"
   ]
  },
  {
   "cell_type": "code",
   "execution_count": 20,
   "metadata": {
    "collapsed": false
   },
   "outputs": [],
   "source": [
    "# データを主成分空間に写像 = 次元圧縮\n",
    "feature = pca.transform(data1)"
   ]
  },
  {
   "cell_type": "code",
   "execution_count": 21,
   "metadata": {
    "collapsed": false
   },
   "outputs": [
    {
     "data": {
      "text/html": [
       "<div>\n",
       "<table border=\"1\" class=\"dataframe\">\n",
       "  <thead>\n",
       "    <tr style=\"text-align: right;\">\n",
       "      <th></th>\n",
       "      <th>0</th>\n",
       "      <th>1</th>\n",
       "      <th>2</th>\n",
       "      <th>3</th>\n",
       "      <th>4</th>\n",
       "    </tr>\n",
       "  </thead>\n",
       "  <tbody>\n",
       "    <tr>\n",
       "      <th>Hokkaido</th>\n",
       "      <td>-1.110409</td>\n",
       "      <td>-0.360847</td>\n",
       "      <td>-0.005956</td>\n",
       "      <td>-0.081387</td>\n",
       "      <td>-1.848328e-16</td>\n",
       "    </tr>\n",
       "    <tr>\n",
       "      <th>Aomori</th>\n",
       "      <td>-0.333849</td>\n",
       "      <td>0.009345</td>\n",
       "      <td>0.142182</td>\n",
       "      <td>-0.121610</td>\n",
       "      <td>-3.301751e-16</td>\n",
       "    </tr>\n",
       "    <tr>\n",
       "      <th>Iwate</th>\n",
       "      <td>-0.056292</td>\n",
       "      <td>0.503782</td>\n",
       "      <td>0.018778</td>\n",
       "      <td>-0.158425</td>\n",
       "      <td>-6.492096e-16</td>\n",
       "    </tr>\n",
       "    <tr>\n",
       "      <th>Miyagi</th>\n",
       "      <td>0.408308</td>\n",
       "      <td>0.103275</td>\n",
       "      <td>0.165782</td>\n",
       "      <td>-0.058181</td>\n",
       "      <td>-6.292635e-16</td>\n",
       "    </tr>\n",
       "    <tr>\n",
       "      <th>Akita</th>\n",
       "      <td>1.443781</td>\n",
       "      <td>0.962598</td>\n",
       "      <td>0.042480</td>\n",
       "      <td>0.048677</td>\n",
       "      <td>-3.417578e-16</td>\n",
       "    </tr>\n",
       "    <tr>\n",
       "      <th>Yamagata</th>\n",
       "      <td>1.231049</td>\n",
       "      <td>0.744283</td>\n",
       "      <td>0.052815</td>\n",
       "      <td>0.017058</td>\n",
       "      <td>-1.316482e-16</td>\n",
       "    </tr>\n",
       "    <tr>\n",
       "      <th>Fukushima</th>\n",
       "      <td>0.860825</td>\n",
       "      <td>0.674256</td>\n",
       "      <td>0.124998</td>\n",
       "      <td>-0.052539</td>\n",
       "      <td>-2.086859e-16</td>\n",
       "    </tr>\n",
       "    <tr>\n",
       "      <th>Ibaraki</th>\n",
       "      <td>0.068851</td>\n",
       "      <td>0.176213</td>\n",
       "      <td>0.015612</td>\n",
       "      <td>-0.105348</td>\n",
       "      <td>-4.502962e-16</td>\n",
       "    </tr>\n",
       "    <tr>\n",
       "      <th>Tochigi</th>\n",
       "      <td>-0.042050</td>\n",
       "      <td>0.188377</td>\n",
       "      <td>0.022389</td>\n",
       "      <td>-0.118697</td>\n",
       "      <td>-4.399736e-17</td>\n",
       "    </tr>\n",
       "    <tr>\n",
       "      <th>Gunma</th>\n",
       "      <td>-0.635379</td>\n",
       "      <td>0.424675</td>\n",
       "      <td>-0.061466</td>\n",
       "      <td>-0.186559</td>\n",
       "      <td>-5.561106e-16</td>\n",
       "    </tr>\n",
       "    <tr>\n",
       "      <th>Saitama</th>\n",
       "      <td>-0.701716</td>\n",
       "      <td>-0.169577</td>\n",
       "      <td>-0.010401</td>\n",
       "      <td>-0.107353</td>\n",
       "      <td>-1.087064e-16</td>\n",
       "    </tr>\n",
       "    <tr>\n",
       "      <th>Chiba</th>\n",
       "      <td>-0.615565</td>\n",
       "      <td>-0.209105</td>\n",
       "      <td>-0.018429</td>\n",
       "      <td>-0.096634</td>\n",
       "      <td>-7.202464e-16</td>\n",
       "    </tr>\n",
       "    <tr>\n",
       "      <th>Tokyo</th>\n",
       "      <td>-0.487767</td>\n",
       "      <td>-0.841145</td>\n",
       "      <td>-0.121137</td>\n",
       "      <td>0.043356</td>\n",
       "      <td>-7.148378e-16</td>\n",
       "    </tr>\n",
       "    <tr>\n",
       "      <th>Kanagawa</th>\n",
       "      <td>-0.645375</td>\n",
       "      <td>-0.484661</td>\n",
       "      <td>0.043345</td>\n",
       "      <td>-0.049275</td>\n",
       "      <td>-8.301455e-16</td>\n",
       "    </tr>\n",
       "    <tr>\n",
       "      <th>Niigata</th>\n",
       "      <td>2.266970</td>\n",
       "      <td>1.107016</td>\n",
       "      <td>-0.038925</td>\n",
       "      <td>0.271340</td>\n",
       "      <td>-7.217689e-16</td>\n",
       "    </tr>\n",
       "    <tr>\n",
       "      <th>Toyama</th>\n",
       "      <td>1.449565</td>\n",
       "      <td>0.205898</td>\n",
       "      <td>0.014282</td>\n",
       "      <td>0.128808</td>\n",
       "      <td>-2.186333e-17</td>\n",
       "    </tr>\n",
       "    <tr>\n",
       "      <th>Ishikawa</th>\n",
       "      <td>1.233966</td>\n",
       "      <td>-0.036312</td>\n",
       "      <td>0.013812</td>\n",
       "      <td>0.115745</td>\n",
       "      <td>-4.581391e-16</td>\n",
       "    </tr>\n",
       "    <tr>\n",
       "      <th>Fukui</th>\n",
       "      <td>0.949785</td>\n",
       "      <td>-0.276469</td>\n",
       "      <td>0.053900</td>\n",
       "      <td>0.097084</td>\n",
       "      <td>-4.603907e-16</td>\n",
       "    </tr>\n",
       "    <tr>\n",
       "      <th>Yamanashi</th>\n",
       "      <td>-0.498276</td>\n",
       "      <td>-0.141691</td>\n",
       "      <td>-0.971316</td>\n",
       "      <td>-0.018632</td>\n",
       "      <td>-5.392369e-16</td>\n",
       "    </tr>\n",
       "    <tr>\n",
       "      <th>Nagano</th>\n",
       "      <td>0.663382</td>\n",
       "      <td>0.499552</td>\n",
       "      <td>-0.184689</td>\n",
       "      <td>-0.054813</td>\n",
       "      <td>-4.997498e-16</td>\n",
       "    </tr>\n",
       "    <tr>\n",
       "      <th>Gifu</th>\n",
       "      <td>0.831055</td>\n",
       "      <td>-0.194526</td>\n",
       "      <td>0.005190</td>\n",
       "      <td>0.062385</td>\n",
       "      <td>-4.194302e-16</td>\n",
       "    </tr>\n",
       "    <tr>\n",
       "      <th>Shizuoka</th>\n",
       "      <td>-0.154502</td>\n",
       "      <td>0.047311</td>\n",
       "      <td>-0.024293</td>\n",
       "      <td>-0.106965</td>\n",
       "      <td>-4.391609e-16</td>\n",
       "    </tr>\n",
       "    <tr>\n",
       "      <th>Aichi</th>\n",
       "      <td>0.032203</td>\n",
       "      <td>-0.861350</td>\n",
       "      <td>0.024752</td>\n",
       "      <td>0.083958</td>\n",
       "      <td>-3.969445e-16</td>\n",
       "    </tr>\n",
       "    <tr>\n",
       "      <th>Mie</th>\n",
       "      <td>0.688121</td>\n",
       "      <td>-0.134592</td>\n",
       "      <td>0.041857</td>\n",
       "      <td>0.025899</td>\n",
       "      <td>-1.808552e-16</td>\n",
       "    </tr>\n",
       "    <tr>\n",
       "      <th>Shiga</th>\n",
       "      <td>0.976152</td>\n",
       "      <td>-0.043429</td>\n",
       "      <td>0.004308</td>\n",
       "      <td>0.064238</td>\n",
       "      <td>-8.465224e-16</td>\n",
       "    </tr>\n",
       "    <tr>\n",
       "      <th>Kyoto</th>\n",
       "      <td>0.399057</td>\n",
       "      <td>-0.759579</td>\n",
       "      <td>-0.001051</td>\n",
       "      <td>0.106776</td>\n",
       "      <td>-7.035925e-16</td>\n",
       "    </tr>\n",
       "    <tr>\n",
       "      <th>Osaka</th>\n",
       "      <td>-0.070228</td>\n",
       "      <td>-1.072591</td>\n",
       "      <td>0.053289</td>\n",
       "      <td>0.124451</td>\n",
       "      <td>-5.013381e-16</td>\n",
       "    </tr>\n",
       "    <tr>\n",
       "      <th>Hyogo</th>\n",
       "      <td>0.285716</td>\n",
       "      <td>-0.694121</td>\n",
       "      <td>0.046409</td>\n",
       "      <td>0.074852</td>\n",
       "      <td>-3.553832e-16</td>\n",
       "    </tr>\n",
       "    <tr>\n",
       "      <th>Nara</th>\n",
       "      <td>0.354718</td>\n",
       "      <td>-0.663109</td>\n",
       "      <td>0.020464</td>\n",
       "      <td>0.078267</td>\n",
       "      <td>-9.422215e-16</td>\n",
       "    </tr>\n",
       "    <tr>\n",
       "      <th>Wakayama</th>\n",
       "      <td>0.803013</td>\n",
       "      <td>-0.297697</td>\n",
       "      <td>0.065230</td>\n",
       "      <td>0.073463</td>\n",
       "      <td>-6.015682e-16</td>\n",
       "    </tr>\n",
       "    <tr>\n",
       "      <th>Tottori</th>\n",
       "      <td>1.122545</td>\n",
       "      <td>0.279755</td>\n",
       "      <td>0.028076</td>\n",
       "      <td>0.045588</td>\n",
       "      <td>-5.874166e-16</td>\n",
       "    </tr>\n",
       "    <tr>\n",
       "      <th>Shimane</th>\n",
       "      <td>1.079170</td>\n",
       "      <td>0.825695</td>\n",
       "      <td>-0.189601</td>\n",
       "      <td>-0.009561</td>\n",
       "      <td>-3.303743e-16</td>\n",
       "    </tr>\n",
       "    <tr>\n",
       "      <th>Okayama</th>\n",
       "      <td>0.552460</td>\n",
       "      <td>0.067643</td>\n",
       "      <td>0.022446</td>\n",
       "      <td>-0.027014</td>\n",
       "      <td>-5.810430e-16</td>\n",
       "    </tr>\n",
       "    <tr>\n",
       "      <th>Hiroshima</th>\n",
       "      <td>0.030436</td>\n",
       "      <td>-0.419868</td>\n",
       "      <td>0.024179</td>\n",
       "      <td>-0.011057</td>\n",
       "      <td>-1.522397e-16</td>\n",
       "    </tr>\n",
       "    <tr>\n",
       "      <th>Yamaguchi</th>\n",
       "      <td>-0.260092</td>\n",
       "      <td>-0.137450</td>\n",
       "      <td>0.073770</td>\n",
       "      <td>-0.090442</td>\n",
       "      <td>-1.754969e-16</td>\n",
       "    </tr>\n",
       "    <tr>\n",
       "      <th>Tokushima</th>\n",
       "      <td>0.601511</td>\n",
       "      <td>-0.179480</td>\n",
       "      <td>0.040923</td>\n",
       "      <td>0.019526</td>\n",
       "      <td>-7.212218e-17</td>\n",
       "    </tr>\n",
       "    <tr>\n",
       "      <th>Kagawa</th>\n",
       "      <td>0.489876</td>\n",
       "      <td>-0.310648</td>\n",
       "      <td>0.031411</td>\n",
       "      <td>0.026189</td>\n",
       "      <td>-1.727164e-16</td>\n",
       "    </tr>\n",
       "    <tr>\n",
       "      <th>Ehime</th>\n",
       "      <td>0.243787</td>\n",
       "      <td>-0.197108</td>\n",
       "      <td>0.034806</td>\n",
       "      <td>-0.027773</td>\n",
       "      <td>-4.798676e-16</td>\n",
       "    </tr>\n",
       "    <tr>\n",
       "      <th>Kochi</th>\n",
       "      <td>0.419732</td>\n",
       "      <td>-0.297082</td>\n",
       "      <td>0.072960</td>\n",
       "      <td>0.011976</td>\n",
       "      <td>-5.649252e-16</td>\n",
       "    </tr>\n",
       "    <tr>\n",
       "      <th>Fukuoka</th>\n",
       "      <td>-0.725140</td>\n",
       "      <td>-0.283917</td>\n",
       "      <td>0.034624</td>\n",
       "      <td>-0.090111</td>\n",
       "      <td>-2.988795e-16</td>\n",
       "    </tr>\n",
       "    <tr>\n",
       "      <th>Saga</th>\n",
       "      <td>0.469455</td>\n",
       "      <td>0.381240</td>\n",
       "      <td>-0.003591</td>\n",
       "      <td>-0.080336</td>\n",
       "      <td>-1.830035e-17</td>\n",
       "    </tr>\n",
       "    <tr>\n",
       "      <th>Nagasaki</th>\n",
       "      <td>-0.760055</td>\n",
       "      <td>0.067560</td>\n",
       "      <td>0.052436</td>\n",
       "      <td>-0.149444</td>\n",
       "      <td>-4.453860e-16</td>\n",
       "    </tr>\n",
       "    <tr>\n",
       "      <th>Kumamoto</th>\n",
       "      <td>-2.273080</td>\n",
       "      <td>-0.047393</td>\n",
       "      <td>0.017080</td>\n",
       "      <td>-0.075858</td>\n",
       "      <td>-1.269966e-16</td>\n",
       "    </tr>\n",
       "    <tr>\n",
       "      <th>Oita</th>\n",
       "      <td>-1.734213</td>\n",
       "      <td>0.448740</td>\n",
       "      <td>0.144752</td>\n",
       "      <td>-0.190635</td>\n",
       "      <td>-3.334187e-16</td>\n",
       "    </tr>\n",
       "    <tr>\n",
       "      <th>Miyazaki</th>\n",
       "      <td>-4.282241</td>\n",
       "      <td>0.738680</td>\n",
       "      <td>0.026392</td>\n",
       "      <td>0.226628</td>\n",
       "      <td>-3.211087e-17</td>\n",
       "    </tr>\n",
       "    <tr>\n",
       "      <th>Kagoshima</th>\n",
       "      <td>-4.569257</td>\n",
       "      <td>0.657853</td>\n",
       "      <td>0.055128</td>\n",
       "      <td>0.322384</td>\n",
       "      <td>1.821382e-16</td>\n",
       "    </tr>\n",
       "  </tbody>\n",
       "</table>\n",
       "</div>"
      ],
      "text/plain": [
       "                  0         1         2         3             4\n",
       "Hokkaido  -1.110409 -0.360847 -0.005956 -0.081387 -1.848328e-16\n",
       "Aomori    -0.333849  0.009345  0.142182 -0.121610 -3.301751e-16\n",
       "Iwate     -0.056292  0.503782  0.018778 -0.158425 -6.492096e-16\n",
       "Miyagi     0.408308  0.103275  0.165782 -0.058181 -6.292635e-16\n",
       "Akita      1.443781  0.962598  0.042480  0.048677 -3.417578e-16\n",
       "Yamagata   1.231049  0.744283  0.052815  0.017058 -1.316482e-16\n",
       "Fukushima  0.860825  0.674256  0.124998 -0.052539 -2.086859e-16\n",
       "Ibaraki    0.068851  0.176213  0.015612 -0.105348 -4.502962e-16\n",
       "Tochigi   -0.042050  0.188377  0.022389 -0.118697 -4.399736e-17\n",
       "Gunma     -0.635379  0.424675 -0.061466 -0.186559 -5.561106e-16\n",
       "Saitama   -0.701716 -0.169577 -0.010401 -0.107353 -1.087064e-16\n",
       "Chiba     -0.615565 -0.209105 -0.018429 -0.096634 -7.202464e-16\n",
       "Tokyo     -0.487767 -0.841145 -0.121137  0.043356 -7.148378e-16\n",
       "Kanagawa  -0.645375 -0.484661  0.043345 -0.049275 -8.301455e-16\n",
       "Niigata    2.266970  1.107016 -0.038925  0.271340 -7.217689e-16\n",
       "Toyama     1.449565  0.205898  0.014282  0.128808 -2.186333e-17\n",
       "Ishikawa   1.233966 -0.036312  0.013812  0.115745 -4.581391e-16\n",
       "Fukui      0.949785 -0.276469  0.053900  0.097084 -4.603907e-16\n",
       "Yamanashi -0.498276 -0.141691 -0.971316 -0.018632 -5.392369e-16\n",
       "Nagano     0.663382  0.499552 -0.184689 -0.054813 -4.997498e-16\n",
       "Gifu       0.831055 -0.194526  0.005190  0.062385 -4.194302e-16\n",
       "Shizuoka  -0.154502  0.047311 -0.024293 -0.106965 -4.391609e-16\n",
       "Aichi      0.032203 -0.861350  0.024752  0.083958 -3.969445e-16\n",
       "Mie        0.688121 -0.134592  0.041857  0.025899 -1.808552e-16\n",
       "Shiga      0.976152 -0.043429  0.004308  0.064238 -8.465224e-16\n",
       "Kyoto      0.399057 -0.759579 -0.001051  0.106776 -7.035925e-16\n",
       "Osaka     -0.070228 -1.072591  0.053289  0.124451 -5.013381e-16\n",
       "Hyogo      0.285716 -0.694121  0.046409  0.074852 -3.553832e-16\n",
       "Nara       0.354718 -0.663109  0.020464  0.078267 -9.422215e-16\n",
       "Wakayama   0.803013 -0.297697  0.065230  0.073463 -6.015682e-16\n",
       "Tottori    1.122545  0.279755  0.028076  0.045588 -5.874166e-16\n",
       "Shimane    1.079170  0.825695 -0.189601 -0.009561 -3.303743e-16\n",
       "Okayama    0.552460  0.067643  0.022446 -0.027014 -5.810430e-16\n",
       "Hiroshima  0.030436 -0.419868  0.024179 -0.011057 -1.522397e-16\n",
       "Yamaguchi -0.260092 -0.137450  0.073770 -0.090442 -1.754969e-16\n",
       "Tokushima  0.601511 -0.179480  0.040923  0.019526 -7.212218e-17\n",
       "Kagawa     0.489876 -0.310648  0.031411  0.026189 -1.727164e-16\n",
       "Ehime      0.243787 -0.197108  0.034806 -0.027773 -4.798676e-16\n",
       "Kochi      0.419732 -0.297082  0.072960  0.011976 -5.649252e-16\n",
       "Fukuoka   -0.725140 -0.283917  0.034624 -0.090111 -2.988795e-16\n",
       "Saga       0.469455  0.381240 -0.003591 -0.080336 -1.830035e-17\n",
       "Nagasaki  -0.760055  0.067560  0.052436 -0.149444 -4.453860e-16\n",
       "Kumamoto  -2.273080 -0.047393  0.017080 -0.075858 -1.269966e-16\n",
       "Oita      -1.734213  0.448740  0.144752 -0.190635 -3.334187e-16\n",
       "Miyazaki  -4.282241  0.738680  0.026392  0.226628 -3.211087e-17\n",
       "Kagoshima -4.569257  0.657853  0.055128  0.322384  1.821382e-16"
      ]
     },
     "execution_count": 21,
     "metadata": {},
     "output_type": "execute_result"
    }
   ],
   "source": [
    "# 次元圧縮後のデータ。左から順に第一主成分、第二主成分、、、\n",
    "pd.DataFrame(feature, index=y_labels)"
   ]
  },
  {
   "cell_type": "code",
   "execution_count": 22,
   "metadata": {
    "collapsed": false,
    "scrolled": true
   },
   "outputs": [
    {
     "data": {
      "image/png": "[encoded data removed]",
      "text/plain": [
       "<matplotlib.figure.Figure at 0x11bcaf610>"
      ]
     },
     "metadata": {},
     "output_type": "display_data"
    }
   ],
   "source": [
    "# 第一主成分と第二主成分でプロットする\n",
    "plt.figure(figsize=(10, 10))\n",
    "for x, y, name in zip(feature[:, 0], feature[:, 1], y_labels):\n",
    "    plt.text(x, y, name, alpha=0.8, size=15)\n",
    "plt.scatter(feature[:, 0], feature[:, 1], alpha=0.8)\n",
    "plt.title(\"Principal Component Analysis\")\n",
    "plt.xlabel(\"The first principal component score\")\n",
    "plt.ylabel(\"The second principal component score\")\n",
    "plt.show()"
   ]
  },
  {
   "cell_type": "markdown",
   "metadata": {},
   "source": [
    "上図を「図2」と呼ぶことにします。課題2と5で、似たような図を作成してもらいます。\n",
    "#### 列をエントリとし、行を説明変数とする場合。"
   ]
  },
  {
   "cell_type": "code",
   "execution_count": 23,
   "metadata": {
    "collapsed": false
   },
   "outputs": [],
   "source": [
    "# 表形式のデータを、PCAにかけられる形に整形する。\n",
    "# 列をエントリとし、行を説明変数とする場合。\n",
    "x_labels = []\n",
    "y_labels = []\n",
    "data2 = []\n",
    "for i, line in enumerate(open('sake_dataJ.txt')):\n",
    "    if i == 0:\n",
    "        a = line.strip().split(\"\\t\")\n",
    "        y_labels = []\n",
    "        for j, val in enumerate(a):\n",
    "            if j == 0:\n",
    "                continue\n",
    "            else:\n",
    "                y_labels.append(val)\n",
    "                data2.append([])\n",
    "    else:\n",
    "        a = line.strip().split(\"\\t\")\n",
    "        b = []\n",
    "        for j, val in enumerate(a):\n",
    "            if j == 0:\n",
    "                x_labels.append(val)\n",
    "            else:\n",
    "                data2[j - 1].append(float(val))\n",
    "data2 = normalize2(data2)"
   ]
  },
  {
   "cell_type": "code",
   "execution_count": 24,
   "metadata": {
    "collapsed": false
   },
   "outputs": [
    {
     "data": {
      "text/plain": [
       "PCA(copy=True, n_components=None, whiten=False)"
      ]
     },
     "execution_count": 24,
     "metadata": {},
     "output_type": "execute_result"
    }
   ],
   "source": [
    "#主成分分析の実行\n",
    "pca = PCA()\n",
    "pca.fit(data2)"
   ]
  },
  {
   "cell_type": "code",
   "execution_count": 25,
   "metadata": {
    "collapsed": false
   },
   "outputs": [
    {
     "data": {
      "text/html": [
       "<div>\n",
       "<table border=\"1\" class=\"dataframe\">\n",
       "  <thead>\n",
       "    <tr style=\"text-align: right;\">\n",
       "      <th></th>\n",
       "      <th>Hokkaido</th>\n",
       "      <th>Aomori</th>\n",
       "      <th>Iwate</th>\n",
       "      <th>Miyagi</th>\n",
       "      <th>Akita</th>\n",
       "      <th>Yamagata</th>\n",
       "      <th>Fukushima</th>\n",
       "      <th>Ibaraki</th>\n",
       "      <th>Tochigi</th>\n",
       "      <th>Gunma</th>\n",
       "      <th>...</th>\n",
       "      <th>Kagawa</th>\n",
       "      <th>Ehime</th>\n",
       "      <th>Kochi</th>\n",
       "      <th>Fukuoka</th>\n",
       "      <th>Saga</th>\n",
       "      <th>Nagasaki</th>\n",
       "      <th>Kumamoto</th>\n",
       "      <th>Oita</th>\n",
       "      <th>Miyazaki</th>\n",
       "      <th>Kagoshima</th>\n",
       "    </tr>\n",
       "  </thead>\n",
       "  <tbody>\n",
       "    <tr>\n",
       "      <th>0</th>\n",
       "      <td>0.275489</td>\n",
       "      <td>0.039741</td>\n",
       "      <td>0.037039</td>\n",
       "      <td>-0.039969</td>\n",
       "      <td>-0.059777</td>\n",
       "      <td>-0.040114</td>\n",
       "      <td>-0.055869</td>\n",
       "      <td>0.000841</td>\n",
       "      <td>0.022621</td>\n",
       "      <td>0.091066</td>\n",
       "      <td>...</td>\n",
       "      <td>-0.016326</td>\n",
       "      <td>-0.017543</td>\n",
       "      <td>-0.014956</td>\n",
       "      <td>0.128462</td>\n",
       "      <td>0.008461</td>\n",
       "      <td>0.076744</td>\n",
       "      <td>0.233482</td>\n",
       "      <td>0.136635</td>\n",
       "      <td>0.306588</td>\n",
       "      <td>0.432275</td>\n",
       "    </tr>\n",
       "    <tr>\n",
       "      <th>1</th>\n",
       "      <td>-0.116942</td>\n",
       "      <td>0.040067</td>\n",
       "      <td>0.022673</td>\n",
       "      <td>0.024537</td>\n",
       "      <td>-0.008161</td>\n",
       "      <td>0.062057</td>\n",
       "      <td>-0.066715</td>\n",
       "      <td>-0.093032</td>\n",
       "      <td>-0.003837</td>\n",
       "      <td>-0.024243</td>\n",
       "      <td>...</td>\n",
       "      <td>0.100946</td>\n",
       "      <td>0.024591</td>\n",
       "      <td>0.084554</td>\n",
       "      <td>-0.276205</td>\n",
       "      <td>0.068738</td>\n",
       "      <td>0.005495</td>\n",
       "      <td>-0.053999</td>\n",
       "      <td>0.027990</td>\n",
       "      <td>-0.025145</td>\n",
       "      <td>-0.120296</td>\n",
       "    </tr>\n",
       "    <tr>\n",
       "      <th>2</th>\n",
       "      <td>-0.046757</td>\n",
       "      <td>-0.028055</td>\n",
       "      <td>0.040584</td>\n",
       "      <td>0.060954</td>\n",
       "      <td>0.147034</td>\n",
       "      <td>0.100469</td>\n",
       "      <td>0.164137</td>\n",
       "      <td>0.094025</td>\n",
       "      <td>0.026149</td>\n",
       "      <td>0.056845</td>\n",
       "      <td>...</td>\n",
       "      <td>-0.050275</td>\n",
       "      <td>-0.029234</td>\n",
       "      <td>-0.057383</td>\n",
       "      <td>-0.037363</td>\n",
       "      <td>-0.007293</td>\n",
       "      <td>-0.041365</td>\n",
       "      <td>-0.130533</td>\n",
       "      <td>-0.056618</td>\n",
       "      <td>-0.114217</td>\n",
       "      <td>-0.159604</td>\n",
       "    </tr>\n",
       "    <tr>\n",
       "      <th>3</th>\n",
       "      <td>0.149324</td>\n",
       "      <td>0.223728</td>\n",
       "      <td>0.034813</td>\n",
       "      <td>0.428843</td>\n",
       "      <td>0.075589</td>\n",
       "      <td>0.152153</td>\n",
       "      <td>0.254214</td>\n",
       "      <td>-0.019647</td>\n",
       "      <td>-0.001778</td>\n",
       "      <td>-0.096611</td>\n",
       "      <td>...</td>\n",
       "      <td>-0.002780</td>\n",
       "      <td>-0.045749</td>\n",
       "      <td>0.013399</td>\n",
       "      <td>-0.059985</td>\n",
       "      <td>-0.036428</td>\n",
       "      <td>-0.002992</td>\n",
       "      <td>-0.148868</td>\n",
       "      <td>0.124259</td>\n",
       "      <td>-0.102680</td>\n",
       "      <td>-0.163846</td>\n",
       "    </tr>\n",
       "    <tr>\n",
       "      <th>4</th>\n",
       "      <td>-0.172858</td>\n",
       "      <td>-0.207267</td>\n",
       "      <td>-0.054197</td>\n",
       "      <td>-0.083138</td>\n",
       "      <td>-0.030749</td>\n",
       "      <td>0.071060</td>\n",
       "      <td>-0.057463</td>\n",
       "      <td>-0.006176</td>\n",
       "      <td>-0.013600</td>\n",
       "      <td>0.038431</td>\n",
       "      <td>...</td>\n",
       "      <td>-0.129569</td>\n",
       "      <td>0.279367</td>\n",
       "      <td>-0.017207</td>\n",
       "      <td>0.214137</td>\n",
       "      <td>-0.035018</td>\n",
       "      <td>-0.128023</td>\n",
       "      <td>-0.260437</td>\n",
       "      <td>-0.016798</td>\n",
       "      <td>0.032803</td>\n",
       "      <td>0.069383</td>\n",
       "    </tr>\n",
       "  </tbody>\n",
       "</table>\n",
       "<p>5 rows × 46 columns</p>\n",
       "</div>"
      ],
      "text/plain": [
       "   Hokkaido    Aomori     Iwate    Miyagi     Akita  Yamagata  Fukushima  \\\n",
       "0  0.275489  0.039741  0.037039 -0.039969 -0.059777 -0.040114  -0.055869   \n",
       "1 -0.116942  0.040067  0.022673  0.024537 -0.008161  0.062057  -0.066715   \n",
       "2 -0.046757 -0.028055  0.040584  0.060954  0.147034  0.100469   0.164137   \n",
       "3  0.149324  0.223728  0.034813  0.428843  0.075589  0.152153   0.254214   \n",
       "4 -0.172858 -0.207267 -0.054197 -0.083138 -0.030749  0.071060  -0.057463   \n",
       "\n",
       "    Ibaraki   Tochigi     Gunma    ...        Kagawa     Ehime     Kochi  \\\n",
       "0  0.000841  0.022621  0.091066    ...     -0.016326 -0.017543 -0.014956   \n",
       "1 -0.093032 -0.003837 -0.024243    ...      0.100946  0.024591  0.084554   \n",
       "2  0.094025  0.026149  0.056845    ...     -0.050275 -0.029234 -0.057383   \n",
       "3 -0.019647 -0.001778 -0.096611    ...     -0.002780 -0.045749  0.013399   \n",
       "4 -0.006176 -0.013600  0.038431    ...     -0.129569  0.279367 -0.017207   \n",
       "\n",
       "    Fukuoka      Saga  Nagasaki  Kumamoto      Oita  Miyazaki  Kagoshima  \n",
       "0  0.128462  0.008461  0.076744  0.233482  0.136635  0.306588   0.432275  \n",
       "1 -0.276205  0.068738  0.005495 -0.053999  0.027990 -0.025145  -0.120296  \n",
       "2 -0.037363 -0.007293 -0.041365 -0.130533 -0.056618 -0.114217  -0.159604  \n",
       "3 -0.059985 -0.036428 -0.002992 -0.148868  0.124259 -0.102680  -0.163846  \n",
       "4  0.214137 -0.035018 -0.128023 -0.260437 -0.016798  0.032803   0.069383  \n",
       "\n",
       "[5 rows x 46 columns]"
      ]
     },
     "execution_count": 25,
     "metadata": {},
     "output_type": "execute_result"
    }
   ],
   "source": [
    "# 因子負荷量の確認。左から順に第一変数、第二変数、、、\n",
    "# 上から順に因子1、因子２、、、\n",
    "pd.DataFrame(pca.components_, columns=x_labels)"
   ]
  },
  {
   "cell_type": "code",
   "execution_count": 26,
   "metadata": {
    "collapsed": false
   },
   "outputs": [
    {
     "data": {
      "image/png": "[encoded data removed]",
      "text/plain": [
       "<matplotlib.figure.Figure at 0x11c05bd90>"
      ]
     },
     "metadata": {},
     "output_type": "display_data"
    }
   ],
   "source": [
    "# それぞれの因子にどの説明変数がどの程度用いられているか図示する\n",
    "plt.figure(figsize=(5, 5))\n",
    "for x, y, name in zip(pca.components_[0], pca.components_[1], x_labels):\n",
    "    plt.text(x, y, name, alpha=0.8, size=10)\n",
    "plt.scatter(pca.components_[0], pca.components_[1])\n",
    "plt.title(\"Factor loadings\")\n",
    "plt.xlabel(\"Factor 1\")\n",
    "plt.ylabel(\"Factor 2\")\n",
    "plt.show()"
   ]
  },
  {
   "cell_type": "code",
   "execution_count": 27,
   "metadata": {
    "collapsed": false
   },
   "outputs": [
    {
     "data": {
      "text/plain": [
       "[0.65580254639595692,\n",
       " 0.22004551664752053,\n",
       " 0.089448901881823112,\n",
       " 0.034703035074699393,\n",
       " 1.962690226154014e-32]"
      ]
     },
     "execution_count": 27,
     "metadata": {},
     "output_type": "execute_result"
    }
   ],
   "source": [
    "# 主成分に対する因子の寄与率を確認。左から順に第一主成分、第二主成分、、、\n",
    "list(pca.explained_variance_ratio_)"
   ]
  },
  {
   "cell_type": "code",
   "execution_count": 28,
   "metadata": {
    "collapsed": false
   },
   "outputs": [
    {
     "data": {
      "image/png": "[encoded data removed]",
      "text/plain": [
       "<matplotlib.figure.Figure at 0x11b5f1f10>"
      ]
     },
     "metadata": {},
     "output_type": "display_data"
    }
   ],
   "source": [
    "# 累積寄与率を図示する\n",
    "import matplotlib.ticker as ticker\n",
    "plt.gca().get_xaxis().set_major_locator(ticker.MaxNLocator(integer=True))\n",
    "plt.plot([0] + list(np.cumsum(pca.explained_variance_ratio_)), \"-o\")\n",
    "plt.xlabel(\"Number of principal components\")\n",
    "plt.ylabel(\"Cumulative contribution ratio\")\n",
    "plt.show()"
   ]
  },
  {
   "cell_type": "code",
   "execution_count": 29,
   "metadata": {
    "collapsed": false
   },
   "outputs": [],
   "source": [
    "# データを主成分空間に写像 = 次元圧縮\n",
    "feature = pca.transform(data2)"
   ]
  },
  {
   "cell_type": "code",
   "execution_count": 30,
   "metadata": {
    "collapsed": false
   },
   "outputs": [
    {
     "data": {
      "text/html": [
       "<div>\n",
       "<table border=\"1\" class=\"dataframe\">\n",
       "  <thead>\n",
       "    <tr style=\"text-align: right;\">\n",
       "      <th></th>\n",
       "      <th>0</th>\n",
       "      <th>1</th>\n",
       "      <th>2</th>\n",
       "      <th>3</th>\n",
       "      <th>4</th>\n",
       "    </tr>\n",
       "  </thead>\n",
       "  <tbody>\n",
       "    <tr>\n",
       "      <th>Sake</th>\n",
       "      <td>-83.478816</td>\n",
       "      <td>-41.240646</td>\n",
       "      <td>38.205369</td>\n",
       "      <td>-3.137163</td>\n",
       "      <td>-9.606462e-15</td>\n",
       "    </tr>\n",
       "    <tr>\n",
       "      <th>Shochu</th>\n",
       "      <td>139.596385</td>\n",
       "      <td>-32.110658</td>\n",
       "      <td>6.807571</td>\n",
       "      <td>-1.155559</td>\n",
       "      <td>8.106997e-15</td>\n",
       "    </tr>\n",
       "    <tr>\n",
       "      <th>Bear</th>\n",
       "      <td>-42.598445</td>\n",
       "      <td>-23.181311</td>\n",
       "      <td>-46.321043</td>\n",
       "      <td>-14.139350</td>\n",
       "      <td>-1.285136e-13</td>\n",
       "    </tr>\n",
       "    <tr>\n",
       "      <th>Wine</th>\n",
       "      <td>5.375823</td>\n",
       "      <td>77.307076</td>\n",
       "      <td>11.970727</td>\n",
       "      <td>-14.610832</td>\n",
       "      <td>-1.034849e-13</td>\n",
       "    </tr>\n",
       "    <tr>\n",
       "      <th>Whisky</th>\n",
       "      <td>-18.894947</td>\n",
       "      <td>19.225538</td>\n",
       "      <td>-10.662626</td>\n",
       "      <td>33.042904</td>\n",
       "      <td>2.958189e-13</td>\n",
       "    </tr>\n",
       "  </tbody>\n",
       "</table>\n",
       "</div>"
      ],
      "text/plain": [
       "                 0          1          2          3             4\n",
       "Sake    -83.478816 -41.240646  38.205369  -3.137163 -9.606462e-15\n",
       "Shochu  139.596385 -32.110658   6.807571  -1.155559  8.106997e-15\n",
       "Bear    -42.598445 -23.181311 -46.321043 -14.139350 -1.285136e-13\n",
       "Wine      5.375823  77.307076  11.970727 -14.610832 -1.034849e-13\n",
       "Whisky  -18.894947  19.225538 -10.662626  33.042904  2.958189e-13"
      ]
     },
     "execution_count": 30,
     "metadata": {},
     "output_type": "execute_result"
    }
   ],
   "source": [
    "# 次元圧縮後のデータ。左から順に第一主成分、第二主成分、、、\n",
    "pd.DataFrame(feature, index=y_labels)"
   ]
  },
  {
   "cell_type": "code",
   "execution_count": 31,
   "metadata": {
    "collapsed": false
   },
   "outputs": [
    {
     "data": {
      "image/png": "[encoded data removed]",
      "text/plain": [
       "<matplotlib.figure.Figure at 0x11af93f90>"
      ]
     },
     "metadata": {},
     "output_type": "display_data"
    }
   ],
   "source": [
    "# 第一主成分と第二主成分でプロットする\n",
    "#plt.figure(figsize=(10, 10))\n",
    "for x, y, name in zip(feature[:, 0], feature[:, 1], y_labels):\n",
    "    plt.text(x, y, name, alpha=0.8, size=15)\n",
    "plt.scatter(feature[:, 0], feature[:, 1], alpha=0.8)\n",
    "plt.show()"
   ]
  },
  {
   "cell_type": "markdown",
   "metadata": {},
   "source": [
    "上図を「図3」と呼ぶことにします。課題3で、似たような図を作成してもらいます。"
   ]
  },
  {
   "cell_type": "markdown",
   "metadata": {
    "collapsed": true
   },
   "source": [
    "----------\n",
    "## 課題\n",
    "新しいノートを開いて、以下の課題を解いてください。"
   ]
  },
  {
   "cell_type": "markdown",
   "metadata": {
    "collapsed": true
   },
   "source": [
    "* __課題1__：下記リンクのデータを用い、図1のようなヒストグラムと散布図を描いてください。\n",
    "   * https://raw.githubusercontent.com/maskot1977/ipython_notebook/master/toydata/sports_dataJt.txt\n",
    "   \n",
    "   ここでは、以下の列を使います。\n",
    "       * 'Student' : 学生のID番号\n",
    "       * '50mRun' : 50m走\n",
    "       * 'longjump': 走り幅跳び\n",
    "       * 'handball': ハンドボール投げ\n",
    "       * 'chinning': 懸垂\n",
    "       * 'sidestep': 反復横跳び\n",
    "       * 'vertump': 垂直跳び\n",
    "       * 'back': 背筋力\n",
    "       * 'grip': 握力（両手平均）\n",
    "       * 'backward': 上体そらし\n",
    "       * 'forward' : 立位体前屈\n",
    "       * 'stepping': 踏み台昇降"
   ]
  },
  {
   "cell_type": "markdown",
   "metadata": {},
   "source": [
    "* __課題２__：上記データの主成分分析を行ない、図2のような散布図を作成し、特徴的な成績を残している学生のIDを述べてください。また、その特徴についても考察してください。"
   ]
  },
  {
   "cell_type": "markdown",
   "metadata": {},
   "source": [
    "* __課題３__：同様に、上記データの主成分分析を行ない、図３のような散布図を作成し、各項目（50m走など）間の関係について考察してください。"
   ]
  },
  {
   "cell_type": "markdown",
   "metadata": {},
   "source": [
    "* __課題４__：下記リンクのデータを用い、図1のようなヒストグラムと散布図を描いてください。\n",
    "   * https://raw.githubusercontent.com/maskot1977/ipython_notebook/master/toydata/sbnote_dataJt.txt\n",
    "   \n",
    "      ここでは、以下の列を使います。\n",
    "       * 'Note' : スイスフラン紙幣のID番号\n",
    "       * 'length' : 横幅長\n",
    "       * 'left': 左縦幅長\n",
    "       * 'right': 右縦幅長\n",
    "       * 'bottom': 下枠内長\n",
    "       * 'top': 上枠内長\n",
    "       * 'diagonal': 対角長"
   ]
  },
  {
   "cell_type": "markdown",
   "metadata": {
    "collapsed": false
   },
   "source": [
    "* __課題５__：上記データの主成分分析を行ない、図2のような散布図を作成し、分布の特徴について考察してください。"
   ]
  },
  {
   "cell_type": "markdown",
   "metadata": {},
   "source": [
    "以上の結果を [自分の氏名].ipynb ファイルとして保存し、指定したアドレスまでメールしてください。メールタイトルは「総合実験3日目」とし、メール本文に学籍番号と氏名を明記のこと。"
   ]
  },
  {
   "cell_type": "code",
   "execution_count": null,
   "metadata": {
    "collapsed": true
   },
   "outputs": [],
   "source": []
  }
 ],
 "metadata": {
  "kernelspec": {
   "display_name": "Python 2",
   "language": "python",
   "name": "python2"
  },
  "language_info": {
   "codemirror_mode": {
    "name": "ipython",
    "version": 2
   },
   "file_extension": ".py",
   "mimetype": "text/x-python",
   "name": "python",
   "nbconvert_exporter": "python",
   "pygments_lexer": "ipython2",
   "version": "2.7.11"
  }
 },
 "nbformat": 4,
 "nbformat_minor": 0
}
