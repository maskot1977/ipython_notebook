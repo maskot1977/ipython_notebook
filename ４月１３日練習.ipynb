{
 "cells": [
  {
   "cell_type": "code",
   "execution_count": 5,
   "metadata": {
    "collapsed": true
   },
   "outputs": [],
   "source": [
    "fn = '/Users/kot/ipython_notebook/work/kegpep2ec_kegpep2ec_sw.txt'"
   ]
  },
  {
   "cell_type": "code",
   "execution_count": 6,
   "metadata": {
    "collapsed": false
   },
   "outputs": [
    {
     "data": {
      "text/plain": [
       "3594418"
      ]
     },
     "execution_count": 6,
     "metadata": {},
     "output_type": "execute_result"
    }
   ],
   "source": [
    "sum(1 for line in open(fn))"
   ]
  },
  {
   "cell_type": "code",
   "execution_count": 7,
   "metadata": {
    "collapsed": false,
    "scrolled": true
   },
   "outputs": [
    {
     "name": "stdout",
     "output_type": "stream",
     "text": [
      "(0, '>>>EC:2.5.1.18;hsa:2952\\n')\n",
      "(1, 'EC:2.5.1.18;hsa:2952\\t1605\\t382.5\\n')\n",
      "(2, 'EC:2.5.1.18;hsa:2953\\t834\\t201.7\\n')\n",
      "(3, 'EC:4.5.1.3;phu:Phum_PHUM454040\\t556\\t136.5\\n')\n",
      "(4, 'EC:2.5.1.18_4.5.1.3;mdi:METDI2656\\t302\\t76.9\\n')\n",
      "(5, 'EC:1.11.1.9_2.5.1.18;dme:Dmel_CG4421\\t289\\t73.9\\n')\n",
      "(6, 'EC:2.5.1.18_4.5.1.1;dme:Dmel_CG10045\\t265\\t68.2\\n')\n",
      "(7, 'EC:1.11.1.9_2.5.1.18;dme:Dmel_CG4181\\t264\\t68.0\\n')\n",
      "(8, 'EC:5.2.1.2;rcu:RCOM_1299540\\t220\\t57.7\\n')\n",
      "(9, 'EC:1.11.1.-_1.8.4.-;rir:BN877_II1582\\t187\\t50.0\\n')\n",
      "(10, 'EC:2.5.1.18;ecc:c2027\\t181\\t48.5\\n')\n",
      "(11, 'EC:2.5.1.18;ecp:ECP_1580\\t181\\t48.5\\n')\n",
      "(12, 'EC:2.5.1.18;eco:b1635\\t179\\t48.1\\n')\n",
      "(13, 'EC:2.5.1.18_5.2.1.2;rno:681913\\t177\\t47.6\\n')\n",
      "(14, 'EC:2.5.1.18_5.2.1.2;dme:Dmel_CG9363\\t171\\t46.2\\n')\n",
      "(15, 'EC:1.11.1.-_1.8.4.-;lfa:LFA_0041\\t169\\t45.7\\n')\n",
      "(16, 'EC:2.5.1.18_5.2.1.2;dme:Dmel_CG9362\\t163\\t44.3\\n')\n",
      "(17, 'EC:5.2.1.4;reh:H16_B0875\\t161\\t43.9\\n')\n",
      "(18, 'EC:2.5.1.18_5.2.1.2;ctu:CTU_14400\\t160\\t43.6\\n')\n",
      "(19, 'EC:5.2.1.4;azo:azo2423\\t159\\t43.4\\n')\n",
      "(20, 'EC:5.2.1.2;isc:IscW_ISCW022054\\t157\\t42.9\\n')\n",
      "(21, 'EC:1.8.4.-_1.11.1.-;srl:SOD_c14080\\t157\\t42.9\\n')\n",
      "(22, 'EC:5.2.1.2;phu:Phum_PHUM236630\\t154\\t42.2\\n')\n",
      "(23, 'EC:5.2.1.2;isc:IscW_ISCW023198\\t152\\t41.8\\n')\n",
      "(24, 'EC:1.8.4.-_1.11.1.-;srl:SOD_c32360\\t149\\t41.0\\n')\n",
      "(25, 'EC:2.5.1.18_5.2.1.2;smz:SMD_0520\\t149\\t41.0\\n')\n",
      "(26, 'EC:2.5.1.18_5.2.1.2;yph:YPC_2877\\t142\\t39.4\\n')\n",
      "(27, 'EC:5.2.1.2_2.5.1.18;ecoh:ECRM13516_3725\\t127\\t35.9\\n')\n",
      "(28, 'EC:5.2.1.2_2.5.1.18;ecoo:ECRM13514_5373\\t127\\t35.9\\n')\n",
      "(29, 'EC:5.2.1.2;ecw:EcE24377A_2431\\t126\\t35.7\\n')\n",
      "(30, 'EC:1.11.1.9_1.8.4.-;sce:YNL229C\\t129\\t36.4\\n')\n",
      "(31, 'EC:5.2.1.4;azo:azo3676\\t125\\t35.4\\n')\n",
      "(32, 'EC:5.2.1.2_2.5.1.18;vcj:VCD_002992\\t125\\t35.4\\n')\n",
      "(33, 'EC:1.8.5.1;gmx:732557\\t121\\t34.5\\n')\n",
      "(34, 'EC:2.5.1.18_5.2.1.2;vvm:VVMO6_01720\\t114\\t32.8\\n')\n",
      "(35, 'EC:1.8.5.1;mdm:103433463\\t111\\t32.1\\n')\n",
      "(36, 'EC:2.5.1.18_5.2.1.2;mmu:14874\\t108\\t31.4\\n')\n",
      "(37, 'EC:5.2.1.4;bxe:Bxe_A4524\\t109\\t31.7\\n')\n",
      "(38, 'EC:1.5.4.1_1.8.5.1_2.5.1.18_2.8.-.-;dme:Dmel_CG677\\t107\\t31.2\\n')\n",
      "(39, 'EC:1.8.5.1;sly:778229\\t106\\t31.0\\n')\n",
      "(40, 'EC:2.5.1.18;hsa:2950\\t106\\t31.0\\n')\n",
      "(41, 'EC:2.5.1.18_5.2.1.2;ear:ST548_p7958\\t106\\t31.0\\n')\n",
      "(42, 'EC:5.2.1.2;sea:SeAg_B2322\\t105\\t30.7\\n')\n",
      "(43, 'EC:5.2.1.2;see:SNSL254_A2366\\t105\\t30.7\\n')\n",
      "(44, 'EC:5.2.1.2_2.5.1.18;vph:VPUCM_1872\\t105\\t30.7\\n')\n",
      "(45, 'EC:1.8.5.1;sly:778343\\t106\\t31.0\\n')\n",
      "(46, 'EC:6.1.1.10;mcc:714744\\t113\\t32.7\\n')\n",
      "(47, 'EC:6.1.1.10;hsa:4141\\t113\\t32.7\\n')\n",
      "(48, 'EC:1.5.4.1_1.8.5.1_2.5.1.18_2.8.-.-;dme:Dmel_CG667\\t104\\t30.5\\n')\n",
      "(49, 'EC:5.2.1.2;seh:SeHA_C2411\\t102\\t30.0\\n')\n",
      "(50, 'EC:5.2.1.2_2.5.1.18;shb:SU5_02768\\t102\\t30.0\\n')\n",
      "(51, 'EC:1.5.4.1_1.8.5.1_2.5.1.18_2.8.-.-;dme:Dmel_CG666\\t102\\t30.0\\n')\n",
      "(52, 'EC:2.5.1.18_5.3.99.2;hsa:27306\\t98\\t29.1\\n')\n",
      "(53, 'EC:2.5.1.87;hsa:79947\\t99\\t29.3\\n')\n",
      "(54, 'EC:2.5.1.18_5.3.99.2;mmu:54486\\t96\\t28.6\\n')\n",
      "(55, 'EC:2.5.1.18_5.2.1.2;hsa:2954\\t93\\t27.9\\n')\n",
      "(56, 'EC:2.7.7.7;hsa:5428\\t104\\t30.6\\n')\n",
      "(57, 'EC:6.1.1.10;mmu:216443\\t102\\t30.1\\n')\n",
      "(58, 'EC:5.2.1.2;isc:IscW_ISCW003436\\t92\\t27.7\\n')\n",
      "(59, 'EC:1.3.7.-;anb:ANA_C20740\\t93\\t27.9\\n')\n",
      "(60, 'EC:2.7.1.-_2.7.1.47;kpa:KPNJ1_01812\\t97\\t28.9\\n')\n",
      "(61, 'EC:2.7.1.-_2.7.1.47;kps:KPNJ2_01779\\t97\\t28.9\\n')\n",
      "(62, 'EC:3.4.22.59;rno:83584\\t93\\t27.9\\n')\n",
      "(63, 'EC:5.2.1.2;sew:SeSA_A2415\\t91\\t27.4\\n')\n",
      "(64, '>>>EC:5.2.1.8;hsa:653598\\n')\n",
      "(65, 'EC:5.2.1.8;hsa:653598\\t1114\\t288.3\\n')\n",
      "(66, 'EC:5.2.1.8;hsa:644591\\t1099\\t284.5\\n')\n",
      "(67, 'EC:5.2.1.8;hsa:645142\\t1087\\t281.4\\n')\n",
      "(68, 'EC:5.2.1.8_1.6.5.3;fca:493966\\t972\\t252.3\\n')\n",
      "(69, 'EC:2.7.1.-_5.2.1.8;dme:Dmel_CG9916\\t748\\t195.4\\n')\n",
      "(70, 'EC:5.2.1.8;hsa:9360\\t480\\t127.3\\n')\n",
      "(71, 'EC:5.2.1.8_6.3.2.19;dme:Dmel_CG7747\\t359\\t96.6\\n')\n",
      "(72, 'EC:3.1.3.-_5.2.1.8;lcw:BN194_08960\\t304\\t82.8\\n')\n",
      "(73, 'EC:5.2.1.-;acl:ACL_0801\\t225\\t62.7\\n')\n",
      "(74, 'EC:5.2.1.8;eco:b0525\\t192\\t54.4\\n')\n",
      "(75, 'EC:3.1.3.11_5.2.1.8;tet:TTHERM_01018330\\t195\\t55.0\\n')\n",
      "(76, 'EC:1.2.1.18_1.2.1.27;xct:J151_01456\\t99\\t30.7\\n')\n",
      "(77, 'EC:3.4.21.84_2.7.10.1;isc:IscW_ISCW011066\\t101\\t31.1\\n')\n",
      "(78, 'EC:5.1.3.5;rcu:RCOM_0673220\\t90\\t28.4\\n')\n",
      "(79, 'EC:3.1.3.19_3.1.3.25;kps:KPNJ2_01441\\t88\\t27.9\\n')\n",
      "(80, 'EC:3.1.3.19_3.1.3.25;kpa:KPNJ1_01417\\t88\\t27.9\\n')\n",
      "(81, 'EC:6.3.5.2_6.3.1.5;isc:IscW_ISCW018543\\t92\\t28.9\\n')\n",
      "(82, 'EC:1.97.-.-_1.4.1.14_1.4.1.13;bfi:CIY_15730\\t89\\t28.1\\n')\n",
      "(83, 'EC:2.7.1.12;eco:b3437\\t83\\t26.7\\n')\n",
      "(84, 'EC:2.7.1.12;ecs:ECs4286\\t83\\t26.7\\n')\n",
      "(85, 'EC:2.7.1.12;ece:Z4805\\t83\\t26.7\\n')\n",
      "(86, 'EC:2.7.1.12;elr:ECO55CA74_19780\\t83\\t26.7\\n')\n",
      "(87, '>>>EC:3.5.3.15;hsa:353238\\n')\n",
      "(88, 'EC:3.5.3.15;hsa:353238\\t4691\\t1082.6\\n')\n",
      "(89, 'EC:3.5.3.15;hsa:23569\\t2048\\t476.1\\n')\n",
      "(90, 'EC:3.5.3.15;hsa:29943\\t1935\\t450.2\\n')\n",
      "(91, 'EC:3.5.3.15;hsa:51702\\t1924\\t447.7\\n')\n",
      "(92, 'EC:3.5.3.15;hsa:11240\\t1851\\t430.9\\n')\n",
      "(93, 'EC:3.5.3.15;cyp:PCC8801_2126\\t1294\\t303.1\\n')\n",
      "(94, 'EC:3.5.3.15;cyh:Cyan8802_2173\\t1286\\t301.3\\n')\n",
      "(95, 'EC:3.5.3.15;cyc:PCC7424_4763\\t1249\\t292.8\\n')\n",
      "(96, 'EC:4.4.1.8;sce:YGL184C\\t117\\t33.2\\n')\n",
      "(97, 'EC:1.2.4.-;dpo:Dpse_GA20891\\t114\\t32.5\\n')\n",
      "(98, 'EC:6.6.1.1_6.6.1.2;pmg:P9301_03121\\t113\\t32.1\\n')\n",
      "(99, 'EC:2.7.12.2;llo:LLO_1682\\t107\\t30.8\\n')\n",
      "(100, 'EC:6.6.1.1_6.6.1.2;pmb:A9601_03111\\t108\\t31.0\\n')\n",
      "(101, '>>>EC:2.7.1.22_2.7.1.173;hsa:27231\\n')\n"
     ]
    }
   ],
   "source": [
    "for i, line in enumerate(open(fn)):\n",
    "    print (i, line)\n",
    "    if i > 100:\n",
    "        break"
   ]
  },
  {
   "cell_type": "code",
   "execution_count": 8,
   "metadata": {
    "collapsed": false
   },
   "outputs": [
    {
     "name": "stdout",
     "output_type": "stream",
     "text": [
      "(0, '>>>EC:2.5.1.18;hsa:2952\\n')\n",
      "(64, '>>>EC:5.2.1.8;hsa:653598\\n')\n",
      "(87, '>>>EC:3.5.3.15;hsa:353238\\n')\n",
      "(101, '>>>EC:2.7.1.22_2.7.1.173;hsa:27231\\n')\n"
     ]
    }
   ],
   "source": [
    "import re\n",
    "pattern = re.compile(r\"^>>>\")\n",
    "for i, line in enumerate(open(fn)):\n",
    "    if pattern.match(line):\n",
    "        print (i, line)\n",
    "    if i > 100:\n",
    "        break"
   ]
  },
  {
   "cell_type": "code",
   "execution_count": 9,
   "metadata": {
    "collapsed": false
   },
   "outputs": [
    {
     "name": "stdout",
     "output_type": "stream",
     "text": [
      "(0, '>>>EC:2.5.1.18;hsa:2952')\n",
      "(64, '>>>EC:5.2.1.8;hsa:653598')\n",
      "(87, '>>>EC:3.5.3.15;hsa:353238')\n",
      "(101, '>>>EC:2.7.1.22_2.7.1.173;hsa:27231')\n"
     ]
    }
   ],
   "source": [
    "import re\n",
    "pattern = re.compile(r\"^>>>\")\n",
    "for i, line in enumerate(open(fn)):\n",
    "    if pattern.match(line):\n",
    "        print (i, line.strip())\n",
    "    if i > 100:\n",
    "        break"
   ]
  },
  {
   "cell_type": "code",
   "execution_count": 10,
   "metadata": {
    "collapsed": false
   },
   "outputs": [
    {
     "name": "stdout",
     "output_type": "stream",
     "text": [
      "(0, 'EC:2.5.1.18;hsa:2952')\n",
      "(64, 'EC:5.2.1.8;hsa:653598')\n",
      "(87, 'EC:3.5.3.15;hsa:353238')\n",
      "(101, 'EC:2.7.1.22_2.7.1.173;hsa:27231')\n"
     ]
    }
   ],
   "source": [
    "import re\n",
    "pattern = re.compile(r\"^>>>\")\n",
    "for i, line in enumerate(open(fn)):\n",
    "    if pattern.match(line):\n",
    "        print (i, line.strip().replace('>>>', ''))\n",
    "    if i > 100:\n",
    "        break"
   ]
  },
  {
   "cell_type": "code",
   "execution_count": 11,
   "metadata": {
    "collapsed": false
   },
   "outputs": [
    {
     "name": "stdout",
     "output_type": "stream",
     "text": [
      "(0, ['EC:2.5.1.18', 'hsa:2952'])\n",
      "(64, ['EC:5.2.1.8', 'hsa:653598'])\n",
      "(87, ['EC:3.5.3.15', 'hsa:353238'])\n",
      "(101, ['EC:2.7.1.22_2.7.1.173', 'hsa:27231'])\n"
     ]
    }
   ],
   "source": [
    "import re\n",
    "pattern = re.compile(r\"^>>>\")\n",
    "for i, line in enumerate(open(fn)):\n",
    "    if pattern.match(line):\n",
    "        print (i, line.strip().replace('>>>', '').split(';'))\n",
    "    if i > 100:\n",
    "        break"
   ]
  },
  {
   "cell_type": "code",
   "execution_count": 12,
   "metadata": {
    "collapsed": false
   },
   "outputs": [
    {
     "name": "stdout",
     "output_type": "stream",
     "text": [
      "('EC:2.5.1.18', 'hsa:2952')\n",
      "('EC:5.2.1.8', 'hsa:653598')\n",
      "('EC:3.5.3.15', 'hsa:353238')\n",
      "('EC:2.7.1.22_2.7.1.173', 'hsa:27231')\n"
     ]
    }
   ],
   "source": [
    "import re\n",
    "pattern = re.compile(r\"^>>>\")\n",
    "for i, line in enumerate(open(fn)):\n",
    "    if pattern.match(line):\n",
    "        ec, gene = line.strip().replace('>>>', '').split(';')\n",
    "        print (ec, gene)\n",
    "    if i > 100:\n",
    "        break"
   ]
  },
  {
   "cell_type": "code",
   "execution_count": 13,
   "metadata": {
    "collapsed": false
   },
   "outputs": [
    {
     "name": "stdout",
     "output_type": "stream",
     "text": [
      "(['EC:2.5.1.18'], 'hsa:2952')\n",
      "(['EC:5.2.1.8'], 'hsa:653598')\n",
      "(['EC:3.5.3.15'], 'hsa:353238')\n",
      "(['EC:2.7.1.22', 'EC:2.7.1.173'], 'hsa:27231')\n"
     ]
    }
   ],
   "source": [
    "import re\n",
    "pattern = re.compile(r\"^>>>\")\n",
    "for i, line in enumerate(open(fn)):\n",
    "    if pattern.match(line):\n",
    "        ec, gene = line.strip().replace('>>>', '').split(';')\n",
    "        ec = ['EC:' + str for str in ec.replace('EC:', '').split('_')]\n",
    "        print (ec, gene)\n",
    "    if i > 100:\n",
    "        break"
   ]
  },
  {
   "cell_type": "code",
   "execution_count": 15,
   "metadata": {
    "collapsed": false,
    "scrolled": true
   },
   "outputs": [
    {
     "data": {
      "text/plain": [
       "{'EC:2.5.1.18': ['hsa:2952'],\n",
       " 'EC:2.7.1.173': ['hsa:27231'],\n",
       " 'EC:2.7.1.22': ['hsa:27231'],\n",
       " 'EC:3.5.3.15': ['hsa:353238'],\n",
       " 'EC:5.2.1.8': ['hsa:653598']}"
      ]
     },
     "execution_count": 15,
     "metadata": {},
     "output_type": "execute_result"
    }
   ],
   "source": [
    "import re\n",
    "ec2genes = {}\n",
    "pattern = re.compile(r\"^>>>\")\n",
    "for i, line in enumerate(open(fn)):\n",
    "    if pattern.match(line):\n",
    "        ec, gene = line.strip().replace('>>>', '').split(';')\n",
    "        \n",
    "        ecs = []\n",
    "        for str in ec.replace('EC:', '').split('_'):\n",
    "            ecs.append('EC:' + str)\n",
    "            \n",
    "#        ecs = ['EC:' + str       for str in ec.replace('EC:', '').split('_')]\n",
    "        \n",
    "        for ec in ecs:\n",
    "            if not ec2genes.has_key(ec):\n",
    "                ec2genes.update({ec:[]})\n",
    "            ec2genes[ec].append(gene)\n",
    "    if i > 100:\n",
    "        break\n",
    "ec2genes"
   ]
  },
  {
   "cell_type": "code",
   "execution_count": 18,
   "metadata": {
    "collapsed": false
   },
   "outputs": [
    {
     "name": "stdout",
     "output_type": "stream",
     "text": [
      "(['EC:2.5.1.18'], 'hsa:2952', '1605', '382.5')\n",
      "(['EC:2.5.1.18'], 'hsa:2953', '834', '201.7')\n",
      "(['EC:4.5.1.3'], 'phu:Phum_PHUM454040', '556', '136.5')\n",
      "(['EC:2.5.1.18', 'EC:4.5.1.3'], 'mdi:METDI2656', '302', '76.9')\n",
      "(['EC:1.11.1.9', 'EC:2.5.1.18'], 'dme:Dmel_CG4421', '289', '73.9')\n",
      "(['EC:2.5.1.18', 'EC:4.5.1.1'], 'dme:Dmel_CG10045', '265', '68.2')\n",
      "(['EC:1.11.1.9', 'EC:2.5.1.18'], 'dme:Dmel_CG4181', '264', '68.0')\n",
      "(['EC:5.2.1.2'], 'rcu:RCOM_1299540', '220', '57.7')\n",
      "(['EC:1.11.1.-', 'EC:1.8.4.-'], 'rir:BN877_II1582', '187', '50.0')\n",
      "(['EC:2.5.1.18'], 'ecc:c2027', '181', '48.5')\n",
      "(['EC:2.5.1.18'], 'ecp:ECP_1580', '181', '48.5')\n",
      "(['EC:2.5.1.18'], 'eco:b1635', '179', '48.1')\n",
      "(['EC:2.5.1.18', 'EC:5.2.1.2'], 'rno:681913', '177', '47.6')\n",
      "(['EC:2.5.1.18', 'EC:5.2.1.2'], 'dme:Dmel_CG9363', '171', '46.2')\n",
      "(['EC:1.11.1.-', 'EC:1.8.4.-'], 'lfa:LFA_0041', '169', '45.7')\n",
      "(['EC:2.5.1.18', 'EC:5.2.1.2'], 'dme:Dmel_CG9362', '163', '44.3')\n",
      "(['EC:5.2.1.4'], 'reh:H16_B0875', '161', '43.9')\n",
      "(['EC:2.5.1.18', 'EC:5.2.1.2'], 'ctu:CTU_14400', '160', '43.6')\n",
      "(['EC:5.2.1.4'], 'azo:azo2423', '159', '43.4')\n",
      "(['EC:5.2.1.2'], 'isc:IscW_ISCW022054', '157', '42.9')\n",
      "(['EC:1.8.4.-', 'EC:1.11.1.-'], 'srl:SOD_c14080', '157', '42.9')\n",
      "(['EC:5.2.1.2'], 'phu:Phum_PHUM236630', '154', '42.2')\n",
      "(['EC:5.2.1.2'], 'isc:IscW_ISCW023198', '152', '41.8')\n",
      "(['EC:1.8.4.-', 'EC:1.11.1.-'], 'srl:SOD_c32360', '149', '41.0')\n",
      "(['EC:2.5.1.18', 'EC:5.2.1.2'], 'smz:SMD_0520', '149', '41.0')\n",
      "(['EC:2.5.1.18', 'EC:5.2.1.2'], 'yph:YPC_2877', '142', '39.4')\n",
      "(['EC:5.2.1.2', 'EC:2.5.1.18'], 'ecoh:ECRM13516_3725', '127', '35.9')\n",
      "(['EC:5.2.1.2', 'EC:2.5.1.18'], 'ecoo:ECRM13514_5373', '127', '35.9')\n",
      "(['EC:5.2.1.2'], 'ecw:EcE24377A_2431', '126', '35.7')\n",
      "(['EC:1.11.1.9', 'EC:1.8.4.-'], 'sce:YNL229C', '129', '36.4')\n",
      "(['EC:5.2.1.4'], 'azo:azo3676', '125', '35.4')\n",
      "(['EC:5.2.1.2', 'EC:2.5.1.18'], 'vcj:VCD_002992', '125', '35.4')\n",
      "(['EC:1.8.5.1'], 'gmx:732557', '121', '34.5')\n",
      "(['EC:2.5.1.18', 'EC:5.2.1.2'], 'vvm:VVMO6_01720', '114', '32.8')\n",
      "(['EC:1.8.5.1'], 'mdm:103433463', '111', '32.1')\n",
      "(['EC:2.5.1.18', 'EC:5.2.1.2'], 'mmu:14874', '108', '31.4')\n",
      "(['EC:5.2.1.4'], 'bxe:Bxe_A4524', '109', '31.7')\n",
      "(['EC:1.5.4.1', 'EC:1.8.5.1', 'EC:2.5.1.18', 'EC:2.8.-.-'], 'dme:Dmel_CG677', '107', '31.2')\n",
      "(['EC:1.8.5.1'], 'sly:778229', '106', '31.0')\n",
      "(['EC:2.5.1.18'], 'hsa:2950', '106', '31.0')\n",
      "(['EC:2.5.1.18', 'EC:5.2.1.2'], 'ear:ST548_p7958', '106', '31.0')\n",
      "(['EC:5.2.1.2'], 'sea:SeAg_B2322', '105', '30.7')\n",
      "(['EC:5.2.1.2'], 'see:SNSL254_A2366', '105', '30.7')\n",
      "(['EC:5.2.1.2', 'EC:2.5.1.18'], 'vph:VPUCM_1872', '105', '30.7')\n",
      "(['EC:1.8.5.1'], 'sly:778343', '106', '31.0')\n",
      "(['EC:6.1.1.10'], 'mcc:714744', '113', '32.7')\n",
      "(['EC:6.1.1.10'], 'hsa:4141', '113', '32.7')\n",
      "(['EC:1.5.4.1', 'EC:1.8.5.1', 'EC:2.5.1.18', 'EC:2.8.-.-'], 'dme:Dmel_CG667', '104', '30.5')\n",
      "(['EC:5.2.1.2'], 'seh:SeHA_C2411', '102', '30.0')\n",
      "(['EC:5.2.1.2', 'EC:2.5.1.18'], 'shb:SU5_02768', '102', '30.0')\n",
      "(['EC:1.5.4.1', 'EC:1.8.5.1', 'EC:2.5.1.18', 'EC:2.8.-.-'], 'dme:Dmel_CG666', '102', '30.0')\n",
      "(['EC:2.5.1.18', 'EC:5.3.99.2'], 'hsa:27306', '98', '29.1')\n",
      "(['EC:2.5.1.87'], 'hsa:79947', '99', '29.3')\n",
      "(['EC:2.5.1.18', 'EC:5.3.99.2'], 'mmu:54486', '96', '28.6')\n",
      "(['EC:2.5.1.18', 'EC:5.2.1.2'], 'hsa:2954', '93', '27.9')\n",
      "(['EC:2.7.7.7'], 'hsa:5428', '104', '30.6')\n",
      "(['EC:6.1.1.10'], 'mmu:216443', '102', '30.1')\n",
      "(['EC:5.2.1.2'], 'isc:IscW_ISCW003436', '92', '27.7')\n",
      "(['EC:1.3.7.-'], 'anb:ANA_C20740', '93', '27.9')\n",
      "(['EC:2.7.1.-', 'EC:2.7.1.47'], 'kpa:KPNJ1_01812', '97', '28.9')\n",
      "(['EC:2.7.1.-', 'EC:2.7.1.47'], 'kps:KPNJ2_01779', '97', '28.9')\n",
      "(['EC:3.4.22.59'], 'rno:83584', '93', '27.9')\n",
      "(['EC:5.2.1.2'], 'sew:SeSA_A2415', '91', '27.4')\n",
      "(['EC:5.2.1.8'], 'hsa:653598', '1114', '288.3')\n",
      "(['EC:5.2.1.8'], 'hsa:644591', '1099', '284.5')\n",
      "(['EC:5.2.1.8'], 'hsa:645142', '1087', '281.4')\n",
      "(['EC:5.2.1.8', 'EC:1.6.5.3'], 'fca:493966', '972', '252.3')\n",
      "(['EC:2.7.1.-', 'EC:5.2.1.8'], 'dme:Dmel_CG9916', '748', '195.4')\n",
      "(['EC:5.2.1.8'], 'hsa:9360', '480', '127.3')\n",
      "(['EC:5.2.1.8', 'EC:6.3.2.19'], 'dme:Dmel_CG7747', '359', '96.6')\n",
      "(['EC:3.1.3.-', 'EC:5.2.1.8'], 'lcw:BN194_08960', '304', '82.8')\n",
      "(['EC:5.2.1.-'], 'acl:ACL_0801', '225', '62.7')\n",
      "(['EC:5.2.1.8'], 'eco:b0525', '192', '54.4')\n",
      "(['EC:3.1.3.11', 'EC:5.2.1.8'], 'tet:TTHERM_01018330', '195', '55.0')\n",
      "(['EC:1.2.1.18', 'EC:1.2.1.27'], 'xct:J151_01456', '99', '30.7')\n",
      "(['EC:3.4.21.84', 'EC:2.7.10.1'], 'isc:IscW_ISCW011066', '101', '31.1')\n",
      "(['EC:5.1.3.5'], 'rcu:RCOM_0673220', '90', '28.4')\n",
      "(['EC:3.1.3.19', 'EC:3.1.3.25'], 'kps:KPNJ2_01441', '88', '27.9')\n",
      "(['EC:3.1.3.19', 'EC:3.1.3.25'], 'kpa:KPNJ1_01417', '88', '27.9')\n",
      "(['EC:6.3.5.2', 'EC:6.3.1.5'], 'isc:IscW_ISCW018543', '92', '28.9')\n",
      "(['EC:1.97.-.-', 'EC:1.4.1.14', 'EC:1.4.1.13'], 'bfi:CIY_15730', '89', '28.1')\n",
      "(['EC:2.7.1.12'], 'eco:b3437', '83', '26.7')\n",
      "(['EC:2.7.1.12'], 'ecs:ECs4286', '83', '26.7')\n",
      "(['EC:2.7.1.12'], 'ece:Z4805', '83', '26.7')\n",
      "(['EC:2.7.1.12'], 'elr:ECO55CA74_19780', '83', '26.7')\n",
      "(['EC:3.5.3.15'], 'hsa:353238', '4691', '1082.6')\n",
      "(['EC:3.5.3.15'], 'hsa:23569', '2048', '476.1')\n",
      "(['EC:3.5.3.15'], 'hsa:29943', '1935', '450.2')\n",
      "(['EC:3.5.3.15'], 'hsa:51702', '1924', '447.7')\n",
      "(['EC:3.5.3.15'], 'hsa:11240', '1851', '430.9')\n",
      "(['EC:3.5.3.15'], 'cyp:PCC8801_2126', '1294', '303.1')\n",
      "(['EC:3.5.3.15'], 'cyh:Cyan8802_2173', '1286', '301.3')\n",
      "(['EC:3.5.3.15'], 'cyc:PCC7424_4763', '1249', '292.8')\n",
      "(['EC:4.4.1.8'], 'sce:YGL184C', '117', '33.2')\n",
      "(['EC:1.2.4.-'], 'dpo:Dpse_GA20891', '114', '32.5')\n",
      "(['EC:6.6.1.1', 'EC:6.6.1.2'], 'pmg:P9301_03121', '113', '32.1')\n",
      "(['EC:2.7.12.2'], 'llo:LLO_1682', '107', '30.8')\n",
      "(['EC:6.6.1.1', 'EC:6.6.1.2'], 'pmb:A9601_03111', '108', '31.0')\n"
     ]
    },
    {
     "data": {
      "text/plain": [
       "{'EC:2.5.1.18': ['hsa:2952'],\n",
       " 'EC:2.7.1.173': ['hsa:27231'],\n",
       " 'EC:2.7.1.22': ['hsa:27231'],\n",
       " 'EC:3.5.3.15': ['hsa:353238'],\n",
       " 'EC:5.2.1.8': ['hsa:653598']}"
      ]
     },
     "execution_count": 18,
     "metadata": {},
     "output_type": "execute_result"
    }
   ],
   "source": [
    "import re\n",
    "ec2genes = {}\n",
    "pattern = re.compile(r\"^>>>\")\n",
    "pattern2 = re.compile(r\"\\t|\\;\")\n",
    "for i, line in enumerate(open(fn)):\n",
    "    if pattern.match(line):\n",
    "        ec, gene = line.strip().replace('>>>', '').split(';')\n",
    "        ecs = ['EC:' + str for str in ec.replace('EC:', '').split('_')]\n",
    "        for ec in ecs:\n",
    "            if not ec2genes.has_key(ec):\n",
    "                ec2genes.update({ec:[]})\n",
    "            if gene not in ec2genes[ec]:\n",
    "                ec2genes[ec].append(gene)\n",
    "    else:\n",
    "        ec, gene, sw1, sw2 = re.split(pattern2, line.strip())\n",
    "        ecs = ['EC:' + str for str in ec.replace('EC:', '').split('_')]\n",
    "        print (ecs, gene, sw1, sw2)\n",
    "    if i > 100:\n",
    "        break\n",
    "ec2genes"
   ]
  },
  {
   "cell_type": "code",
   "execution_count": 26,
   "metadata": {
    "collapsed": false
   },
   "outputs": [],
   "source": [
    "import re\n",
    "ec2genes = {}\n",
    "pattern = re.compile(r\"^>>>\")\n",
    "pattern2 = re.compile(r\"\\t|\\;\")\n",
    "pattern3 = re.compile(r\"-\")\n",
    "for i, line in enumerate(open(fn)):\n",
    "    if pattern.match(line):\n",
    "        header_ecs, gene = line.strip().replace('>>>', '').split(';')\n",
    "        header_ecs = ['EC:' + str for str in header_ecs.replace('EC:', '').split('_')]\n",
    "        for header_ec in header_ecs:\n",
    "            if not ec2genes.has_key(header_ec):\n",
    "                ec2genes.update({header_ec:[]})\n",
    "            if gene not in ec2genes[header_ec]:\n",
    "                ec2genes[header_ec].append(gene)\n",
    "    else:\n",
    "        ec, gene, sw1, sw2 = re.split(pattern2, line.strip())\n",
    "        ecs = ['EC:' + str for str in ec.replace('EC:', '').split('_')]\n",
    "        for ec in ecs:\n",
    "            if not ec2genes.has_key(ec):\n",
    "                ec2genes.update({ec:[]})\n",
    "            if gene not in ec2genes[ec]:\n",
    "                ec2genes[ec].append(gene)\n",
    "    if i > 100:\n",
    "        break\n",
    "#ec2genes"
   ]
  },
  {
   "cell_type": "code",
   "execution_count": 27,
   "metadata": {
    "collapsed": false
   },
   "outputs": [
    {
     "data": {
      "text/plain": [
       "{'EC:1.11.1.-': ['rir:BN877_II1582',\n",
       "  'lfa:LFA_0041',\n",
       "  'srl:SOD_c14080',\n",
       "  'srl:SOD_c32360'],\n",
       " 'EC:1.11.1.9': ['dme:Dmel_CG4421', 'dme:Dmel_CG4181', 'sce:YNL229C'],\n",
       " 'EC:1.2.1.18': ['xct:J151_01456'],\n",
       " 'EC:1.2.1.27': ['xct:J151_01456'],\n",
       " 'EC:1.2.4.-': ['dpo:Dpse_GA20891'],\n",
       " 'EC:1.3.7.-': ['anb:ANA_C20740'],\n",
       " 'EC:1.4.1.13': ['bfi:CIY_15730'],\n",
       " 'EC:1.4.1.14': ['bfi:CIY_15730'],\n",
       " 'EC:1.5.4.1': ['dme:Dmel_CG677', 'dme:Dmel_CG667', 'dme:Dmel_CG666'],\n",
       " 'EC:1.6.5.3': ['fca:493966'],\n",
       " 'EC:1.8.4.-': ['rir:BN877_II1582',\n",
       "  'lfa:LFA_0041',\n",
       "  'srl:SOD_c14080',\n",
       "  'srl:SOD_c32360',\n",
       "  'sce:YNL229C'],\n",
       " 'EC:1.8.5.1': ['gmx:732557',\n",
       "  'mdm:103433463',\n",
       "  'dme:Dmel_CG677',\n",
       "  'sly:778229',\n",
       "  'sly:778343',\n",
       "  'dme:Dmel_CG667',\n",
       "  'dme:Dmel_CG666'],\n",
       " 'EC:1.97.-.-': ['bfi:CIY_15730'],\n",
       " 'EC:2.5.1.18': ['hsa:2952',\n",
       "  'hsa:2953',\n",
       "  'mdi:METDI2656',\n",
       "  'dme:Dmel_CG4421',\n",
       "  'dme:Dmel_CG10045',\n",
       "  'dme:Dmel_CG4181',\n",
       "  'ecc:c2027',\n",
       "  'ecp:ECP_1580',\n",
       "  'eco:b1635',\n",
       "  'rno:681913',\n",
       "  'dme:Dmel_CG9363',\n",
       "  'dme:Dmel_CG9362',\n",
       "  'ctu:CTU_14400',\n",
       "  'smz:SMD_0520',\n",
       "  'yph:YPC_2877',\n",
       "  'ecoh:ECRM13516_3725',\n",
       "  'ecoo:ECRM13514_5373',\n",
       "  'vcj:VCD_002992',\n",
       "  'vvm:VVMO6_01720',\n",
       "  'mmu:14874',\n",
       "  'dme:Dmel_CG677',\n",
       "  'hsa:2950',\n",
       "  'ear:ST548_p7958',\n",
       "  'vph:VPUCM_1872',\n",
       "  'dme:Dmel_CG667',\n",
       "  'shb:SU5_02768',\n",
       "  'dme:Dmel_CG666',\n",
       "  'hsa:27306',\n",
       "  'mmu:54486',\n",
       "  'hsa:2954'],\n",
       " 'EC:2.5.1.87': ['hsa:79947'],\n",
       " 'EC:2.7.1.-': ['kpa:KPNJ1_01812', 'kps:KPNJ2_01779', 'dme:Dmel_CG9916'],\n",
       " 'EC:2.7.1.12': ['eco:b3437',\n",
       "  'ecs:ECs4286',\n",
       "  'ece:Z4805',\n",
       "  'elr:ECO55CA74_19780'],\n",
       " 'EC:2.7.1.173': ['hsa:27231'],\n",
       " 'EC:2.7.1.22': ['hsa:27231'],\n",
       " 'EC:2.7.1.47': ['kpa:KPNJ1_01812', 'kps:KPNJ2_01779'],\n",
       " 'EC:2.7.10.1': ['isc:IscW_ISCW011066'],\n",
       " 'EC:2.7.12.2': ['llo:LLO_1682'],\n",
       " 'EC:2.7.7.7': ['hsa:5428'],\n",
       " 'EC:2.8.-.-': ['dme:Dmel_CG677', 'dme:Dmel_CG667', 'dme:Dmel_CG666'],\n",
       " 'EC:3.1.3.-': ['lcw:BN194_08960'],\n",
       " 'EC:3.1.3.11': ['tet:TTHERM_01018330'],\n",
       " 'EC:3.1.3.19': ['kps:KPNJ2_01441', 'kpa:KPNJ1_01417'],\n",
       " 'EC:3.1.3.25': ['kps:KPNJ2_01441', 'kpa:KPNJ1_01417'],\n",
       " 'EC:3.4.21.84': ['isc:IscW_ISCW011066'],\n",
       " 'EC:3.4.22.59': ['rno:83584'],\n",
       " 'EC:3.5.3.15': ['hsa:353238',\n",
       "  'hsa:23569',\n",
       "  'hsa:29943',\n",
       "  'hsa:51702',\n",
       "  'hsa:11240',\n",
       "  'cyp:PCC8801_2126',\n",
       "  'cyh:Cyan8802_2173',\n",
       "  'cyc:PCC7424_4763'],\n",
       " 'EC:4.4.1.8': ['sce:YGL184C'],\n",
       " 'EC:4.5.1.1': ['dme:Dmel_CG10045'],\n",
       " 'EC:4.5.1.3': ['phu:Phum_PHUM454040', 'mdi:METDI2656'],\n",
       " 'EC:5.1.3.5': ['rcu:RCOM_0673220'],\n",
       " 'EC:5.2.1.-': ['acl:ACL_0801'],\n",
       " 'EC:5.2.1.2': ['rcu:RCOM_1299540',\n",
       "  'rno:681913',\n",
       "  'dme:Dmel_CG9363',\n",
       "  'dme:Dmel_CG9362',\n",
       "  'ctu:CTU_14400',\n",
       "  'isc:IscW_ISCW022054',\n",
       "  'phu:Phum_PHUM236630',\n",
       "  'isc:IscW_ISCW023198',\n",
       "  'smz:SMD_0520',\n",
       "  'yph:YPC_2877',\n",
       "  'ecoh:ECRM13516_3725',\n",
       "  'ecoo:ECRM13514_5373',\n",
       "  'ecw:EcE24377A_2431',\n",
       "  'vcj:VCD_002992',\n",
       "  'vvm:VVMO6_01720',\n",
       "  'mmu:14874',\n",
       "  'ear:ST548_p7958',\n",
       "  'sea:SeAg_B2322',\n",
       "  'see:SNSL254_A2366',\n",
       "  'vph:VPUCM_1872',\n",
       "  'seh:SeHA_C2411',\n",
       "  'shb:SU5_02768',\n",
       "  'hsa:2954',\n",
       "  'isc:IscW_ISCW003436',\n",
       "  'sew:SeSA_A2415'],\n",
       " 'EC:5.2.1.4': ['reh:H16_B0875',\n",
       "  'azo:azo2423',\n",
       "  'azo:azo3676',\n",
       "  'bxe:Bxe_A4524'],\n",
       " 'EC:5.2.1.8': ['hsa:653598',\n",
       "  'hsa:644591',\n",
       "  'hsa:645142',\n",
       "  'fca:493966',\n",
       "  'dme:Dmel_CG9916',\n",
       "  'hsa:9360',\n",
       "  'dme:Dmel_CG7747',\n",
       "  'lcw:BN194_08960',\n",
       "  'eco:b0525',\n",
       "  'tet:TTHERM_01018330'],\n",
       " 'EC:5.3.99.2': ['hsa:27306', 'mmu:54486'],\n",
       " 'EC:6.1.1.10': ['mcc:714744', 'hsa:4141', 'mmu:216443'],\n",
       " 'EC:6.3.1.5': ['isc:IscW_ISCW018543'],\n",
       " 'EC:6.3.2.19': ['dme:Dmel_CG7747'],\n",
       " 'EC:6.3.5.2': ['isc:IscW_ISCW018543'],\n",
       " 'EC:6.6.1.1': ['pmg:P9301_03121', 'pmb:A9601_03111'],\n",
       " 'EC:6.6.1.2': ['pmg:P9301_03121', 'pmb:A9601_03111']}"
      ]
     },
     "execution_count": 27,
     "metadata": {},
     "output_type": "execute_result"
    }
   ],
   "source": [
    "ec2genes"
   ]
  },
  {
   "cell_type": "code",
   "execution_count": 20,
   "metadata": {
    "collapsed": false
   },
   "outputs": [
    {
     "name": "stdout",
     "output_type": "stream",
     "text": [
      "(['EC:2.5.1.18'], ['EC:2.5.1.18'], '1605', '382.5')\n",
      "(['EC:2.5.1.18'], ['EC:2.5.1.18'], '834', '201.7')\n",
      "(['EC:2.5.1.18'], ['EC:4.5.1.3'], '556', '136.5')\n",
      "(['EC:2.5.1.18'], ['EC:2.5.1.18', 'EC:4.5.1.3'], '302', '76.9')\n",
      "(['EC:2.5.1.18'], ['EC:1.11.1.9', 'EC:2.5.1.18'], '289', '73.9')\n",
      "(['EC:2.5.1.18'], ['EC:2.5.1.18', 'EC:4.5.1.1'], '265', '68.2')\n",
      "(['EC:2.5.1.18'], ['EC:1.11.1.9', 'EC:2.5.1.18'], '264', '68.0')\n",
      "(['EC:2.5.1.18'], ['EC:5.2.1.2'], '220', '57.7')\n",
      "(['EC:2.5.1.18'], ['EC:1.11.1.-', 'EC:1.8.4.-'], '187', '50.0')\n",
      "(['EC:2.5.1.18'], ['EC:2.5.1.18'], '181', '48.5')\n",
      "(['EC:2.5.1.18'], ['EC:2.5.1.18'], '181', '48.5')\n",
      "(['EC:2.5.1.18'], ['EC:2.5.1.18'], '179', '48.1')\n",
      "(['EC:2.5.1.18'], ['EC:2.5.1.18', 'EC:5.2.1.2'], '177', '47.6')\n",
      "(['EC:2.5.1.18'], ['EC:2.5.1.18', 'EC:5.2.1.2'], '171', '46.2')\n",
      "(['EC:2.5.1.18'], ['EC:1.11.1.-', 'EC:1.8.4.-'], '169', '45.7')\n",
      "(['EC:2.5.1.18'], ['EC:2.5.1.18', 'EC:5.2.1.2'], '163', '44.3')\n",
      "(['EC:2.5.1.18'], ['EC:5.2.1.4'], '161', '43.9')\n",
      "(['EC:2.5.1.18'], ['EC:2.5.1.18', 'EC:5.2.1.2'], '160', '43.6')\n",
      "(['EC:2.5.1.18'], ['EC:5.2.1.4'], '159', '43.4')\n",
      "(['EC:2.5.1.18'], ['EC:5.2.1.2'], '157', '42.9')\n",
      "(['EC:2.5.1.18'], ['EC:1.8.4.-', 'EC:1.11.1.-'], '157', '42.9')\n",
      "(['EC:2.5.1.18'], ['EC:5.2.1.2'], '154', '42.2')\n",
      "(['EC:2.5.1.18'], ['EC:5.2.1.2'], '152', '41.8')\n",
      "(['EC:2.5.1.18'], ['EC:1.8.4.-', 'EC:1.11.1.-'], '149', '41.0')\n",
      "(['EC:2.5.1.18'], ['EC:2.5.1.18', 'EC:5.2.1.2'], '149', '41.0')\n",
      "(['EC:2.5.1.18'], ['EC:2.5.1.18', 'EC:5.2.1.2'], '142', '39.4')\n",
      "(['EC:2.5.1.18'], ['EC:5.2.1.2', 'EC:2.5.1.18'], '127', '35.9')\n",
      "(['EC:2.5.1.18'], ['EC:5.2.1.2', 'EC:2.5.1.18'], '127', '35.9')\n",
      "(['EC:2.5.1.18'], ['EC:5.2.1.2'], '126', '35.7')\n",
      "(['EC:2.5.1.18'], ['EC:1.11.1.9', 'EC:1.8.4.-'], '129', '36.4')\n",
      "(['EC:2.5.1.18'], ['EC:5.2.1.4'], '125', '35.4')\n",
      "(['EC:2.5.1.18'], ['EC:5.2.1.2', 'EC:2.5.1.18'], '125', '35.4')\n",
      "(['EC:2.5.1.18'], ['EC:1.8.5.1'], '121', '34.5')\n",
      "(['EC:2.5.1.18'], ['EC:2.5.1.18', 'EC:5.2.1.2'], '114', '32.8')\n",
      "(['EC:2.5.1.18'], ['EC:1.8.5.1'], '111', '32.1')\n",
      "(['EC:2.5.1.18'], ['EC:2.5.1.18', 'EC:5.2.1.2'], '108', '31.4')\n",
      "(['EC:2.5.1.18'], ['EC:5.2.1.4'], '109', '31.7')\n",
      "(['EC:2.5.1.18'], ['EC:1.5.4.1', 'EC:1.8.5.1', 'EC:2.5.1.18', 'EC:2.8.-.-'], '107', '31.2')\n",
      "(['EC:2.5.1.18'], ['EC:1.8.5.1'], '106', '31.0')\n",
      "(['EC:2.5.1.18'], ['EC:2.5.1.18'], '106', '31.0')\n",
      "(['EC:2.5.1.18'], ['EC:2.5.1.18', 'EC:5.2.1.2'], '106', '31.0')\n",
      "(['EC:2.5.1.18'], ['EC:5.2.1.2'], '105', '30.7')\n",
      "(['EC:2.5.1.18'], ['EC:5.2.1.2'], '105', '30.7')\n",
      "(['EC:2.5.1.18'], ['EC:5.2.1.2', 'EC:2.5.1.18'], '105', '30.7')\n",
      "(['EC:2.5.1.18'], ['EC:1.8.5.1'], '106', '31.0')\n",
      "(['EC:2.5.1.18'], ['EC:6.1.1.10'], '113', '32.7')\n",
      "(['EC:2.5.1.18'], ['EC:6.1.1.10'], '113', '32.7')\n",
      "(['EC:2.5.1.18'], ['EC:1.5.4.1', 'EC:1.8.5.1', 'EC:2.5.1.18', 'EC:2.8.-.-'], '104', '30.5')\n",
      "(['EC:2.5.1.18'], ['EC:5.2.1.2'], '102', '30.0')\n",
      "(['EC:2.5.1.18'], ['EC:5.2.1.2', 'EC:2.5.1.18'], '102', '30.0')\n",
      "(['EC:2.5.1.18'], ['EC:1.5.4.1', 'EC:1.8.5.1', 'EC:2.5.1.18', 'EC:2.8.-.-'], '102', '30.0')\n",
      "(['EC:2.5.1.18'], ['EC:2.5.1.18', 'EC:5.3.99.2'], '98', '29.1')\n",
      "(['EC:2.5.1.18'], ['EC:2.5.1.87'], '99', '29.3')\n",
      "(['EC:2.5.1.18'], ['EC:2.5.1.18', 'EC:5.3.99.2'], '96', '28.6')\n",
      "(['EC:2.5.1.18'], ['EC:2.5.1.18', 'EC:5.2.1.2'], '93', '27.9')\n",
      "(['EC:2.5.1.18'], ['EC:2.7.7.7'], '104', '30.6')\n",
      "(['EC:2.5.1.18'], ['EC:6.1.1.10'], '102', '30.1')\n",
      "(['EC:2.5.1.18'], ['EC:5.2.1.2'], '92', '27.7')\n",
      "(['EC:2.5.1.18'], ['EC:1.3.7.-'], '93', '27.9')\n",
      "(['EC:2.5.1.18'], ['EC:2.7.1.-', 'EC:2.7.1.47'], '97', '28.9')\n",
      "(['EC:2.5.1.18'], ['EC:2.7.1.-', 'EC:2.7.1.47'], '97', '28.9')\n",
      "(['EC:2.5.1.18'], ['EC:3.4.22.59'], '93', '27.9')\n",
      "(['EC:2.5.1.18'], ['EC:5.2.1.2'], '91', '27.4')\n",
      "(['EC:5.2.1.8'], ['EC:5.2.1.8'], '1114', '288.3')\n",
      "(['EC:5.2.1.8'], ['EC:5.2.1.8'], '1099', '284.5')\n",
      "(['EC:5.2.1.8'], ['EC:5.2.1.8'], '1087', '281.4')\n",
      "(['EC:5.2.1.8'], ['EC:5.2.1.8', 'EC:1.6.5.3'], '972', '252.3')\n",
      "(['EC:5.2.1.8'], ['EC:2.7.1.-', 'EC:5.2.1.8'], '748', '195.4')\n",
      "(['EC:5.2.1.8'], ['EC:5.2.1.8'], '480', '127.3')\n",
      "(['EC:5.2.1.8'], ['EC:5.2.1.8', 'EC:6.3.2.19'], '359', '96.6')\n",
      "(['EC:5.2.1.8'], ['EC:3.1.3.-', 'EC:5.2.1.8'], '304', '82.8')\n",
      "(['EC:5.2.1.8'], ['EC:5.2.1.-'], '225', '62.7')\n",
      "(['EC:5.2.1.8'], ['EC:5.2.1.8'], '192', '54.4')\n",
      "(['EC:5.2.1.8'], ['EC:3.1.3.11', 'EC:5.2.1.8'], '195', '55.0')\n",
      "(['EC:5.2.1.8'], ['EC:1.2.1.18', 'EC:1.2.1.27'], '99', '30.7')\n",
      "(['EC:5.2.1.8'], ['EC:3.4.21.84', 'EC:2.7.10.1'], '101', '31.1')\n",
      "(['EC:5.2.1.8'], ['EC:5.1.3.5'], '90', '28.4')\n",
      "(['EC:5.2.1.8'], ['EC:3.1.3.19', 'EC:3.1.3.25'], '88', '27.9')\n",
      "(['EC:5.2.1.8'], ['EC:3.1.3.19', 'EC:3.1.3.25'], '88', '27.9')\n",
      "(['EC:5.2.1.8'], ['EC:6.3.5.2', 'EC:6.3.1.5'], '92', '28.9')\n",
      "(['EC:5.2.1.8'], ['EC:1.97.-.-', 'EC:1.4.1.14', 'EC:1.4.1.13'], '89', '28.1')\n",
      "(['EC:5.2.1.8'], ['EC:2.7.1.12'], '83', '26.7')\n",
      "(['EC:5.2.1.8'], ['EC:2.7.1.12'], '83', '26.7')\n",
      "(['EC:5.2.1.8'], ['EC:2.7.1.12'], '83', '26.7')\n",
      "(['EC:5.2.1.8'], ['EC:2.7.1.12'], '83', '26.7')\n",
      "(['EC:3.5.3.15'], ['EC:3.5.3.15'], '4691', '1082.6')\n",
      "(['EC:3.5.3.15'], ['EC:3.5.3.15'], '2048', '476.1')\n",
      "(['EC:3.5.3.15'], ['EC:3.5.3.15'], '1935', '450.2')\n",
      "(['EC:3.5.3.15'], ['EC:3.5.3.15'], '1924', '447.7')\n",
      "(['EC:3.5.3.15'], ['EC:3.5.3.15'], '1851', '430.9')\n",
      "(['EC:3.5.3.15'], ['EC:3.5.3.15'], '1294', '303.1')\n",
      "(['EC:3.5.3.15'], ['EC:3.5.3.15'], '1286', '301.3')\n",
      "(['EC:3.5.3.15'], ['EC:3.5.3.15'], '1249', '292.8')\n",
      "(['EC:3.5.3.15'], ['EC:4.4.1.8'], '117', '33.2')\n",
      "(['EC:3.5.3.15'], ['EC:1.2.4.-'], '114', '32.5')\n",
      "(['EC:3.5.3.15'], ['EC:6.6.1.1', 'EC:6.6.1.2'], '113', '32.1')\n",
      "(['EC:3.5.3.15'], ['EC:2.7.12.2'], '107', '30.8')\n",
      "(['EC:3.5.3.15'], ['EC:6.6.1.1', 'EC:6.6.1.2'], '108', '31.0')\n"
     ]
    }
   ],
   "source": [
    "import re\n",
    "ec2genes = {}\n",
    "ec_matrix = {}\n",
    "pattern = re.compile(r\"^>>>\")\n",
    "pattern2 = re.compile(r\"\\t|\\;\")\n",
    "pattern3 = re.compile(r\"-\")\n",
    "for i, line in enumerate(open(fn)):\n",
    "    if pattern.match(line):\n",
    "        header_ecs, gene = line.strip().replace('>>>', '').split(';')\n",
    "        header_ecs = ['EC:' + str for str in header_ecs.replace('EC:', '').split('_')]\n",
    "        for header_ec in header_ecs:\n",
    "            if not ec2genes.has_key(header_ec):\n",
    "                ec2genes.update({header_ec:[]})\n",
    "            if gene not in ec2genes[header_ec]:\n",
    "                ec2genes[header_ec].append(gene)\n",
    "    else:\n",
    "        ec, gene, sw1, sw2 = re.split(pattern2, line.strip())\n",
    "        ecs = ['EC:' + str for str in ec.replace('EC:', '').split('_')]\n",
    "        for ec in ecs:\n",
    "            if not ec2genes.has_key(ec):\n",
    "                ec2genes.update({ec:[]})\n",
    "            if gene not in ec2genes[ec]:\n",
    "                ec2genes[ec].append(gene)\n",
    "        print (header_ecs, ecs, sw1, sw2)\n",
    "    if i > 100:\n",
    "        break"
   ]
  },
  {
   "cell_type": "code",
   "execution_count": 22,
   "metadata": {
    "collapsed": true
   },
   "outputs": [],
   "source": [
    "import re\n",
    "ec2genes = {}\n",
    "ec_matrix = {}\n",
    "pattern = re.compile(r\"^>>>\")\n",
    "pattern2 = re.compile(r\"\\t|\\;\")\n",
    "pattern3 = re.compile(r\"-\")\n",
    "for i, line in enumerate(open(fn)):\n",
    "    if pattern.match(line):\n",
    "        header_ecs, gene = line.strip().replace('>>>', '').split(';')\n",
    "        header_ecs = ['EC:' + str for str in header_ecs.replace('EC:', '').split('_')]\n",
    "        for header_ec in header_ecs:\n",
    "            if not ec2genes.has_key(header_ec):\n",
    "                ec2genes.update({header_ec:[]})\n",
    "            if gene not in ec2genes[header_ec]:\n",
    "                ec2genes[header_ec].append(gene)\n",
    "    else:\n",
    "        ec, gene, sw1, sw2 = re.split(pattern2, line.strip())\n",
    "        ecs = ['EC:' + str for str in ec.replace('EC:', '').split('_')]\n",
    "        for ec in ecs:\n",
    "            if not ec2genes.has_key(ec):\n",
    "                ec2genes.update({ec:[]})\n",
    "            if gene not in ec2genes[ec]:\n",
    "                ec2genes[ec].append(gene)\n",
    "        for ec in ecs:\n",
    "            for header_ec in header_ecs:\n",
    "                if not ec_matrix.has_key(header_ec):\n",
    "                    ec_matrix.update({header_ec:{}})\n",
    "                if not ec_matrix[header_ec].has_key(ec):\n",
    "                    ec_matrix[header_ec].update({ec:[]})\n",
    "                ec_matrix[header_ec][ec].append(int(sw1))\n",
    "                \n",
    "                if not ec_matrix.has_key(ec):\n",
    "                    ec_matrix.update({ec:{}})\n",
    "                if not ec_matrix[ec].has_key(header_ec):\n",
    "                    ec_matrix[ec].update({header_ec:[]})\n",
    "                ec_matrix[ec][header_ec].append(int(sw1))\n",
    "    if i > 100000:\n",
    "        break"
   ]
  },
  {
   "cell_type": "code",
   "execution_count": 23,
   "metadata": {
    "collapsed": false
   },
   "outputs": [
    {
     "name": "stdout",
     "output_type": "stream",
     "text": [
      "{'EC:1.17.99.3': [132, 128, 116, 116, 111, 104], 'EC:1.3.8.6': [484, 483, 463, 461, 460, 268, 262, 256, 238, 222, 194, 194, 181], 'EC:1.2.1.3': [483, 477, 466, 453, 450, 198, 198, 190, 171, 150, 141], 'EC:1.3.8.8': [725, 724, 713, 707, 707, 387, 352, 348, 345, 305, 205, 205, 179], 'EC:1.3.8.9': [646, 638, 637, 636, 622, 449, 420, 419, 387, 387, 387, 381, 290]}\n"
     ]
    }
   ],
   "source": [
    "print ec_matrix['EC:1.3.8.7']"
   ]
  },
  {
   "cell_type": "code",
   "execution_count": 24,
   "metadata": {
    "collapsed": false
   },
   "outputs": [
    {
     "data": {
      "text/plain": [
       "[[array([132, 128, 116, 116, 111, 104])],\n",
       " [array([484, 483, 463, 461, 460, 268, 262, 256, 238, 222, 194, 194, 181])],\n",
       " [array([483, 477, 466, 453, 450, 198, 198, 190, 171, 150, 141])],\n",
       " [array([725, 724, 713, 707, 707, 387, 352, 348, 345, 305, 205, 205, 179])],\n",
       " [array([646, 638, 637, 636, 622, 449, 420, 419, 387, 387, 387, 381, 290])]]"
      ]
     },
     "execution_count": 24,
     "metadata": {},
     "output_type": "execute_result"
    }
   ],
   "source": [
    "%matplotlib inline\n",
    "import matplotlib.pyplot as plt\n",
    "import numpy as np\n",
    "\n",
    "query = 'EC:1.3.8.7'\n",
    "all_keys = []\n",
    "all_data = []\n",
    "for ec2 in ec_matrix[query]:\n",
    "    all_keys.append(ec2)\n",
    "    data = []\n",
    "    data.append(np.array(ec_matrix[query][ec2]))\n",
    "    all_data.append(data)\n",
    "all_data"
   ]
  },
  {
   "cell_type": "code",
   "execution_count": 25,
   "metadata": {
    "collapsed": false
   },
   "outputs": [
    {
     "data": {
      "image/png": "[encoded data removed]",
      "text/plain": [
       "<matplotlib.figure.Figure at 0x104c2c8d0>"
      ]
     },
     "metadata": {},
     "output_type": "display_data"
    }
   ],
   "source": [
    "x_pos = [n + 1 for n in np.arange(len(all_data))]\n",
    "plt.title(\"Distribution of SW scores against {0}\".format(query))\n",
    "plt.boxplot(all_data) \n",
    "plt.xticks(x_pos, all_keys)\n",
    "plt.ylabel(\"SW\")\n",
    "plt.show()"
   ]
  },
  {
   "cell_type": "code",
   "execution_count": 28,
   "metadata": {
    "collapsed": true
   },
   "outputs": [],
   "source": [
    "dictionary = {}"
   ]
  },
  {
   "cell_type": "code",
   "execution_count": 29,
   "metadata": {
    "collapsed": false
   },
   "outputs": [
    {
     "data": {
      "text/plain": [
       "{}"
      ]
     },
     "execution_count": 29,
     "metadata": {},
     "output_type": "execute_result"
    }
   ],
   "source": [
    "dictionary"
   ]
  },
  {
   "cell_type": "code",
   "execution_count": 31,
   "metadata": {
    "collapsed": false
   },
   "outputs": [],
   "source": [
    "dictionary.update({\"apple\":100})"
   ]
  },
  {
   "cell_type": "code",
   "execution_count": 32,
   "metadata": {
    "collapsed": false
   },
   "outputs": [
    {
     "data": {
      "text/plain": [
       "{'apple': 100}"
      ]
     },
     "execution_count": 32,
     "metadata": {},
     "output_type": "execute_result"
    }
   ],
   "source": [
    "dictionary"
   ]
  },
  {
   "cell_type": "code",
   "execution_count": 33,
   "metadata": {
    "collapsed": true
   },
   "outputs": [],
   "source": [
    "dictionary.update({\"orange\":80})"
   ]
  },
  {
   "cell_type": "code",
   "execution_count": 34,
   "metadata": {
    "collapsed": false
   },
   "outputs": [
    {
     "data": {
      "text/plain": [
       "{'apple': 100, 'orange': 80}"
      ]
     },
     "execution_count": 34,
     "metadata": {},
     "output_type": "execute_result"
    }
   ],
   "source": [
    "dictionary"
   ]
  },
  {
   "cell_type": "code",
   "execution_count": 35,
   "metadata": {
    "collapsed": false
   },
   "outputs": [
    {
     "ename": "AttributeError",
     "evalue": "'dict' object has no attribute 'delete'",
     "output_type": "error",
     "traceback": [
      "\u001b[0;31m---------------------------------------------------------------------------\u001b[0m",
      "\u001b[0;31mAttributeError\u001b[0m                            Traceback (most recent call last)",
      "\u001b[0;32m<ipython-input-35-6db4bd0224b2>\u001b[0m in \u001b[0;36m<module>\u001b[0;34m()\u001b[0m\n\u001b[0;32m----> 1\u001b[0;31m \u001b[0mdictionary\u001b[0m\u001b[0;34m.\u001b[0m\u001b[0mdelete\u001b[0m\u001b[0;34m(\u001b[0m\u001b[0;34m'apple'\u001b[0m\u001b[0;34m)\u001b[0m\u001b[0;34m\u001b[0m\u001b[0m\n\u001b[0m",
      "\u001b[0;31mAttributeError\u001b[0m: 'dict' object has no attribute 'delete'"
     ]
    }
   ],
   "source": [
    "dictionary.delete('apple')"
   ]
  },
  {
   "cell_type": "code",
   "execution_count": 36,
   "metadata": {
    "collapsed": true
   },
   "outputs": [],
   "source": [
    "str = \"This is a pen\""
   ]
  },
  {
   "cell_type": "code",
   "execution_count": 37,
   "metadata": {
    "collapsed": false
   },
   "outputs": [
    {
     "data": {
      "text/plain": [
       "'This is a pen'"
      ]
     },
     "execution_count": 37,
     "metadata": {},
     "output_type": "execute_result"
    }
   ],
   "source": [
    "str"
   ]
  },
  {
   "cell_type": "code",
   "execution_count": 38,
   "metadata": {
    "collapsed": false
   },
   "outputs": [
    {
     "data": {
      "text/plain": [
       "'This is a penguin'"
      ]
     },
     "execution_count": 38,
     "metadata": {},
     "output_type": "execute_result"
    }
   ],
   "source": [
    "str.replace(\"pen\", \"penguin\")"
   ]
  },
  {
   "cell_type": "code",
   "execution_count": 39,
   "metadata": {
    "collapsed": false
   },
   "outputs": [
    {
     "data": {
      "text/plain": [
       "'This is a penGGG'"
      ]
     },
     "execution_count": 39,
     "metadata": {},
     "output_type": "execute_result"
    }
   ],
   "source": [
    "str + \"GGG\""
   ]
  },
  {
   "cell_type": "code",
   "execution_count": 40,
   "metadata": {
    "collapsed": false
   },
   "outputs": [
    {
     "data": {
      "text/plain": [
       "{'apple': 100, 'orange': 80}"
      ]
     },
     "execution_count": 40,
     "metadata": {},
     "output_type": "execute_result"
    }
   ],
   "source": [
    "dictionary"
   ]
  },
  {
   "cell_type": "code",
   "execution_count": 41,
   "metadata": {
    "collapsed": true
   },
   "outputs": [],
   "source": [
    "del dictionary['apple']"
   ]
  },
  {
   "cell_type": "code",
   "execution_count": 42,
   "metadata": {
    "collapsed": false
   },
   "outputs": [
    {
     "data": {
      "text/plain": [
       "{'orange': 80}"
      ]
     },
     "execution_count": 42,
     "metadata": {},
     "output_type": "execute_result"
    }
   ],
   "source": [
    "dictionary"
   ]
  },
  {
   "cell_type": "code",
   "execution_count": 44,
   "metadata": {
    "collapsed": false
   },
   "outputs": [],
   "source": [
    "dictionary.update({\"kiwi\": []})"
   ]
  },
  {
   "cell_type": "code",
   "execution_count": 45,
   "metadata": {
    "collapsed": false
   },
   "outputs": [
    {
     "data": {
      "text/plain": [
       "{'kiwi': [], 'orange': 80}"
      ]
     },
     "execution_count": 45,
     "metadata": {},
     "output_type": "execute_result"
    }
   ],
   "source": [
    "dictionary"
   ]
  },
  {
   "cell_type": "code",
   "execution_count": 46,
   "metadata": {
    "collapsed": false
   },
   "outputs": [
    {
     "data": {
      "text/plain": [
       "'This is a pen'"
      ]
     },
     "execution_count": 46,
     "metadata": {},
     "output_type": "execute_result"
    }
   ],
   "source": [
    "str"
   ]
  },
  {
   "cell_type": "code",
   "execution_count": 48,
   "metadata": {
    "collapsed": false
   },
   "outputs": [
    {
     "data": {
      "text/plain": [
       "'This is pen'"
      ]
     },
     "execution_count": 48,
     "metadata": {},
     "output_type": "execute_result"
    }
   ],
   "source": [
    "str.replace(\"a \", \"\")"
   ]
  },
  {
   "cell_type": "code",
   "execution_count": 49,
   "metadata": {
    "collapsed": false
   },
   "outputs": [
    {
     "data": {
      "text/plain": [
       "{'kiwi': [], 'orange': 80}"
      ]
     },
     "execution_count": 49,
     "metadata": {},
     "output_type": "execute_result"
    }
   ],
   "source": [
    "dictionary"
   ]
  },
  {
   "cell_type": "code",
   "execution_count": 50,
   "metadata": {
    "collapsed": false
   },
   "outputs": [
    {
     "data": {
      "text/plain": [
       "80"
      ]
     },
     "execution_count": 50,
     "metadata": {},
     "output_type": "execute_result"
    }
   ],
   "source": [
    "dictionary['orange']"
   ]
  },
  {
   "cell_type": "code",
   "execution_count": 51,
   "metadata": {
    "collapsed": false
   },
   "outputs": [
    {
     "data": {
      "text/plain": [
       "[]"
      ]
     },
     "execution_count": 51,
     "metadata": {},
     "output_type": "execute_result"
    }
   ],
   "source": [
    "dictionary[\"kiwi\"]"
   ]
  },
  {
   "cell_type": "code",
   "execution_count": 52,
   "metadata": {
    "collapsed": true
   },
   "outputs": [],
   "source": [
    "dictionary[\"kiwi\"].append(50)"
   ]
  },
  {
   "cell_type": "code",
   "execution_count": 53,
   "metadata": {
    "collapsed": false
   },
   "outputs": [
    {
     "data": {
      "text/plain": [
       "{'kiwi': [50], 'orange': 80}"
      ]
     },
     "execution_count": 53,
     "metadata": {},
     "output_type": "execute_result"
    }
   ],
   "source": [
    "dictionary"
   ]
  },
  {
   "cell_type": "code",
   "execution_count": 54,
   "metadata": {
    "collapsed": false
   },
   "outputs": [
    {
     "data": {
      "text/plain": [
       "[50]"
      ]
     },
     "execution_count": 54,
     "metadata": {},
     "output_type": "execute_result"
    }
   ],
   "source": [
    "dictionary['kiwi']"
   ]
  },
  {
   "cell_type": "code",
   "execution_count": 55,
   "metadata": {
    "collapsed": true
   },
   "outputs": [],
   "source": [
    "dictionary[\"kiwi\"].append(500)"
   ]
  },
  {
   "cell_type": "code",
   "execution_count": 56,
   "metadata": {
    "collapsed": false
   },
   "outputs": [
    {
     "data": {
      "text/plain": [
       "{'kiwi': [50, 500], 'orange': 80}"
      ]
     },
     "execution_count": 56,
     "metadata": {},
     "output_type": "execute_result"
    }
   ],
   "source": [
    "dictionary"
   ]
  },
  {
   "cell_type": "code",
   "execution_count": 57,
   "metadata": {
    "collapsed": false
   },
   "outputs": [
    {
     "data": {
      "text/plain": [
       "[50, 500]"
      ]
     },
     "execution_count": 57,
     "metadata": {},
     "output_type": "execute_result"
    }
   ],
   "source": [
    "dictionary['kiwi']"
   ]
  },
  {
   "cell_type": "code",
   "execution_count": 58,
   "metadata": {
    "collapsed": false
   },
   "outputs": [
    {
     "data": {
      "text/plain": [
       "500"
      ]
     },
     "execution_count": 58,
     "metadata": {},
     "output_type": "execute_result"
    }
   ],
   "source": [
    "dictionary['kiwi'][1]"
   ]
  },
  {
   "cell_type": "code",
   "execution_count": 59,
   "metadata": {
    "collapsed": true
   },
   "outputs": [],
   "source": [
    "dictionary[\"kiwi\"].append(5000)"
   ]
  },
  {
   "cell_type": "code",
   "execution_count": 60,
   "metadata": {
    "collapsed": false
   },
   "outputs": [
    {
     "data": {
      "text/plain": [
       "{'kiwi': [50, 500, 5000], 'orange': 80}"
      ]
     },
     "execution_count": 60,
     "metadata": {},
     "output_type": "execute_result"
    }
   ],
   "source": [
    "dictionary"
   ]
  },
  {
   "cell_type": "code",
   "execution_count": 61,
   "metadata": {
    "collapsed": false
   },
   "outputs": [
    {
     "name": "stdout",
     "output_type": "stream",
     "text": [
      "50\n",
      "500\n",
      "5000\n"
     ]
    }
   ],
   "source": [
    "for value in dictionary['kiwi']:\n",
    "    print value"
   ]
  },
  {
   "cell_type": "code",
   "execution_count": 62,
   "metadata": {
    "collapsed": false
   },
   "outputs": [
    {
     "data": {
      "text/plain": [
       "[50, 500, 5000]"
      ]
     },
     "execution_count": 62,
     "metadata": {},
     "output_type": "execute_result"
    }
   ],
   "source": [
    "[value for value in dictionary['kiwi']]"
   ]
  },
  {
   "cell_type": "code",
   "execution_count": 63,
   "metadata": {
    "collapsed": false
   },
   "outputs": [
    {
     "data": {
      "text/plain": [
       "[50, 500, 5000]"
      ]
     },
     "execution_count": 63,
     "metadata": {},
     "output_type": "execute_result"
    }
   ],
   "source": [
    "dictionary['kiwi']"
   ]
  },
  {
   "cell_type": "code",
   "execution_count": 64,
   "metadata": {
    "collapsed": false
   },
   "outputs": [
    {
     "data": {
      "text/plain": [
       "[60, 510, 5010]"
      ]
     },
     "execution_count": 64,
     "metadata": {},
     "output_type": "execute_result"
    }
   ],
   "source": [
    "[value + 10 for value in dictionary['kiwi']]"
   ]
  },
  {
   "cell_type": "code",
   "execution_count": 65,
   "metadata": {
    "collapsed": true
   },
   "outputs": [],
   "source": [
    "new_list = []\n",
    "for value in dictionary['kiwi']:\n",
    "    new_list.append(value + 10)"
   ]
  },
  {
   "cell_type": "code",
   "execution_count": 66,
   "metadata": {
    "collapsed": false
   },
   "outputs": [
    {
     "data": {
      "text/plain": [
       "[60, 510, 5010]"
      ]
     },
     "execution_count": 66,
     "metadata": {},
     "output_type": "execute_result"
    }
   ],
   "source": [
    "new_list"
   ]
  },
  {
   "cell_type": "code",
   "execution_count": 67,
   "metadata": {
    "collapsed": true
   },
   "outputs": [],
   "source": [
    "str = \"This is a pen.\\n\""
   ]
  },
  {
   "cell_type": "code",
   "execution_count": 68,
   "metadata": {
    "collapsed": false
   },
   "outputs": [
    {
     "data": {
      "text/plain": [
       "['This', 'is', 'a', 'pen.']"
      ]
     },
     "execution_count": 68,
     "metadata": {},
     "output_type": "execute_result"
    }
   ],
   "source": [
    "str.split()"
   ]
  },
  {
   "cell_type": "code",
   "execution_count": 69,
   "metadata": {
    "collapsed": false
   },
   "outputs": [
    {
     "data": {
      "text/plain": [
       "['Th', 's ', 's a pen.\\n']"
      ]
     },
     "execution_count": 69,
     "metadata": {},
     "output_type": "execute_result"
    }
   ],
   "source": [
    "str.split(\"i\")"
   ]
  },
  {
   "cell_type": "code",
   "execution_count": 70,
   "metadata": {
    "collapsed": false
   },
   "outputs": [
    {
     "data": {
      "text/plain": [
       "['This', 'is', 'a', 'pen.\\n']"
      ]
     },
     "execution_count": 70,
     "metadata": {},
     "output_type": "execute_result"
    }
   ],
   "source": [
    "str.split(\" \")"
   ]
  },
  {
   "cell_type": "code",
   "execution_count": 71,
   "metadata": {
    "collapsed": false
   },
   "outputs": [
    {
     "name": "stdout",
     "output_type": "stream",
     "text": [
      "This\n",
      "is\n",
      "a\n",
      "pen.\n"
     ]
    }
   ],
   "source": [
    "for word in str.split():\n",
    "    print word"
   ]
  },
  {
   "cell_type": "code",
   "execution_count": 72,
   "metadata": {
    "collapsed": true
   },
   "outputs": [],
   "source": [
    "dict = dictionary"
   ]
  },
  {
   "cell_type": "code",
   "execution_count": 73,
   "metadata": {
    "collapsed": false
   },
   "outputs": [
    {
     "data": {
      "text/plain": [
       "{'kiwi': [50, 500, 5000], 'orange': 80}"
      ]
     },
     "execution_count": 73,
     "metadata": {},
     "output_type": "execute_result"
    }
   ],
   "source": [
    "dict"
   ]
  },
  {
   "cell_type": "code",
   "execution_count": 74,
   "metadata": {
    "collapsed": true
   },
   "outputs": [],
   "source": [
    "dict['orange'] = [30, 300, 3000]"
   ]
  },
  {
   "cell_type": "code",
   "execution_count": 75,
   "metadata": {
    "collapsed": true
   },
   "outputs": [],
   "source": [
    "d = {}"
   ]
  },
  {
   "cell_type": "code",
   "execution_count": 76,
   "metadata": {
    "collapsed": true
   },
   "outputs": [],
   "source": [
    "d.update({'Tokyo':{}})"
   ]
  },
  {
   "cell_type": "code",
   "execution_count": 77,
   "metadata": {
    "collapsed": false
   },
   "outputs": [
    {
     "data": {
      "text/plain": [
       "{'Tokyo': {}}"
      ]
     },
     "execution_count": 77,
     "metadata": {},
     "output_type": "execute_result"
    }
   ],
   "source": [
    "d"
   ]
  },
  {
   "cell_type": "code",
   "execution_count": 78,
   "metadata": {
    "collapsed": false
   },
   "outputs": [
    {
     "data": {
      "text/plain": [
       "{}"
      ]
     },
     "execution_count": 78,
     "metadata": {},
     "output_type": "execute_result"
    }
   ],
   "source": [
    "d['Tokyo']"
   ]
  },
  {
   "cell_type": "code",
   "execution_count": 80,
   "metadata": {
    "collapsed": false
   },
   "outputs": [],
   "source": [
    "d['Tokyo'].update({'Osaka':[]})"
   ]
  },
  {
   "cell_type": "code",
   "execution_count": 81,
   "metadata": {
    "collapsed": false
   },
   "outputs": [
    {
     "data": {
      "text/plain": [
       "{'Tokyo': {'Osaka': []}}"
      ]
     },
     "execution_count": 81,
     "metadata": {},
     "output_type": "execute_result"
    }
   ],
   "source": [
    "d"
   ]
  },
  {
   "cell_type": "code",
   "execution_count": 82,
   "metadata": {
    "collapsed": false
   },
   "outputs": [
    {
     "data": {
      "text/plain": [
       "{'Osaka': []}"
      ]
     },
     "execution_count": 82,
     "metadata": {},
     "output_type": "execute_result"
    }
   ],
   "source": [
    "d['Tokyo']"
   ]
  },
  {
   "cell_type": "code",
   "execution_count": 83,
   "metadata": {
    "collapsed": false
   },
   "outputs": [
    {
     "data": {
      "text/plain": [
       "[]"
      ]
     },
     "execution_count": 83,
     "metadata": {},
     "output_type": "execute_result"
    }
   ],
   "source": [
    "d['Tokyo']['Osaka']"
   ]
  },
  {
   "cell_type": "code",
   "execution_count": 84,
   "metadata": {
    "collapsed": true
   },
   "outputs": [],
   "source": [
    "d['Tokyo']['Osaka'].append(100)"
   ]
  },
  {
   "cell_type": "code",
   "execution_count": 85,
   "metadata": {
    "collapsed": false
   },
   "outputs": [
    {
     "data": {
      "text/plain": [
       "{'Tokyo': {'Osaka': [100]}}"
      ]
     },
     "execution_count": 85,
     "metadata": {},
     "output_type": "execute_result"
    }
   ],
   "source": [
    "d"
   ]
  },
  {
   "cell_type": "code",
   "execution_count": 86,
   "metadata": {
    "collapsed": true
   },
   "outputs": [],
   "source": [
    "d['Tokyo']['Osaka'].append(200)"
   ]
  },
  {
   "cell_type": "code",
   "execution_count": 87,
   "metadata": {
    "collapsed": false
   },
   "outputs": [
    {
     "data": {
      "text/plain": [
       "{'Tokyo': {'Osaka': [100, 200]}}"
      ]
     },
     "execution_count": 87,
     "metadata": {},
     "output_type": "execute_result"
    }
   ],
   "source": [
    "d"
   ]
  },
  {
   "cell_type": "code",
   "execution_count": 88,
   "metadata": {
    "collapsed": true
   },
   "outputs": [],
   "source": [
    "d['Tokyo'].update({'Nagoya':[]})"
   ]
  },
  {
   "cell_type": "code",
   "execution_count": 89,
   "metadata": {
    "collapsed": false
   },
   "outputs": [
    {
     "data": {
      "text/plain": [
       "{'Tokyo': {'Nagoya': [], 'Osaka': [100, 200]}}"
      ]
     },
     "execution_count": 89,
     "metadata": {},
     "output_type": "execute_result"
    }
   ],
   "source": [
    "d"
   ]
  },
  {
   "cell_type": "code",
   "execution_count": 90,
   "metadata": {
    "collapsed": true
   },
   "outputs": [],
   "source": [
    "d['Tokyo']['Osaka'].append(300)"
   ]
  },
  {
   "cell_type": "code",
   "execution_count": 91,
   "metadata": {
    "collapsed": true
   },
   "outputs": [],
   "source": [
    "d['Tokyo']['Nagoya'].append(400)"
   ]
  },
  {
   "cell_type": "code",
   "execution_count": 92,
   "metadata": {
    "collapsed": false
   },
   "outputs": [
    {
     "data": {
      "text/plain": [
       "{'Tokyo': {'Nagoya': [400], 'Osaka': [100, 200, 300]}}"
      ]
     },
     "execution_count": 92,
     "metadata": {},
     "output_type": "execute_result"
    }
   ],
   "source": [
    "d"
   ]
  },
  {
   "cell_type": "code",
   "execution_count": 102,
   "metadata": {
    "collapsed": true
   },
   "outputs": [],
   "source": [
    "d = {'Tokyo': {'Nagoya': [400], 'Osaka': [100, 200, 300]},\n",
    "    'Sapporo': {'Nagoya': [1400, 1500, 1600], 'Osaka': [1100, 1200, 1300]}}"
   ]
  },
  {
   "cell_type": "code",
   "execution_count": 103,
   "metadata": {
    "collapsed": false
   },
   "outputs": [
    {
     "name": "stdout",
     "output_type": "stream",
     "text": [
      "Sapporo\n",
      "Tokyo\n"
     ]
    }
   ],
   "source": [
    "for c1 in d:\n",
    "    print c1"
   ]
  },
  {
   "cell_type": "code",
   "execution_count": 104,
   "metadata": {
    "collapsed": false
   },
   "outputs": [
    {
     "name": "stdout",
     "output_type": "stream",
     "text": [
      "Sapporo {'Osaka': [1100, 1200, 1300], 'Nagoya': [1400, 1500, 1600]}\n",
      "Tokyo {'Osaka': [100, 200, 300], 'Nagoya': [400]}\n"
     ]
    }
   ],
   "source": [
    "for c1 in d:\n",
    "    print c1, d[c1]"
   ]
  },
  {
   "cell_type": "code",
   "execution_count": 105,
   "metadata": {
    "collapsed": false
   },
   "outputs": [
    {
     "name": "stdout",
     "output_type": "stream",
     "text": [
      "Sapporo Osaka [1100, 1200, 1300]\n",
      "Sapporo Nagoya [1400, 1500, 1600]\n",
      "Tokyo Osaka [100, 200, 300]\n",
      "Tokyo Nagoya [400]\n"
     ]
    }
   ],
   "source": [
    "for c1 in d:\n",
    "    for c2 in d[c1]:\n",
    "        print c1, c2, d[c1][c2]"
   ]
  },
  {
   "cell_type": "code",
   "execution_count": 106,
   "metadata": {
    "collapsed": false
   },
   "outputs": [
    {
     "data": {
      "text/plain": [
       "{'Sapporo': {'Nagoya': [1400, 1500, 1600], 'Osaka': [1100, 1200, 1300]},\n",
       " 'Tokyo': {'Nagoya': [400], 'Osaka': [100, 200, 300]}}"
      ]
     },
     "execution_count": 106,
     "metadata": {},
     "output_type": "execute_result"
    }
   ],
   "source": [
    "d"
   ]
  },
  {
   "cell_type": "code",
   "execution_count": 107,
   "metadata": {
    "collapsed": false
   },
   "outputs": [
    {
     "data": {
      "text/plain": [
       "{'Nagoya': [1400, 1500, 1600], 'Osaka': [1100, 1200, 1300]}"
      ]
     },
     "execution_count": 107,
     "metadata": {},
     "output_type": "execute_result"
    }
   ],
   "source": [
    "d['Sapporo']"
   ]
  },
  {
   "cell_type": "code",
   "execution_count": 108,
   "metadata": {
    "collapsed": false
   },
   "outputs": [
    {
     "data": {
      "text/plain": [
       "[[array([1100, 1200, 1300])], [array([1400, 1500, 1600])]]"
      ]
     },
     "execution_count": 108,
     "metadata": {},
     "output_type": "execute_result"
    }
   ],
   "source": [
    "%matplotlib inline\n",
    "import matplotlib.pyplot as plt\n",
    "import numpy as np\n",
    "\n",
    "query = 'Sapporo'\n",
    "all_keys = []\n",
    "all_data = []\n",
    "for c2 in d[query]:\n",
    "    all_keys.append(c2)\n",
    "    data = []\n",
    "    data.append(np.array(d[query][c2]))\n",
    "    all_data.append(data)\n",
    "all_data"
   ]
  },
  {
   "cell_type": "code",
   "execution_count": 109,
   "metadata": {
    "collapsed": false
   },
   "outputs": [
    {
     "data": {
      "image/png": "[encoded data removed]",
      "text/plain": [
       "<matplotlib.figure.Figure at 0x10e368450>"
      ]
     },
     "metadata": {},
     "output_type": "display_data"
    }
   ],
   "source": [
    "x_pos = [n + 1 for n in np.arange(len(all_data))]\n",
    "plt.title(\"Distribution of SW scores against {0}\".format(query))\n",
    "plt.boxplot(all_data) \n",
    "plt.xticks(x_pos, all_keys)\n",
    "plt.ylabel(\"SW\")\n",
    "plt.show()"
   ]
  },
  {
   "cell_type": "code",
   "execution_count": null,
   "metadata": {
    "collapsed": true
   },
   "outputs": [],
   "source": []
  }
 ],
 "metadata": {
  "kernelspec": {
   "display_name": "Python 2",
   "language": "python",
   "name": "python2"
  },
  "language_info": {
   "codemirror_mode": {
    "name": "ipython",
    "version": 2
   },
   "file_extension": ".py",
   "mimetype": "text/x-python",
   "name": "python",
   "nbconvert_exporter": "python",
   "pygments_lexer": "ipython2",
   "version": "2.7.11"
  }
 },
 "nbformat": 4,
 "nbformat_minor": 0
}
