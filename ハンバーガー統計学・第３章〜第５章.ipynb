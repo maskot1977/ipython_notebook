{
 "cells": [
  {
   "cell_type": "markdown",
   "metadata": {},
   "source": [
    "# ハンバーガー統計学 + Python (第3章〜第5章)\n",
    "[ハンバーガー統計学にようこそ！](http://kogolab.chillout.jp/elearn/hamburger/index.html)\n",
    "のページを読み進めながら、以下の課題を Python を使って解いてください。\n",
    "\n",
    "* [アイスクリーム統計学・第１章〜第３章（散布図と相関、相関係数、無相関検定）](http://nbviewer.jupyter.org/github/maskot1977/ipython_notebook/blob/master/%E3%82%A2%E3%82%A4%E3%82%B9%E3%82%AF%E3%83%AA%E3%83%BC%E3%83%A0%E7%B5%B1%E8%A8%88%E5%AD%A6%E3%83%BB%E7%AC%AC%EF%BC%91%E7%AB%A0%E3%80%9C%E7%AC%AC%EF%BC%93%E7%AB%A0.ipynb)\n",
    "* [アイスクリーム統計学・第４章〜第６章（単回帰、偏相関、重回帰）](http://nbviewer.jupyter.org/github/maskot1977/ipython_notebook/blob/master/%E3%82%A2%E3%82%A4%E3%82%B9%E3%82%AF%E3%83%AA%E3%83%BC%E3%83%A0%E7%B5%B1%E8%A8%88%E5%AD%A6%E3%83%BB%E7%AC%AC%EF%BC%94%E7%AB%A0%E3%80%9C%E7%AC%AC%EF%BC%96%E7%AB%A0.ipynb)\n",
    "* [アイスクリーム統計学・第７章〜第９章（相関行列、因子分析1、因子分析2）](http://nbviewer.jupyter.org/github/maskot1977/ipython_notebook/blob/master/%E3%82%A2%E3%82%A4%E3%82%B9%E3%82%AF%E3%83%AA%E3%83%BC%E3%83%A0%E7%B5%B1%E8%A8%88%E5%AD%A6%E3%83%BB%E7%AC%AC%EF%BC%97%E7%AB%A0%E3%80%9C%E7%AC%AC%EF%BC%99%E7%AB%A0.ipynb)\n",
    "* [アイスクリーム統計学・第１０章（主成分分析とクラスター分析）](http://nbviewer.jupyter.org/github/maskot1977/ipython_notebook/blob/master/%E3%82%A2%E3%82%A4%E3%82%B9%E3%82%AF%E3%83%AA%E3%83%BC%E3%83%A0%E7%B5%B1%E8%A8%88%E5%AD%A6%E3%83%BB%E7%AC%AC%EF%BC%91%EF%BC%90%E7%AB%A0.ipynb)\n",
    "* [ハンバーガー統計学・第１章〜第２章（平均と分散、信頼区間）](http://nbviewer.jupyter.org/github/maskot1977/ipython_notebook/blob/master/%E3%83%8F%E3%83%B3%E3%83%8F%E3%82%99%E3%83%BC%E3%82%AB%E3%82%99%E3%83%BC%E7%B5%B1%E8%A8%88%E5%AD%A6%E3%83%BB%E7%AC%AC%EF%BC%91%E7%AB%A0%E3%80%9C%E7%AC%AC%EF%BC%92%E7%AB%A0.ipynb)\n",
    "* [ハンバーガー統計学・第３章〜第５章（カイ２乗検定、t検定（対応なし・対応あり））](http://nbviewer.jupyter.org/github/maskot1977/ipython_notebook/blob/master/%E3%83%8F%E3%83%B3%E3%83%8F%E3%82%99%E3%83%BC%E3%82%AB%E3%82%99%E3%83%BC%E7%B5%B1%E8%A8%88%E5%AD%A6%E3%83%BB%E7%AC%AC%EF%BC%93%E7%AB%A0%E3%80%9C%E7%AC%AC%EF%BC%95%E7%AB%A0.ipynb)\n",
    "\n",
    "### Jupyter Notebook (IPython Notebook) とは\n",
    "* Python という名のプログラミング言語が使えるプログラミング環境。計算コードと計算結果を同じ場所に時系列で保存できるので、実験系における実験ノートのように、いつどんな処理を行って何を得たのか記録して再現するのに便利。\n",
    "* [当学演習室での Jupyter Notebook の起動方法](https://raw.githubusercontent.com/maskot1977/-/master/%E6%BC%94%E7%BF%92%E5%AE%A4.txt)"
   ]
  },
  {
   "cell_type": "markdown",
   "metadata": {},
   "source": [
    "## 3. [カイ２乗検定](http://kogolab.chillout.jp/elearn/hamburger/chap3/sec0.html)\n",
    "本文を読んで概念を学んでください。"
   ]
  },
  {
   "cell_type": "markdown",
   "metadata": {},
   "source": [
    "### 3.1　[チキンの売り上げは少ないのか](http://kogolab.chillout.jp/elearn/hamburger/chap3/sec1.html)\n",
    "本文を読んで概念を学んでください。"
   ]
  },
  {
   "cell_type": "markdown",
   "metadata": {},
   "source": [
    "### 3.2　[カイ２乗値とカイ２乗分布](http://kogolab.chillout.jp/elearn/hamburger/chap3/sec2.html)\n",
    "本文を読んで概念を学んでください。"
   ]
  },
  {
   "cell_type": "markdown",
   "metadata": {},
   "source": [
    "### 3.3　[カイ２乗検定](http://kogolab.chillout.jp/elearn/hamburger/chap3/sec3.html)\n",
    "本文を読んで概念を学んでください。"
   ]
  },
  {
   "cell_type": "markdown",
   "metadata": {},
   "source": [
    "### 3.4　[実践編：ハンバーガーを入れてみる](http://kogolab.chillout.jp/elearn/hamburger/chap3/sec4.html)"
   ]
  },
  {
   "cell_type": "markdown",
   "metadata": {},
   "source": [
    "__課題3.4__: 下表をもとに、ワクワクとモグモグのポテト・チキン・ハンバーガーの売れ方に違いがあるかをカイ２乗検定で調べたいと思います。以下の問いに答えてください。\n",
    "<table border=1 bgcolor=\"#FFFFFF\" cellpadding=\"0\" cellspacing=\"0\" align=center>\n",
    "  <caption>表3.9　ポテトとチキンとハンバーガーの売り上げ数</caption>\n",
    "  <tr> \n",
    "    <th width=100 height=30 bgcolor=\"#CCCC99\"> お店 </th>\n",
    "    <th width=81 height=30 bgcolor=\"#FFFFCC\"> ポテト </th>\n",
    "    <th width=100 height=30 bgcolor=\"#FFCCCC\"> チキン </th>\n",
    "    <th width=100 height=30 bgcolor=\"#99FFCC\">ハンバーガー</th>\n",
    "    <th width=100 height=30 bgcolor=\"#CCCCCC\">合計</th>\n",
    "  </tr>\n",
    "  <tr align=center> \n",
    "    <td width=100 height=30 bgcolor=\"#CCCC99\"> ワクワク </td>\n",
    "    <td width=100 height=30 bgcolor=\"#FFFFFF\"> 435</td>\n",
    "    <td width=100 height=30 bgcolor=\"#FFFFFF\">165</td>\n",
    "    <td width=100 height=30 bgcolor=\"#FFFFFF\">650</td>\n",
    "    <td width=100 height=30 bgcolor=\"#CCCCCC\">1250</td>\n",
    "  </tr>\n",
    "  <tr align=center> \n",
    "    <td width=119 height=30 bgcolor=\"#CCCC99\"> モグモグ </td>\n",
    "    <td width=81 height=30 bgcolor=\"#FFFFFF\"> 265</td>\n",
    "    <td width=100 height=30 bgcolor=\"#FFFFFF\">135</td>\n",
    "    <td width=100 height=30 bgcolor=\"#FFFFFF\">350</td>\n",
    "    <td width=100 height=30 bgcolor=\"#CCCCCC\">750</td>\n",
    "  </tr>\n",
    "  <tr align=center bgcolor=\"#CCCCCC\"> \n",
    "    <td width=119 height=30>合計</td>\n",
    "    <td width=81 height=30>700</td>\n",
    "    <td width=100 height=30>300</td>\n",
    "    <td width=100 height=30>1000</td>\n",
    "    <td width=100 height=30>2000</td>\n",
    "  </tr>\n",
    "</table>"
   ]
  },
  {
   "cell_type": "markdown",
   "metadata": {},
   "source": [
    "* 帰無仮説と対立仮説は何か、説明してください。\n",
    "  * 帰無仮説：\n",
    "  * 対立仮説："
   ]
  },
  {
   "cell_type": "code",
   "execution_count": null,
   "metadata": {
    "collapsed": true
   },
   "outputs": [],
   "source": []
  },
  {
   "cell_type": "markdown",
   "metadata": {},
   "source": [
    "* 帰無仮説に基づいて、モグモグとワクワクの、ポテトとチキンとハンバーガーの売上数の期待度数を求めてください（下表の６つの空欄）。\n",
    "<table border=1 bgcolor=\"#FFFFFF\" cellpadding=\"0\" cellspacing=\"0\" align=center>\n",
    "  <caption>表3.10　ポテトとチキンとハンバーガーの売り上げの期待度数</caption>\n",
    "  <tr> \n",
    "    <th width=100 height=30 bgcolor=\"#CCCC99\"> お店 </th>\n",
    "    <th width=81 height=30 bgcolor=\"#FFFFCC\"> ポテト </th>\n",
    "    <th width=100 height=30 bgcolor=\"#FFCCCC\"> チキン </th>\n",
    "    <th width=100 height=30 bgcolor=\"#99FFCC\">ハンバーガー</th>\n",
    "    <th width=100 height=30 bgcolor=\"#CCCCCC\">合計</th>\n",
    "  </tr>\n",
    "  <tr align=center> \n",
    "    <td width=100 height=30 bgcolor=\"#CCCC99\"> ワクワク </td>\n",
    "    <td width=100 height=30 bgcolor=\"#FFFFFF\">　 </td>\n",
    "    <td width=100 height=30 bgcolor=\"#FFFFFF\">　</td>\n",
    "    <td width=100 height=30 bgcolor=\"#FFFFFF\">　</td>\n",
    "    <td width=100 height=30 bgcolor=\"#CCCCCC\">1250</td>\n",
    "  </tr>\n",
    "  <tr align=center> \n",
    "    <td width=119 height=30 bgcolor=\"#CCCC99\"> モグモグ </td>\n",
    "    <td width=81 height=30 bgcolor=\"#FFFFFF\">　 </td>\n",
    "    <td width=100 height=30 bgcolor=\"#FFFFFF\">　</td>\n",
    "    <td width=100 height=30 bgcolor=\"#FFFFFF\">　</td>\n",
    "    <td width=100 height=30 bgcolor=\"#CCCCCC\">750</td>\n",
    "  </tr>\n",
    "  <tr align=center bgcolor=\"#CCCCCC\"> \n",
    "    <td width=119 height=30>合計</td>\n",
    "    <td width=81 height=30>700</td>\n",
    "    <td width=100 height=30>300</td>\n",
    "    <td width=100 height=30>1000</td>\n",
    "    <td width=100 height=30>2000</td>\n",
    "  </tr>\n",
    "</table>"
   ]
  },
  {
   "cell_type": "code",
   "execution_count": null,
   "metadata": {
    "collapsed": true
   },
   "outputs": [],
   "source": []
  },
  {
   "cell_type": "markdown",
   "metadata": {},
   "source": [
    "* 観測度数と期待度数を元にして、カイ２乗値を計算してください（全部で6個の空欄について計算します）。\n",
    "  * カイ２乗値＝（（（観測度数－期待度数）の２乗）÷期待度数）の総和"
   ]
  },
  {
   "cell_type": "code",
   "execution_count": null,
   "metadata": {
    "collapsed": true
   },
   "outputs": [],
   "source": []
  },
  {
   "cell_type": "markdown",
   "metadata": {},
   "source": [
    "* 自由度を求めてください。\n",
    "  * 自由度＝（行の数－1）×（列の数－1）"
   ]
  },
  {
   "cell_type": "code",
   "execution_count": null,
   "metadata": {
    "collapsed": true
   },
   "outputs": [],
   "source": []
  },
  {
   "cell_type": "markdown",
   "metadata": {},
   "source": [
    "* ここでは、有意水準をちょっと厳しくして、1%としましょう。カイ２乗分布表を用いて、有意水準を満たすカイ２乗値を探してください。\n",
    "<table border=1 bgcolor=\"#FFFFFF\" cellpadding=\"0\" cellspacing=\"0\" align=center>\n",
    "  <caption>表3.8　カイ２乗分布表</caption>\n",
    "  <tr> \n",
    "    <th width=100 height=30 bgcolor=\"#CCCCCC\"> ↓自由度／確率→</th>\n",
    "    <th width=81 height=30 bgcolor=\"#FFFFCC\"> 0.05</th>\n",
    "    <th width=100 height=30 bgcolor=\"#FFCCCC\"> 0.01</th>\n",
    "  </tr>\n",
    "  <tr align=center> \n",
    "    <td width=100 height=30 bgcolor=\"#CCCCCC\"> 1</td>\n",
    "    <td width=100 height=30 bgcolor=\"#FFFFFF\"> 3.84</td>\n",
    "    <td width=100 height=30 bgcolor=\"#FFFFFF\">6.63</td>\n",
    "  </tr>\n",
    "  <tr align=center> \n",
    "    <td width=119 height=30 bgcolor=\"#CCCCCC\"> 2</td>\n",
    "    <td width=81 height=30> 5.99</td>\n",
    "    <td width=100 height=30>9.21</td>\n",
    "  </tr>\n",
    "  <tr align=center bgcolor=\"#CCCCCC\"> \n",
    "    <td width=119 height=30 bgcolor=\"#CCCCCC\">3</td>\n",
    "    <td width=81 height=30 bgcolor=\"#FFFFFF\">7.81</td>\n",
    "    <td width=100 height=30 bgcolor=\"#FFFFFF\">11.34</td>\n",
    "  </tr>\n",
    "  <tr align=center bgcolor=\"#CCCCCC\"> \n",
    "    <td width=119 height=30 bgcolor=\"#CCCCCC\">4</td>\n",
    "    <td width=81 height=30 bgcolor=\"#FFFFFF\">9.49</td>\n",
    "    <td width=100 height=30 bgcolor=\"#FFFFFF\">13.28</td>\n",
    "  </tr>\n",
    "  <tr align=center bgcolor=\"#CCCCCC\"> \n",
    "    <td width=119 height=30 bgcolor=\"#CCCCCC\">5</td>\n",
    "    <td width=81 height=30 bgcolor=\"#FFFFFF\">11.07</td>\n",
    "    <td width=100 height=30 bgcolor=\"#FFFFFF\">15.09</td>\n",
    "  </tr>\n",
    "  <tr align=center bgcolor=\"#CCCCCC\"> \n",
    "    <td width=119 height=30 bgcolor=\"#CCCCCC\">…以下続く…</td>\n",
    "    <td width=81 height=30 bgcolor=\"#FFFFFF\">…</td>\n",
    "    <td width=100 height=30 bgcolor=\"#FFFFFF\">…</td>\n",
    "  </tr>\n",
    "</table>"
   ]
  },
  {
   "cell_type": "code",
   "execution_count": null,
   "metadata": {
    "collapsed": true
   },
   "outputs": [],
   "source": []
  },
  {
   "cell_type": "markdown",
   "metadata": {},
   "source": [
    "* 計算したカイ２乗値と、表から得られた「有意水準を満たすカイ２乗値」を比べてください。\n",
    "  * 計算したカイ２乗値がもし表の値よりも大きければ、それは、1%よりも小さい確率でしか起こらないことが起こったということです。したがって帰無仮説が間違っていたと考え、帰無仮説を棄却します。\n",
    "  * もし表の値よりも小さければ、それは、1%よりも大きい確率で起こりうることだということです。したがって帰無仮説を採択します。\n",
    "* 結論はどうなったか説明してください。"
   ]
  },
  {
   "cell_type": "code",
   "execution_count": null,
   "metadata": {
    "collapsed": true
   },
   "outputs": [],
   "source": []
  },
  {
   "cell_type": "markdown",
   "metadata": {},
   "source": [
    "### 3.9　[通過テスト](http://kogolab.chillout.jp/elearn/hamburger/chap3/sec9.html)\n",
    "本文を読んで、通過テストの問題を解いてください。"
   ]
  },
  {
   "cell_type": "code",
   "execution_count": null,
   "metadata": {
    "collapsed": true
   },
   "outputs": [],
   "source": []
  },
  {
   "cell_type": "markdown",
   "metadata": {},
   "source": [
    "## 4. [t検定（対応なし）](http://kogolab.chillout.jp/elearn/hamburger/chap4/sec0.html)\n",
    "本文を読んで概念を学んでください。"
   ]
  },
  {
   "cell_type": "markdown",
   "metadata": {},
   "source": [
    "### 4.1　[ハンバーガーの味を評価する](http://kogolab.chillout.jp/elearn/hamburger/chap4/sec1.html)\n",
    "本文を読んで概念を学んでください。"
   ]
  },
  {
   "cell_type": "markdown",
   "metadata": {},
   "source": [
    "### 4.2　[平均差の信頼区間](http://kogolab.chillout.jp/elearn/hamburger/chap4/sec2.html)\n",
    "本文を読んで概念を学んでください。"
   ]
  },
  {
   "cell_type": "markdown",
   "metadata": {},
   "source": [
    "### 4.3　[t検定](http://kogolab.chillout.jp/elearn/hamburger/chap4/sec3.html)\n",
    "まずは本文を読んで概念を学んでください。"
   ]
  },
  {
   "cell_type": "markdown",
   "metadata": {},
   "source": [
    "__課題4.3__：ワクワクバーガーとモグモグバーガーの評価に差があるかどうか、下表の空欄を埋めながら検定を進めてください。\n",
    "<table border=1 bgcolor=\"#FFFFFF\" cellpadding=\"0\" cellspacing=\"0\" align=center>\n",
    "  <tr align=\"center\"> \n",
    "    <th width=120 height=30 bgcolor=\"#ffffcc\"> ワクワクバーガーを食べた女子高生</th>\n",
    "    <th width=120 height=30 bgcolor=\"#ffffcc\"> 点数</th>\n",
    "    <th width=120 height=30 bgcolor=\"#ffcccc\"> モグモグバーガーを食べた女子高生</th>\n",
    "    <th width=120 height=30 bgcolor=\"#ffcccc\"> 点数</th>\n",
    "  </tr>\n",
    "  <tr align=center> \n",
    "    <td width=120 height=30 bgcolor=\"#cccccc\"> 1</td>\n",
    "    <td width=120 height=30 bgcolor=\"#FFFFFF\"> 70</td>\n",
    "    <td width=120 height=30 bgcolor=\"#cccccc\"> 1</td>\n",
    "    <td width=120 height=30> 85</td>\n",
    "  </tr>\n",
    "  <tr align=center> \n",
    "    <td width=120 height=30 bgcolor=\"#cccccc\">2</td>\n",
    "    <td width=120 height=30 bgcolor=\"#FFFFFF\">75</td>\n",
    "    <td width=120 height=30 bgcolor=\"#cccccc\">2</td>\n",
    "    <td width=120 height=30>80</td>\n",
    "  </tr>\n",
    "  <tr align=center> \n",
    "    <td width=120 height=30 bgcolor=\"#cccccc\">3</td>\n",
    "    <td width=120 height=30 bgcolor=\"#FFFFFF\">70</td>\n",
    "    <td width=120 height=30 bgcolor=\"#cccccc\">3</td>\n",
    "    <td width=120 height=30>95</td>\n",
    "  </tr>\n",
    "  <tr align=center> \n",
    "    <td width=120 height=30 bgcolor=\"#cccccc\">4</td>\n",
    "    <td width=120 height=30 bgcolor=\"#FFFFFF\">85</td>\n",
    "    <td width=120 height=30 bgcolor=\"#cccccc\">4</td>\n",
    "    <td width=120 height=30>70</td>\n",
    "  </tr>\n",
    "  <tr align=center> \n",
    "    <td width=120 height=30 bgcolor=\"#cccccc\">5</td>\n",
    "    <td width=120 height=30 bgcolor=\"#FFFFFF\">90</td>\n",
    "    <td width=120 height=30 bgcolor=\"#cccccc\">5</td>\n",
    "    <td width=120 height=30>80</td>\n",
    "  </tr>\n",
    "  <tr align=center> \n",
    "    <td width=120 height=30 bgcolor=\"#cccccc\">6</td>\n",
    "    <td width=120 height=30 bgcolor=\"#FFFFFF\">70</td>\n",
    "    <td width=120 height=30 bgcolor=\"#cccccc\">6</td>\n",
    "    <td width=120 height=30>75</td>\n",
    "  </tr>\n",
    "  <tr align=center> \n",
    "    <td width=120 height=30 bgcolor=\"#cccccc\">7</td>\n",
    "    <td width=120 height=30 bgcolor=\"#FFFFFF\">80</td>\n",
    "    <td width=120 height=30 bgcolor=\"#cccccc\">7</td>\n",
    "    <td width=120 height=30>80</td>\n",
    "  </tr>\n",
    "  <tr align=center> \n",
    "    <td width=120 height=30 bgcolor=\"#cccccc\">8</td>\n",
    "    <td width=120 height=30 bgcolor=\"#FFFFFF\">75</td>\n",
    "    <td width=120 height=30 bgcolor=\"#cccccc\">8</td>\n",
    "    <td width=120 height=30>90</td>\n",
    "  </tr>\n",
    "  <tr align=center> \n",
    "    <td width=120 height=30 bgcolor=\"#ffffcc\">標本平均</td>\n",
    "    <td width=120 height=30 bgcolor=\"#ffffff\"></td>\n",
    "    <td width=120 height=30 bgcolor=\"#ffcccc\">標本平均</td>\n",
    "    <td width=120 height=30 bgcolor=\"#ffffff\"></td>\n",
    "  </tr>\n",
    "  <tr align=center> \n",
    "    <td width=120 height=30 bgcolor=\"#ffffcc\">標本分散</td>\n",
    "    <td width=120 height=30 bgcolor=\"#ffffff\"></td>\n",
    "    <td width=120 height=30 bgcolor=\"#ffcccc\">標本分散</td>\n",
    "    <td width=120 height=30 bgcolor=\"#ffffff\"></td>\n",
    "  </tr>\n",
    "  <tr align=center> \n",
    "    <td width=120 height=30 bgcolor=\"#ffffcc\">平均偏差の平方和</td>\n",
    "    <td width=120 height=30 bgcolor=\"#ffffff\"></td>\n",
    "    <td width=120 height=30 bgcolor=\"#ffcccc\">平均偏差の平方和</td>\n",
    "    <td width=120 height=30 bgcolor=\"#ffffff\"></td>\n",
    "  </tr>\n",
    "  <tr align=center> \n",
    "    <td width=120 height=30 bgcolor=\"#cccccc\">推定母分散</td>\n",
    "    <td width=120 height=30 bgcolor=\"#ffffff\" colspan=\"3\"></td>\n",
    "  </tr>\n",
    "  <tr align=center> \n",
    "    <td width=120 height=30 bgcolor=\"#cccccc\">差の標準誤差</td>\n",
    "    <td width=120 height=30 bgcolor=\"#ffffff\" colspan=\"3\"></td>\n",
    "  </tr>\n",
    "  <tr align=center> \n",
    "    <td width=120 height=30 bgcolor=\"#cccccc\">t値</td>\n",
    "    <td width=120 height=30 bgcolor=\"#ffffff\" colspan=\"3\"></td>\n",
    "  </tr>\n",
    "</table>"
   ]
  },
  {
   "cell_type": "markdown",
   "metadata": {},
   "source": [
    "* ワクワクバーガー、モグモグバーガーの評価点の平均値（標本平均）をそれぞれ求めてください。"
   ]
  },
  {
   "cell_type": "code",
   "execution_count": 7,
   "metadata": {
    "collapsed": true
   },
   "outputs": [],
   "source": [
    "wakuwaku =   [70, 75, 70, 85, 90, 70, 80, 75]\n",
    "mogumogu = [85, 80, 95, 70, 80, 75, 80, 90] "
   ]
  },
  {
   "cell_type": "code",
   "execution_count": null,
   "metadata": {
    "collapsed": true
   },
   "outputs": [],
   "source": []
  },
  {
   "cell_type": "markdown",
   "metadata": {},
   "source": [
    "* ワクワクバーガー、モグモグバーガーの評価点の分散値（標本分散）をそれぞれ求めてください。"
   ]
  },
  {
   "cell_type": "code",
   "execution_count": null,
   "metadata": {
    "collapsed": true
   },
   "outputs": [],
   "source": []
  },
  {
   "cell_type": "markdown",
   "metadata": {},
   "source": [
    "* ワクワクバーガー、モグモグバーガーの評価点の平均偏差の平方和をそれぞれ求めてください。"
   ]
  },
  {
   "cell_type": "code",
   "execution_count": null,
   "metadata": {
    "collapsed": true
   },
   "outputs": [],
   "source": []
  },
  {
   "cell_type": "markdown",
   "metadata": {},
   "source": [
    "* 推定母分散を求めてください。\n",
    "  * __推定母分散__ ＝（標本Aの平均偏差の平方和＋標本Bの平均偏差の平方和）／（（標本数A－1）＋（標本数B－1））"
   ]
  },
  {
   "cell_type": "code",
   "execution_count": null,
   "metadata": {
    "collapsed": true
   },
   "outputs": [],
   "source": []
  },
  {
   "cell_type": "markdown",
   "metadata": {},
   "source": [
    "* ｔ値を求めてください。\n",
    "  * __t__ ＝（標本平均の差）／sqrt（推定母分散×（（1／標本数A）＋（1／標本数B））"
   ]
  },
  {
   "cell_type": "code",
   "execution_count": null,
   "metadata": {
    "collapsed": true
   },
   "outputs": [],
   "source": []
  },
  {
   "cell_type": "markdown",
   "metadata": {},
   "source": [
    "* 自由度を求めてください。\n",
    "  * t検定の場合は、（標本数A-1）と（標本数B-1）を足したものが自由度になります。"
   ]
  },
  {
   "cell_type": "code",
   "execution_count": null,
   "metadata": {
    "collapsed": true
   },
   "outputs": [],
   "source": []
  },
  {
   "cell_type": "markdown",
   "metadata": {},
   "source": [
    "* 下記のt分布表を用いて、t検定の結果を説明してください。\n",
    "<table width=\"50%\" border=\"1\" align=\"center\" cellpadding=\"2\" cellspacing=\"0\">\n",
    "  <tr bgcolor=\"#FFFFCC\"> \n",
    "    <td width=\"32%\"> <div align=\"right\">自由度</div></td>\n",
    "    <td width=\"34%\"> <div align=\"right\">有意水準5%</div></td>\n",
    "    <td width=\"34%\"> <div align=\"right\">有意水準1%</div></td>\n",
    "  </tr>\n",
    "  <tr> \n",
    "    <td bgcolor=\"#CCCCCC\"><div align=\"right\">1</div></td>\n",
    "    <td><div align=\"right\">12.706</div></td>\n",
    "    <td><div align=\"right\">63.657</div></td>\n",
    "  </tr>\n",
    "  <tr> \n",
    "    <td bgcolor=\"#CCCCCC\"><div align=\"right\">2</div></td>\n",
    "    <td><div align=\"right\">4.303</div></td>\n",
    "    <td><div align=\"right\">9.925</div></td>\n",
    "  </tr>\n",
    "  <tr> \n",
    "    <td bgcolor=\"#CCCCCC\"><div align=\"right\">3</div></td>\n",
    "    <td><div align=\"right\">3.182</div></td>\n",
    "    <td><div align=\"right\">5.841</div></td>\n",
    "  </tr>\n",
    "  <tr> \n",
    "    <td bgcolor=\"#CCCCCC\"><div align=\"right\">4</div></td>\n",
    "    <td><div align=\"right\">2.776</div></td>\n",
    "    <td><div align=\"right\">4.604</div></td>\n",
    "  </tr>\n",
    "  <tr> \n",
    "    <td bgcolor=\"#CCCCCC\"><div align=\"right\">5</div></td>\n",
    "    <td><div align=\"right\">2.571</div></td>\n",
    "    <td><div align=\"right\">4.032</div></td>\n",
    "  </tr>\n",
    "  <tr> \n",
    "    <td bgcolor=\"#CCCCCC\"><div align=\"right\">6</div></td>\n",
    "    <td><div align=\"right\">2.447</div></td>\n",
    "    <td><div align=\"right\">3.707</div></td>\n",
    "  </tr>\n",
    "  <tr> \n",
    "    <td bgcolor=\"#CCCCCC\"><div align=\"right\">7</div></td>\n",
    "    <td><div align=\"right\">2.365</div></td>\n",
    "    <td><div align=\"right\">3.499</div></td>\n",
    "  </tr>\n",
    "  <tr> \n",
    "    <td bgcolor=\"#CCCCCC\"><div align=\"right\">8</div></td>\n",
    "    <td><div align=\"right\">2.306</div></td>\n",
    "    <td><div align=\"right\">3.355</div></td>\n",
    "  </tr>\n",
    "  <tr> \n",
    "    <td bgcolor=\"#CCCCCC\"><div align=\"right\">9</div></td>\n",
    "    <td><div align=\"right\">2.262</div></td>\n",
    "    <td><div align=\"right\">3.250</div></td>\n",
    "  </tr>\n",
    "  <tr> \n",
    "    <td bgcolor=\"#CCCCCC\"><div align=\"right\">10</div></td>\n",
    "    <td><div align=\"right\">2.226</div></td>\n",
    "    <td><div align=\"right\">3.169</div></td>\n",
    "  </tr>\n",
    "  <tr> \n",
    "    <td bgcolor=\"#eeeeee\"> <div align=\"right\">11</div></td>\n",
    "    <td><div align=\"right\">2.201</div></td>\n",
    "    <td><div align=\"right\">3.106</div></td>\n",
    "  </tr>\n",
    "  <tr> \n",
    "    <td bgcolor=\"#eeeeee\"> <div align=\"right\">12</div></td>\n",
    "    <td><div align=\"right\">2.179</div></td>\n",
    "    <td><div align=\"right\">3.055</div></td>\n",
    "  </tr>\n",
    "  <tr> \n",
    "    <td bgcolor=\"#eeeeee\"> <div align=\"right\">13</div></td>\n",
    "    <td><div align=\"right\">2.160</div></td>\n",
    "    <td><div align=\"right\">3.021</div></td>\n",
    "  </tr>\n",
    "  <tr> \n",
    "    <td bgcolor=\"#eeeeee\"> <div align=\"right\">14</div></td>\n",
    "    <td>\n",
    "<div align=\"right\">2.145</div></td>\n",
    "    <td>\n",
    "<div align=\"right\">2.977</div></td>\n",
    "  </tr>\n",
    "  <tr> \n",
    "    <td bgcolor=\"#eeeeee\"> <div align=\"right\">15</div></td>\n",
    "    <td><div align=\"right\">2.131</div></td>\n",
    "    <td><div align=\"right\">2.947</div></td>\n",
    "  </tr>\n",
    "  <tr> \n",
    "    <td bgcolor=\"#eeeeee\"> <div align=\"right\">16</div></td>\n",
    "    <td><div align=\"right\">2.120</div></td>\n",
    "    <td><div align=\"right\">2.921</div></td>\n",
    "  </tr>\n",
    "  <tr> \n",
    "    <td bgcolor=\"#eeeeee\"> <div align=\"right\">17</div></td>\n",
    "    <td><div align=\"right\">2.110</div></td>\n",
    "    <td><div align=\"right\">2.898</div></td>\n",
    "  </tr>\n",
    "  <tr> \n",
    "    <td bgcolor=\"#eeeeee\"> <div align=\"right\">18</div></td>\n",
    "    <td><div align=\"right\">2.101</div></td>\n",
    "    <td><div align=\"right\">2.878</div></td>\n",
    "  </tr>\n",
    "  <tr> \n",
    "    <td bgcolor=\"#eeeeee\"> <div align=\"right\">19</div></td>\n",
    "    <td><div align=\"right\">2.093</div></td>\n",
    "    <td><div align=\"right\">2.861</div></td>\n",
    "  </tr>\n",
    "  <tr> \n",
    "    <td bgcolor=\"#eeeeee\"> <div align=\"right\">20</div></td>\n",
    "    <td><div align=\"right\">2.086</div></td>\n",
    "    <td><div align=\"right\">2.845</div></td>\n",
    "  </tr>\n",
    "  <tr> \n",
    "    <td bgcolor=\"#CCCCCC\"><div align=\"right\">21</div></td>\n",
    "    <td><div align=\"right\">2.080</div></td>\n",
    "    <td><div align=\"right\">2.831</div></td>\n",
    "  </tr>\n",
    "  <tr> \n",
    "    <td bgcolor=\"#CCCCCC\"><div align=\"right\">22</div></td>\n",
    "    <td><div align=\"right\">2.074</div></td>\n",
    "    <td><div align=\"right\">2.819</div></td>\n",
    "  </tr>\n",
    "  <tr> \n",
    "    <td bgcolor=\"#CCCCCC\"><div align=\"right\">23</div></td>\n",
    "    <td><div align=\"right\">2.069</div></td>\n",
    "    <td><div align=\"right\">2.807</div></td>\n",
    "  </tr>\n",
    "  <tr> \n",
    "    <td bgcolor=\"#CCCCCC\"><div align=\"right\">24</div></td>\n",
    "    <td><div align=\"right\">2.064</div></td>\n",
    "    <td><div align=\"right\">2.797</div></td>\n",
    "  </tr>\n",
    "  <tr> \n",
    "    <td bgcolor=\"#CCCCCC\"><div align=\"right\">25</div></td>\n",
    "    <td><div align=\"right\">2.060</div></td>\n",
    "    <td><div align=\"right\">2.787</div></td>\n",
    "  </tr>\n",
    "  <tr> \n",
    "    <td bgcolor=\"#CCCCCC\"><div align=\"right\">26</div></td>\n",
    "    <td><div align=\"right\">2.056</div></td>\n",
    "    <td><div align=\"right\">2.779</div></td>\n",
    "  </tr>\n",
    "  <tr> \n",
    "    <td bgcolor=\"#CCCCCC\"><div align=\"right\">27</div></td>\n",
    "    <td><div align=\"right\">2.052</div></td>\n",
    "    <td><div align=\"right\">2.771</div></td>\n",
    "  </tr>\n",
    "  <tr> \n",
    "    <td bgcolor=\"#CCCCCC\"><div align=\"right\">28</div></td>\n",
    "    <td><div align=\"right\">2.048</div></td>\n",
    "    <td><div align=\"right\">2.763</div></td>\n",
    "  </tr>\n",
    "  <tr> \n",
    "    <td bgcolor=\"#CCCCCC\"><div align=\"right\">29</div></td>\n",
    "    <td><div align=\"right\">2.045</div></td>\n",
    "    <td><div align=\"right\">2.756</div></td>\n",
    "  </tr>\n",
    "  <tr> \n",
    "    <td bordercolor=\"#CCCCCC\" bgcolor=\"#eeeeee\"> <div align=\"right\">30</div></td>\n",
    "    <td><div align=\"right\">2.042</div></td>\n",
    "    <td><div align=\"right\">2.750</div></td>\n",
    "  </tr>\n",
    "  <tr> \n",
    "    <td bordercolor=\"#CCCCCC\" bgcolor=\"#eeeeee\"> <div align=\"right\">40</div></td>\n",
    "    <td><div align=\"right\">2.021</div></td>\n",
    "    <td><div align=\"right\">2.704</div></td>\n",
    "  </tr>\n",
    "  <tr> \n",
    "    <td bordercolor=\"#CCCCCC\" bgcolor=\"#eeeeee\"> <div align=\"right\">60</div></td>\n",
    "    <td><div align=\"right\">2.000</div></td>\n",
    "    <td><div align=\"right\">2.660</div></td>\n",
    "  </tr>\n",
    "  <tr> \n",
    "    <td bordercolor=\"#CCCCCC\" bgcolor=\"#eeeeee\"> <div align=\"right\">120</div></td>\n",
    "    <td><div align=\"right\">1.980</div></td>\n",
    "    <td><div align=\"right\">2.617</div></td>\n",
    "  </tr>\n",
    "  <tr> \n",
    "    <td bordercolor=\"#CCCCCC\" bgcolor=\"#eeeeee\"> <div align=\"right\">∞</div></td>\n",
    "    <td><div align=\"right\">1.960</div></td>\n",
    "    <td><div align=\"right\">2.576</div></td>\n",
    "  </tr>\n",
    "</table>"
   ]
  },
  {
   "cell_type": "code",
   "execution_count": null,
   "metadata": {
    "collapsed": true
   },
   "outputs": [],
   "source": []
  },
  {
   "cell_type": "markdown",
   "metadata": {},
   "source": [
    "### 4.4　[実践編：ポテトの評価は？](http://kogolab.chillout.jp/elearn/hamburger/chap4/sec4.html)\n",
    "__課題4.4__：下表を用いて、ワクワクポテトとモグモグポテトの評価に差があるかどうかを検定してください。\n",
    "<table border=1 bgcolor=\"#FFFFFF\" cellpadding=\"0\" cellspacing=\"0\" align=center>\n",
    "  <tr align=\"center\"> \n",
    "    <th width=120 height=30 bgcolor=\"#ffffcc\"> ワクワクポテトを食べた女子高生</th>\n",
    "    <th width=120 height=30 bgcolor=\"#ffffcc\"> 点数</th>\n",
    "    <th width=120 height=30 bgcolor=\"#ffcccc\"> モグモグポテトを食べた女子高生</th>\n",
    "    <th width=120 height=30 bgcolor=\"#ffcccc\"> 点数</th>\n",
    "  </tr>\n",
    "  <tr align=center> \n",
    "    <td width=120 height=30 bgcolor=\"#cccccc\"> 1</td>\n",
    "    <td width=120 height=30 bgcolor=\"#FFFFFF\"> 80</td>\n",
    "    <td width=120 height=30 bgcolor=\"#cccccc\"> 1</td>\n",
    "    <td width=120 height=30> 75</td>\n",
    "  </tr>\n",
    "  <tr align=center> \n",
    "    <td width=120 height=30 bgcolor=\"#cccccc\">2</td>\n",
    "    <td width=120 height=30 bgcolor=\"#FFFFFF\">75</td>\n",
    "    <td width=120 height=30 bgcolor=\"#cccccc\">2</td>\n",
    "    <td width=120 height=30>65</td>\n",
    "  </tr>\n",
    "  <tr align=center> \n",
    "    <td width=120 height=30 bgcolor=\"#cccccc\">3</td>\n",
    "    <td width=120 height=30 bgcolor=\"#FFFFFF\">80</td>\n",
    "    <td width=120 height=30 bgcolor=\"#cccccc\">3</td>\n",
    "    <td width=120 height=30>80</td>\n",
    "  </tr>\n",
    "  <tr align=center> \n",
    "    <td width=120 height=30 bgcolor=\"#cccccc\">4</td>\n",
    "    <td width=120 height=30 bgcolor=\"#FFFFFF\">95</td>\n",
    "    <td width=120 height=30 bgcolor=\"#cccccc\">4</td>\n",
    "    <td width=120 height=30>85</td>\n",
    "  </tr>\n",
    "  <tr align=center> \n",
    "    <td width=120 height=30 bgcolor=\"#cccccc\">5</td>\n",
    "    <td width=120 height=30 bgcolor=\"#FFFFFF\">90</td>\n",
    "    <td width=120 height=30 bgcolor=\"#cccccc\">5</td>\n",
    "    <td width=120 height=30>75</td>\n",
    "  </tr>\n",
    "  <tr align=center> \n",
    "    <td width=120 height=30 bgcolor=\"#cccccc\">6</td>\n",
    "    <td width=120 height=30 bgcolor=\"#FFFFFF\">80</td>\n",
    "    <td width=120 height=30 bgcolor=\"#cccccc\">6</td>\n",
    "    <td width=120 height=30>80</td>\n",
    "  </tr>\n",
    "  <tr align=center> \n",
    "    <td width=120 height=30 bgcolor=\"#cccccc\">7</td>\n",
    "    <td width=120 height=30 bgcolor=\"#FFFFFF\">85</td>\n",
    "    <td width=120 height=30 bgcolor=\"#cccccc\">7</td>\n",
    "    <td width=120 height=30>80</td>\n",
    "  </tr>\n",
    "  <tr align=center> \n",
    "    <td width=120 height=30 bgcolor=\"#cccccc\">8</td>\n",
    "    <td width=120 height=30 bgcolor=\"#FFFFFF\">90</td>\n",
    "    <td width=120 height=30 bgcolor=\"#cccccc\">8</td>\n",
    "    <td width=120 height=30>70</td>\n",
    "  </tr>\n",
    "</table>"
   ]
  },
  {
   "cell_type": "code",
   "execution_count": 8,
   "metadata": {
    "collapsed": true
   },
   "outputs": [],
   "source": [
    "wakuwaku =   [80, 75, 80, 95, 90, 80, 85, 90]\n",
    "mogumogu = [75, 65, 80, 85, 75, 80, 80, 70]"
   ]
  },
  {
   "cell_type": "code",
   "execution_count": null,
   "metadata": {
    "collapsed": true
   },
   "outputs": [],
   "source": []
  },
  {
   "cell_type": "markdown",
   "metadata": {},
   "source": [
    "### 4.9　[通過テスト](http://kogolab.chillout.jp/elearn/hamburger/chap4/sec9.html)\n",
    "本文を読んで、問題を解いてください。"
   ]
  },
  {
   "cell_type": "code",
   "execution_count": null,
   "metadata": {
    "collapsed": true
   },
   "outputs": [],
   "source": []
  },
  {
   "cell_type": "markdown",
   "metadata": {},
   "source": [
    "## 5.　[t検定（対応あり）](http://kogolab.chillout.jp/elearn/hamburger/chap5/sec0.html)\n",
    "本文を読んで概念を学んでください。"
   ]
  },
  {
   "cell_type": "markdown",
   "metadata": {},
   "source": [
    "### 5.1　[１人に２種類を評価してもらう](http://kogolab.chillout.jp/elearn/hamburger/chap5/sec1.html)\n",
    "本文を読んで概念を学んでください。"
   ]
  },
  {
   "cell_type": "markdown",
   "metadata": {},
   "source": [
    "### 5.2　[対応があるとは？](http://kogolab.chillout.jp/elearn/hamburger/chap5/sec2.html)\n",
    "本文を読んで概念を学んでください。"
   ]
  },
  {
   "cell_type": "markdown",
   "metadata": {},
   "source": [
    "### 5.3　[対応のあるt検定](http://kogolab.chillout.jp/elearn/hamburger/chap5/sec3.html)\n",
    "まずは本文を読んで概念を学んでください。"
   ]
  },
  {
   "cell_type": "markdown",
   "metadata": {},
   "source": [
    "__課題4.3__：ワクワクバーガーとモグモグバーガーの評価に差があるかどうか、下表の空欄を埋めながら検定を進めてください。\n",
    "<table border=1 bgcolor=\"#FFFFFF\" cellpadding=\"0\" cellspacing=\"0\" align=center>\n",
    "  <caption>&nbsp;\n",
    "  </caption>\n",
    "  <tr align=\"center\"> \n",
    "    <th width=120 height=30 bgcolor=\"#ffffcc\"> 女子高生</th>\n",
    "    <th width=120 height=30 bgcolor=\"#ffffcc\"> ワクワクバーガーの点数</th>\n",
    "    <th width=120 height=30 bgcolor=\"#ffcccc\"> モグモグバーガーの点数</th>\n",
    "    <th width=120 bgcolor=\"#CCFFFF\">点数の差</th>\n",
    "  </tr>\n",
    "  <tr align=center> \n",
    "    <td width=120 height=30 bgcolor=\"#cccccc\"> 1</td>\n",
    "    <td width=120 height=30 bgcolor=\"#FFFFFF\"> 90</td>\n",
    "    <td width=120 height=30> 95</td>\n",
    "    <td width=120></td>\n",
    "  </tr>\n",
    "  <tr align=center> \n",
    "    <td width=120 height=30 bgcolor=\"#cccccc\">2</td>\n",
    "    <td width=120 height=30 bgcolor=\"#FFFFFF\">75</td>\n",
    "    <td width=120 height=30>80</td>\n",
    "    <td width=120></td>\n",
    "  </tr>\n",
    "  <tr align=center> \n",
    "    <td width=120 height=30 bgcolor=\"#cccccc\">3</td>\n",
    "    <td width=120 height=30 bgcolor=\"#FFFFFF\">75</td>\n",
    "    <td width=120 height=30>80</td>\n",
    "    <td width=120></td>\n",
    "  </tr>\n",
    "  <tr align=center> \n",
    "    <td width=120 height=30 bgcolor=\"#cccccc\">4</td>\n",
    "    <td width=120 height=30 bgcolor=\"#FFFFFF\">75</td>\n",
    "    <td width=120 height=30>80</td>\n",
    "    <td width=120></td>\n",
    "  </tr>\n",
    "  <tr align=center> \n",
    "    <td width=120 height=30 bgcolor=\"#cccccc\">5</td>\n",
    "    <td width=120 height=30 bgcolor=\"#FFFFFF\">80</td>\n",
    "    <td width=120 height=30>75</td>\n",
    "    <td width=120></td>\n",
    "  </tr>\n",
    "  <tr align=center> \n",
    "    <td width=120 height=30 bgcolor=\"#cccccc\">6</td>\n",
    "    <td width=120 height=30 bgcolor=\"#FFFFFF\">65</td>\n",
    "    <td width=120 height=30>75</td>\n",
    "    <td width=120></td>\n",
    "  </tr>\n",
    "  <tr align=center> \n",
    "    <td width=120 height=30 bgcolor=\"#cccccc\">7</td>\n",
    "    <td width=120 height=30 bgcolor=\"#FFFFFF\">75</td>\n",
    "    <td width=120 height=30>80</td>\n",
    "    <td width=120></td>\n",
    "  </tr>\n",
    "  <tr align=center> \n",
    "    <td width=120 height=30 bgcolor=\"#cccccc\">8</td>\n",
    "    <td width=120 height=30 bgcolor=\"#FFFFFF\">80</td>\n",
    "    <td width=120 height=30>85</td>\n",
    "    <td width=120></td>\n",
    "  </tr>\n",
    "  <tr align=center> \n",
    "    <td width=120 height=30 bgcolor=\"#ffffcc\">平均</td>\n",
    "    <td width=120 height=30></td>\n",
    "    <td width=120 height=30></td>\n",
    "    <td width=120></td>\n",
    "  </tr>\n",
    "  <tr align=center> \n",
    "    <td width=120 height=30 bgcolor=\"#ffffcc\"> 標本分散</td>\n",
    "    <td width=120 height=30></td>\n",
    "    <td width=120 height=30></td>\n",
    "    <td width=120></td>\n",
    "  </tr>\n",
    "  <tr align=center> \n",
    "    <td width=120 height=30 bgcolor=\"#ffffcc\"> 不偏分散</td>\n",
    "    <td width=120 height=30></td>\n",
    "    <td width=120 height=30></td>\n",
    "    <td width=120></td>\n",
    "  </tr>\n",
    "  <tr align=center> \n",
    "    <td width=120 height=30 bgcolor=\"#ffffcc\" colspan=\"3\"> 差の標準誤差</td>\n",
    "    <td width=120></td>\n",
    "  </tr>\n",
    "  <tr align=center> \n",
    "    <td width=120 height=30 bgcolor=\"#ffffcc\" colspan=\"3\"> t値</td>\n",
    "    <td width=120></td>\n",
    "  </tr>\n",
    "</table>"
   ]
  },
  {
   "cell_type": "markdown",
   "metadata": {},
   "source": [
    "* ８人の女子高生の「点数の差」をそれぞれ求めてください。"
   ]
  },
  {
   "cell_type": "code",
   "execution_count": 11,
   "metadata": {
    "collapsed": true
   },
   "outputs": [],
   "source": [
    "wakuwaku =   [90, 75, 75, 75, 80, 65, 75, 80]\n",
    "mogumogu = [95, 80, 80, 80, 75, 75, 80, 85]\n",
    "sa = []"
   ]
  },
  {
   "cell_type": "code",
   "execution_count": null,
   "metadata": {
    "collapsed": true
   },
   "outputs": [],
   "source": []
  },
  {
   "cell_type": "markdown",
   "metadata": {},
   "source": [
    "* ワクワクバーガーの点数の平均、モグモグバーガーの点数の平均、点数の差の平均をそれぞれ求めてください。"
   ]
  },
  {
   "cell_type": "code",
   "execution_count": null,
   "metadata": {
    "collapsed": true
   },
   "outputs": [],
   "source": []
  },
  {
   "cell_type": "markdown",
   "metadata": {},
   "source": [
    "* ワクワクバーガーの点数の標本分散、モグモグバーガーの点数の標本分散、点数の差の標本分散をそれぞれ求めてください。"
   ]
  },
  {
   "cell_type": "code",
   "execution_count": null,
   "metadata": {
    "collapsed": true
   },
   "outputs": [],
   "source": []
  },
  {
   "cell_type": "markdown",
   "metadata": {},
   "source": [
    "* ワクワクバーガーの点数の不偏分散、モグモグバーガーの点数の不偏分散、点数の差の不偏分散をそれぞれ求めてください。"
   ]
  },
  {
   "cell_type": "code",
   "execution_count": null,
   "metadata": {
    "collapsed": true
   },
   "outputs": [],
   "source": []
  },
  {
   "cell_type": "markdown",
   "metadata": {},
   "source": [
    "* 差の標準誤差を求めてください。\n",
    "  * 差の標準誤差＝sqrt（差の不偏分散／標本数）＝sqrt（（差の標本分散／（標本数－1））"
   ]
  },
  {
   "cell_type": "code",
   "execution_count": null,
   "metadata": {
    "collapsed": true
   },
   "outputs": [],
   "source": []
  },
  {
   "cell_type": "markdown",
   "metadata": {},
   "source": [
    "* t値を求めてください。\n",
    "  * t＝平均の差／sqrt（不偏分散／標本数）＝平均の差／sqrt（標本分散／（標本数－1））"
   ]
  },
  {
   "cell_type": "code",
   "execution_count": null,
   "metadata": {
    "collapsed": true
   },
   "outputs": [],
   "source": []
  },
  {
   "cell_type": "markdown",
   "metadata": {},
   "source": [
    "* t分布表を用いて、t検定の結果を説明してください。"
   ]
  },
  {
   "cell_type": "code",
   "execution_count": null,
   "metadata": {
    "collapsed": true
   },
   "outputs": [],
   "source": []
  },
  {
   "cell_type": "markdown",
   "metadata": {},
   "source": [
    "### 5.4　[実践編：新作バーガー！](http://kogolab.chillout.jp/elearn/hamburger/chap5/sec4.html)"
   ]
  },
  {
   "cell_type": "markdown",
   "metadata": {},
   "source": [
    "__課題5.4__：下表を用いて、改善前と改善後で差があるかどうかを検定してください。\n",
    "<table border=1 bgcolor=\"#FFFFFF\" cellpadding=\"0\" cellspacing=\"0\" align=center>\n",
    "  <caption>&nbsp;\n",
    "  </caption>\n",
    "  <tr align=\"center\"> \n",
    "    <th width=120 height=30 bgcolor=\"#ffffcc\"> 女子高生</th>\n",
    "    <th width=120 height=30 bgcolor=\"#ffffcc\"> 改善前</th>\n",
    "    <th width=120 height=30 bgcolor=\"#ffcccc\"> 改善後</th>\n",
    "  </tr>\n",
    "  <tr align=center> \n",
    "    <td width=120 height=30 bgcolor=\"#cccccc\"> 1</td>\n",
    "    <td width=120 height=30 bgcolor=\"#FFFFFF\"> 65</td>\n",
    "    <td width=120 height=30> 80</td>\n",
    "  </tr>\n",
    "  <tr align=center> \n",
    "    <td width=120 height=30 bgcolor=\"#cccccc\">2</td>\n",
    "    <td width=120 height=30 bgcolor=\"#FFFFFF\">70</td>\n",
    "    <td width=120 height=30>90</td>\n",
    "  </tr>\n",
    "  <tr align=center> \n",
    "    <td width=120 height=30 bgcolor=\"#cccccc\">3</td>\n",
    "    <td width=120 height=30 bgcolor=\"#FFFFFF\">85</td>\n",
    "    <td width=120 height=30>80</td>\n",
    "  </tr>\n",
    "  <tr align=center> \n",
    "    <td width=120 height=30 bgcolor=\"#cccccc\">4</td>\n",
    "    <td width=120 height=30 bgcolor=\"#FFFFFF\">70</td>\n",
    "    <td width=120 height=30>90</td>\n",
    "  </tr>\n",
    "  <tr align=center> \n",
    "    <td width=120 height=30 bgcolor=\"#cccccc\">5</td>\n",
    "    <td width=120 height=30 bgcolor=\"#FFFFFF\">80</td>\n",
    "    <td width=120 height=30>90</td>\n",
    "  </tr>\n",
    "  <tr align=center> \n",
    "    <td width=120 height=30 bgcolor=\"#cccccc\">6</td>\n",
    "    <td width=120 height=30 bgcolor=\"#FFFFFF\">80</td>\n",
    "    <td width=120 height=30>85</td>\n",
    "  </tr>\n",
    "  <tr align=center> \n",
    "    <td width=120 height=30 bgcolor=\"#cccccc\">7</td>\n",
    "    <td width=120 height=30 bgcolor=\"#FFFFFF\">80</td>\n",
    "    <td width=120 height=30>80</td>\n",
    "  </tr>\n",
    "  <tr align=center> \n",
    "    <td width=120 height=30 bgcolor=\"#cccccc\">8</td>\n",
    "    <td width=120 height=30 bgcolor=\"#FFFFFF\">70</td>\n",
    "    <td width=120 height=30>90</td>\n",
    "  </tr>\n",
    "  <tr align=center bgcolor=\"#FFFFFF\"> \n",
    "    <td width=120 height=30 bgcolor=\"#CCCCCC\">9</td>\n",
    "    <td width=120 height=30>80</td>\n",
    "    <td width=120 height=30>85</td>\n",
    "  </tr>\n",
    "  <tr align=center bgcolor=\"#FFFFFF\"> \n",
    "    <td width=120 height=30 bgcolor=\"#CCCCCC\"> 10</td>\n",
    "    <td width=120 height=30>70</td>\n",
    "    <td width=120 height=30>80</td>\n",
    "  </tr>\n",
    "</table>"
   ]
  },
  {
   "cell_type": "code",
   "execution_count": 12,
   "metadata": {
    "collapsed": true
   },
   "outputs": [],
   "source": [
    "before = [65, 70, 85, 70, 80, 80, 80, 70, 80, 70]\n",
    "after    = [80, 90, 80, 90, 90, 85, 80, 90, 85, 80]"
   ]
  },
  {
   "cell_type": "code",
   "execution_count": null,
   "metadata": {
    "collapsed": true
   },
   "outputs": [],
   "source": []
  },
  {
   "cell_type": "markdown",
   "metadata": {},
   "source": [
    "### 5.9　[通過テスト](http://kogolab.chillout.jp/elearn/hamburger/chap5/sec9.html)\n",
    "本文を読んで、問いに答えてください。"
   ]
  },
  {
   "cell_type": "code",
   "execution_count": null,
   "metadata": {
    "collapsed": true
   },
   "outputs": [],
   "source": []
  },
  {
   "cell_type": "markdown",
   "metadata": {},
   "source": [
    "__今日の課題提出__：計算結果を.ipynb ファイル（または.jsonファイル）として保存し、指定したアドレスまでメールしてください。メールタイトルは「__ハンバーガー統計学345__」とし、メール本文に学籍番号と氏名を明記のこと。また、感想も書いてくれると喜びます。今後の講義の改善につながるかも知れません。"
   ]
  }
 ],
 "metadata": {
  "kernelspec": {
   "display_name": "Python 2",
   "language": "python",
   "name": "python2"
  },
  "language_info": {
   "codemirror_mode": {
    "name": "ipython",
    "version": 2
   },
   "file_extension": ".py",
   "mimetype": "text/x-python",
   "name": "python",
   "nbconvert_exporter": "python",
   "pygments_lexer": "ipython2",
   "version": "2.7.12"
  }
 },
 "nbformat": 4,
 "nbformat_minor": 0
}
