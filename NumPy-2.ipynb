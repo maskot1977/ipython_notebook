{
 "cells": [
  {
   "cell_type": "code",
   "execution_count": 1,
   "metadata": {
    "collapsed": true
   },
   "outputs": [],
   "source": [
    "%matplotlib inline"
   ]
  },
  {
   "cell_type": "code",
   "execution_count": 2,
   "metadata": {
    "collapsed": false
   },
   "outputs": [
    {
     "name": "stdout",
     "output_type": "stream",
     "text": [
      "[1 1]\n"
     ]
    }
   ],
   "source": [
    "# -*- coding: utf-8 -*-\n",
    "import numpy as np\n",
    "\n",
    "# 点p0に一番近い点を点群psから抽出\n",
    "def search_neighbourhood(p0, ps):\n",
    "    L = np.array([])\n",
    "    for i in xrange(ps.shape[0]):\n",
    "        L = np.append(L,np.linalg.norm(ps[i]-p0))\n",
    "    return ps[np.argmin(L)]\n",
    "\n",
    "def main():\n",
    "    p0 = np.array([0, 0])\n",
    "    ps = np.array([[1,1],[2,2],[3,3]])\n",
    "    print search_neighbourhood(p0, ps)\n",
    "\n",
    "if __name__ == '__main__':\n",
    "    main()"
   ]
  },
  {
   "cell_type": "code",
   "execution_count": 3,
   "metadata": {
    "collapsed": false
   },
   "outputs": [
    {
     "name": "stdout",
     "output_type": "stream",
     "text": [
      "10以上20未満のデータは：[10 11 15 18]\n"
     ]
    }
   ],
   "source": [
    "# 配列から10以上20未満のデータのみ取り出すプログラムです。\n",
    "# -*- coding: utf-8 -*-\n",
    "import numpy as np\n",
    "\n",
    "def main():\n",
    "\n",
    "    y = np.array([8,9,10,11,15,18,22,21,20,29])    # データ(気温)\n",
    "    y2 = y[ np.where((y>=10)&(y<20)) ]\n",
    "    # 結果を表示\n",
    "    print(u\"10以上20未満のデータは：\"+str(y2))\n",
    "\n",
    "\n",
    "if __name__ == '__main__':\n",
    "    main()"
   ]
  },
  {
   "cell_type": "code",
   "execution_count": 4,
   "metadata": {
    "collapsed": false
   },
   "outputs": [
    {
     "name": "stdout",
     "output_type": "stream",
     "text": [
      "10以上20未満のデータがある要素番号：[2 3 4 5]\n"
     ]
    }
   ],
   "source": [
    "#配列から10以上20未満のデータがある要素番号を取り出すプログラムです。\n",
    "# -*- coding: utf-8 -*-\n",
    "import numpy as np\n",
    "\n",
    "def main():\n",
    "\n",
    "    y = np.array([8,9,10,11,15,18,22,21,20,29])    # データ(気温)\n",
    "    x = np.where((y>=10)&(y<20))\n",
    "    # 結果を表示\n",
    "    print(u\"10以上20未満のデータがある要素番号：\"+str(x[0]))\n",
    "\n",
    "\n",
    "\n",
    "if __name__ == '__main__':\n",
    "    main()"
   ]
  },
  {
   "cell_type": "code",
   "execution_count": 5,
   "metadata": {
    "collapsed": false
   },
   "outputs": [
    {
     "name": "stdout",
     "output_type": "stream",
     "text": [
      "合計：298\n"
     ]
    }
   ],
   "source": [
    "#NumPyで合計を計算するプログラムです。\n",
    "# -*- coding: utf-8 -*-\n",
    "import numpy as np\n",
    "\n",
    "def main():\n",
    "    # データ(気温)\n",
    "    data = np.array([31,30,27,25,29,34,32,31,30,29]) \n",
    "    sum = np.sum(data)      # 合計を計算\n",
    "    # 結果を表示\n",
    "    print(u\"合計：\"+str(sum))\n",
    "\n",
    "if __name__ == '__main__':\n",
    "    main()"
   ]
  },
  {
   "cell_type": "code",
   "execution_count": 6,
   "metadata": {
    "collapsed": false
   },
   "outputs": [
    {
     "name": "stdout",
     "output_type": "stream",
     "text": [
      "平均：29.8\n"
     ]
    }
   ],
   "source": [
    "#NumPyで平均を計算するプログラムです。\n",
    "# -*- coding: utf-8 -*-\n",
    "import numpy as np\n",
    "\n",
    "def main():\n",
    "    # データ(気温)\n",
    "    data = np.array([31,30,27,25,29,34,32,31,30,29])\n",
    "    ave = np.average(data)      # 平均を計算\n",
    "    print(u\"平均：\"+str(ave))   # 結果を表示\n",
    "\n",
    "if __name__ == '__main__':\n",
    "    main()"
   ]
  },
  {
   "cell_type": "code",
   "execution_count": 7,
   "metadata": {
    "collapsed": false
   },
   "outputs": [
    {
     "name": "stdout",
     "output_type": "stream",
     "text": [
      "分散：5.76\n"
     ]
    }
   ],
   "source": [
    "#NumPyで分散を計算するプログラムです。\n",
    "# -*- coding: utf-8 -*-\n",
    "import numpy as np\n",
    "\n",
    "def main():\n",
    "    # データ(気温)\n",
    "    data = np.array([31,30,27,25,29,34,32,31,30,29])\n",
    "    var = np.var(data)          # 分散を計算\n",
    "    print(u\"分散：\"+str(var))   # 結果を表示\n",
    "\n",
    "if __name__ == '__main__':\n",
    "    main()"
   ]
  },
  {
   "cell_type": "code",
   "execution_count": 8,
   "metadata": {
    "collapsed": false
   },
   "outputs": [
    {
     "name": "stdout",
     "output_type": "stream",
     "text": [
      "標準偏差：2.4\n"
     ]
    }
   ],
   "source": [
    "#NumPyで標準偏差を計算するプログラムです。\n",
    "# -*- coding: utf-8 -*-\n",
    "import numpy as np\n",
    "\n",
    "def main():\n",
    "    # データ(気温)\n",
    "    data = np.array([31,30,27,25,29,34,32,31,30,29])\n",
    "    std = np.std(data)              # 標準偏差を計算\n",
    "    print(u\"標準偏差：\"+str(std))   # 結果を表示\n",
    "\n",
    "if __name__ == '__main__':\n",
    "    main()"
   ]
  },
  {
   "cell_type": "code",
   "execution_count": 9,
   "metadata": {
    "collapsed": false
   },
   "outputs": [
    {
     "name": "stdout",
     "output_type": "stream",
     "text": [
      "最大値：34\n"
     ]
    }
   ],
   "source": [
    "#NumPyで最大値を計算するプログラムです。\n",
    "# -*- coding: utf-8 -*-\n",
    "import numpy as np\n",
    "\n",
    "def main():\n",
    "    # データ\n",
    "    data = np.array([31,30,27,25,29,34,32,31,30,29])    \n",
    "    max = np.amax(data)            # 最大値を計算\n",
    "    print(u\"最大値：\"+str(max))    # 結果を表示\n",
    "\n",
    "if __name__ == '__main__':\n",
    "    main()"
   ]
  },
  {
   "cell_type": "code",
   "execution_count": 10,
   "metadata": {
    "collapsed": false
   },
   "outputs": [
    {
     "name": "stdout",
     "output_type": "stream",
     "text": [
      "最小値：25\n"
     ]
    }
   ],
   "source": [
    "#NumPyで最小値を計算するプログラムです。\n",
    "# -*- coding: utf-8 -*-\n",
    "import numpy as np\n",
    "\n",
    "def main():\n",
    "    # データ\n",
    "    data = np.array([31,30,27,25,29,34,32,31,30,29])\n",
    "    min = np.amin(data)         # 最小値を計算\n",
    "    print(u\"最小値：\"+str(min))    # 結果を表示\n",
    "\n",
    "if __name__ == '__main__':\n",
    "    main()"
   ]
  },
  {
   "cell_type": "code",
   "execution_count": 11,
   "metadata": {
    "collapsed": false
   },
   "outputs": [
    {
     "name": "stdout",
     "output_type": "stream",
     "text": [
      "中央値：30.0\n"
     ]
    }
   ],
   "source": [
    "#NumPyで中央値を計算するプログラムです。\n",
    "# -*- coding: utf-8 -*-\n",
    "import numpy as np\n",
    "\n",
    "def main():\n",
    "    # データ\n",
    "    data = np.array([31,30,27,25,29,34,32,31,30,29])\n",
    "    median = np.median(data)        # 中央値を計算\n",
    "    print(u\"中央値：\"+str(median))  # 表示\n",
    "\n",
    "if __name__ == '__main__':\n",
    "    main()"
   ]
  },
  {
   "cell_type": "code",
   "execution_count": 12,
   "metadata": {
    "collapsed": false
   },
   "outputs": [
    {
     "name": "stdout",
     "output_type": "stream",
     "text": [
      "算術平均：29.8\n"
     ]
    }
   ],
   "source": [
    "#NumPyで算術平均を計算するプログラムです。\n",
    "# -*- coding: utf-8 -*-\n",
    "import numpy as np\n",
    "\n",
    "def main():\n",
    "    # データ\n",
    "    data = np.array([31,30,27,25,29,34,32,31,30,29]) \n",
    "    mean = np.mean(data)              # 算術平均を計算\n",
    "    print(u\"算術平均：\"+str(mean))    # 結果を表示\n",
    "\n",
    "if __name__ == '__main__':\n",
    "    main()"
   ]
  },
  {
   "cell_type": "code",
   "execution_count": 13,
   "metadata": {
    "collapsed": false
   },
   "outputs": [
    {
     "name": "stdout",
     "output_type": "stream",
     "text": [
      "y=[1.0, 2.0, 3.0, 4.0, 5.0, 5.5, 7.0, 9.0]\n",
      "diff(y)=[ 1.   1.   1.   1.   0.5  1.5  2. ]\n"
     ]
    }
   ],
   "source": [
    "#配列内の差分を計算するプログラムです。\n",
    "# -*- coding: utf-8 -*-\n",
    "import numpy as np\n",
    "\n",
    "def main():\n",
    "\n",
    "    y = [1., 2., 3., 4., 5., 5.5, 7., 9.]\n",
    "    diff_y = np.diff(y)                     # yの差分を計算\n",
    "    print(\"y=\"+str(y))                    # 結果を表示\n",
    "    print(\"diff(y)=\"+str(diff_y))\n",
    "\n",
    "\n",
    "if __name__ == '__main__':\n",
    "    main()"
   ]
  },
  {
   "cell_type": "code",
   "execution_count": 14,
   "metadata": {
    "collapsed": false
   },
   "outputs": [
    {
     "data": {
      "image/png": "[encoded data removed]",
      "text/plain": [
       "<matplotlib.figure.Figure at 0x1060a8850>"
      ]
     },
     "metadata": {},
     "output_type": "display_data"
    }
   ],
   "source": [
    "#一変数の数値勾配を計算するプログラムです。\n",
    "# -*- coding: utf-8 -*-\n",
    "import numpy as np\n",
    "import matplotlib.pyplot as plt\n",
    "\n",
    "def main():\n",
    "\n",
    "    x = [1., 2., 3., 4., 5.,6. ,7. ,8.]\n",
    "    y = [1., 2., 3., 4., 5.,5.5,7., 9.]\n",
    "    dy = np.gradient(y)                 # yの勾配を計算\n",
    "    # 結果を表示\n",
    "    plt.plot(x, y, \"r-o\", label=\"y\")\n",
    "    plt.plot(x, dy, \"g-o\", label=\"dy\")\n",
    "    plt.xlim([0, 10])\n",
    "    plt.ylim([0, 10])\n",
    "    plt.grid()\n",
    "    plt.legend()\n",
    "    plt.show()\n",
    "\n",
    "if __name__ == '__main__':\n",
    "    main()"
   ]
  },
  {
   "cell_type": "code",
   "execution_count": 15,
   "metadata": {
    "collapsed": false
   },
   "outputs": [
    {
     "name": "stderr",
     "output_type": "stream",
     "text": [
      "/anaconda/lib/python2.7/site-packages/IPython/kernel/__main__.py:17: RuntimeWarning: divide by zero encountered in divide\n",
      "//anaconda/lib/python2.7/site-packages/matplotlib/axes/_axes.py:475: UserWarning: No labelled objects found. Use label='...' kwarg on individual plots.\n",
      "  warnings.warn(\"No labelled objects found. \"\n"
     ]
    },
    {
     "data": {
      "image/png": "[encoded data removed]",
      "text/plain": [
       "<matplotlib.figure.Figure at 0x1060b90d0>"
      ]
     },
     "metadata": {},
     "output_type": "display_data"
    }
   ],
   "source": [
    "#2変数の数値勾配を計算するプログラムです。\n",
    "# -*- coding: utf-8 -*-\n",
    "import numpy as np\n",
    "import matplotlib.pyplot as plt\n",
    "from matplotlib import cm\n",
    "from mpl_toolkits.mplot3d import Axes3D\n",
    "\n",
    "def main():\n",
    "\n",
    "    x = np.arange(0, 10.1, 0.5)\n",
    "    y = np.arange(0, 10.1, 0.5)\n",
    "    (xm, ym) = np.meshgrid(x, y)        # グリッドの作成\n",
    "    (xq,yq) = (5, 5)                    # 電荷の座標\n",
    "    r = np.sqrt((xq-xm)**2+(yq-ym)**2)  # 電荷との距離\n",
    "    k = 9.0*10**9                       # 比例定数k\n",
    "    q = 1                               # 電荷\n",
    "    E = (k*q)/r**2                      # 2変数の関数(電場E(x,y)\n",
    "    (Ey,Ex) = np.gradient(E ,.2, .2)    # Eの勾配を計算\n",
    "    Ex[Ex>0.5],Ey[Ey>0.5] = 0.5, 0.5    # 勾配の上限下限\n",
    "    Ex[Ex<-0.5],Ey[Ey<-0.5] = -0.5, -0.5\n",
    "    # 結果を表示\n",
    "    plt.quiver(xm,ym,-Ex,-Ey,angles=\"xy\",headwidth=3,scale=20,color=\"#444444\")\n",
    "    plt.xlim([0, 10])\n",
    "    plt.ylim([0, 10])\n",
    "    plt.grid()\n",
    "    plt.legend()\n",
    "    plt.show()\n",
    "\n",
    "\n",
    "if __name__ == '__main__':\n",
    "    main()"
   ]
  },
  {
   "cell_type": "code",
   "execution_count": 16,
   "metadata": {
    "collapsed": false
   },
   "outputs": [
    {
     "name": "stderr",
     "output_type": "stream",
     "text": [
      "/anaconda/lib/python2.7/site-packages/IPython/kernel/__main__.py:13: RuntimeWarning: invalid value encountered in log\n"
     ]
    },
    {
     "data": {
      "image/png": "[encoded data removed]",
      "text/plain": [
       "<matplotlib.figure.Figure at 0x1043e9410>"
      ]
     },
     "metadata": {},
     "output_type": "display_data"
    }
   ],
   "source": [
    "# -*- coding: utf-8 -*-\n",
    "import numpy as np\n",
    "import matplotlib.pyplot as plt\n",
    "\n",
    "def main():\n",
    "    # xの値を生成\n",
    "    x = np.arange(-3.14, 3.14, 0.25)\n",
    "    # 高さを計算\n",
    "    sin = np.sin(x) # sin(x)の計算\n",
    "    cos = np.cos(x) # cos(x)の計算\n",
    "    tan = np.tan(x) # tan(x)の計算\n",
    "    exp = np.exp(x) # 指数関数の計算\n",
    "    log = np.log(x) # 対数関数の計算\n",
    "    # グラフ表示\n",
    "    plt.plot(x, sin,\"-o\",lw=2,alpha=0.7,label=\"sin(x)\")\n",
    "    plt.plot(x, cos,\"-o\",lw=2,alpha=0.7,label=\"cos(x)\")\n",
    "    plt.plot(x, tan,\"-o\",lw=2,alpha=0.7,label=\"tan(x)\")\n",
    "    plt.plot(x, exp,\"-o\",lw=2,alpha=0.7,label=\"exp(x)\")\n",
    "    plt.plot(x, log,\"-o\",lw=2,alpha=0.7,label=\"log(x)\")\n",
    "    fn = \"Times New Roman\"                      # フォント\n",
    "    plt.tick_params(labelsize=15)               # 軸目盛のフォントサイズ\n",
    "    plt.xlabel(\"$x$\", fontsize=30, fontname=fn) # x軸のラベル\n",
    "    plt.ylabel(\"$y$\", fontsize=30, fontname=fn) # y軸のラベル\n",
    "    plt.xlim([-4, 4])                           # x軸の範囲\n",
    "    plt.ylim([-4, 4])                           # y軸の範囲\n",
    "    plt.grid()                                  # グリッドの表示\n",
    "    plt.legend(fontsize=13)                     # 凡例の表示\n",
    "    plt.show()                                  # グラフの描画\n",
    "\n",
    "if __name__ == '__main__':\n",
    "    main()"
   ]
  },
  {
   "cell_type": "code",
   "execution_count": 17,
   "metadata": {
    "collapsed": false
   },
   "outputs": [
    {
     "name": "stdout",
     "output_type": "stream",
     "text": [
      "X=\n",
      "[ 0.1  0.3]\n"
     ]
    }
   ],
   "source": [
    "#NumPyで最大・最小・算術平均・中央値を計算するプログラムです。\n",
    "# -*- coding: utf-8 -*-\n",
    "import numpy as np\n",
    "\n",
    "\n",
    "def main():\n",
    "\n",
    "    A = np.array([[1.,3.]    # 行列Aの生成\n",
    "                 ,[4.,2.]])\n",
    "    B = np.array([1.,1.])   # 行列Bの生成\n",
    "\n",
    "    X = np.linalg.solve(A, B)\n",
    "    # 計算結果の表示\n",
    "    print( \"X=\\n\" + str(X) )\n",
    "\n",
    "\n",
    "if __name__ == '__main__':\n",
    "    main()"
   ]
  },
  {
   "cell_type": "code",
   "execution_count": 18,
   "metadata": {
    "collapsed": false
   },
   "outputs": [
    {
     "data": {
      "image/png": "[encoded data removed]",
      "text/plain": [
       "<matplotlib.figure.Figure at 0x1064d9490>"
      ]
     },
     "metadata": {},
     "output_type": "display_data"
    }
   ],
   "source": [
    "#最小二乗法を計算するプログラムです。\n",
    "# -*- coding: utf-8 -*-\n",
    "import numpy as np\n",
    "import matplotlib.pyplot as plt\n",
    "\n",
    "def main():\n",
    "\n",
    "    X = [1,2,3,4,5]\n",
    "    Y = [1.1, 2.1, 2.8, 4.3, 5.1]\n",
    "\n",
    "    A = np.array([X,np.ones(len(X))])\n",
    "    A = A.T\n",
    "    a,b = np.linalg.lstsq(A,Y)[0]\n",
    "\n",
    "    plt.plot(X,Y,\"ro\")\n",
    "    plt.plot(X,(a*X+b),\"g--\")\n",
    "    plt.grid()\n",
    "    plt.show()\n",
    "\n",
    "\n",
    "if __name__ == '__main__':\n",
    "    main()"
   ]
  },
  {
   "cell_type": "code",
   "execution_count": 20,
   "metadata": {
    "collapsed": false
   },
   "outputs": [
    {
     "name": "stdout",
     "output_type": "stream",
     "text": [
      "a1 = 3.46981263012\n",
      "a2 = 0.533009484155\n",
      "b = -34.7129308351\n"
     ]
    }
   ],
   "source": [
    "#重回帰分析\n",
    "\n",
    "# -*- coding: utf-8 -*-\n",
    "import numpy as np\n",
    "\n",
    "# 偏回帰係数の計算\n",
    "def stat(o, e):\n",
    "\n",
    "    e = np.vstack([np.ones(e.shape[1]), e]) # 定数項, 説明変数\n",
    "    return np.linalg.lstsq(e.T, o)[0]       # 偏回帰係数\n",
    "\n",
    "\n",
    "def main():\n",
    "\n",
    "    # 定量データ\n",
    "    y = (45, 38, 41, 34, 59, 47, 35, 43, 54, 52)\n",
    "    x1 = (17.5, 17.0, 18.5, 16.0, 19.0, 19.5, 16.0, 18.0, 19.0, 19.5)\n",
    "    x2 = (30, 25, 20, 30, 45, 35, 25, 35, 35, 40)\n",
    "\n",
    "    obj = np.array(y)        # 目的変数\n",
    "    exp = np.array([x1, x2]) # 説明変数\n",
    "\n",
    "    # 偏回帰係数の計算\n",
    "    b, a1, a2 = stat(obj, exp)\n",
    "\n",
    "    # 求めた係数を表示\n",
    "    print(\"a1 = \"+str(a1))\n",
    "    print(\"a2 = \"+str(a2))\n",
    "    print(\"b = \"+str(b))\n",
    "\n",
    "if __name__ == '__main__':\n",
    "    main()"
   ]
  },
  {
   "cell_type": "code",
   "execution_count": 21,
   "metadata": {
    "collapsed": false
   },
   "outputs": [
    {
     "name": "stdout",
     "output_type": "stream",
     "text": [
      "[5 7 9]\n"
     ]
    }
   ],
   "source": [
    "#ベクトルの足し算\n",
    "# -*- coding: utf-8 -*-\n",
    "import numpy as np\n",
    "\n",
    "\n",
    "def main():\n",
    "    a = np.array([1,2,3])   # ベクトルaの生成\n",
    "    b = np.array([4,5,6])   # ベクトルbの生成\n",
    "    c = a + b               # ベクトルaとbの和\n",
    "    print(c)\n",
    "\n",
    "\n",
    "if __name__ == '__main__':\n",
    "    main()"
   ]
  },
  {
   "cell_type": "code",
   "execution_count": 23,
   "metadata": {
    "collapsed": false
   },
   "outputs": [
    {
     "name": "stdout",
     "output_type": "stream",
     "text": [
      "[[3 0 0]\n",
      " [0 3 0]\n",
      " [0 0 3]]\n"
     ]
    }
   ],
   "source": [
    "#行列の足し算\n",
    "# -*- coding: utf-8 -*-\n",
    "import numpy as np\n",
    "\n",
    "\n",
    "def main():\n",
    "    A = np.array([[1,0,0]   # 行列Aの生成\n",
    "                 ,[0,1,0]\n",
    "                 ,[0,0,1]])\n",
    "\n",
    "    B = np.array([[2,0,0]   # 行列Bの生成\n",
    "                 ,[0,2,0]\n",
    "                 ,[0,0,2]])\n",
    "\n",
    "    C = A + B               # 行列の和\n",
    "    print(C)\n",
    "\n",
    "\n",
    "if __name__ == '__main__':\n",
    "    main()"
   ]
  },
  {
   "cell_type": "code",
   "execution_count": 24,
   "metadata": {
    "collapsed": false
   },
   "outputs": [
    {
     "name": "stdout",
     "output_type": "stream",
     "text": [
      "32.0\n"
     ]
    }
   ],
   "source": [
    "#ベクトルの内積\n",
    "# -*- coding: utf-8 -*-\n",
    "import numpy as np\n",
    "\n",
    "\n",
    "def main():\n",
    "    a = np.array([1.,2.,3.])    # ベクトルaの生成\n",
    "    b = np.array([4.,5.,6.])    # ベクトルbの生成\n",
    "    c = np.dot(a,b)             # ベクトルaとbの内積\n",
    "    print(c)\n",
    "\n",
    "\n",
    "if __name__ == '__main__':\n",
    "    main()"
   ]
  },
  {
   "cell_type": "code",
   "execution_count": 25,
   "metadata": {
    "collapsed": false
   },
   "outputs": [
    {
     "name": "stdout",
     "output_type": "stream",
     "text": [
      "[-3.  6. -3.]\n"
     ]
    }
   ],
   "source": [
    "#ベクトルの外積\n",
    "# -*- coding: utf-8 -*-\n",
    "import numpy as np\n",
    "\n",
    "\n",
    "def main():\n",
    "    a = np.array([1.,2.,3.])    # ベクトルaの生成\n",
    "    b = np.array([4.,5.,6.])    # ベクトルbの生成\n",
    "    c = np.cross(a,b)           # ベクトルaとbの内積\n",
    "    print(c)\n",
    "\n",
    "\n",
    "if __name__ == '__main__':\n",
    "    main()"
   ]
  },
  {
   "cell_type": "code",
   "execution_count": 26,
   "metadata": {
    "collapsed": false
   },
   "outputs": [
    {
     "name": "stdout",
     "output_type": "stream",
     "text": [
      "3.74165738677\n"
     ]
    }
   ],
   "source": [
    "#ベクトルの長さ（ノルム）を求めるプログラムです。\n",
    "# -*- coding: utf-8 -*-\n",
    "import numpy as np\n",
    "\n",
    "\n",
    "def main():\n",
    "    a = np.array([1.,2.,3.])    # ベクトルaの生成\n",
    "    al = np.linalg.norm(a)      # ベクトルの長さ(ノルム)を計算\n",
    "    print(al)\n",
    "\n",
    "\n",
    "if __name__ == '__main__':\n",
    "    main()"
   ]
  },
  {
   "cell_type": "code",
   "execution_count": 27,
   "metadata": {
    "collapsed": false
   },
   "outputs": [
    {
     "name": "stdout",
     "output_type": "stream",
     "text": [
      "[ 0.26726124  0.53452248  0.80178373]\n"
     ]
    }
   ],
   "source": [
    "#ベクトルの正規化をおこなうプログラムです。\n",
    "# -*- coding: utf-8 -*-\n",
    "import numpy as np\n",
    "\n",
    "\n",
    "def main():\n",
    "    a = np.array([1.,2.,3.])    # ベクトルaの生成\n",
    "    b = a / np.linalg.norm(a)   # ベクトルの正規化\n",
    "    print(b)\n",
    "\n",
    "\n",
    "if __name__ == '__main__':\n",
    "    main()"
   ]
  },
  {
   "cell_type": "code",
   "execution_count": 28,
   "metadata": {
    "collapsed": false
   },
   "outputs": [
    {
     "name": "stdout",
     "output_type": "stream",
     "text": [
      "[[  8.  11.  12.]\n",
      " [  7.  10.  12.]\n",
      " [  6.   8.   9.]]\n"
     ]
    }
   ],
   "source": [
    "#行列の内積\n",
    "# -*- coding: utf-8 -*-\n",
    "import numpy as np\n",
    "\n",
    "\n",
    "def main():\n",
    "    A = np.array([[2.,1.,1.]    # 行列Aの生成\n",
    "                 ,[1.,2.,1.]\n",
    "                 ,[1.,1.,1.]])\n",
    "\n",
    "    B = np.array([[2.,3.,3.]    # 行列Bの生成\n",
    "                 ,[1.,2.,3.]\n",
    "                 ,[3.,3.,3.]])\n",
    "\n",
    "    C = np.dot(A,B)             # 行列AとBの内積を計算\n",
    "    print(C)\n",
    "\n",
    "\n",
    "if __name__ == '__main__':\n",
    "    main()"
   ]
  },
  {
   "cell_type": "code",
   "execution_count": 29,
   "metadata": {
    "collapsed": false
   },
   "outputs": [
    {
     "name": "stdout",
     "output_type": "stream",
     "text": [
      "[[ 0. -4.  4.]\n",
      " [ 4. -2.  0.]\n",
      " [ 0.  0.  0.]]\n"
     ]
    }
   ],
   "source": [
    "#行列の外積\n",
    "# -*- coding: utf-8 -*-\n",
    "import numpy as np\n",
    " \n",
    " \n",
    "def main():\n",
    "    A = np.array([[2.,1.,1.]   # 行列Aの生成\n",
    "                 ,[1.,2.,1.]\n",
    "                 ,[1.,1.,1.]])\n",
    " \n",
    "    B = np.array([[2.,3.,3.]   # 行列Bの生成\n",
    "                 ,[1.,2.,3.]\n",
    "                 ,[3.,3.,3.]])\n",
    " \n",
    "    C = np.cross(A,B)          # 行列AとBの外積を計算\n",
    "    print(C)\n",
    " \n",
    " \n",
    "if __name__ == '__main__':\n",
    "    main()"
   ]
  },
  {
   "cell_type": "code",
   "execution_count": 30,
   "metadata": {
    "collapsed": false
   },
   "outputs": [
    {
     "name": "stdout",
     "output_type": "stream",
     "text": [
      "2\n"
     ]
    }
   ],
   "source": [
    "#行列の階数\n",
    "# -*- coding: utf-8 -*-\n",
    "import numpy as np\n",
    "\n",
    "\n",
    "def main():\n",
    "    A = np.array([[1.,0.,0.]            # 行列Aの生成\n",
    "                 ,[0.,1.,1.]\n",
    "                 ,[0.,1.,1.]])\n",
    "\n",
    "    rankA = np.linalg.matrix_rank(A)    # 行列AのRank(階数)を計算\n",
    "    print(rankA)\n",
    "\n",
    "\n",
    "if __name__ == '__main__':\n",
    "    main()"
   ]
  },
  {
   "cell_type": "code",
   "execution_count": 31,
   "metadata": {
    "collapsed": false
   },
   "outputs": [
    {
     "name": "stdout",
     "output_type": "stream",
     "text": [
      "1.0\n"
     ]
    }
   ],
   "source": [
    "#行列式を計算するプログラムです。\n",
    "# -*- coding: utf-8 -*-\n",
    "import numpy as np\n",
    "\n",
    "\n",
    "def main():\n",
    "    A = np.array([[2.,1.,1.]    # 行列Aの生成\n",
    "                 ,[1.,2.,1.]\n",
    "                 ,[1.,1.,1.]])\n",
    "\n",
    "    detA = np.linalg.det(A)     # 行列式の計算\n",
    "    print(detA)\n",
    "\n",
    "\n",
    "if __name__ == '__main__':\n",
    "    main()"
   ]
  },
  {
   "cell_type": "code",
   "execution_count": 32,
   "metadata": {
    "collapsed": false
   },
   "outputs": [
    {
     "name": "stdout",
     "output_type": "stream",
     "text": [
      "[[ 1.  3.]\n",
      " [ 2.  4.]]\n"
     ]
    }
   ],
   "source": [
    "#行列の転置\n",
    "# -*- coding: utf-8 -*-\n",
    "import numpy as np\n",
    "\n",
    "def main():\n",
    "    A = np.array([[1.,2.]   # 行列Aの生成\n",
    "                 ,[3.,4.]])\n",
    "    B = A.T                 # 行列Aの転置\n",
    "    print(B)\n",
    "\n",
    "if __name__ == '__main__':\n",
    "    main()"
   ]
  },
  {
   "cell_type": "code",
   "execution_count": 33,
   "metadata": {
    "collapsed": false
   },
   "outputs": [
    {
     "name": "stdout",
     "output_type": "stream",
     "text": [
      "invA=\n",
      "[[ 1.   0. ]\n",
      " [ 0.   0.5]]\n"
     ]
    }
   ],
   "source": [
    "#逆行列\n",
    "# -*- coding: utf-8 -*-\n",
    "import numpy as np\n",
    "\n",
    "\n",
    "def main():\n",
    "    A = np.array([[1.,0.]               # 行列Aの生成\n",
    "                 ,[0.,2.]])\n",
    "    invA = np.linalg.inv(A)             # Aの逆行列\n",
    "    print( \"invA=\\n\" + str(invA) )      # 計算結果の表示\n",
    "\n",
    "if __name__ == '__main__':\n",
    "    main()"
   ]
  },
  {
   "cell_type": "code",
   "execution_count": 34,
   "metadata": {
    "collapsed": false
   },
   "outputs": [
    {
     "name": "stdout",
     "output_type": "stream",
     "text": [
      "固有値：[ 1.  2.]\n",
      "固有ベクトル：[[ 1.  0.]\n",
      " [ 0.  1.]]\n"
     ]
    }
   ],
   "source": [
    "#行列の固有値・固有ベクトル\n",
    "# -*- coding: utf-8 -*-\n",
    "import numpy as np\n",
    "\n",
    "\n",
    "def main():\n",
    "    A = np.array([[1.,0.]    # 行列Aの生成\n",
    "                 ,[0.,2.]])\n",
    "\n",
    "    la, v = np.linalg.eig(A)    # 行列Aの固有値・固有ベクトル\n",
    "    print(u\"固有値：\"+str(la))\n",
    "    print(u\"固有ベクトル：\"+str(v))\n",
    "\n",
    "if __name__ == '__main__':\n",
    "    main()"
   ]
  },
  {
   "cell_type": "code",
   "execution_count": 35,
   "metadata": {
    "collapsed": false
   },
   "outputs": [
    {
     "name": "stdout",
     "output_type": "stream",
     "text": [
      "U=\n",
      "[[-0.645856   -0.76345925]\n",
      " [-0.76345925  0.645856  ]]\n",
      "S=\n",
      "[ 1.44188162  0.35844132]\n",
      "V=\n",
      "[[-0.7888368  -0.61460272]\n",
      " [-0.61460272  0.7888368 ]]\n"
     ]
    }
   ],
   "source": [
    "#特異値分解を計算するプログラムです。\n",
    "# -*- coding: utf-8 -*-\n",
    "import numpy as np\n",
    "import matplotlib.pyplot as plt\n",
    "\n",
    "def main():\n",
    "\n",
    "    A = np.random.rand(2, 2)    # 2*2の行列Aを生成\n",
    "    U, S, V = np.linalg.svd(A)  # 行列Aを特異値分解\n",
    "    # 結果を表示\n",
    "    print(\"U=\\n\"+str(U))\n",
    "    print(\"S=\\n\"+str(S))\n",
    "    print(\"V=\\n\"+str(V))\n",
    "\n",
    "if __name__ == '__main__':\n",
    "    main()"
   ]
  },
  {
   "cell_type": "code",
   "execution_count": 36,
   "metadata": {
    "collapsed": false
   },
   "outputs": [
    {
     "name": "stdout",
     "output_type": "stream",
     "text": [
      "A=\n",
      "[[ 0.11171874  0.92544327]\n",
      " [ 0.53794929  0.76443128]]\n",
      "Q=\n",
      "[[-0.20333667 -0.97910888]\n",
      " [-0.97910888  0.20333667]]\n",
      "R=\n",
      "[[-0.54942744 -0.936638  ]\n",
      " [ 0.         -0.75067282]]\n",
      "Q*R=\n",
      "[[ 0.11171874  0.92544327]\n",
      " [ 0.53794929  0.76443128]]\n"
     ]
    }
   ],
   "source": [
    "#QR分解を計算するプログラムです。\n",
    "# -*- coding: utf-8 -*-\n",
    "import numpy as np\n",
    "import matplotlib.pyplot as plt\n",
    "\n",
    "def main():\n",
    "\n",
    "    A = np.random.rand(2, 2)    # 2*2の行列Aを生成\n",
    "    Q, R = np.linalg.qr(A)      # 行列AをQR分解\n",
    "    # 結果を表示\n",
    "    print(\"A=\\n\"+str(A))\n",
    "    print(\"Q=\\n\"+str(Q))\n",
    "    print(\"R=\\n\"+str(R))\n",
    "    print(\"Q*R=\\n\"+str(Q.dot(R)))\n",
    "\n",
    "if __name__ == '__main__':\n",
    "    main()"
   ]
  },
  {
   "cell_type": "code",
   "execution_count": 37,
   "metadata": {
    "collapsed": false
   },
   "outputs": [
    {
     "name": "stdout",
     "output_type": "stream",
     "text": [
      "A=\n",
      "[[ 2.  0.]\n",
      " [ 0.  5.]]\n",
      "L=\n",
      "[[ 1.41421356  0.        ]\n",
      " [ 0.          2.23606798]]\n",
      "L*L^T=\n",
      "[[ 2.  0.]\n",
      " [ 0.  5.]]\n"
     ]
    }
   ],
   "source": [
    "#行列をコレスキー分解するプログラムです。\n",
    "# -*- coding: utf-8 -*-\n",
    "import numpy as np\n",
    "import matplotlib.pyplot as plt\n",
    "\n",
    "def main():\n",
    "\n",
    "    A = np.array([[2.,0.]    # 行列Aの生成\n",
    "                 ,[0.,5.]])\n",
    "    L = np.linalg.cholesky(A)      # 行列AをQR分解\n",
    "    # 結果を表示\n",
    "    print(\"A=\\n\"+str(A))\n",
    "    print(\"L=\\n\"+str(L))\n",
    "    print(\"L*L^T=\\n\"+str(L.dot(L.T)))\n",
    "\n",
    "if __name__ == '__main__':\n",
    "    main()"
   ]
  },
  {
   "cell_type": "code",
   "execution_count": 38,
   "metadata": {
    "collapsed": false
   },
   "outputs": [
    {
     "name": "stdout",
     "output_type": "stream",
     "text": [
      "[[1 1]\n",
      " [1 2]\n",
      " [1 3]]\n"
     ]
    }
   ],
   "source": [
    "#2次元配列から重複する要素だけ削除するプログラムです。\n",
    "# -*- coding: utf-8 -*-\n",
    "import numpy as np\n",
    "\n",
    "def unique2d(a):\n",
    "    x = np.array([a[0]])\n",
    "    for i in xrange(a.shape[0]):\n",
    "        if np.sum(a[i] - a[i-1]) != 0:\n",
    "            x = np.append(x, [a[i]], axis=0)\n",
    "    return np.delete(x, 1, 0)\n",
    "\n",
    "def main():\n",
    "    data = np.array([[1, 1], [1, 1], [1, 2], [1, 2], [1, 3]])\n",
    "    data = unique2d(data)\n",
    "    print data\n",
    "\n",
    "if __name__ == '__main__':\n",
    "    main()"
   ]
  },
  {
   "cell_type": "code",
   "execution_count": null,
   "metadata": {
    "collapsed": true
   },
   "outputs": [],
   "source": []
  }
 ],
 "metadata": {
  "kernelspec": {
   "display_name": "Python 2",
   "language": "python",
   "name": "python2"
  },
  "language_info": {
   "codemirror_mode": {
    "name": "ipython",
    "version": 2
   },
   "file_extension": ".py",
   "mimetype": "text/x-python",
   "name": "python",
   "nbconvert_exporter": "python",
   "pygments_lexer": "ipython2",
   "version": "2.7.11"
  }
 },
 "nbformat": 4,
 "nbformat_minor": 0
}
