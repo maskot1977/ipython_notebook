{
 "cells": [
  {
   "cell_type": "code",
   "execution_count": 1,
   "metadata": {
    "collapsed": false
   },
   "outputs": [
    {
     "name": "stdout",
     "output_type": "stream",
     "text": [
      "Untitled.ipynb              kyuri.png\r\n",
      "Untitled1.ipynb             location.txt\r\n",
      "Untitled2.ipynb             \u001b[34mold\u001b[m\u001b[m\r\n",
      "Untitled3.ipynb             sample.png\r\n",
      "Untitled4.ipynb             test.txt\r\n",
      "anscombe.txt                test2.txt\r\n",
      "foo.txt                     walk.txt\r\n",
      "iris.txt                    総合実験１日目.ipynb\r\n"
     ]
    }
   ],
   "source": [
    "!ls"
   ]
  },
  {
   "cell_type": "code",
   "execution_count": 2,
   "metadata": {
    "collapsed": false
   },
   "outputs": [
    {
     "name": "stdout",
     "output_type": "stream",
     "text": [
      "\tSepal.Length\tSepal.Width\tPetal.Length\tPetal.Width\tSpecies\r",
      "\r\n",
      "1\t5.1\t3.5\t1.4\t0.2\tsetosa\r",
      "\r\n",
      "2\t4.9\t3\t1.4\t0.2\tsetosa\r",
      "\r\n",
      "3\t4.7\t3.2\t1.3\t0.2\tsetosa\r",
      "\r\n",
      "4\t4.6\t3.1\t1.5\t0.2\tsetosa\r",
      "\r\n",
      "5\t5\t3.6\t1.4\t0.2\tsetosa\r",
      "\r\n",
      "6\t5.4\t3.9\t1.7\t0.4\tsetosa\r",
      "\r\n",
      "7\t4.6\t3.4\t1.4\t0.3\tsetosa\r",
      "\r\n",
      "8\t5\t3.4\t1.5\t0.2\tsetosa\r",
      "\r\n",
      "9\t4.4\t2.9\t1.4\t0.2\tsetosa\r",
      "\r\n"
     ]
    }
   ],
   "source": [
    "!head iris.txt"
   ]
  },
  {
   "cell_type": "code",
   "execution_count": 3,
   "metadata": {
    "collapsed": false
   },
   "outputs": [
    {
     "name": "stdout",
     "output_type": "stream",
     "text": [
      "\tSepal.Length\tSepal.Width\tPetal.Length\tPetal.Width\tSpecies\r",
      "\r\n",
      "1\t5.1\t3.5\t1.4\t0.2\tsetosa\r",
      "\r\n",
      "2\t4.9\t3\t1.4\t0.2\tsetosa\r",
      "\r\n"
     ]
    }
   ],
   "source": [
    "!head -3 iris.txt"
   ]
  },
  {
   "cell_type": "code",
   "execution_count": 4,
   "metadata": {
    "collapsed": false
   },
   "outputs": [
    {
     "name": "stdout",
     "output_type": "stream",
     "text": [
      "\tPetal.Length\r\n",
      "1\t1.4\r\n",
      "2\t1.4\r\n",
      "3\t1.3\r\n",
      "4\t1.5\r\n",
      "5\t1.4\r\n",
      "6\t1.7\r\n",
      "7\t1.4\r\n",
      "8\t1.5\r\n",
      "9\t1.4\r\n"
     ]
    }
   ],
   "source": [
    "!cut -f1,4 iris.txt | head"
   ]
  },
  {
   "cell_type": "code",
   "execution_count": 5,
   "metadata": {
    "collapsed": true
   },
   "outputs": [],
   "source": [
    "!cut -f1,4 iris.txt > test.txt"
   ]
  },
  {
   "cell_type": "code",
   "execution_count": 6,
   "metadata": {
    "collapsed": false
   },
   "outputs": [
    {
     "name": "stdout",
     "output_type": "stream",
     "text": [
      "\tPetal.Length\r\n",
      "1\t1.4\r\n",
      "2\t1.4\r\n",
      "3\t1.3\r\n",
      "4\t1.5\r\n",
      "5\t1.4\r\n",
      "6\t1.7\r\n",
      "7\t1.4\r\n",
      "8\t1.5\r\n",
      "9\t1.4\r\n",
      "10\t1.5\r\n",
      "11\t1.5\r\n",
      "12\t1.6\r\n",
      "13\t1.4\r\n",
      "14\t1.1\r\n",
      "15\t1.2\r\n",
      "16\t1.5\r\n",
      "17\t1.3\r\n",
      "18\t1.4\r\n",
      "19\t1.7\r\n",
      "20\t1.5\r\n",
      "21\t1.7\r\n",
      "22\t1.5\r\n",
      "23\t1\r\n",
      "24\t1.7\r\n",
      "25\t1.9\r\n",
      "26\t1.6\r\n",
      "27\t1.6\r\n",
      "28\t1.5\r\n",
      "29\t1.4\r\n",
      "30\t1.6\r\n",
      "31\t1.6\r\n",
      "32\t1.5\r\n",
      "33\t1.5\r\n",
      "34\t1.4\r\n",
      "35\t1.5\r\n",
      "36\t1.2\r\n",
      "37\t1.3\r\n",
      "38\t1.4\r\n",
      "39\t1.3\r\n",
      "40\t1.5\r\n",
      "41\t1.3\r\n",
      "42\t1.3\r\n",
      "43\t1.3\r\n",
      "44\t1.6\r\n",
      "45\t1.9\r\n",
      "46\t1.4\r\n",
      "47\t1.6\r\n",
      "48\t1.4\r\n",
      "49\t1.5\r\n",
      "50\t1.4\r\n",
      "51\t4.7\r\n",
      "52\t4.5\r\n",
      "53\t4.9\r\n",
      "54\t4\r\n",
      "55\t4.6\r\n",
      "56\t4.5\r\n",
      "57\t4.7\r\n",
      "58\t3.3\r\n",
      "59\t4.6\r\n",
      "60\t3.9\r\n",
      "61\t3.5\r\n",
      "62\t4.2\r\n",
      "63\t4\r\n",
      "64\t4.7\r\n",
      "65\t3.6\r\n",
      "66\t4.4\r\n",
      "67\t4.5\r\n",
      "68\t4.1\r\n",
      "69\t4.5\r\n",
      "70\t3.9\r\n",
      "71\t4.8\r\n",
      "72\t4\r\n",
      "73\t4.9\r\n",
      "74\t4.7\r\n",
      "75\t4.3\r\n",
      "76\t4.4\r\n",
      "77\t4.8\r\n",
      "78\t5\r\n",
      "79\t4.5\r\n",
      "80\t3.5\r\n",
      "81\t3.8\r\n",
      "82\t3.7\r\n",
      "83\t3.9\r\n",
      "84\t5.1\r\n",
      "85\t4.5\r\n",
      "86\t4.5\r\n",
      "87\t4.7\r\n",
      "88\t4.4\r\n",
      "89\t4.1\r\n",
      "90\t4\r\n",
      "91\t4.4\r\n",
      "92\t4.6\r\n",
      "93\t4\r\n",
      "94\t3.3\r\n",
      "95\t4.2\r\n",
      "96\t4.2\r\n",
      "97\t4.2\r\n",
      "98\t4.3\r\n",
      "99\t3\r\n",
      "100\t4.1\r\n",
      "101\t6\r\n",
      "102\t5.1\r\n",
      "103\t5.9\r\n",
      "104\t5.6\r\n",
      "105\t5.8\r\n",
      "106\t6.6\r\n",
      "107\t4.5\r\n",
      "108\t6.3\r\n",
      "109\t5.8\r\n",
      "110\t6.1\r\n",
      "111\t5.1\r\n",
      "112\t5.3\r\n",
      "113\t5.5\r\n",
      "114\t5\r\n",
      "115\t5.1\r\n",
      "116\t5.3\r\n",
      "117\t5.5\r\n",
      "118\t6.7\r\n",
      "119\t6.9\r\n",
      "120\t5\r\n",
      "121\t5.7\r\n",
      "122\t4.9\r\n",
      "123\t6.7\r\n",
      "124\t4.9\r\n",
      "125\t5.7\r\n",
      "126\t6\r\n",
      "127\t4.8\r\n",
      "128\t4.9\r\n",
      "129\t5.6\r\n",
      "130\t5.8\r\n",
      "131\t6.1\r\n",
      "132\t6.4\r\n",
      "133\t5.6\r\n",
      "134\t5.1\r\n",
      "135\t5.6\r\n",
      "136\t6.1\r\n",
      "137\t5.6\r\n",
      "138\t5.5\r\n",
      "139\t4.8\r\n",
      "140\t5.4\r\n",
      "141\t5.6\r\n",
      "142\t5.1\r\n",
      "143\t5.1\r\n",
      "144\t5.9\r\n",
      "145\t5.7\r\n",
      "146\t5.2\r\n",
      "147\t5\r\n",
      "148\t5.2\r\n",
      "149\t5.4\r\n",
      "150\t5.1\r\n"
     ]
    }
   ],
   "source": [
    "cat test.txt"
   ]
  },
  {
   "cell_type": "code",
   "execution_count": 7,
   "metadata": {
    "collapsed": true
   },
   "outputs": [],
   "source": [
    "!grep se iris.txt > test2.txt"
   ]
  },
  {
   "cell_type": "code",
   "execution_count": 8,
   "metadata": {
    "collapsed": false
   },
   "outputs": [
    {
     "name": "stdout",
     "output_type": "stream",
     "text": [
      "1\t5.1\t3.5\t1.4\t0.2\tsetosa\r",
      "\r\n",
      "2\t4.9\t3\t1.4\t0.2\tsetosa\r",
      "\r\n",
      "3\t4.7\t3.2\t1.3\t0.2\tsetosa\r",
      "\r\n",
      "4\t4.6\t3.1\t1.5\t0.2\tsetosa\r",
      "\r\n",
      "5\t5\t3.6\t1.4\t0.2\tsetosa\r",
      "\r\n",
      "6\t5.4\t3.9\t1.7\t0.4\tsetosa\r",
      "\r\n",
      "7\t4.6\t3.4\t1.4\t0.3\tsetosa\r",
      "\r\n",
      "8\t5\t3.4\t1.5\t0.2\tsetosa\r",
      "\r\n",
      "9\t4.4\t2.9\t1.4\t0.2\tsetosa\r",
      "\r\n",
      "10\t4.9\t3.1\t1.5\t0.1\tsetosa\r",
      "\r\n"
     ]
    }
   ],
   "source": [
    "!head test2.txt"
   ]
  },
  {
   "cell_type": "code",
   "execution_count": 9,
   "metadata": {
    "collapsed": true
   },
   "outputs": [],
   "source": [
    "!grep -v se iris.txt > test2.txt"
   ]
  },
  {
   "cell_type": "code",
   "execution_count": 10,
   "metadata": {
    "collapsed": false
   },
   "outputs": [
    {
     "name": "stdout",
     "output_type": "stream",
     "text": [
      "\tSepal.Length\tSepal.Width\tPetal.Length\tPetal.Width\tSpecies\r",
      "\r\n",
      "51\t7\t3.2\t4.7\t1.4\tversicolor\r",
      "\r\n",
      "52\t6.4\t3.2\t4.5\t1.5\tversicolor\r",
      "\r\n",
      "53\t6.9\t3.1\t4.9\t1.5\tversicolor\r",
      "\r\n",
      "54\t5.5\t2.3\t4\t1.3\tversicolor\r",
      "\r\n",
      "55\t6.5\t2.8\t4.6\t1.5\tversicolor\r",
      "\r\n",
      "56\t5.7\t2.8\t4.5\t1.3\tversicolor\r",
      "\r\n",
      "57\t6.3\t3.3\t4.7\t1.6\tversicolor\r",
      "\r\n",
      "58\t4.9\t2.4\t3.3\t1\tversicolor\r",
      "\r\n",
      "59\t6.6\t2.9\t4.6\t1.3\tversicolor\r",
      "\r\n"
     ]
    }
   ],
   "source": [
    "!head test2.txt"
   ]
  },
  {
   "cell_type": "code",
   "execution_count": 11,
   "metadata": {
    "collapsed": false
   },
   "outputs": [
    {
     "name": "stdout",
     "output_type": "stream",
     "text": [
      "hoge\r\n"
     ]
    }
   ],
   "source": [
    "!echo hoge"
   ]
  },
  {
   "cell_type": "code",
   "execution_count": 12,
   "metadata": {
    "collapsed": false
   },
   "outputs": [
    {
     "name": "stdout",
     "output_type": "stream",
     "text": [
      "fugahoge\r\n"
     ]
    }
   ],
   "source": [
    "!echo \"hogehoge\" | sed -e 's/hoge/fuga/'"
   ]
  },
  {
   "cell_type": "code",
   "execution_count": 13,
   "metadata": {
    "collapsed": false
   },
   "outputs": [
    {
     "name": "stdout",
     "output_type": "stream",
     "text": [
      "fugafuga\r\n"
     ]
    }
   ],
   "source": [
    "!echo \"hogehoge\" | sed -e 's/hoge/fuga/g'"
   ]
  },
  {
   "cell_type": "code",
   "execution_count": 14,
   "metadata": {
    "collapsed": false
   },
   "outputs": [
    {
     "name": "stdout",
     "output_type": "stream",
     "text": [
      "\tSepal.Length\tSepal.Width\tPetal.Length\tPetal.Width\tSpecies\r",
      "\r\n",
      "1\t5.1\t3.5\t1.4\t0.2\tsetosa\r",
      "\r\n",
      "2\t4.9\t3\t1.4\t0.2\tsetosa\r",
      "\r\n",
      "3\t4.7\t3.2\t1.3\t0.2\tsetosa\r",
      "\r\n",
      "4\t4.6\t3.1\t1.5\t0.2\tsetosa\r",
      "\r\n",
      "5\t5\t3.6\t1.4\t0.2\tsetosa\r",
      "\r\n",
      "6\t5.4\t3.9\t1.7\t0.4\tsetosa\r",
      "\r\n",
      "7\t4.6\t3.4\t1.4\t0.3\tsetosa\r",
      "\r\n",
      "8\t5\t3.4\t1.5\t0.2\tsetosa\r",
      "\r\n",
      "9\t4.4\t2.9\t1.4\t0.2\tsetosa\r",
      "\r\n"
     ]
    }
   ],
   "source": [
    "!head iris.txt"
   ]
  },
  {
   "cell_type": "code",
   "execution_count": 15,
   "metadata": {
    "collapsed": false
   },
   "outputs": [
    {
     "name": "stdout",
     "output_type": "stream",
     "text": [
      "\tSepal.Length\tSepal.Width\tPetal.Length\tPetal.Width\tSpecies\r",
      "\r\n",
      "1\t5.1\t3.5\t1.4\t0.X\tsetosa\r",
      "\r\n",
      "X\t4.9\t3\t1.4\t0.2\tsetosa\r",
      "\r\n",
      "3\t4.7\t3.X\t1.3\t0.2\tsetosa\r",
      "\r\n",
      "4\t4.6\t3.1\t1.5\t0.X\tsetosa\r",
      "\r\n",
      "5\t5\t3.6\t1.4\t0.X\tsetosa\r",
      "\r\n",
      "6\t5.4\t3.9\t1.7\t0.4\tsetosa\r",
      "\r\n",
      "7\t4.6\t3.4\t1.4\t0.3\tsetosa\r",
      "\r\n",
      "8\t5\t3.4\t1.5\t0.X\tsetosa\r",
      "\r\n",
      "9\t4.4\tX.9\t1.4\t0.2\tsetosa\r",
      "\r\n"
     ]
    }
   ],
   "source": [
    "!head iris.txt | sed -e 's/2/X/'"
   ]
  },
  {
   "cell_type": "code",
   "execution_count": 16,
   "metadata": {
    "collapsed": false
   },
   "outputs": [
    {
     "name": "stdout",
     "output_type": "stream",
     "text": [
      "\tSepal.Length\tSepal.Width\tPetal.Length\tPetal.Width\tSpecies\r",
      "\r\n",
      "1\t5.1\t3.5\t1.4\t0.X\tsetosa\r",
      "\r\n",
      "X\t4.9\t3\t1.4\t0.X\tsetosa\r",
      "\r\n",
      "3\t4.7\t3.X\t1.3\t0.X\tsetosa\r",
      "\r\n",
      "4\t4.6\t3.1\t1.5\t0.X\tsetosa\r",
      "\r\n",
      "5\t5\t3.6\t1.4\t0.X\tsetosa\r",
      "\r\n",
      "6\t5.4\t3.9\t1.7\t0.4\tsetosa\r",
      "\r\n",
      "7\t4.6\t3.4\t1.4\t0.3\tsetosa\r",
      "\r\n",
      "8\t5\t3.4\t1.5\t0.X\tsetosa\r",
      "\r\n",
      "9\t4.4\tX.9\t1.4\t0.X\tsetosa\r",
      "\r\n"
     ]
    }
   ],
   "source": [
    "!head iris.txt | sed -e 's/2/X/g'"
   ]
  },
  {
   "cell_type": "code",
   "execution_count": null,
   "metadata": {
    "collapsed": true
   },
   "outputs": [],
   "source": []
  },
  {
   "cell_type": "code",
   "execution_count": null,
   "metadata": {
    "collapsed": true
   },
   "outputs": [],
   "source": []
  }
 ],
 "metadata": {
  "kernelspec": {
   "display_name": "Python 2",
   "language": "python",
   "name": "python2"
  },
  "language_info": {
   "codemirror_mode": {
    "name": "ipython",
    "version": 2
   },
   "file_extension": ".py",
   "mimetype": "text/x-python",
   "name": "python",
   "nbconvert_exporter": "python",
   "pygments_lexer": "ipython2",
   "version": "2.7.11"
  }
 },
 "nbformat": 4,
 "nbformat_minor": 0
}
