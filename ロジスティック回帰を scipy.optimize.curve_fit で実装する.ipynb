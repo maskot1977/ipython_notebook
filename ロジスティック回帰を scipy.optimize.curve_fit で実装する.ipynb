{
 "cells": [
  {
   "cell_type": "markdown",
   "metadata": {},
   "source": [
    "<a href=\"https://qiita.com/maskot1977/items/e4f5f71200180865986e\">カーブフィッティング手法 scipy.optimize.curve_fit の使い方を理解する</a> では、様々な曲線に近似する方法を学びました。それでは、次のように、y が０か１しかない場合にはどんな曲線に近似すれば良いでしょうか？"
   ]
  },
  {
   "cell_type": "code",
   "execution_count": 1,
   "metadata": {},
   "outputs": [],
   "source": [
    "X1 = [4.7, 4.5, 4.9, 4.0, 4.6, 4.5, 4.7, 3.3, 4.6, 3.9, \n",
    "      3.5, 4.2, 4.0, 4.7, 3.6, 4.4, 4.5, 4.1, 4.5, 3.9, \n",
    "      4.8, 4.0, 4.9, 4.7, 4.3, 4.4, 4.8, 5.0, 4.5, 3.5, \n",
    "      3.8, 3.7, 3.9, 5.1, 4.5, 4.5, 4.7, 4.4, 4.1, 4.0, \n",
    "      4.4, 4.6, 4.0, 3.3, 4.2, 4.2, 4.2, 4.3, 3.0, 4.1, \n",
    "      6.0, 5.1, 5.9, 5.6, 5.8, 6.6, 4.5, 6.3, 5.8, 6.1, \n",
    "      5.1, 5.3, 5.5, 5.0, 5.1, 5.3, 5.5, 6.7, 6.9, 5.0, \n",
    "      5.7, 4.9, 6.7, 4.9, 5.7, 6.0, 4.8, 4.9, 5.6, 5.8, \n",
    "      6.1, 6.4, 5.6, 5.1, 5.6, 6.1, 5.6, 5.5, 4.8, 5.4, \n",
    "      5.6, 5.1, 5.1, 5.9, 5.7, 5.2, 5.0, 5.2, 5.4, 5.1]\n",
    "\n",
    "Y = [0, 0, 0, 0, 0, 0, 0, 0, 0, 0, \n",
    "     0, 0, 0, 0, 0, 0, 0, 0, 0, 0, \n",
    "     0, 0, 0, 0, 0, 0, 0, 0, 0, 0, \n",
    "     0, 0, 0, 0, 0, 0, 0, 0, 0, 0, \n",
    "     0, 0, 0, 0, 0, 0, 0, 0, 0, 0, \n",
    "     1, 1, 1, 1, 1, 1, 1, 1, 1, 1, \n",
    "     1, 1, 1, 1, 1, 1, 1, 1, 1, 1, \n",
    "     1, 1, 1, 1, 1, 1, 1, 1, 1, 1, \n",
    "     1, 1, 1, 1, 1, 1, 1, 1, 1, 1, \n",
    "     1, 1, 1, 1, 1, 1, 1, 1, 1, 1]"
   ]
  },
  {
   "cell_type": "markdown",
   "metadata": {},
   "source": [
    "とりあえずデータを図示してみましょう。"
   ]
  },
  {
   "cell_type": "code",
   "execution_count": 4,
   "metadata": {},
   "outputs": [
    {
     "name": "stderr",
     "output_type": "stream",
     "text": [
      "/Users/kot/miniconda3/envs/py3new/lib/python3.6/site-packages/matplotlib/font_manager.py:1241: UserWarning: findfont: Font family ['IPAexGothic'] not found. Falling back to DejaVu Sans.\n",
      "  (prop.get_family(), self.defaultFamily[fontext]))\n"
     ]
    },
    {
     "data": {
      "image/png": "[encoded data removed]",
      "text/plain": [
       "<Figure size 864x288 with 1 Axes>"
      ]
     },
     "metadata": {
      "needs_background": "light"
     },
     "output_type": "display_data"
    }
   ],
   "source": [
    "%matplotlib inline\n",
    "import matplotlib.pyplot as plt\n",
    "plt.figure(figsize=(12,4))\n",
    "plt.scatter(X1, Y)\n",
    "plt.grid()\n",
    "plt.show()"
   ]
  },
  {
   "cell_type": "markdown",
   "metadata": {},
   "source": [
    "このような関係を近似するときに、シグモイド曲線に近似する「ロジスティック回帰」を使います。scipy.optimize.curve_fit で実装してみましょう。\n"
   ]
  },
  {
   "cell_type": "code",
   "execution_count": 3,
   "metadata": {},
   "outputs": [],
   "source": [
    "# Python の List を Numpy の Array に変換しておきましょう。\n",
    "import numpy as np\n",
    "X1 = np.array(X1)\n",
    "Y = np.array(Y)"
   ]
  },
  {
   "cell_type": "markdown",
   "metadata": {},
   "source": [
    "# 説明変数が１つのシグモイド曲線に近似する\n",
    "\n",
    "説明変数が１つのシグモイド曲線 func1 を定義します。a と b を最適化することになります。"
   ]
  },
  {
   "cell_type": "code",
   "execution_count": 5,
   "metadata": {},
   "outputs": [],
   "source": [
    "import numpy as np\n",
    "def func1(X, a, b): # シグモイド曲線\n",
    "    f = a + b * X\n",
    "    return 1. / (1. + np.exp(-f))"
   ]
  },
  {
   "cell_type": "markdown",
   "metadata": {},
   "source": [
    "func1 の使用例はこんな感じ。"
   ]
  },
  {
   "cell_type": "code",
   "execution_count": 38,
   "metadata": {},
   "outputs": [
    {
     "data": {
      "text/plain": [
       "array([0.99666519, 0.99592986, 0.99726804, 0.99330715, 0.99631576,\n",
       "       0.99592986, 0.99666519, 0.98661308, 0.99631576, 0.99260846,\n",
       "       0.98901306, 0.9945137 , 0.99330715, 0.99666519, 0.9900482 ,\n",
       "       0.99550373, 0.99592986, 0.9939402 , 0.99592986, 0.99260846,\n",
       "       0.99698158, 0.99330715, 0.99726804, 0.99666519, 0.9950332 ,\n",
       "       0.99550373, 0.99698158, 0.99752738, 0.99592986, 0.98901306,\n",
       "       0.99183743, 0.9909867 , 0.99260846, 0.99776215, 0.99592986,\n",
       "       0.99592986, 0.99666519, 0.99550373, 0.9939402 , 0.99330715,\n",
       "       0.99550373, 0.99631576, 0.99330715, 0.98661308, 0.9945137 ,\n",
       "       0.9945137 , 0.9945137 , 0.9950332 , 0.98201379, 0.9939402 ,\n",
       "       0.99908895, 0.99776215, 0.99899323, 0.99864148, 0.99888746,\n",
       "       0.9994998 , 0.99592986, 0.99932492, 0.99888746, 0.99917558,\n",
       "       0.99776215, 0.99816706, 0.99849882, 0.99752738, 0.99776215,\n",
       "       0.99816706, 0.99849882, 0.99954738, 0.99962939, 0.99752738,\n",
       "       0.9987706 , 0.99726804, 0.99954738, 0.99726804, 0.9987706 ,\n",
       "       0.99908895, 0.99698158, 0.99726804, 0.99864148, 0.99888746,\n",
       "       0.99917558, 0.99938912, 0.99864148, 0.99776215, 0.99864148,\n",
       "       0.99917558, 0.99864148, 0.99849882, 0.99698158, 0.9983412 ,\n",
       "       0.99864148, 0.99776215, 0.99776215, 0.99899323, 0.9987706 ,\n",
       "       0.99797468, 0.99752738, 0.99797468, 0.9983412 , 0.99776215])"
      ]
     },
     "execution_count": 38,
     "metadata": {},
     "output_type": "execute_result"
    }
   ],
   "source": [
    "func1(X1, 1, 1)"
   ]
  },
  {
   "cell_type": "markdown",
   "metadata": {},
   "source": [
    "scipy.optimize.curve_fit を使って、a と b の最適解を得ます。scipy.optimize.curve_fit の詳細は <a href=\"https://qiita.com/maskot1977/items/e4f5f71200180865986e\">カーブフィッティング手法 scipy.optimize.curve_fit の使い方を理解する</a>  をご参考に。"
   ]
  },
  {
   "cell_type": "code",
   "execution_count": 7,
   "metadata": {},
   "outputs": [
    {
     "data": {
      "text/plain": [
       "array([-47.16056308,   9.69474387])"
      ]
     },
     "execution_count": 7,
     "metadata": {},
     "output_type": "execute_result"
    }
   ],
   "source": [
    "from scipy.optimize import curve_fit  \n",
    "popt, pcov = curve_fit(func1,X1,Y) # poptは最適推定値、pcovは共分散\n",
    "popt"
   ]
  },
  {
   "cell_type": "markdown",
   "metadata": {},
   "source": [
    "これが a と b の最適解になります。この最適解を用いて X1 をシグモイド曲線に回帰すると"
   ]
  },
  {
   "cell_type": "code",
   "execution_count": 8,
   "metadata": {},
   "outputs": [
    {
     "data": {
      "text/plain": [
       "array([1.68644172e-01, 2.83542138e-02, 5.85084618e-01, 2.28993573e-04,\n",
       "       7.14423738e-02, 2.83542138e-02, 1.68644172e-01, 2.58619345e-07,\n",
       "       7.14423738e-02, 8.68655657e-05, 1.79777399e-06, 1.58966852e-03,\n",
       "       2.28993573e-04, 1.68644172e-01, 4.73992195e-06, 1.09469179e-02,\n",
       "       2.83542138e-02, 6.03528723e-04, 2.83542138e-02, 8.68655657e-05,\n",
       "       3.48465186e-01, 2.28993573e-04, 5.85084618e-01, 1.68644172e-01,\n",
       "       4.18037811e-03, 1.09469179e-02, 3.48465186e-01, 7.88040835e-01,\n",
       "       2.83542138e-02, 1.79777399e-06, 3.29483517e-05, 1.24969836e-05,\n",
       "       8.68655657e-05, 9.07428265e-01, 2.83542138e-02, 2.83542138e-02,\n",
       "       1.68644172e-01, 1.09469179e-02, 6.03528723e-04, 2.28993573e-04,\n",
       "       1.09469179e-02, 7.14423738e-02, 2.28993573e-04, 2.58619345e-07,\n",
       "       1.58966852e-03, 1.58966852e-03, 1.58966852e-03, 4.18037811e-03,\n",
       "       1.41107138e-08, 6.03528723e-04, 9.99983430e-01, 9.07428265e-01,\n",
       "       9.99956313e-01, 9.99199923e-01, 9.99884826e-01, 9.99999951e-01,\n",
       "       2.83542138e-02, 9.99999096e-01, 9.99884826e-01, 9.99993715e-01,\n",
       "       9.07428265e-01, 9.85536807e-01, 9.97893310e-01, 7.88040835e-01,\n",
       "       9.07428265e-01, 9.85536807e-01, 9.97893310e-01, 9.99999981e-01,\n",
       "       9.99999997e-01, 7.88040835e-01, 9.99696394e-01, 5.85084618e-01,\n",
       "       9.99999981e-01, 5.85084618e-01, 9.99696394e-01, 9.99983430e-01,\n",
       "       3.48465186e-01, 5.85084618e-01, 9.99199923e-01, 9.99884826e-01,\n",
       "       9.99993715e-01, 9.99999657e-01, 9.99199923e-01, 9.07428265e-01,\n",
       "       9.99199923e-01, 9.99993715e-01, 9.99199923e-01, 9.97893310e-01,\n",
       "       3.48465186e-01, 9.94464672e-01, 9.99199923e-01, 9.07428265e-01,\n",
       "       9.07428265e-01, 9.99956313e-01, 9.99696394e-01, 9.62748681e-01,\n",
       "       7.88040835e-01, 9.62748681e-01, 9.94464672e-01, 9.07428265e-01])"
      ]
     },
     "execution_count": 8,
     "metadata": {},
     "output_type": "execute_result"
    }
   ],
   "source": [
    "func1(X1, -47.16056308,   9.69474387)"
   ]
  },
  {
   "cell_type": "markdown",
   "metadata": {},
   "source": [
    "## 回帰曲線と確率分布の図示\n",
    "\n",
    "図示してみましょう。青いドットが元データ、曲線が回帰曲線、オレンジのドットが回帰後のデータになります。この縦軸は、「０か１のどちらに分類されるか予測するとき、１への分類が正しいとされる確率」と解釈できます。"
   ]
  },
  {
   "cell_type": "code",
   "execution_count": 9,
   "metadata": {},
   "outputs": [
    {
     "data": {
      "image/png": "[encoded data removed]",
      "text/plain": [
       "<Figure size 864x288 with 1 Axes>"
      ]
     },
     "metadata": {
      "needs_background": "light"
     },
     "output_type": "display_data"
    }
   ],
   "source": [
    "x_latent1 = np.linspace(min(X1), max(X1), 100)\n",
    "\n",
    "%matplotlib inline\n",
    "import matplotlib.pyplot as plt\n",
    "plt.figure(figsize=(12,4))\n",
    "plt.scatter(X1, Y)\n",
    "plt.plot(x_latent1, func1(x_latent1, -47.16056308,   9.69474387))\n",
    "plt.scatter(X1, func1(X1, -47.16056308,   9.69474387))\n",
    "plt.grid()\n",
    "plt.show()"
   ]
  },
  {
   "cell_type": "markdown",
   "metadata": {},
   "source": [
    "その確率の分布を見てみましょう。"
   ]
  },
  {
   "cell_type": "code",
   "execution_count": 10,
   "metadata": {},
   "outputs": [
    {
     "data": {
      "image/png": "[encoded data removed]",
      "text/plain": [
       "<Figure size 864x288 with 1 Axes>"
      ]
     },
     "metadata": {
      "needs_background": "light"
     },
     "output_type": "display_data"
    }
   ],
   "source": [
    "plt.figure(figsize=(12,4))\n",
    "plt.hist(func1(X1, -47.16056308,   9.69474387))\n",
    "plt.grid()\n",
    "plt.show()"
   ]
  },
  {
   "cell_type": "markdown",
   "metadata": {},
   "source": [
    "## 予測精度の見積もり\n",
    "\n",
    "実際の分類（０か１か）は Y という変数に入っています。回帰して得られた値が 0.5 以上のときは１、0.5 未満の時は０に分類するとした場合、それがどのくらい正確かを計算できます。ここで、\n",
    "\n",
    "* TP （True Positives, 真の陽性）：１と予想したものが本当に１だった\n",
    "* FP （False Positives, 偽陽性）：１と予想したものが実は０だった\n",
    "* FN （False Negatives, 偽陰性）：０と予想したものが実は１だった\n",
    "* TN （True Negatives, 真の陰性）：０と予想したものが本当に０だった\n",
    "\n",
    "とします。評価指標はいろいろありますが、ここでは最も単純な\n",
    "\n",
    "Accuracy （正答率） = (TP + TN) / (TP + FP + FN + TN) を計算しましょう。"
   ]
  },
  {
   "cell_type": "code",
   "execution_count": 11,
   "metadata": {},
   "outputs": [],
   "source": [
    "def confusion_table(y_pred, y_true):\n",
    "    true_positives = [] # TP\n",
    "    false_positives = [] # FP\n",
    "    false_negatives = [] # FN\n",
    "    true_negatives = [] # TN\n",
    "    for y1, y2 in zip(y_pred, y_true):\n",
    "        if y1 >= 0.5:\n",
    "            if y2 > 0.5:\n",
    "                true_positives.append(y1)\n",
    "            else:\n",
    "                false_positives.append(y1)\n",
    "        else:\n",
    "            if y2 > 0.5:\n",
    "                false_negatives.append(y1)\n",
    "            else:\n",
    "                true_negatives.append(y1)\n",
    "    return (true_positives, false_positives, false_negatives, true_negatives)"
   ]
  },
  {
   "cell_type": "code",
   "execution_count": 12,
   "metadata": {},
   "outputs": [],
   "source": [
    "def show_result(TP, FP, FN, TN):\n",
    "    print(\"Accuracy: \", len(TP + TN) / len(TP + FP + FN + TN))\n",
    "    plt.figure(figsize=(12,4))\n",
    "    plt.hist([TP, FP, FN, TN], label=['TP', 'FP', 'FN', 'TN'], color=['blue', 'green', 'orange', 'red'])\n",
    "    plt.legend()\n",
    "    plt.grid()\n",
    "    plt.show()"
   ]
  },
  {
   "cell_type": "code",
   "execution_count": 13,
   "metadata": {},
   "outputs": [
    {
     "name": "stdout",
     "output_type": "stream",
     "text": [
      "Accuracy:  0.93\n"
     ]
    },
    {
     "data": {
      "image/png": "[encoded data removed]",
      "text/plain": [
       "<Figure size 864x288 with 1 Axes>"
      ]
     },
     "metadata": {
      "needs_background": "light"
     },
     "output_type": "display_data"
    }
   ],
   "source": [
    "TP, FP, FN, TN = confusion_table(func1(X1, -47.16056308, 9.69474387), Y)\n",
    "show_result(TP, FP, FN, TN)"
   ]
  },
  {
   "cell_type": "markdown",
   "metadata": {},
   "source": [
    "# 説明変数が２つのシグモイド曲線に近似する\n",
    "\n",
    "説明変数が２つの場合を試してみましょう。"
   ]
  },
  {
   "cell_type": "code",
   "execution_count": 14,
   "metadata": {},
   "outputs": [],
   "source": [
    "X2 = [1.4, 1.5, 1.5, 1.3, 1.5, 1.3, 1.6, 1.0, 1.3, 1.4, \n",
    "      1.0, 1.5, 1.0, 1.4, 1.3, 1.4, 1.5, 1.0, 1.5, 1.1, \n",
    "      1.8, 1.3, 1.5, 1.2, 1.3, 1.4, 1.4, 1.7, 1.5, 1.0, \n",
    "      1.1, 1.0, 1.2, 1.6, 1.5, 1.6, 1.5, 1.3, 1.3, 1.3, \n",
    "      1.2, 1.4, 1.2, 1.0, 1.3, 1.2, 1.3, 1.3, 1.1, 1.3, \n",
    "      2.5, 1.9, 2.1, 1.8, 2.2, 2.1, 1.7, 1.8, 1.8, 2.5, \n",
    "      2.0, 1.9, 2.1, 2.0, 2.4, 2.3, 1.8, 2.2, 2.3, 1.5, \n",
    "      2.3, 2.0, 2.0, 1.8, 2.1, 1.8, 1.8, 1.8, 2.1, 1.6, \n",
    "      1.9, 2.0, 2.2, 1.5, 1.4, 2.3, 2.4, 1.8, 1.8, 2.1, \n",
    "      2.4, 2.3, 1.9, 2.3, 2.5, 2.3, 1.9, 2.0, 2.3, 1.8]\n",
    "\n",
    "X = np.array([X1, X2])\n",
    "X"
   ]
  },
  {
   "cell_type": "markdown",
   "metadata": {},
   "source": [
    "説明変数が２つのシグモイド曲線 func2 を定義します。a と b と c を最適化することになります。"
   ]
  },
  {
   "cell_type": "code",
   "execution_count": 16,
   "metadata": {},
   "outputs": [],
   "source": [
    "import numpy as np\n",
    "def func2(X, a, b, c): # シグモイド近似\n",
    "    f = a + b * X[0] + c * X[1]\n",
    "    return 1. / (1. + np.exp(-f))"
   ]
  },
  {
   "cell_type": "markdown",
   "metadata": {},
   "source": [
    "scipy.optimize.curve_fit を使って、a と b と c の最適解を得ます。scipy.optimize.curve_fit の詳細は <a href=\"https://qiita.com/maskot1977/items/e4f5f71200180865986e\">カーブフィッティング手法 scipy.optimize.curve_fit の使い方を理解する</a>  をご参考に。"
   ]
  },
  {
   "cell_type": "code",
   "execution_count": 17,
   "metadata": {},
   "outputs": [
    {
     "data": {
      "text/plain": [
       "array([-34.73855674,   4.53539756,   7.68378862])"
      ]
     },
     "execution_count": 17,
     "metadata": {},
     "output_type": "execute_result"
    }
   ],
   "source": [
    "from scipy.optimize import curve_fit  \n",
    "popt, pcov = curve_fit(func2,X,Y) # poptは最適推定値、pcovは共分散\n",
    "popt"
   ]
  },
  {
   "cell_type": "markdown",
   "metadata": {},
   "source": [
    "これが a と b と c の最適解になります。この最適解を用いて X をシグモイド曲線に回帰すると"
   ]
  },
  {
   "cell_type": "code",
   "execution_count": 39,
   "metadata": {},
   "outputs": [
    {
     "data": {
      "text/plain": [
       "array([6.50775384e-02, 5.71307677e-02, 2.71025515e-01, 1.34765416e-03,\n",
       "       8.70621930e-02, 1.28644139e-02, 2.44507030e-01, 5.62684424e-06,\n",
       "       2.00985810e-02, 1.84541829e-03, 1.39380145e-05, 1.53042211e-02,\n",
       "       1.34585285e-04, 6.50775384e-02, 2.19881845e-04, 1.75412448e-02,\n",
       "       5.71307677e-02, 2.11803849e-04, 5.71307677e-02, 1.84377888e-04,\n",
       "       7.03114052e-01, 1.34765416e-03, 2.71025515e-01, 1.47501521e-02,\n",
       "       5.23352988e-03, 1.75412448e-02, 9.87363752e-02, 7.31229933e-01,\n",
       "       5.71307677e-02, 1.39380145e-05, 1.17156994e-04, 3.45248338e-05,\n",
       "       3.97483365e-04, 6.65083780e-01, 5.71307677e-02, 1.15555797e-01,\n",
       "       1.30504519e-01, 8.21224927e-03, 2.11939802e-03, 1.34765416e-03,\n",
       "       3.82539381e-03, 4.23536522e-02, 6.25445853e-04, 5.62684424e-06,\n",
       "       3.33161217e-03, 1.54784801e-03, 3.33161217e-03, 5.23352988e-03,\n",
       "       3.11214086e-06, 2.11939802e-03, 9.99991567e-01, 9.52173582e-01,\n",
       "       9.99713144e-01, 9.88909228e-01, 9.99790606e-01, 9.99988005e-01,\n",
       "       2.19800890e-01, 9.99531388e-01, 9.95492831e-01, 9.99994642e-01,\n",
       "       9.77236005e-01, 9.80125609e-01, 9.98242469e-01, 9.64634357e-01,\n",
       "       9.98923608e-01, 9.99062882e-01, 9.82654924e-01, 9.99996466e-01,\n",
       "       9.99999338e-01, 3.69145119e-01, 9.99847153e-01, 9.45446145e-01,\n",
       "       9.99983567e-01, 7.88467214e-01, 9.99289738e-01, 9.98175546e-01,\n",
       "       7.03114052e-01, 7.88467214e-01, 9.98882592e-01, 9.79383083e-01,\n",
       "       9.99461706e-01, 9.99935936e-01, 9.99481475e-01, 4.79425062e-01,\n",
       "       8.04863544e-01, 9.99975087e-01, 9.99888432e-01, 9.82654924e-01,\n",
       "       7.03114052e-01, 9.97236655e-01, 9.99888432e-01, 9.97681895e-01,\n",
       "       9.52173582e-01, 9.99938290e-01, 9.99967122e-01, 9.98525888e-01,\n",
       "       9.26738041e-01, 9.85415267e-01, 9.99404375e-01, 9.02277503e-01])"
      ]
     },
     "execution_count": 39,
     "metadata": {},
     "output_type": "execute_result"
    }
   ],
   "source": [
    "func2(X, -34.73855674,   4.53539756,   7.68378862)"
   ]
  },
  {
   "cell_type": "markdown",
   "metadata": {},
   "source": [
    "## 回帰曲面と確率分布の図示\n",
    "\n",
    "説明変数が２つありますので、回帰「曲線」ではなく回帰「曲面」になります。<a href=\"https://qiita.com/kazetof/items/c0204f197d394458022a\">matplotlibで3Dプロット</a> を参考に図示してみましょう。"
   ]
  },
  {
   "cell_type": "code",
   "execution_count": 21,
   "metadata": {},
   "outputs": [],
   "source": [
    "N = 1000\n",
    "x1_axis = np.linspace(min(X[0]), max(X[0]), N)\n",
    "x2_axis = np.linspace(min(X[1]), max(X[1]), N)\n",
    "x1_grid, x2_grid = np.meshgrid(x1_axis, x2_axis)\n",
    "x_mesh = np.c_[np.ravel(x1_grid), np.ravel(x2_grid)]"
   ]
  },
  {
   "cell_type": "code",
   "execution_count": 22,
   "metadata": {},
   "outputs": [],
   "source": [
    "y_plot = func2(x_mesh.T, -34.73855674,   4.53539756,   7.68378862).reshape(x1_grid.shape)"
   ]
  },
  {
   "cell_type": "code",
   "execution_count": 23,
   "metadata": {},
   "outputs": [
    {
     "name": "stderr",
     "output_type": "stream",
     "text": [
      "/Users/kot/miniconda3/envs/py3new/lib/python3.6/site-packages/matplotlib/figure.py:445: UserWarning: Matplotlib is currently using module://ipykernel.pylab.backend_inline, which is a non-GUI backend, so cannot show the figure.\n",
      "  % get_backend())\n",
      "/Users/kot/miniconda3/envs/py3new/lib/python3.6/site-packages/matplotlib/font_manager.py:1241: UserWarning: findfont: Font family ['IPAexGothic'] not found. Falling back to DejaVu Sans.\n",
      "  (prop.get_family(), self.defaultFamily[fontext]))\n"
     ]
    },
    {
     "data": {
      "image/png": "[encoded data removed]",
      "text/plain": [
       "<Figure size 432x288 with 2 Axes>"
      ]
     },
     "metadata": {
      "needs_background": "light"
     },
     "output_type": "display_data"
    }
   ],
   "source": [
    "import matplotlib.pyplot as plt\n",
    "from mpl_toolkits.mplot3d import Axes3D\n",
    "\n",
    "fig = plt.figure()\n",
    "ax = fig.add_subplot(111, projection='3d')\n",
    "surf = ax.plot_surface(x1_grid, x2_grid, y_plot, cmap='bwr', linewidth=0)\n",
    "fig.colorbar(surf)\n",
    "ax.set_title(\"Surface Plot\")\n",
    "fig.show()"
   ]
  },
  {
   "cell_type": "markdown",
   "metadata": {},
   "source": [
    "ここで大事なことは、シグモイド曲線（あるいは曲面）に回帰していますが、分類問題として考えると、分類境界は「直線」（あるいは平面）であるということです。\n",
    "\n",
    "その確率の分布と見てみましょう。"
   ]
  },
  {
   "cell_type": "code",
   "execution_count": 19,
   "metadata": {},
   "outputs": [
    {
     "data": {
      "image/png": "[encoded data removed]",
      "text/plain": [
       "<Figure size 864x288 with 1 Axes>"
      ]
     },
     "metadata": {
      "needs_background": "light"
     },
     "output_type": "display_data"
    }
   ],
   "source": [
    "plt.figure(figsize=(12,4))\n",
    "plt.hist(func2(X, -34.73855674,   4.53539756,   7.68378862))\n",
    "plt.grid()\n",
    "plt.show()"
   ]
  },
  {
   "cell_type": "markdown",
   "metadata": {},
   "source": [
    "# 予測精度の見積もり\n",
    "\n",
    "１変数のみを用いた時より少しだけ精度が向上しました。"
   ]
  },
  {
   "cell_type": "code",
   "execution_count": 20,
   "metadata": {},
   "outputs": [
    {
     "name": "stdout",
     "output_type": "stream",
     "text": [
      "Accuracy:  0.94\n"
     ]
    },
    {
     "data": {
      "image/png": "[encoded data removed]",
      "text/plain": [
       "<Figure size 864x288 with 1 Axes>"
      ]
     },
     "metadata": {
      "needs_background": "light"
     },
     "output_type": "display_data"
    }
   ],
   "source": [
    "TP, FP, FN, TN = confusion_table(func2(X, -34.73855674,   4.53539756,   7.68378862), Y)\n",
    "show_result(TP, FP, FN, TN)"
   ]
  },
  {
   "cell_type": "markdown",
   "metadata": {},
   "source": [
    "# 多変数のシグモイド曲線に近似する\n",
    "\n",
    "より多くの説明変数に対応できるように改良しましょう。"
   ]
  },
  {
   "cell_type": "code",
   "execution_count": 24,
   "metadata": {},
   "outputs": [],
   "source": [
    "X3 = [7.0, 6.4, 6.9, 5.5, 6.5, 5.7, 6.3, 4.9, 6.6, 5.2, \n",
    "      5.0, 5.9, 6.0, 6.1, 5.6, 6.7, 5.6, 5.8, 6.2, 5.6, \n",
    "      5.9, 6.1, 6.3, 6.1, 6.4, 6.6, 6.8, 6.7, 6.0, 5.7, \n",
    "      5.5, 5.5, 5.8, 6.0, 5.4, 6.0, 6.7, 6.3, 5.6, 5.5, \n",
    "      5.5, 6.1, 5.8, 5.0, 5.6, 5.7, 5.7, 6.2, 5.1, 5.7, \n",
    "      6.3, 5.8, 7.1, 6.3, 6.5, 7.6, 4.9, 7.3, 6.7, 7.2, \n",
    "      6.5, 6.4, 6.8, 5.7, 5.8, 6.4, 6.5, 7.7, 7.7, 6.0, \n",
    "      6.9, 5.6, 7.7, 6.3, 6.7, 7.2, 6.2, 6.1, 6.4, 7.2, \n",
    "      7.4, 7.9, 6.4, 6.3, 6.1, 7.7, 6.3, 6.4, 6.0, 6.9, \n",
    "      6.7, 6.9, 5.8, 6.8, 6.7, 6.7, 6.3, 6.5, 6.2, 5.9]\n",
    "\n",
    "X4 = [3.2, 3.2, 3.1, 2.3, 2.8, 2.8, 3.3, 2.4, 2.9, 2.7, \n",
    "      2.0, 3.0, 2.2, 2.9, 2.9, 3.1, 3.0, 2.7, 2.2, 2.5, \n",
    "      3.2, 2.8, 2.5, 2.8, 2.9, 3.0, 2.8, 3.0, 2.9, 2.6, \n",
    "      2.4, 2.4, 2.7, 2.7, 3.0, 3.4, 3.1, 2.3, 3.0, 2.5, \n",
    "      2.6, 3.0, 2.6, 2.3, 2.7, 3.0, 2.9, 2.9, 2.5, 2.8, \n",
    "      3.3, 2.7, 3.0, 2.9, 3.0, 3.0, 2.5, 2.9, 2.5, 3.6, \n",
    "      3.2, 2.7, 3.0, 2.5, 2.8, 3.2, 3.0, 3.8, 2.6, 2.2, \n",
    "      3.2, 2.8, 2.8, 2.7, 3.3, 3.2, 2.8, 3.0, 2.8, 3.0, \n",
    "      2.8, 3.8, 2.8, 2.8, 2.6, 3.0, 3.4, 3.1, 3.0, 3.1, \n",
    "      3.1, 3.1, 2.7, 3.2, 3.3, 3.0, 2.5, 3.0, 3.4, 3.0]\n",
    "\n",
    "X = np.array([X1, X2, X3, X4])"
   ]
  },
  {
   "cell_type": "markdown",
   "metadata": {},
   "source": [
    "任意の数の説明変数に対応できるよう関数を改良します。scipy.optimize.curve_fit の詳細は <a href=\"https://qiita.com/maskot1977/items/e4f5f71200180865986e\">カーブフィッティング手法 scipy.optimize.curve_fit の使い方を理解する</a>  をご参考に。"
   ]
  },
  {
   "cell_type": "code",
   "execution_count": 27,
   "metadata": {},
   "outputs": [],
   "source": [
    "import numpy as np\n",
    "def func(X, *params):\n",
    "    f = np.zeros_like(X[0])\n",
    "    for i, param in enumerate(params):\n",
    "        if i == 0:\n",
    "            f = f + param\n",
    "        else:\n",
    "            f = f + np.array(param * X[i - 1])\n",
    "    return 1. / (1. + np.exp(-f))"
   ]
  },
  {
   "cell_type": "markdown",
   "metadata": {},
   "source": [
    "最初の１変数だけ使った予測"
   ]
  },
  {
   "cell_type": "code",
   "execution_count": 28,
   "metadata": {},
   "outputs": [
    {
     "data": {
      "text/plain": [
       "array([-47.16139101,   9.6949171 ])"
      ]
     },
     "execution_count": 28,
     "metadata": {},
     "output_type": "execute_result"
    }
   ],
   "source": [
    "from scipy.optimize import curve_fit  \n",
    "popt, pcov = curve_fit(func,X,Y, p0=[0, 0]) # poptは最適推定値、pcovは共分散\n",
    "popt"
   ]
  },
  {
   "cell_type": "code",
   "execution_count": 29,
   "metadata": {},
   "outputs": [
    {
     "name": "stdout",
     "output_type": "stream",
     "text": [
      "Accuracy:  0.93\n"
     ]
    },
    {
     "data": {
      "image/png": "[encoded data removed]",
      "text/plain": [
       "<Figure size 864x288 with 1 Axes>"
      ]
     },
     "metadata": {
      "needs_background": "light"
     },
     "output_type": "display_data"
    }
   ],
   "source": [
    "TP, FP, FN, TN = confusion_table(func(X, -47.16139101, 9.6949171), Y)\n",
    "show_result(TP, FP, FN, TN)"
   ]
  },
  {
   "cell_type": "markdown",
   "metadata": {},
   "source": [
    "最初の２変数だけ使った予測"
   ]
  },
  {
   "cell_type": "code",
   "execution_count": 30,
   "metadata": {},
   "outputs": [
    {
     "data": {
      "text/plain": [
       "array([-34.73582353,   4.53510012,   7.68301933])"
      ]
     },
     "execution_count": 30,
     "metadata": {},
     "output_type": "execute_result"
    }
   ],
   "source": [
    "from scipy.optimize import curve_fit  \n",
    "popt, pcov = curve_fit(func,X,Y, p0=[0, 0, 0]) # poptは最適推定値、pcovは共分散\n",
    "popt"
   ]
  },
  {
   "cell_type": "code",
   "execution_count": 31,
   "metadata": {},
   "outputs": [
    {
     "name": "stdout",
     "output_type": "stream",
     "text": [
      "Accuracy:  0.94\n"
     ]
    },
    {
     "data": {
      "image/png": "[encoded data removed]",
      "text/plain": [
       "<Figure size 864x288 with 1 Axes>"
      ]
     },
     "metadata": {
      "needs_background": "light"
     },
     "output_type": "display_data"
    }
   ],
   "source": [
    "TP, FP, FN, TN = confusion_table(func(X, -34.73582353,   4.53510012,   7.68301933), Y)\n",
    "show_result(TP, FP, FN, TN)"
   ]
  },
  {
   "cell_type": "markdown",
   "metadata": {},
   "source": [
    "最初の３変数だけ使った予測"
   ]
  },
  {
   "cell_type": "code",
   "execution_count": 32,
   "metadata": {},
   "outputs": [
    {
     "data": {
      "text/plain": [
       "array([-483.42867713,  157.66806522,  129.22275895,  -79.90984995])"
      ]
     },
     "execution_count": 32,
     "metadata": {},
     "output_type": "execute_result"
    }
   ],
   "source": [
    "from scipy.optimize import curve_fit  \n",
    "popt, pcov = curve_fit(func,X,Y, p0=[0, 0, 0, 0]) # poptは最適推定値、pcovは共分散\n",
    "popt"
   ]
  },
  {
   "cell_type": "code",
   "execution_count": 33,
   "metadata": {},
   "outputs": [
    {
     "name": "stdout",
     "output_type": "stream",
     "text": [
      "Accuracy:  0.98\n"
     ]
    },
    {
     "data": {
      "image/png": "[encoded data removed]",
      "text/plain": [
       "<Figure size 864x288 with 1 Axes>"
      ]
     },
     "metadata": {
      "needs_background": "light"
     },
     "output_type": "display_data"
    }
   ],
   "source": [
    "TP, FP, FN, TN = confusion_table(func(X, -483.42867713,  157.66806522,  129.22275895,  -79.90984995), Y)\n",
    "show_result(TP, FP, FN, TN)"
   ]
  },
  {
   "cell_type": "markdown",
   "metadata": {},
   "source": [
    "４変数全てを使った予測"
   ]
  },
  {
   "cell_type": "code",
   "execution_count": 34,
   "metadata": {},
   "outputs": [
    {
     "data": {
      "text/plain": [
       "array([-1331.681895  ,   338.23424537,   356.96064159,   -79.18057166,\n",
       "        -149.46135291])"
      ]
     },
     "execution_count": 34,
     "metadata": {},
     "output_type": "execute_result"
    }
   ],
   "source": [
    "from scipy.optimize import curve_fit  \n",
    "popt, pcov = curve_fit(func,X,Y, p0=[0, 0, 0, 0, 0]) # poptは最適推定値、pcovは共分散\n",
    "popt"
   ]
  },
  {
   "cell_type": "code",
   "execution_count": 35,
   "metadata": {},
   "outputs": [
    {
     "name": "stdout",
     "output_type": "stream",
     "text": [
      "Accuracy:  0.99\n"
     ]
    },
    {
     "data": {
      "image/png": "[encoded data removed]",
      "text/plain": [
       "<Figure size 864x288 with 1 Axes>"
      ]
     },
     "metadata": {
      "needs_background": "light"
     },
     "output_type": "display_data"
    }
   ],
   "source": [
    "TP, FP, FN, TN = confusion_table(func(X, -1331.681895  ,   338.23424537,   356.96064159,   -79.18057166,\n",
    "        -149.46135291), Y)\n",
    "show_result(TP, FP, FN, TN)"
   ]
  },
  {
   "cell_type": "markdown",
   "metadata": {},
   "source": [
    "説明変数を増やすと精度が向上したことを確認しました。\n",
    "\n",
    "# ロジスティック回帰\n",
    "\n",
    "以上のような計算を「ロジスティック回帰」と呼びます。ロジスティック回帰は、機械学習における「分類」手法の１つです。\n",
    "\n",
    "ロジスティック回帰の理解を深めるには、<a href=\"https://qiita.com/maskot1977/items/3abe57187721258691cc\">ロジスティック回帰をExcelで理解する</a> をご参照されると良いかもしれません。\n",
    "\n",
    "また、今回はロジスティック回帰の理解と scipy.optimize.curve_fit の使用方法の理解を目的としましたが、実用的には scikit-learn という機械学習ライブラリを用いた計算が便利です。詳細は <a href=\"https://qiita.com/maskot1977/items/b2cfb369f60ad02887b0\">機械学習で二値分類</a> をご参照ください。"
   ]
  },
  {
   "cell_type": "code",
   "execution_count": null,
   "metadata": {},
   "outputs": [],
   "source": []
  }
 ],
 "metadata": {
  "kernelspec": {
   "display_name": "Python 3",
   "language": "python",
   "name": "python3"
  },
  "language_info": {
   "codemirror_mode": {
    "name": "ipython",
    "version": 3
   },
   "file_extension": ".py",
   "mimetype": "text/x-python",
   "name": "python",
   "nbconvert_exporter": "python",
   "pygments_lexer": "ipython3",
   "version": "3.6.7"
  }
 },
 "nbformat": 4,
 "nbformat_minor": 2
}
